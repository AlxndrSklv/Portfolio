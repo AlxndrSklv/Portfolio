{
 "cells": [
  {
   "cell_type": "markdown",
   "metadata": {
    "toc": true
   },
   "source": [
    "<h1>Содержание<span class=\"tocSkip\"></span></h1>\n",
    "<div class=\"toc\"><ul class=\"toc-item\"><li><span><a href=\"#Подготовка-данных\" data-toc-modified-id=\"Подготовка-данных-1\"><span class=\"toc-item-num\">1&nbsp;&nbsp;</span>Подготовка данных</a></span></li><li><span><a href=\"#Анализ-данных\" data-toc-modified-id=\"Анализ-данных-2\"><span class=\"toc-item-num\">2&nbsp;&nbsp;</span>Анализ данных</a></span></li><li><span><a href=\"#Модель\" data-toc-modified-id=\"Модель-3\"><span class=\"toc-item-num\">3&nbsp;&nbsp;</span>Модель</a></span></li><li><span><a href=\"#Чек-лист-готовности-проекта\" data-toc-modified-id=\"Чек-лист-готовности-проекта-4\"><span class=\"toc-item-num\">4&nbsp;&nbsp;</span>Чек-лист готовности проекта</a></span></li></ul></div>"
   ]
  },
  {
   "cell_type": "markdown",
   "metadata": {},
   "source": [
    "# Восстановление золота из руды"
   ]
  },
  {
   "cell_type": "markdown",
   "metadata": {},
   "source": [
    "Подготовьте прототип модели машинного обучения для «Цифры». Компания разрабатывает решения для эффективной работы промышленных предприятий.\n",
    "\n",
    "Модель должна предсказать коэффициент восстановления золота из золотосодержащей руды. Используйте данные с параметрами добычи и очистки. \n",
    "\n",
    "Модель поможет оптимизировать производство, чтобы не запускать предприятие с убыточными характеристиками.\n",
    "\n",
    "Вам нужно:\n",
    "\n",
    "1. Подготовить данные;\n",
    "2. Провести исследовательский анализ данных;\n",
    "3. Построить и обучить модель.\n",
    "\n",
    "Чтобы выполнить проект, обращайтесь к библиотекам *pandas*, *matplotlib* и *sklearn.* Вам поможет их документация."
   ]
  },
  {
   "cell_type": "markdown",
   "metadata": {},
   "source": [
    "## Подготовка данных"
   ]
  },
  {
   "cell_type": "markdown",
   "metadata": {},
   "source": [
    "<div class=\"alert alert-info\">\n",
    "<h2> План<a class=\"tocSkip\"> </h2>\n",
    "\n",
    "1. Импортируем библиотеки\n",
    " \n",
    "2. Загружаем данные из файлов\n",
    "    \n",
    "3. Изучаем общую информацию о данных\n",
    " \n",
    "4. Проверяем наличие дубликатов\n",
    "    \n",
    "5. Меняем формат колонки \"date\"\n",
    " \n",
    "6. Находим MAE для recovery\n",
    "    \n",
    "7. Ищем пропуски и заполняем их\n",
    " \n",
    "8. Анализируем признаки, недоступные в тестовой выборке\n",
    "     \n",
    "10. Выводы по результатам проведенной подготовки данных      \n",
    "</div>"
   ]
  },
  {
   "cell_type": "code",
   "execution_count": 81,
   "metadata": {},
   "outputs": [],
   "source": [
    "#импортируем библиотеки\n",
    "\n",
    "import pandas as pd\n",
    "from sklearn.metrics import mean_absolute_error\n",
    "import matplotlib.pyplot as plt\n",
    "import numpy as np\n",
    "from sklearn.model_selection import train_test_split\n",
    "from sklearn.linear_model import LinearRegression\n",
    "from sklearn.tree import DecisionTreeRegressor\n",
    "from sklearn.ensemble import RandomForestRegressor\n",
    "from sklearn.model_selection import cross_val_score\n",
    "from sklearn.dummy import DummyRegressor\n",
    "from sklearn.metrics import make_scorer\n",
    "from sklearn.model_selection import GridSearchCV\n",
    "from sklearn.metrics import mean_squared_error"
   ]
  },
  {
   "cell_type": "code",
   "execution_count": 82,
   "metadata": {},
   "outputs": [],
   "source": [
    "#введем константы:\n",
    "\n",
    "STATE = 12345"
   ]
  },
  {
   "cell_type": "code",
   "execution_count": 83,
   "metadata": {},
   "outputs": [],
   "source": [
    "#загружаем данные из файлов\n",
    "\n",
    "train = pd.read_csv('/datasets/gold_recovery_train_new.csv')\n",
    "test = pd.read_csv('/datasets/gold_recovery_test_new.csv')\n",
    "full = pd.read_csv('/datasets/gold_recovery_full_new.csv')"
   ]
  },
  {
   "cell_type": "code",
   "execution_count": 84,
   "metadata": {},
   "outputs": [
    {
     "data": {
      "text/html": [
       "<div>\n",
       "<style scoped>\n",
       "    .dataframe tbody tr th:only-of-type {\n",
       "        vertical-align: middle;\n",
       "    }\n",
       "\n",
       "    .dataframe tbody tr th {\n",
       "        vertical-align: top;\n",
       "    }\n",
       "\n",
       "    .dataframe thead th {\n",
       "        text-align: right;\n",
       "    }\n",
       "</style>\n",
       "<table border=\"1\" class=\"dataframe\">\n",
       "  <thead>\n",
       "    <tr style=\"text-align: right;\">\n",
       "      <th></th>\n",
       "      <th>date</th>\n",
       "      <th>final.output.concentrate_ag</th>\n",
       "      <th>final.output.concentrate_pb</th>\n",
       "      <th>final.output.concentrate_sol</th>\n",
       "      <th>final.output.concentrate_au</th>\n",
       "      <th>final.output.recovery</th>\n",
       "      <th>final.output.tail_ag</th>\n",
       "      <th>final.output.tail_pb</th>\n",
       "      <th>final.output.tail_sol</th>\n",
       "      <th>final.output.tail_au</th>\n",
       "      <th>...</th>\n",
       "      <th>secondary_cleaner.state.floatbank4_a_air</th>\n",
       "      <th>secondary_cleaner.state.floatbank4_a_level</th>\n",
       "      <th>secondary_cleaner.state.floatbank4_b_air</th>\n",
       "      <th>secondary_cleaner.state.floatbank4_b_level</th>\n",
       "      <th>secondary_cleaner.state.floatbank5_a_air</th>\n",
       "      <th>secondary_cleaner.state.floatbank5_a_level</th>\n",
       "      <th>secondary_cleaner.state.floatbank5_b_air</th>\n",
       "      <th>secondary_cleaner.state.floatbank5_b_level</th>\n",
       "      <th>secondary_cleaner.state.floatbank6_a_air</th>\n",
       "      <th>secondary_cleaner.state.floatbank6_a_level</th>\n",
       "    </tr>\n",
       "  </thead>\n",
       "  <tbody>\n",
       "    <tr>\n",
       "      <th>0</th>\n",
       "      <td>2016-01-15 00:00:00</td>\n",
       "      <td>6.055403</td>\n",
       "      <td>9.889648</td>\n",
       "      <td>5.507324</td>\n",
       "      <td>42.192020</td>\n",
       "      <td>70.541216</td>\n",
       "      <td>10.411962</td>\n",
       "      <td>0.895447</td>\n",
       "      <td>16.904297</td>\n",
       "      <td>2.143149</td>\n",
       "      <td>...</td>\n",
       "      <td>14.016835</td>\n",
       "      <td>-502.488007</td>\n",
       "      <td>12.099931</td>\n",
       "      <td>-504.715942</td>\n",
       "      <td>9.925633</td>\n",
       "      <td>-498.310211</td>\n",
       "      <td>8.079666</td>\n",
       "      <td>-500.470978</td>\n",
       "      <td>14.151341</td>\n",
       "      <td>-605.841980</td>\n",
       "    </tr>\n",
       "    <tr>\n",
       "      <th>1</th>\n",
       "      <td>2016-01-15 01:00:00</td>\n",
       "      <td>6.029369</td>\n",
       "      <td>9.968944</td>\n",
       "      <td>5.257781</td>\n",
       "      <td>42.701629</td>\n",
       "      <td>69.266198</td>\n",
       "      <td>10.462676</td>\n",
       "      <td>0.927452</td>\n",
       "      <td>16.634514</td>\n",
       "      <td>2.224930</td>\n",
       "      <td>...</td>\n",
       "      <td>13.992281</td>\n",
       "      <td>-505.503262</td>\n",
       "      <td>11.950531</td>\n",
       "      <td>-501.331529</td>\n",
       "      <td>10.039245</td>\n",
       "      <td>-500.169983</td>\n",
       "      <td>7.984757</td>\n",
       "      <td>-500.582168</td>\n",
       "      <td>13.998353</td>\n",
       "      <td>-599.787184</td>\n",
       "    </tr>\n",
       "    <tr>\n",
       "      <th>2</th>\n",
       "      <td>2016-01-15 02:00:00</td>\n",
       "      <td>6.055926</td>\n",
       "      <td>10.213995</td>\n",
       "      <td>5.383759</td>\n",
       "      <td>42.657501</td>\n",
       "      <td>68.116445</td>\n",
       "      <td>10.507046</td>\n",
       "      <td>0.953716</td>\n",
       "      <td>16.208849</td>\n",
       "      <td>2.257889</td>\n",
       "      <td>...</td>\n",
       "      <td>14.015015</td>\n",
       "      <td>-502.520901</td>\n",
       "      <td>11.912783</td>\n",
       "      <td>-501.133383</td>\n",
       "      <td>10.070913</td>\n",
       "      <td>-500.129135</td>\n",
       "      <td>8.013877</td>\n",
       "      <td>-500.517572</td>\n",
       "      <td>14.028663</td>\n",
       "      <td>-601.427363</td>\n",
       "    </tr>\n",
       "    <tr>\n",
       "      <th>3</th>\n",
       "      <td>2016-01-15 03:00:00</td>\n",
       "      <td>6.047977</td>\n",
       "      <td>9.977019</td>\n",
       "      <td>4.858634</td>\n",
       "      <td>42.689819</td>\n",
       "      <td>68.347543</td>\n",
       "      <td>10.422762</td>\n",
       "      <td>0.883763</td>\n",
       "      <td>16.532835</td>\n",
       "      <td>2.146849</td>\n",
       "      <td>...</td>\n",
       "      <td>14.036510</td>\n",
       "      <td>-500.857308</td>\n",
       "      <td>11.999550</td>\n",
       "      <td>-501.193686</td>\n",
       "      <td>9.970366</td>\n",
       "      <td>-499.201640</td>\n",
       "      <td>7.977324</td>\n",
       "      <td>-500.255908</td>\n",
       "      <td>14.005551</td>\n",
       "      <td>-599.996129</td>\n",
       "    </tr>\n",
       "    <tr>\n",
       "      <th>4</th>\n",
       "      <td>2016-01-15 04:00:00</td>\n",
       "      <td>6.148599</td>\n",
       "      <td>10.142511</td>\n",
       "      <td>4.939416</td>\n",
       "      <td>42.774141</td>\n",
       "      <td>66.927016</td>\n",
       "      <td>10.360302</td>\n",
       "      <td>0.792826</td>\n",
       "      <td>16.525686</td>\n",
       "      <td>2.055292</td>\n",
       "      <td>...</td>\n",
       "      <td>14.027298</td>\n",
       "      <td>-499.838632</td>\n",
       "      <td>11.953070</td>\n",
       "      <td>-501.053894</td>\n",
       "      <td>9.925709</td>\n",
       "      <td>-501.686727</td>\n",
       "      <td>7.894242</td>\n",
       "      <td>-500.356035</td>\n",
       "      <td>13.996647</td>\n",
       "      <td>-601.496691</td>\n",
       "    </tr>\n",
       "  </tbody>\n",
       "</table>\n",
       "<p>5 rows × 87 columns</p>\n",
       "</div>"
      ],
      "text/plain": [
       "                  date  final.output.concentrate_ag  \\\n",
       "0  2016-01-15 00:00:00                     6.055403   \n",
       "1  2016-01-15 01:00:00                     6.029369   \n",
       "2  2016-01-15 02:00:00                     6.055926   \n",
       "3  2016-01-15 03:00:00                     6.047977   \n",
       "4  2016-01-15 04:00:00                     6.148599   \n",
       "\n",
       "   final.output.concentrate_pb  final.output.concentrate_sol  \\\n",
       "0                     9.889648                      5.507324   \n",
       "1                     9.968944                      5.257781   \n",
       "2                    10.213995                      5.383759   \n",
       "3                     9.977019                      4.858634   \n",
       "4                    10.142511                      4.939416   \n",
       "\n",
       "   final.output.concentrate_au  final.output.recovery  final.output.tail_ag  \\\n",
       "0                    42.192020              70.541216             10.411962   \n",
       "1                    42.701629              69.266198             10.462676   \n",
       "2                    42.657501              68.116445             10.507046   \n",
       "3                    42.689819              68.347543             10.422762   \n",
       "4                    42.774141              66.927016             10.360302   \n",
       "\n",
       "   final.output.tail_pb  final.output.tail_sol  final.output.tail_au  ...  \\\n",
       "0              0.895447              16.904297              2.143149  ...   \n",
       "1              0.927452              16.634514              2.224930  ...   \n",
       "2              0.953716              16.208849              2.257889  ...   \n",
       "3              0.883763              16.532835              2.146849  ...   \n",
       "4              0.792826              16.525686              2.055292  ...   \n",
       "\n",
       "   secondary_cleaner.state.floatbank4_a_air  \\\n",
       "0                                 14.016835   \n",
       "1                                 13.992281   \n",
       "2                                 14.015015   \n",
       "3                                 14.036510   \n",
       "4                                 14.027298   \n",
       "\n",
       "   secondary_cleaner.state.floatbank4_a_level  \\\n",
       "0                                 -502.488007   \n",
       "1                                 -505.503262   \n",
       "2                                 -502.520901   \n",
       "3                                 -500.857308   \n",
       "4                                 -499.838632   \n",
       "\n",
       "   secondary_cleaner.state.floatbank4_b_air  \\\n",
       "0                                 12.099931   \n",
       "1                                 11.950531   \n",
       "2                                 11.912783   \n",
       "3                                 11.999550   \n",
       "4                                 11.953070   \n",
       "\n",
       "   secondary_cleaner.state.floatbank4_b_level  \\\n",
       "0                                 -504.715942   \n",
       "1                                 -501.331529   \n",
       "2                                 -501.133383   \n",
       "3                                 -501.193686   \n",
       "4                                 -501.053894   \n",
       "\n",
       "   secondary_cleaner.state.floatbank5_a_air  \\\n",
       "0                                  9.925633   \n",
       "1                                 10.039245   \n",
       "2                                 10.070913   \n",
       "3                                  9.970366   \n",
       "4                                  9.925709   \n",
       "\n",
       "   secondary_cleaner.state.floatbank5_a_level  \\\n",
       "0                                 -498.310211   \n",
       "1                                 -500.169983   \n",
       "2                                 -500.129135   \n",
       "3                                 -499.201640   \n",
       "4                                 -501.686727   \n",
       "\n",
       "   secondary_cleaner.state.floatbank5_b_air  \\\n",
       "0                                  8.079666   \n",
       "1                                  7.984757   \n",
       "2                                  8.013877   \n",
       "3                                  7.977324   \n",
       "4                                  7.894242   \n",
       "\n",
       "   secondary_cleaner.state.floatbank5_b_level  \\\n",
       "0                                 -500.470978   \n",
       "1                                 -500.582168   \n",
       "2                                 -500.517572   \n",
       "3                                 -500.255908   \n",
       "4                                 -500.356035   \n",
       "\n",
       "   secondary_cleaner.state.floatbank6_a_air  \\\n",
       "0                                 14.151341   \n",
       "1                                 13.998353   \n",
       "2                                 14.028663   \n",
       "3                                 14.005551   \n",
       "4                                 13.996647   \n",
       "\n",
       "   secondary_cleaner.state.floatbank6_a_level  \n",
       "0                                 -605.841980  \n",
       "1                                 -599.787184  \n",
       "2                                 -601.427363  \n",
       "3                                 -599.996129  \n",
       "4                                 -601.496691  \n",
       "\n",
       "[5 rows x 87 columns]"
      ]
     },
     "metadata": {},
     "output_type": "display_data"
    },
    {
     "data": {
      "text/html": [
       "<div>\n",
       "<style scoped>\n",
       "    .dataframe tbody tr th:only-of-type {\n",
       "        vertical-align: middle;\n",
       "    }\n",
       "\n",
       "    .dataframe tbody tr th {\n",
       "        vertical-align: top;\n",
       "    }\n",
       "\n",
       "    .dataframe thead th {\n",
       "        text-align: right;\n",
       "    }\n",
       "</style>\n",
       "<table border=\"1\" class=\"dataframe\">\n",
       "  <thead>\n",
       "    <tr style=\"text-align: right;\">\n",
       "      <th></th>\n",
       "      <th>date</th>\n",
       "      <th>primary_cleaner.input.sulfate</th>\n",
       "      <th>primary_cleaner.input.depressant</th>\n",
       "      <th>primary_cleaner.input.feed_size</th>\n",
       "      <th>primary_cleaner.input.xanthate</th>\n",
       "      <th>primary_cleaner.state.floatbank8_a_air</th>\n",
       "      <th>primary_cleaner.state.floatbank8_a_level</th>\n",
       "      <th>primary_cleaner.state.floatbank8_b_air</th>\n",
       "      <th>primary_cleaner.state.floatbank8_b_level</th>\n",
       "      <th>primary_cleaner.state.floatbank8_c_air</th>\n",
       "      <th>...</th>\n",
       "      <th>secondary_cleaner.state.floatbank4_a_air</th>\n",
       "      <th>secondary_cleaner.state.floatbank4_a_level</th>\n",
       "      <th>secondary_cleaner.state.floatbank4_b_air</th>\n",
       "      <th>secondary_cleaner.state.floatbank4_b_level</th>\n",
       "      <th>secondary_cleaner.state.floatbank5_a_air</th>\n",
       "      <th>secondary_cleaner.state.floatbank5_a_level</th>\n",
       "      <th>secondary_cleaner.state.floatbank5_b_air</th>\n",
       "      <th>secondary_cleaner.state.floatbank5_b_level</th>\n",
       "      <th>secondary_cleaner.state.floatbank6_a_air</th>\n",
       "      <th>secondary_cleaner.state.floatbank6_a_level</th>\n",
       "    </tr>\n",
       "  </thead>\n",
       "  <tbody>\n",
       "    <tr>\n",
       "      <th>0</th>\n",
       "      <td>2016-09-01 00:59:59</td>\n",
       "      <td>210.800909</td>\n",
       "      <td>14.993118</td>\n",
       "      <td>8.080000</td>\n",
       "      <td>1.005021</td>\n",
       "      <td>1398.981301</td>\n",
       "      <td>-500.225577</td>\n",
       "      <td>1399.144926</td>\n",
       "      <td>-499.919735</td>\n",
       "      <td>1400.102998</td>\n",
       "      <td>...</td>\n",
       "      <td>12.023554</td>\n",
       "      <td>-497.795834</td>\n",
       "      <td>8.016656</td>\n",
       "      <td>-501.289139</td>\n",
       "      <td>7.946562</td>\n",
       "      <td>-432.317850</td>\n",
       "      <td>4.872511</td>\n",
       "      <td>-500.037437</td>\n",
       "      <td>26.705889</td>\n",
       "      <td>-499.709414</td>\n",
       "    </tr>\n",
       "    <tr>\n",
       "      <th>1</th>\n",
       "      <td>2016-09-01 01:59:59</td>\n",
       "      <td>215.392455</td>\n",
       "      <td>14.987471</td>\n",
       "      <td>8.080000</td>\n",
       "      <td>0.990469</td>\n",
       "      <td>1398.777912</td>\n",
       "      <td>-500.057435</td>\n",
       "      <td>1398.055362</td>\n",
       "      <td>-499.778182</td>\n",
       "      <td>1396.151033</td>\n",
       "      <td>...</td>\n",
       "      <td>12.058140</td>\n",
       "      <td>-498.695773</td>\n",
       "      <td>8.130979</td>\n",
       "      <td>-499.634209</td>\n",
       "      <td>7.958270</td>\n",
       "      <td>-525.839648</td>\n",
       "      <td>4.878850</td>\n",
       "      <td>-500.162375</td>\n",
       "      <td>25.019940</td>\n",
       "      <td>-499.819438</td>\n",
       "    </tr>\n",
       "    <tr>\n",
       "      <th>2</th>\n",
       "      <td>2016-09-01 02:59:59</td>\n",
       "      <td>215.259946</td>\n",
       "      <td>12.884934</td>\n",
       "      <td>7.786667</td>\n",
       "      <td>0.996043</td>\n",
       "      <td>1398.493666</td>\n",
       "      <td>-500.868360</td>\n",
       "      <td>1398.860436</td>\n",
       "      <td>-499.764529</td>\n",
       "      <td>1398.075709</td>\n",
       "      <td>...</td>\n",
       "      <td>11.962366</td>\n",
       "      <td>-498.767484</td>\n",
       "      <td>8.096893</td>\n",
       "      <td>-500.827423</td>\n",
       "      <td>8.071056</td>\n",
       "      <td>-500.801673</td>\n",
       "      <td>4.905125</td>\n",
       "      <td>-499.828510</td>\n",
       "      <td>24.994862</td>\n",
       "      <td>-500.622559</td>\n",
       "    </tr>\n",
       "    <tr>\n",
       "      <th>3</th>\n",
       "      <td>2016-09-01 03:59:59</td>\n",
       "      <td>215.336236</td>\n",
       "      <td>12.006805</td>\n",
       "      <td>7.640000</td>\n",
       "      <td>0.863514</td>\n",
       "      <td>1399.618111</td>\n",
       "      <td>-498.863574</td>\n",
       "      <td>1397.440120</td>\n",
       "      <td>-499.211024</td>\n",
       "      <td>1400.129303</td>\n",
       "      <td>...</td>\n",
       "      <td>12.033091</td>\n",
       "      <td>-498.350935</td>\n",
       "      <td>8.074946</td>\n",
       "      <td>-499.474407</td>\n",
       "      <td>7.897085</td>\n",
       "      <td>-500.868509</td>\n",
       "      <td>4.931400</td>\n",
       "      <td>-499.963623</td>\n",
       "      <td>24.948919</td>\n",
       "      <td>-498.709987</td>\n",
       "    </tr>\n",
       "    <tr>\n",
       "      <th>4</th>\n",
       "      <td>2016-09-01 04:59:59</td>\n",
       "      <td>199.099327</td>\n",
       "      <td>10.682530</td>\n",
       "      <td>7.530000</td>\n",
       "      <td>0.805575</td>\n",
       "      <td>1401.268123</td>\n",
       "      <td>-500.808305</td>\n",
       "      <td>1398.128818</td>\n",
       "      <td>-499.504543</td>\n",
       "      <td>1402.172226</td>\n",
       "      <td>...</td>\n",
       "      <td>12.025367</td>\n",
       "      <td>-500.786497</td>\n",
       "      <td>8.054678</td>\n",
       "      <td>-500.397500</td>\n",
       "      <td>8.107890</td>\n",
       "      <td>-509.526725</td>\n",
       "      <td>4.957674</td>\n",
       "      <td>-500.360026</td>\n",
       "      <td>25.003331</td>\n",
       "      <td>-500.856333</td>\n",
       "    </tr>\n",
       "  </tbody>\n",
       "</table>\n",
       "<p>5 rows × 53 columns</p>\n",
       "</div>"
      ],
      "text/plain": [
       "                  date  primary_cleaner.input.sulfate  \\\n",
       "0  2016-09-01 00:59:59                     210.800909   \n",
       "1  2016-09-01 01:59:59                     215.392455   \n",
       "2  2016-09-01 02:59:59                     215.259946   \n",
       "3  2016-09-01 03:59:59                     215.336236   \n",
       "4  2016-09-01 04:59:59                     199.099327   \n",
       "\n",
       "   primary_cleaner.input.depressant  primary_cleaner.input.feed_size  \\\n",
       "0                         14.993118                         8.080000   \n",
       "1                         14.987471                         8.080000   \n",
       "2                         12.884934                         7.786667   \n",
       "3                         12.006805                         7.640000   \n",
       "4                         10.682530                         7.530000   \n",
       "\n",
       "   primary_cleaner.input.xanthate  primary_cleaner.state.floatbank8_a_air  \\\n",
       "0                        1.005021                             1398.981301   \n",
       "1                        0.990469                             1398.777912   \n",
       "2                        0.996043                             1398.493666   \n",
       "3                        0.863514                             1399.618111   \n",
       "4                        0.805575                             1401.268123   \n",
       "\n",
       "   primary_cleaner.state.floatbank8_a_level  \\\n",
       "0                               -500.225577   \n",
       "1                               -500.057435   \n",
       "2                               -500.868360   \n",
       "3                               -498.863574   \n",
       "4                               -500.808305   \n",
       "\n",
       "   primary_cleaner.state.floatbank8_b_air  \\\n",
       "0                             1399.144926   \n",
       "1                             1398.055362   \n",
       "2                             1398.860436   \n",
       "3                             1397.440120   \n",
       "4                             1398.128818   \n",
       "\n",
       "   primary_cleaner.state.floatbank8_b_level  \\\n",
       "0                               -499.919735   \n",
       "1                               -499.778182   \n",
       "2                               -499.764529   \n",
       "3                               -499.211024   \n",
       "4                               -499.504543   \n",
       "\n",
       "   primary_cleaner.state.floatbank8_c_air  ...  \\\n",
       "0                             1400.102998  ...   \n",
       "1                             1396.151033  ...   \n",
       "2                             1398.075709  ...   \n",
       "3                             1400.129303  ...   \n",
       "4                             1402.172226  ...   \n",
       "\n",
       "   secondary_cleaner.state.floatbank4_a_air  \\\n",
       "0                                 12.023554   \n",
       "1                                 12.058140   \n",
       "2                                 11.962366   \n",
       "3                                 12.033091   \n",
       "4                                 12.025367   \n",
       "\n",
       "   secondary_cleaner.state.floatbank4_a_level  \\\n",
       "0                                 -497.795834   \n",
       "1                                 -498.695773   \n",
       "2                                 -498.767484   \n",
       "3                                 -498.350935   \n",
       "4                                 -500.786497   \n",
       "\n",
       "   secondary_cleaner.state.floatbank4_b_air  \\\n",
       "0                                  8.016656   \n",
       "1                                  8.130979   \n",
       "2                                  8.096893   \n",
       "3                                  8.074946   \n",
       "4                                  8.054678   \n",
       "\n",
       "   secondary_cleaner.state.floatbank4_b_level  \\\n",
       "0                                 -501.289139   \n",
       "1                                 -499.634209   \n",
       "2                                 -500.827423   \n",
       "3                                 -499.474407   \n",
       "4                                 -500.397500   \n",
       "\n",
       "   secondary_cleaner.state.floatbank5_a_air  \\\n",
       "0                                  7.946562   \n",
       "1                                  7.958270   \n",
       "2                                  8.071056   \n",
       "3                                  7.897085   \n",
       "4                                  8.107890   \n",
       "\n",
       "   secondary_cleaner.state.floatbank5_a_level  \\\n",
       "0                                 -432.317850   \n",
       "1                                 -525.839648   \n",
       "2                                 -500.801673   \n",
       "3                                 -500.868509   \n",
       "4                                 -509.526725   \n",
       "\n",
       "   secondary_cleaner.state.floatbank5_b_air  \\\n",
       "0                                  4.872511   \n",
       "1                                  4.878850   \n",
       "2                                  4.905125   \n",
       "3                                  4.931400   \n",
       "4                                  4.957674   \n",
       "\n",
       "   secondary_cleaner.state.floatbank5_b_level  \\\n",
       "0                                 -500.037437   \n",
       "1                                 -500.162375   \n",
       "2                                 -499.828510   \n",
       "3                                 -499.963623   \n",
       "4                                 -500.360026   \n",
       "\n",
       "   secondary_cleaner.state.floatbank6_a_air  \\\n",
       "0                                 26.705889   \n",
       "1                                 25.019940   \n",
       "2                                 24.994862   \n",
       "3                                 24.948919   \n",
       "4                                 25.003331   \n",
       "\n",
       "   secondary_cleaner.state.floatbank6_a_level  \n",
       "0                                 -499.709414  \n",
       "1                                 -499.819438  \n",
       "2                                 -500.622559  \n",
       "3                                 -498.709987  \n",
       "4                                 -500.856333  \n",
       "\n",
       "[5 rows x 53 columns]"
      ]
     },
     "metadata": {},
     "output_type": "display_data"
    },
    {
     "data": {
      "text/html": [
       "<div>\n",
       "<style scoped>\n",
       "    .dataframe tbody tr th:only-of-type {\n",
       "        vertical-align: middle;\n",
       "    }\n",
       "\n",
       "    .dataframe tbody tr th {\n",
       "        vertical-align: top;\n",
       "    }\n",
       "\n",
       "    .dataframe thead th {\n",
       "        text-align: right;\n",
       "    }\n",
       "</style>\n",
       "<table border=\"1\" class=\"dataframe\">\n",
       "  <thead>\n",
       "    <tr style=\"text-align: right;\">\n",
       "      <th></th>\n",
       "      <th>date</th>\n",
       "      <th>final.output.concentrate_ag</th>\n",
       "      <th>final.output.concentrate_pb</th>\n",
       "      <th>final.output.concentrate_sol</th>\n",
       "      <th>final.output.concentrate_au</th>\n",
       "      <th>final.output.recovery</th>\n",
       "      <th>final.output.tail_ag</th>\n",
       "      <th>final.output.tail_pb</th>\n",
       "      <th>final.output.tail_sol</th>\n",
       "      <th>final.output.tail_au</th>\n",
       "      <th>...</th>\n",
       "      <th>secondary_cleaner.state.floatbank4_a_air</th>\n",
       "      <th>secondary_cleaner.state.floatbank4_a_level</th>\n",
       "      <th>secondary_cleaner.state.floatbank4_b_air</th>\n",
       "      <th>secondary_cleaner.state.floatbank4_b_level</th>\n",
       "      <th>secondary_cleaner.state.floatbank5_a_air</th>\n",
       "      <th>secondary_cleaner.state.floatbank5_a_level</th>\n",
       "      <th>secondary_cleaner.state.floatbank5_b_air</th>\n",
       "      <th>secondary_cleaner.state.floatbank5_b_level</th>\n",
       "      <th>secondary_cleaner.state.floatbank6_a_air</th>\n",
       "      <th>secondary_cleaner.state.floatbank6_a_level</th>\n",
       "    </tr>\n",
       "  </thead>\n",
       "  <tbody>\n",
       "    <tr>\n",
       "      <th>0</th>\n",
       "      <td>2016-01-15 00:00:00</td>\n",
       "      <td>6.055403</td>\n",
       "      <td>9.889648</td>\n",
       "      <td>5.507324</td>\n",
       "      <td>42.192020</td>\n",
       "      <td>70.541216</td>\n",
       "      <td>10.411962</td>\n",
       "      <td>0.895447</td>\n",
       "      <td>16.904297</td>\n",
       "      <td>2.143149</td>\n",
       "      <td>...</td>\n",
       "      <td>14.016835</td>\n",
       "      <td>-502.488007</td>\n",
       "      <td>12.099931</td>\n",
       "      <td>-504.715942</td>\n",
       "      <td>9.925633</td>\n",
       "      <td>-498.310211</td>\n",
       "      <td>8.079666</td>\n",
       "      <td>-500.470978</td>\n",
       "      <td>14.151341</td>\n",
       "      <td>-605.841980</td>\n",
       "    </tr>\n",
       "    <tr>\n",
       "      <th>1</th>\n",
       "      <td>2016-01-15 01:00:00</td>\n",
       "      <td>6.029369</td>\n",
       "      <td>9.968944</td>\n",
       "      <td>5.257781</td>\n",
       "      <td>42.701629</td>\n",
       "      <td>69.266198</td>\n",
       "      <td>10.462676</td>\n",
       "      <td>0.927452</td>\n",
       "      <td>16.634514</td>\n",
       "      <td>2.224930</td>\n",
       "      <td>...</td>\n",
       "      <td>13.992281</td>\n",
       "      <td>-505.503262</td>\n",
       "      <td>11.950531</td>\n",
       "      <td>-501.331529</td>\n",
       "      <td>10.039245</td>\n",
       "      <td>-500.169983</td>\n",
       "      <td>7.984757</td>\n",
       "      <td>-500.582168</td>\n",
       "      <td>13.998353</td>\n",
       "      <td>-599.787184</td>\n",
       "    </tr>\n",
       "    <tr>\n",
       "      <th>2</th>\n",
       "      <td>2016-01-15 02:00:00</td>\n",
       "      <td>6.055926</td>\n",
       "      <td>10.213995</td>\n",
       "      <td>5.383759</td>\n",
       "      <td>42.657501</td>\n",
       "      <td>68.116445</td>\n",
       "      <td>10.507046</td>\n",
       "      <td>0.953716</td>\n",
       "      <td>16.208849</td>\n",
       "      <td>2.257889</td>\n",
       "      <td>...</td>\n",
       "      <td>14.015015</td>\n",
       "      <td>-502.520901</td>\n",
       "      <td>11.912783</td>\n",
       "      <td>-501.133383</td>\n",
       "      <td>10.070913</td>\n",
       "      <td>-500.129135</td>\n",
       "      <td>8.013877</td>\n",
       "      <td>-500.517572</td>\n",
       "      <td>14.028663</td>\n",
       "      <td>-601.427363</td>\n",
       "    </tr>\n",
       "    <tr>\n",
       "      <th>3</th>\n",
       "      <td>2016-01-15 03:00:00</td>\n",
       "      <td>6.047977</td>\n",
       "      <td>9.977019</td>\n",
       "      <td>4.858634</td>\n",
       "      <td>42.689819</td>\n",
       "      <td>68.347543</td>\n",
       "      <td>10.422762</td>\n",
       "      <td>0.883763</td>\n",
       "      <td>16.532835</td>\n",
       "      <td>2.146849</td>\n",
       "      <td>...</td>\n",
       "      <td>14.036510</td>\n",
       "      <td>-500.857308</td>\n",
       "      <td>11.999550</td>\n",
       "      <td>-501.193686</td>\n",
       "      <td>9.970366</td>\n",
       "      <td>-499.201640</td>\n",
       "      <td>7.977324</td>\n",
       "      <td>-500.255908</td>\n",
       "      <td>14.005551</td>\n",
       "      <td>-599.996129</td>\n",
       "    </tr>\n",
       "    <tr>\n",
       "      <th>4</th>\n",
       "      <td>2016-01-15 04:00:00</td>\n",
       "      <td>6.148599</td>\n",
       "      <td>10.142511</td>\n",
       "      <td>4.939416</td>\n",
       "      <td>42.774141</td>\n",
       "      <td>66.927016</td>\n",
       "      <td>10.360302</td>\n",
       "      <td>0.792826</td>\n",
       "      <td>16.525686</td>\n",
       "      <td>2.055292</td>\n",
       "      <td>...</td>\n",
       "      <td>14.027298</td>\n",
       "      <td>-499.838632</td>\n",
       "      <td>11.953070</td>\n",
       "      <td>-501.053894</td>\n",
       "      <td>9.925709</td>\n",
       "      <td>-501.686727</td>\n",
       "      <td>7.894242</td>\n",
       "      <td>-500.356035</td>\n",
       "      <td>13.996647</td>\n",
       "      <td>-601.496691</td>\n",
       "    </tr>\n",
       "    <tr>\n",
       "      <th>...</th>\n",
       "      <td>...</td>\n",
       "      <td>...</td>\n",
       "      <td>...</td>\n",
       "      <td>...</td>\n",
       "      <td>...</td>\n",
       "      <td>...</td>\n",
       "      <td>...</td>\n",
       "      <td>...</td>\n",
       "      <td>...</td>\n",
       "      <td>...</td>\n",
       "      <td>...</td>\n",
       "      <td>...</td>\n",
       "      <td>...</td>\n",
       "      <td>...</td>\n",
       "      <td>...</td>\n",
       "      <td>...</td>\n",
       "      <td>...</td>\n",
       "      <td>...</td>\n",
       "      <td>...</td>\n",
       "      <td>...</td>\n",
       "      <td>...</td>\n",
       "    </tr>\n",
       "    <tr>\n",
       "      <th>19434</th>\n",
       "      <td>2018-08-18 06:59:59</td>\n",
       "      <td>3.224920</td>\n",
       "      <td>11.356233</td>\n",
       "      <td>6.803482</td>\n",
       "      <td>46.713954</td>\n",
       "      <td>73.755150</td>\n",
       "      <td>8.769645</td>\n",
       "      <td>3.141541</td>\n",
       "      <td>10.403181</td>\n",
       "      <td>1.529220</td>\n",
       "      <td>...</td>\n",
       "      <td>23.031497</td>\n",
       "      <td>-501.167942</td>\n",
       "      <td>20.007571</td>\n",
       "      <td>-499.740028</td>\n",
       "      <td>18.006038</td>\n",
       "      <td>-499.834374</td>\n",
       "      <td>13.001114</td>\n",
       "      <td>-500.155694</td>\n",
       "      <td>20.007840</td>\n",
       "      <td>-501.296428</td>\n",
       "    </tr>\n",
       "    <tr>\n",
       "      <th>19435</th>\n",
       "      <td>2018-08-18 07:59:59</td>\n",
       "      <td>3.195978</td>\n",
       "      <td>11.349355</td>\n",
       "      <td>6.862249</td>\n",
       "      <td>46.866780</td>\n",
       "      <td>69.049291</td>\n",
       "      <td>8.897321</td>\n",
       "      <td>3.130493</td>\n",
       "      <td>10.549470</td>\n",
       "      <td>1.612542</td>\n",
       "      <td>...</td>\n",
       "      <td>22.960095</td>\n",
       "      <td>-501.612783</td>\n",
       "      <td>20.035660</td>\n",
       "      <td>-500.251357</td>\n",
       "      <td>17.998535</td>\n",
       "      <td>-500.395178</td>\n",
       "      <td>12.954048</td>\n",
       "      <td>-499.895163</td>\n",
       "      <td>19.968498</td>\n",
       "      <td>-501.041608</td>\n",
       "    </tr>\n",
       "    <tr>\n",
       "      <th>19436</th>\n",
       "      <td>2018-08-18 08:59:59</td>\n",
       "      <td>3.109998</td>\n",
       "      <td>11.434366</td>\n",
       "      <td>6.886013</td>\n",
       "      <td>46.795691</td>\n",
       "      <td>67.002189</td>\n",
       "      <td>8.529606</td>\n",
       "      <td>2.911418</td>\n",
       "      <td>11.115147</td>\n",
       "      <td>1.596616</td>\n",
       "      <td>...</td>\n",
       "      <td>23.015718</td>\n",
       "      <td>-501.711599</td>\n",
       "      <td>19.951231</td>\n",
       "      <td>-499.857027</td>\n",
       "      <td>18.019543</td>\n",
       "      <td>-500.451156</td>\n",
       "      <td>13.023431</td>\n",
       "      <td>-499.914391</td>\n",
       "      <td>19.990885</td>\n",
       "      <td>-501.518452</td>\n",
       "    </tr>\n",
       "    <tr>\n",
       "      <th>19437</th>\n",
       "      <td>2018-08-18 09:59:59</td>\n",
       "      <td>3.367241</td>\n",
       "      <td>11.625587</td>\n",
       "      <td>6.799433</td>\n",
       "      <td>46.408188</td>\n",
       "      <td>65.523246</td>\n",
       "      <td>8.777171</td>\n",
       "      <td>2.819214</td>\n",
       "      <td>10.463847</td>\n",
       "      <td>1.602879</td>\n",
       "      <td>...</td>\n",
       "      <td>23.024963</td>\n",
       "      <td>-501.153409</td>\n",
       "      <td>20.054122</td>\n",
       "      <td>-500.314711</td>\n",
       "      <td>17.979515</td>\n",
       "      <td>-499.272871</td>\n",
       "      <td>12.992404</td>\n",
       "      <td>-499.976268</td>\n",
       "      <td>20.013986</td>\n",
       "      <td>-500.625471</td>\n",
       "    </tr>\n",
       "    <tr>\n",
       "      <th>19438</th>\n",
       "      <td>2018-08-18 10:59:59</td>\n",
       "      <td>3.598375</td>\n",
       "      <td>11.737832</td>\n",
       "      <td>6.717509</td>\n",
       "      <td>46.299438</td>\n",
       "      <td>70.281454</td>\n",
       "      <td>8.406690</td>\n",
       "      <td>2.517518</td>\n",
       "      <td>10.652193</td>\n",
       "      <td>1.389434</td>\n",
       "      <td>...</td>\n",
       "      <td>23.018622</td>\n",
       "      <td>-500.492702</td>\n",
       "      <td>20.020205</td>\n",
       "      <td>-500.220296</td>\n",
       "      <td>17.963512</td>\n",
       "      <td>-499.939490</td>\n",
       "      <td>12.990306</td>\n",
       "      <td>-500.080993</td>\n",
       "      <td>19.990336</td>\n",
       "      <td>-499.191575</td>\n",
       "    </tr>\n",
       "  </tbody>\n",
       "</table>\n",
       "<p>19439 rows × 87 columns</p>\n",
       "</div>"
      ],
      "text/plain": [
       "                      date  final.output.concentrate_ag  \\\n",
       "0      2016-01-15 00:00:00                     6.055403   \n",
       "1      2016-01-15 01:00:00                     6.029369   \n",
       "2      2016-01-15 02:00:00                     6.055926   \n",
       "3      2016-01-15 03:00:00                     6.047977   \n",
       "4      2016-01-15 04:00:00                     6.148599   \n",
       "...                    ...                          ...   \n",
       "19434  2018-08-18 06:59:59                     3.224920   \n",
       "19435  2018-08-18 07:59:59                     3.195978   \n",
       "19436  2018-08-18 08:59:59                     3.109998   \n",
       "19437  2018-08-18 09:59:59                     3.367241   \n",
       "19438  2018-08-18 10:59:59                     3.598375   \n",
       "\n",
       "       final.output.concentrate_pb  final.output.concentrate_sol  \\\n",
       "0                         9.889648                      5.507324   \n",
       "1                         9.968944                      5.257781   \n",
       "2                        10.213995                      5.383759   \n",
       "3                         9.977019                      4.858634   \n",
       "4                        10.142511                      4.939416   \n",
       "...                            ...                           ...   \n",
       "19434                    11.356233                      6.803482   \n",
       "19435                    11.349355                      6.862249   \n",
       "19436                    11.434366                      6.886013   \n",
       "19437                    11.625587                      6.799433   \n",
       "19438                    11.737832                      6.717509   \n",
       "\n",
       "       final.output.concentrate_au  final.output.recovery  \\\n",
       "0                        42.192020              70.541216   \n",
       "1                        42.701629              69.266198   \n",
       "2                        42.657501              68.116445   \n",
       "3                        42.689819              68.347543   \n",
       "4                        42.774141              66.927016   \n",
       "...                            ...                    ...   \n",
       "19434                    46.713954              73.755150   \n",
       "19435                    46.866780              69.049291   \n",
       "19436                    46.795691              67.002189   \n",
       "19437                    46.408188              65.523246   \n",
       "19438                    46.299438              70.281454   \n",
       "\n",
       "       final.output.tail_ag  final.output.tail_pb  final.output.tail_sol  \\\n",
       "0                 10.411962              0.895447              16.904297   \n",
       "1                 10.462676              0.927452              16.634514   \n",
       "2                 10.507046              0.953716              16.208849   \n",
       "3                 10.422762              0.883763              16.532835   \n",
       "4                 10.360302              0.792826              16.525686   \n",
       "...                     ...                   ...                    ...   \n",
       "19434              8.769645              3.141541              10.403181   \n",
       "19435              8.897321              3.130493              10.549470   \n",
       "19436              8.529606              2.911418              11.115147   \n",
       "19437              8.777171              2.819214              10.463847   \n",
       "19438              8.406690              2.517518              10.652193   \n",
       "\n",
       "       final.output.tail_au  ...  secondary_cleaner.state.floatbank4_a_air  \\\n",
       "0                  2.143149  ...                                 14.016835   \n",
       "1                  2.224930  ...                                 13.992281   \n",
       "2                  2.257889  ...                                 14.015015   \n",
       "3                  2.146849  ...                                 14.036510   \n",
       "4                  2.055292  ...                                 14.027298   \n",
       "...                     ...  ...                                       ...   \n",
       "19434              1.529220  ...                                 23.031497   \n",
       "19435              1.612542  ...                                 22.960095   \n",
       "19436              1.596616  ...                                 23.015718   \n",
       "19437              1.602879  ...                                 23.024963   \n",
       "19438              1.389434  ...                                 23.018622   \n",
       "\n",
       "       secondary_cleaner.state.floatbank4_a_level  \\\n",
       "0                                     -502.488007   \n",
       "1                                     -505.503262   \n",
       "2                                     -502.520901   \n",
       "3                                     -500.857308   \n",
       "4                                     -499.838632   \n",
       "...                                           ...   \n",
       "19434                                 -501.167942   \n",
       "19435                                 -501.612783   \n",
       "19436                                 -501.711599   \n",
       "19437                                 -501.153409   \n",
       "19438                                 -500.492702   \n",
       "\n",
       "       secondary_cleaner.state.floatbank4_b_air  \\\n",
       "0                                     12.099931   \n",
       "1                                     11.950531   \n",
       "2                                     11.912783   \n",
       "3                                     11.999550   \n",
       "4                                     11.953070   \n",
       "...                                         ...   \n",
       "19434                                 20.007571   \n",
       "19435                                 20.035660   \n",
       "19436                                 19.951231   \n",
       "19437                                 20.054122   \n",
       "19438                                 20.020205   \n",
       "\n",
       "       secondary_cleaner.state.floatbank4_b_level  \\\n",
       "0                                     -504.715942   \n",
       "1                                     -501.331529   \n",
       "2                                     -501.133383   \n",
       "3                                     -501.193686   \n",
       "4                                     -501.053894   \n",
       "...                                           ...   \n",
       "19434                                 -499.740028   \n",
       "19435                                 -500.251357   \n",
       "19436                                 -499.857027   \n",
       "19437                                 -500.314711   \n",
       "19438                                 -500.220296   \n",
       "\n",
       "       secondary_cleaner.state.floatbank5_a_air  \\\n",
       "0                                      9.925633   \n",
       "1                                     10.039245   \n",
       "2                                     10.070913   \n",
       "3                                      9.970366   \n",
       "4                                      9.925709   \n",
       "...                                         ...   \n",
       "19434                                 18.006038   \n",
       "19435                                 17.998535   \n",
       "19436                                 18.019543   \n",
       "19437                                 17.979515   \n",
       "19438                                 17.963512   \n",
       "\n",
       "       secondary_cleaner.state.floatbank5_a_level  \\\n",
       "0                                     -498.310211   \n",
       "1                                     -500.169983   \n",
       "2                                     -500.129135   \n",
       "3                                     -499.201640   \n",
       "4                                     -501.686727   \n",
       "...                                           ...   \n",
       "19434                                 -499.834374   \n",
       "19435                                 -500.395178   \n",
       "19436                                 -500.451156   \n",
       "19437                                 -499.272871   \n",
       "19438                                 -499.939490   \n",
       "\n",
       "       secondary_cleaner.state.floatbank5_b_air  \\\n",
       "0                                      8.079666   \n",
       "1                                      7.984757   \n",
       "2                                      8.013877   \n",
       "3                                      7.977324   \n",
       "4                                      7.894242   \n",
       "...                                         ...   \n",
       "19434                                 13.001114   \n",
       "19435                                 12.954048   \n",
       "19436                                 13.023431   \n",
       "19437                                 12.992404   \n",
       "19438                                 12.990306   \n",
       "\n",
       "       secondary_cleaner.state.floatbank5_b_level  \\\n",
       "0                                     -500.470978   \n",
       "1                                     -500.582168   \n",
       "2                                     -500.517572   \n",
       "3                                     -500.255908   \n",
       "4                                     -500.356035   \n",
       "...                                           ...   \n",
       "19434                                 -500.155694   \n",
       "19435                                 -499.895163   \n",
       "19436                                 -499.914391   \n",
       "19437                                 -499.976268   \n",
       "19438                                 -500.080993   \n",
       "\n",
       "       secondary_cleaner.state.floatbank6_a_air  \\\n",
       "0                                     14.151341   \n",
       "1                                     13.998353   \n",
       "2                                     14.028663   \n",
       "3                                     14.005551   \n",
       "4                                     13.996647   \n",
       "...                                         ...   \n",
       "19434                                 20.007840   \n",
       "19435                                 19.968498   \n",
       "19436                                 19.990885   \n",
       "19437                                 20.013986   \n",
       "19438                                 19.990336   \n",
       "\n",
       "       secondary_cleaner.state.floatbank6_a_level  \n",
       "0                                     -605.841980  \n",
       "1                                     -599.787184  \n",
       "2                                     -601.427363  \n",
       "3                                     -599.996129  \n",
       "4                                     -601.496691  \n",
       "...                                           ...  \n",
       "19434                                 -501.296428  \n",
       "19435                                 -501.041608  \n",
       "19436                                 -501.518452  \n",
       "19437                                 -500.625471  \n",
       "19438                                 -499.191575  \n",
       "\n",
       "[19439 rows x 87 columns]"
      ]
     },
     "metadata": {},
     "output_type": "display_data"
    }
   ],
   "source": [
    "#выводим данные из загруженных файлов на экран\n",
    "\n",
    "display(train.head(),test.head(),full)"
   ]
  },
  {
   "cell_type": "code",
   "execution_count": 85,
   "metadata": {},
   "outputs": [
    {
     "name": "stdout",
     "output_type": "stream",
     "text": [
      "<class 'pandas.core.frame.DataFrame'>\n",
      "RangeIndex: 14149 entries, 0 to 14148\n",
      "Data columns (total 87 columns):\n",
      " #   Column                                              Non-Null Count  Dtype  \n",
      "---  ------                                              --------------  -----  \n",
      " 0   date                                                14149 non-null  object \n",
      " 1   final.output.concentrate_ag                         14148 non-null  float64\n",
      " 2   final.output.concentrate_pb                         14148 non-null  float64\n",
      " 3   final.output.concentrate_sol                        13938 non-null  float64\n",
      " 4   final.output.concentrate_au                         14149 non-null  float64\n",
      " 5   final.output.recovery                               14149 non-null  float64\n",
      " 6   final.output.tail_ag                                14149 non-null  float64\n",
      " 7   final.output.tail_pb                                14049 non-null  float64\n",
      " 8   final.output.tail_sol                               14144 non-null  float64\n",
      " 9   final.output.tail_au                                14149 non-null  float64\n",
      " 10  primary_cleaner.input.sulfate                       14129 non-null  float64\n",
      " 11  primary_cleaner.input.depressant                    14117 non-null  float64\n",
      " 12  primary_cleaner.input.feed_size                     14149 non-null  float64\n",
      " 13  primary_cleaner.input.xanthate                      14049 non-null  float64\n",
      " 14  primary_cleaner.output.concentrate_ag               14149 non-null  float64\n",
      " 15  primary_cleaner.output.concentrate_pb               14063 non-null  float64\n",
      " 16  primary_cleaner.output.concentrate_sol              13863 non-null  float64\n",
      " 17  primary_cleaner.output.concentrate_au               14149 non-null  float64\n",
      " 18  primary_cleaner.output.tail_ag                      14148 non-null  float64\n",
      " 19  primary_cleaner.output.tail_pb                      14134 non-null  float64\n",
      " 20  primary_cleaner.output.tail_sol                     14103 non-null  float64\n",
      " 21  primary_cleaner.output.tail_au                      14149 non-null  float64\n",
      " 22  primary_cleaner.state.floatbank8_a_air              14145 non-null  float64\n",
      " 23  primary_cleaner.state.floatbank8_a_level            14148 non-null  float64\n",
      " 24  primary_cleaner.state.floatbank8_b_air              14145 non-null  float64\n",
      " 25  primary_cleaner.state.floatbank8_b_level            14148 non-null  float64\n",
      " 26  primary_cleaner.state.floatbank8_c_air              14147 non-null  float64\n",
      " 27  primary_cleaner.state.floatbank8_c_level            14148 non-null  float64\n",
      " 28  primary_cleaner.state.floatbank8_d_air              14146 non-null  float64\n",
      " 29  primary_cleaner.state.floatbank8_d_level            14148 non-null  float64\n",
      " 30  rougher.calculation.sulfate_to_au_concentrate       14148 non-null  float64\n",
      " 31  rougher.calculation.floatbank10_sulfate_to_au_feed  14148 non-null  float64\n",
      " 32  rougher.calculation.floatbank11_sulfate_to_au_feed  14148 non-null  float64\n",
      " 33  rougher.calculation.au_pb_ratio                     14149 non-null  float64\n",
      " 34  rougher.input.feed_ag                               14149 non-null  float64\n",
      " 35  rougher.input.feed_pb                               14049 non-null  float64\n",
      " 36  rougher.input.feed_rate                             14141 non-null  float64\n",
      " 37  rougher.input.feed_size                             14005 non-null  float64\n",
      " 38  rougher.input.feed_sol                              14071 non-null  float64\n",
      " 39  rougher.input.feed_au                               14149 non-null  float64\n",
      " 40  rougher.input.floatbank10_sulfate                   14120 non-null  float64\n",
      " 41  rougher.input.floatbank10_xanthate                  14141 non-null  float64\n",
      " 42  rougher.input.floatbank11_sulfate                   14113 non-null  float64\n",
      " 43  rougher.input.floatbank11_xanthate                  13721 non-null  float64\n",
      " 44  rougher.output.concentrate_ag                       14149 non-null  float64\n",
      " 45  rougher.output.concentrate_pb                       14149 non-null  float64\n",
      " 46  rougher.output.concentrate_sol                      14127 non-null  float64\n",
      " 47  rougher.output.concentrate_au                       14149 non-null  float64\n",
      " 48  rougher.output.recovery                             14149 non-null  float64\n",
      " 49  rougher.output.tail_ag                              14148 non-null  float64\n",
      " 50  rougher.output.tail_pb                              14149 non-null  float64\n",
      " 51  rougher.output.tail_sol                             14149 non-null  float64\n",
      " 52  rougher.output.tail_au                              14149 non-null  float64\n",
      " 53  rougher.state.floatbank10_a_air                     14148 non-null  float64\n",
      " 54  rougher.state.floatbank10_a_level                   14148 non-null  float64\n",
      " 55  rougher.state.floatbank10_b_air                     14148 non-null  float64\n",
      " 56  rougher.state.floatbank10_b_level                   14148 non-null  float64\n",
      " 57  rougher.state.floatbank10_c_air                     14148 non-null  float64\n",
      " 58  rougher.state.floatbank10_c_level                   14148 non-null  float64\n",
      " 59  rougher.state.floatbank10_d_air                     14149 non-null  float64\n",
      " 60  rougher.state.floatbank10_d_level                   14149 non-null  float64\n",
      " 61  rougher.state.floatbank10_e_air                     13713 non-null  float64\n",
      " 62  rougher.state.floatbank10_e_level                   14149 non-null  float64\n",
      " 63  rougher.state.floatbank10_f_air                     14149 non-null  float64\n",
      " 64  rougher.state.floatbank10_f_level                   14149 non-null  float64\n",
      " 65  secondary_cleaner.output.tail_ag                    14147 non-null  float64\n",
      " 66  secondary_cleaner.output.tail_pb                    14139 non-null  float64\n",
      " 67  secondary_cleaner.output.tail_sol                   12544 non-null  float64\n",
      " 68  secondary_cleaner.output.tail_au                    14149 non-null  float64\n",
      " 69  secondary_cleaner.state.floatbank2_a_air            13932 non-null  float64\n",
      " 70  secondary_cleaner.state.floatbank2_a_level          14148 non-null  float64\n",
      " 71  secondary_cleaner.state.floatbank2_b_air            14128 non-null  float64\n",
      " 72  secondary_cleaner.state.floatbank2_b_level          14148 non-null  float64\n",
      " 73  secondary_cleaner.state.floatbank3_a_air            14145 non-null  float64\n",
      " 74  secondary_cleaner.state.floatbank3_a_level          14148 non-null  float64\n",
      " 75  secondary_cleaner.state.floatbank3_b_air            14148 non-null  float64\n",
      " 76  secondary_cleaner.state.floatbank3_b_level          14148 non-null  float64\n",
      " 77  secondary_cleaner.state.floatbank4_a_air            14143 non-null  float64\n",
      " 78  secondary_cleaner.state.floatbank4_a_level          14148 non-null  float64\n",
      " 79  secondary_cleaner.state.floatbank4_b_air            14148 non-null  float64\n",
      " 80  secondary_cleaner.state.floatbank4_b_level          14148 non-null  float64\n",
      " 81  secondary_cleaner.state.floatbank5_a_air            14148 non-null  float64\n",
      " 82  secondary_cleaner.state.floatbank5_a_level          14148 non-null  float64\n",
      " 83  secondary_cleaner.state.floatbank5_b_air            14148 non-null  float64\n",
      " 84  secondary_cleaner.state.floatbank5_b_level          14148 non-null  float64\n",
      " 85  secondary_cleaner.state.floatbank6_a_air            14147 non-null  float64\n",
      " 86  secondary_cleaner.state.floatbank6_a_level          14148 non-null  float64\n",
      "dtypes: float64(86), object(1)\n",
      "memory usage: 9.4+ MB\n"
     ]
    }
   ],
   "source": [
    "#выводим на экран общую информацию о полученных датафреймах\n",
    "\n",
    "train.info()"
   ]
  },
  {
   "cell_type": "code",
   "execution_count": 86,
   "metadata": {},
   "outputs": [
    {
     "name": "stdout",
     "output_type": "stream",
     "text": [
      "<class 'pandas.core.frame.DataFrame'>\n",
      "RangeIndex: 5290 entries, 0 to 5289\n",
      "Data columns (total 53 columns):\n",
      " #   Column                                      Non-Null Count  Dtype  \n",
      "---  ------                                      --------------  -----  \n",
      " 0   date                                        5290 non-null   object \n",
      " 1   primary_cleaner.input.sulfate               5286 non-null   float64\n",
      " 2   primary_cleaner.input.depressant            5285 non-null   float64\n",
      " 3   primary_cleaner.input.feed_size             5290 non-null   float64\n",
      " 4   primary_cleaner.input.xanthate              5286 non-null   float64\n",
      " 5   primary_cleaner.state.floatbank8_a_air      5290 non-null   float64\n",
      " 6   primary_cleaner.state.floatbank8_a_level    5290 non-null   float64\n",
      " 7   primary_cleaner.state.floatbank8_b_air      5290 non-null   float64\n",
      " 8   primary_cleaner.state.floatbank8_b_level    5290 non-null   float64\n",
      " 9   primary_cleaner.state.floatbank8_c_air      5290 non-null   float64\n",
      " 10  primary_cleaner.state.floatbank8_c_level    5290 non-null   float64\n",
      " 11  primary_cleaner.state.floatbank8_d_air      5290 non-null   float64\n",
      " 12  primary_cleaner.state.floatbank8_d_level    5290 non-null   float64\n",
      " 13  rougher.input.feed_ag                       5290 non-null   float64\n",
      " 14  rougher.input.feed_pb                       5290 non-null   float64\n",
      " 15  rougher.input.feed_rate                     5287 non-null   float64\n",
      " 16  rougher.input.feed_size                     5289 non-null   float64\n",
      " 17  rougher.input.feed_sol                      5269 non-null   float64\n",
      " 18  rougher.input.feed_au                       5290 non-null   float64\n",
      " 19  rougher.input.floatbank10_sulfate           5285 non-null   float64\n",
      " 20  rougher.input.floatbank10_xanthate          5290 non-null   float64\n",
      " 21  rougher.input.floatbank11_sulfate           5282 non-null   float64\n",
      " 22  rougher.input.floatbank11_xanthate          5265 non-null   float64\n",
      " 23  rougher.state.floatbank10_a_air             5290 non-null   float64\n",
      " 24  rougher.state.floatbank10_a_level           5290 non-null   float64\n",
      " 25  rougher.state.floatbank10_b_air             5290 non-null   float64\n",
      " 26  rougher.state.floatbank10_b_level           5290 non-null   float64\n",
      " 27  rougher.state.floatbank10_c_air             5290 non-null   float64\n",
      " 28  rougher.state.floatbank10_c_level           5290 non-null   float64\n",
      " 29  rougher.state.floatbank10_d_air             5290 non-null   float64\n",
      " 30  rougher.state.floatbank10_d_level           5290 non-null   float64\n",
      " 31  rougher.state.floatbank10_e_air             5290 non-null   float64\n",
      " 32  rougher.state.floatbank10_e_level           5290 non-null   float64\n",
      " 33  rougher.state.floatbank10_f_air             5290 non-null   float64\n",
      " 34  rougher.state.floatbank10_f_level           5290 non-null   float64\n",
      " 35  secondary_cleaner.state.floatbank2_a_air    5287 non-null   float64\n",
      " 36  secondary_cleaner.state.floatbank2_a_level  5290 non-null   float64\n",
      " 37  secondary_cleaner.state.floatbank2_b_air    5288 non-null   float64\n",
      " 38  secondary_cleaner.state.floatbank2_b_level  5290 non-null   float64\n",
      " 39  secondary_cleaner.state.floatbank3_a_air    5281 non-null   float64\n",
      " 40  secondary_cleaner.state.floatbank3_a_level  5290 non-null   float64\n",
      " 41  secondary_cleaner.state.floatbank3_b_air    5290 non-null   float64\n",
      " 42  secondary_cleaner.state.floatbank3_b_level  5290 non-null   float64\n",
      " 43  secondary_cleaner.state.floatbank4_a_air    5290 non-null   float64\n",
      " 44  secondary_cleaner.state.floatbank4_a_level  5290 non-null   float64\n",
      " 45  secondary_cleaner.state.floatbank4_b_air    5290 non-null   float64\n",
      " 46  secondary_cleaner.state.floatbank4_b_level  5290 non-null   float64\n",
      " 47  secondary_cleaner.state.floatbank5_a_air    5290 non-null   float64\n",
      " 48  secondary_cleaner.state.floatbank5_a_level  5290 non-null   float64\n",
      " 49  secondary_cleaner.state.floatbank5_b_air    5290 non-null   float64\n",
      " 50  secondary_cleaner.state.floatbank5_b_level  5290 non-null   float64\n",
      " 51  secondary_cleaner.state.floatbank6_a_air    5290 non-null   float64\n",
      " 52  secondary_cleaner.state.floatbank6_a_level  5290 non-null   float64\n",
      "dtypes: float64(52), object(1)\n",
      "memory usage: 2.1+ MB\n"
     ]
    }
   ],
   "source": [
    "test.info()"
   ]
  },
  {
   "cell_type": "code",
   "execution_count": 87,
   "metadata": {},
   "outputs": [
    {
     "name": "stdout",
     "output_type": "stream",
     "text": [
      "<class 'pandas.core.frame.DataFrame'>\n",
      "RangeIndex: 19439 entries, 0 to 19438\n",
      "Data columns (total 87 columns):\n",
      " #   Column                                              Non-Null Count  Dtype  \n",
      "---  ------                                              --------------  -----  \n",
      " 0   date                                                19439 non-null  object \n",
      " 1   final.output.concentrate_ag                         19438 non-null  float64\n",
      " 2   final.output.concentrate_pb                         19438 non-null  float64\n",
      " 3   final.output.concentrate_sol                        19228 non-null  float64\n",
      " 4   final.output.concentrate_au                         19439 non-null  float64\n",
      " 5   final.output.recovery                               19439 non-null  float64\n",
      " 6   final.output.tail_ag                                19438 non-null  float64\n",
      " 7   final.output.tail_pb                                19338 non-null  float64\n",
      " 8   final.output.tail_sol                               19433 non-null  float64\n",
      " 9   final.output.tail_au                                19439 non-null  float64\n",
      " 10  primary_cleaner.input.sulfate                       19415 non-null  float64\n",
      " 11  primary_cleaner.input.depressant                    19402 non-null  float64\n",
      " 12  primary_cleaner.input.feed_size                     19439 non-null  float64\n",
      " 13  primary_cleaner.input.xanthate                      19335 non-null  float64\n",
      " 14  primary_cleaner.output.concentrate_ag               19439 non-null  float64\n",
      " 15  primary_cleaner.output.concentrate_pb               19323 non-null  float64\n",
      " 16  primary_cleaner.output.concentrate_sol              19069 non-null  float64\n",
      " 17  primary_cleaner.output.concentrate_au               19439 non-null  float64\n",
      " 18  primary_cleaner.output.tail_ag                      19435 non-null  float64\n",
      " 19  primary_cleaner.output.tail_pb                      19418 non-null  float64\n",
      " 20  primary_cleaner.output.tail_sol                     19377 non-null  float64\n",
      " 21  primary_cleaner.output.tail_au                      19439 non-null  float64\n",
      " 22  primary_cleaner.state.floatbank8_a_air              19435 non-null  float64\n",
      " 23  primary_cleaner.state.floatbank8_a_level            19438 non-null  float64\n",
      " 24  primary_cleaner.state.floatbank8_b_air              19435 non-null  float64\n",
      " 25  primary_cleaner.state.floatbank8_b_level            19438 non-null  float64\n",
      " 26  primary_cleaner.state.floatbank8_c_air              19437 non-null  float64\n",
      " 27  primary_cleaner.state.floatbank8_c_level            19438 non-null  float64\n",
      " 28  primary_cleaner.state.floatbank8_d_air              19436 non-null  float64\n",
      " 29  primary_cleaner.state.floatbank8_d_level            19438 non-null  float64\n",
      " 30  rougher.calculation.sulfate_to_au_concentrate       19437 non-null  float64\n",
      " 31  rougher.calculation.floatbank10_sulfate_to_au_feed  19437 non-null  float64\n",
      " 32  rougher.calculation.floatbank11_sulfate_to_au_feed  19437 non-null  float64\n",
      " 33  rougher.calculation.au_pb_ratio                     19439 non-null  float64\n",
      " 34  rougher.input.feed_ag                               19439 non-null  float64\n",
      " 35  rougher.input.feed_pb                               19339 non-null  float64\n",
      " 36  rougher.input.feed_rate                             19428 non-null  float64\n",
      " 37  rougher.input.feed_size                             19294 non-null  float64\n",
      " 38  rougher.input.feed_sol                              19340 non-null  float64\n",
      " 39  rougher.input.feed_au                               19439 non-null  float64\n",
      " 40  rougher.input.floatbank10_sulfate                   19405 non-null  float64\n",
      " 41  rougher.input.floatbank10_xanthate                  19431 non-null  float64\n",
      " 42  rougher.input.floatbank11_sulfate                   19395 non-null  float64\n",
      " 43  rougher.input.floatbank11_xanthate                  18986 non-null  float64\n",
      " 44  rougher.output.concentrate_ag                       19439 non-null  float64\n",
      " 45  rougher.output.concentrate_pb                       19439 non-null  float64\n",
      " 46  rougher.output.concentrate_sol                      19416 non-null  float64\n",
      " 47  rougher.output.concentrate_au                       19439 non-null  float64\n",
      " 48  rougher.output.recovery                             19439 non-null  float64\n",
      " 49  rougher.output.tail_ag                              19438 non-null  float64\n",
      " 50  rougher.output.tail_pb                              19439 non-null  float64\n",
      " 51  rougher.output.tail_sol                             19439 non-null  float64\n",
      " 52  rougher.output.tail_au                              19439 non-null  float64\n",
      " 53  rougher.state.floatbank10_a_air                     19438 non-null  float64\n",
      " 54  rougher.state.floatbank10_a_level                   19438 non-null  float64\n",
      " 55  rougher.state.floatbank10_b_air                     19438 non-null  float64\n",
      " 56  rougher.state.floatbank10_b_level                   19438 non-null  float64\n",
      " 57  rougher.state.floatbank10_c_air                     19438 non-null  float64\n",
      " 58  rougher.state.floatbank10_c_level                   19438 non-null  float64\n",
      " 59  rougher.state.floatbank10_d_air                     19439 non-null  float64\n",
      " 60  rougher.state.floatbank10_d_level                   19439 non-null  float64\n",
      " 61  rougher.state.floatbank10_e_air                     19003 non-null  float64\n",
      " 62  rougher.state.floatbank10_e_level                   19439 non-null  float64\n",
      " 63  rougher.state.floatbank10_f_air                     19439 non-null  float64\n",
      " 64  rougher.state.floatbank10_f_level                   19439 non-null  float64\n",
      " 65  secondary_cleaner.output.tail_ag                    19437 non-null  float64\n",
      " 66  secondary_cleaner.output.tail_pb                    19427 non-null  float64\n",
      " 67  secondary_cleaner.output.tail_sol                   17691 non-null  float64\n",
      " 68  secondary_cleaner.output.tail_au                    19439 non-null  float64\n",
      " 69  secondary_cleaner.state.floatbank2_a_air            19219 non-null  float64\n",
      " 70  secondary_cleaner.state.floatbank2_a_level          19438 non-null  float64\n",
      " 71  secondary_cleaner.state.floatbank2_b_air            19416 non-null  float64\n",
      " 72  secondary_cleaner.state.floatbank2_b_level          19438 non-null  float64\n",
      " 73  secondary_cleaner.state.floatbank3_a_air            19426 non-null  float64\n",
      " 74  secondary_cleaner.state.floatbank3_a_level          19438 non-null  float64\n",
      " 75  secondary_cleaner.state.floatbank3_b_air            19438 non-null  float64\n",
      " 76  secondary_cleaner.state.floatbank3_b_level          19438 non-null  float64\n",
      " 77  secondary_cleaner.state.floatbank4_a_air            19433 non-null  float64\n",
      " 78  secondary_cleaner.state.floatbank4_a_level          19438 non-null  float64\n",
      " 79  secondary_cleaner.state.floatbank4_b_air            19438 non-null  float64\n",
      " 80  secondary_cleaner.state.floatbank4_b_level          19438 non-null  float64\n",
      " 81  secondary_cleaner.state.floatbank5_a_air            19438 non-null  float64\n",
      " 82  secondary_cleaner.state.floatbank5_a_level          19438 non-null  float64\n",
      " 83  secondary_cleaner.state.floatbank5_b_air            19438 non-null  float64\n",
      " 84  secondary_cleaner.state.floatbank5_b_level          19438 non-null  float64\n",
      " 85  secondary_cleaner.state.floatbank6_a_air            19437 non-null  float64\n",
      " 86  secondary_cleaner.state.floatbank6_a_level          19438 non-null  float64\n",
      "dtypes: float64(86), object(1)\n",
      "memory usage: 12.9+ MB\n"
     ]
    }
   ],
   "source": [
    "full.info()"
   ]
  },
  {
   "cell_type": "code",
   "execution_count": 88,
   "metadata": {},
   "outputs": [
    {
     "name": "stdout",
     "output_type": "stream",
     "text": [
      "0\n",
      "0\n",
      "0\n"
     ]
    }
   ],
   "source": [
    "# проверяем наличие дубликатов\n",
    "\n",
    "print(train.duplicated().sum())\n",
    "print(train.duplicated().sum())\n",
    "print(train.duplicated().sum())"
   ]
  },
  {
   "cell_type": "code",
   "execution_count": 90,
   "metadata": {},
   "outputs": [
    {
     "name": "stdout",
     "output_type": "stream",
     "text": [
      "       recovery_check  rougher.output.recovery\n",
      "0           87.107763                87.107763\n",
      "1           86.843261                86.843261\n",
      "2           86.842308                86.842308\n",
      "3           87.226430                87.226430\n",
      "4           86.688794                86.688794\n",
      "...               ...                      ...\n",
      "14144       89.574376                89.574376\n",
      "14145       87.724007                87.724007\n",
      "14146       88.890579                88.890579\n",
      "14147       89.858126                89.858126\n",
      "14148       89.514960                89.514960\n",
      "\n",
      "[14149 rows x 2 columns]\n",
      "MAE: 9.73512347450521e-15\n"
     ]
    }
   ],
   "source": [
    "#посчитаем показатель эффективность обогащения (recovery_check) в новой колонке по формуле:\n",
    "#recovery_check = ((C*(F-T))/F*(C-T))*100%,\n",
    "#C - доля золота в концентрате после флотации (rougher.output.concentrate_au)\n",
    "#F - доля золота в сырье/концентрате до флотации (rougher.input.feed_au)\n",
    "#T - доля золота в отвальных хвостах после флотации (rougher.output.tail_au)\n",
    "\n",
    "train['recovery_check'] = (train['rougher.output.concentrate_au']*(\n",
    "    train['rougher.input.feed_au']-train['rougher.output.tail_au']))/(train['rougher.input.feed_au']*(\n",
    "    train['rougher.output.concentrate_au']-train['rougher.output.tail_au']))*100\n",
    "print(train.loc[:,['recovery_check','rougher.output.recovery']])\n",
    "\n",
    "#посчитаем показатель MAE\n",
    "\n",
    "print('MAE:', mean_absolute_error(train['rougher.output.recovery'], train['recovery_check']))"
   ]
  },
  {
   "cell_type": "code",
   "execution_count": 91,
   "metadata": {},
   "outputs": [
    {
     "name": "stdout",
     "output_type": "stream",
     "text": [
      "date                                            0\n",
      "final.output.concentrate_ag                     1\n",
      "final.output.concentrate_pb                     1\n",
      "final.output.concentrate_sol                  211\n",
      "final.output.concentrate_au                     0\n",
      "                                             ... \n",
      "secondary_cleaner.state.floatbank5_b_air        1\n",
      "secondary_cleaner.state.floatbank5_b_level      1\n",
      "secondary_cleaner.state.floatbank6_a_air        2\n",
      "secondary_cleaner.state.floatbank6_a_level      1\n",
      "recovery_check                                  0\n",
      "Length: 88, dtype: int64\n",
      "date                                           0\n",
      "primary_cleaner.input.sulfate                  4\n",
      "primary_cleaner.input.depressant               5\n",
      "primary_cleaner.input.feed_size                0\n",
      "primary_cleaner.input.xanthate                 4\n",
      "primary_cleaner.state.floatbank8_a_air         0\n",
      "primary_cleaner.state.floatbank8_a_level       0\n",
      "primary_cleaner.state.floatbank8_b_air         0\n",
      "primary_cleaner.state.floatbank8_b_level       0\n",
      "primary_cleaner.state.floatbank8_c_air         0\n",
      "primary_cleaner.state.floatbank8_c_level       0\n",
      "primary_cleaner.state.floatbank8_d_air         0\n",
      "primary_cleaner.state.floatbank8_d_level       0\n",
      "rougher.input.feed_ag                          0\n",
      "rougher.input.feed_pb                          0\n",
      "rougher.input.feed_rate                        3\n",
      "rougher.input.feed_size                        1\n",
      "rougher.input.feed_sol                        21\n",
      "rougher.input.feed_au                          0\n",
      "rougher.input.floatbank10_sulfate              5\n",
      "rougher.input.floatbank10_xanthate             0\n",
      "rougher.input.floatbank11_sulfate              8\n",
      "rougher.input.floatbank11_xanthate            25\n",
      "rougher.state.floatbank10_a_air                0\n",
      "rougher.state.floatbank10_a_level              0\n",
      "rougher.state.floatbank10_b_air                0\n",
      "rougher.state.floatbank10_b_level              0\n",
      "rougher.state.floatbank10_c_air                0\n",
      "rougher.state.floatbank10_c_level              0\n",
      "rougher.state.floatbank10_d_air                0\n",
      "rougher.state.floatbank10_d_level              0\n",
      "rougher.state.floatbank10_e_air                0\n",
      "rougher.state.floatbank10_e_level              0\n",
      "rougher.state.floatbank10_f_air                0\n",
      "rougher.state.floatbank10_f_level              0\n",
      "secondary_cleaner.state.floatbank2_a_air       3\n",
      "secondary_cleaner.state.floatbank2_a_level     0\n",
      "secondary_cleaner.state.floatbank2_b_air       2\n",
      "secondary_cleaner.state.floatbank2_b_level     0\n",
      "secondary_cleaner.state.floatbank3_a_air       9\n",
      "secondary_cleaner.state.floatbank3_a_level     0\n",
      "secondary_cleaner.state.floatbank3_b_air       0\n",
      "secondary_cleaner.state.floatbank3_b_level     0\n",
      "secondary_cleaner.state.floatbank4_a_air       0\n",
      "secondary_cleaner.state.floatbank4_a_level     0\n",
      "secondary_cleaner.state.floatbank4_b_air       0\n",
      "secondary_cleaner.state.floatbank4_b_level     0\n",
      "secondary_cleaner.state.floatbank5_a_air       0\n",
      "secondary_cleaner.state.floatbank5_a_level     0\n",
      "secondary_cleaner.state.floatbank5_b_air       0\n",
      "secondary_cleaner.state.floatbank5_b_level     0\n",
      "secondary_cleaner.state.floatbank6_a_air       0\n",
      "secondary_cleaner.state.floatbank6_a_level     0\n",
      "dtype: int64\n",
      "date                                            0\n",
      "final.output.concentrate_ag                     1\n",
      "final.output.concentrate_pb                     1\n",
      "final.output.concentrate_sol                  211\n",
      "final.output.concentrate_au                     0\n",
      "                                             ... \n",
      "secondary_cleaner.state.floatbank5_a_level      1\n",
      "secondary_cleaner.state.floatbank5_b_air        1\n",
      "secondary_cleaner.state.floatbank5_b_level      1\n",
      "secondary_cleaner.state.floatbank6_a_air        2\n",
      "secondary_cleaner.state.floatbank6_a_level      1\n",
      "Length: 87, dtype: int64\n"
     ]
    }
   ],
   "source": [
    "#проверяем наличие пропусков\n",
    "\n",
    "print(train.isna().sum())\n",
    "print(test.isna().sum())\n",
    "print(full.isna().sum())"
   ]
  },
  {
   "cell_type": "code",
   "execution_count": 92,
   "metadata": {},
   "outputs": [
    {
     "name": "stdout",
     "output_type": "stream",
     "text": [
      "date                                          0\n",
      "final.output.concentrate_ag                   0\n",
      "final.output.concentrate_pb                   0\n",
      "final.output.concentrate_sol                  0\n",
      "final.output.concentrate_au                   0\n",
      "                                             ..\n",
      "secondary_cleaner.state.floatbank5_b_air      0\n",
      "secondary_cleaner.state.floatbank5_b_level    0\n",
      "secondary_cleaner.state.floatbank6_a_air      0\n",
      "secondary_cleaner.state.floatbank6_a_level    0\n",
      "recovery_check                                0\n",
      "Length: 88, dtype: int64\n"
     ]
    }
   ],
   "source": [
    "#заменяем пропуски на значения предыдущих ячеек (по условию задачи значения соседних ячеек отличаются незначительно)\n",
    "\n",
    "train = train.fillna(\"!!!\")\n",
    "test = test.fillna(\"!!!\")\n",
    "full = full.fillna(\"!!!\")\n",
    "\n",
    "#создаем функцию для заполнения пропусков\n",
    "\n",
    "def null(df):\n",
    "    \n",
    "#задаем  цикл, в котором заменяем значения \"!!!\" на новые\n",
    "\n",
    "    for col in df.columns:\n",
    "        for item in range(len(df)):\n",
    "            if df.loc[item,col] == \"!!!\":\n",
    "                df.loc[item,col] = df.loc[(item-1),col] #меняем пустое значение на значение предыдущей ячейки\n",
    "\n",
    "#запускаем функцию по заполнению пропусков в каждом датафрейме   \n",
    "\n",
    "null(train)\n",
    "null(test)\n",
    "null(full)\n",
    "\n",
    "#проверяем наличие пропусков\n",
    "\n",
    "print(train.isna().sum())\n"
   ]
  },
  {
   "cell_type": "code",
   "execution_count": 93,
   "metadata": {},
   "outputs": [
    {
     "data": {
      "text/plain": [
       "Index(['final.output.concentrate_ag', 'final.output.concentrate_au',\n",
       "       'final.output.concentrate_pb', 'final.output.concentrate_sol',\n",
       "       'final.output.recovery', 'final.output.tail_ag', 'final.output.tail_au',\n",
       "       'final.output.tail_pb', 'final.output.tail_sol',\n",
       "       'primary_cleaner.output.concentrate_ag',\n",
       "       'primary_cleaner.output.concentrate_au',\n",
       "       'primary_cleaner.output.concentrate_pb',\n",
       "       'primary_cleaner.output.concentrate_sol',\n",
       "       'primary_cleaner.output.tail_ag', 'primary_cleaner.output.tail_au',\n",
       "       'primary_cleaner.output.tail_pb', 'primary_cleaner.output.tail_sol',\n",
       "       'recovery_check', 'rougher.calculation.au_pb_ratio',\n",
       "       'rougher.calculation.floatbank10_sulfate_to_au_feed',\n",
       "       'rougher.calculation.floatbank11_sulfate_to_au_feed',\n",
       "       'rougher.calculation.sulfate_to_au_concentrate',\n",
       "       'rougher.output.concentrate_ag', 'rougher.output.concentrate_au',\n",
       "       'rougher.output.concentrate_pb', 'rougher.output.concentrate_sol',\n",
       "       'rougher.output.recovery', 'rougher.output.tail_ag',\n",
       "       'rougher.output.tail_au', 'rougher.output.tail_pb',\n",
       "       'rougher.output.tail_sol', 'secondary_cleaner.output.tail_ag',\n",
       "       'secondary_cleaner.output.tail_au', 'secondary_cleaner.output.tail_pb',\n",
       "       'secondary_cleaner.output.tail_sol'],\n",
       "      dtype='object')"
      ]
     },
     "metadata": {},
     "output_type": "display_data"
    }
   ],
   "source": [
    "#определим признаки, которые есть в обучающей выборке, но отсутствуют в тестовой\n",
    "\n",
    "test_missed_items=train.columns.difference(test.columns)\n",
    "display(test_missed_items)"
   ]
  },
  {
   "cell_type": "markdown",
   "metadata": {},
   "source": [
    "<div class=\"alert alert-block alert-info\">\n",
    "<h2> Выводы. Подготовка данных.<a class=\"tocSkip\"> </h2>\n",
    "    \n",
    "1. Заголовки переименовывать не нужно, дубликатов нет.\n",
    "\n",
    "2. Поменяли формат колонки \"date\" на тип \"datetime\"\n",
    "\n",
    "3. Проверили правильность расчета эффективности обогащения (далее, ЭО). ЭО рассчитана корректно: MAE имеет низкое значение (расчетные данные почти не отличаются от табличных). \n",
    "\n",
    "4. Заполнили пропуски значениеями вышестоящих соседних ячеек (по условию, значения соседних ячеек сильно не отличаются).\n",
    "\n",
    "5. В тестовой выборке отсутствуют признаки с типом параметра output (параметры продукта) и calculation (расчётные характеристики). По условию, \"некоторые параметры недоступны, потому что замеряются и/или рассчитываются значительно позже.\"   \n",
    "</div>"
   ]
  },
  {
   "cell_type": "markdown",
   "metadata": {},
   "source": [
    "## Анализ данных"
   ]
  },
  {
   "cell_type": "markdown",
   "metadata": {},
   "source": [
    "<div class=\"alert alert-info\">\n",
    "<h2> План<a class=\"tocSkip\"> </h2>\n",
    "\n",
    "1. Изучим, как меняется концентрация металлов (Au, Ag, Pb) на различных этапах очистки\n",
    " \n",
    "2. Сравним распределение размеров гранул сырья на обучающей и тестовой выборках\n",
    "    \n",
    "3. Исследуем суммарную концентрацию всех веществ на разных стадиях: в сырье, в черновом и финальном концентратах\n",
    " \n",
    "4. Сделаем выводы по результатам анализа данных      \n",
    "</div>"
   ]
  },
  {
   "cell_type": "code",
   "execution_count": 94,
   "metadata": {},
   "outputs": [
    {
     "name": "stdout",
     "output_type": "stream",
     "text": [
      "Среднее арифметическое содержания ЗОЛОТА в зависимости от технологического этапа\n",
      "final.output.concentrate_au              44.076513\n",
      "primary_cleaner.output.concentrate_au    32.119400\n",
      "rougher.output.concentrate_au            19.772000\n",
      "rougher.input.feed_au                     8.266097\n",
      "dtype: float64\n",
      "\n",
      "Стандартное отклонение содержания ЗОЛОТА в зависимости от технологического этапа\n",
      "final.output.concentrate_au              5.129652\n",
      "primary_cleaner.output.concentrate_au    5.627466\n",
      "rougher.output.concentrate_au            3.753503\n",
      "rougher.input.feed_au                    1.955042\n",
      "dtype: float64\n"
     ]
    }
   ],
   "source": [
    "# рассчитаем среднее арифметическое и стандартное отклонение, чтобы оценить изменение концентрации металлов \n",
    "#расчеты для золота\n",
    "\n",
    "print(\"Среднее арифметическое содержания ЗОЛОТА в зависимости от технологического этапа\")\n",
    "print((full[['final.output.concentrate_au','primary_cleaner.output.concentrate_au','rougher.output.concentrate_au',\n",
    "             'rougher.input.feed_au']].mean()))\n",
    "print()\n",
    "print(\"Стандартное отклонение содержания ЗОЛОТА в зависимости от технологического этапа\")\n",
    "print(np.std(full[['final.output.concentrate_au','primary_cleaner.output.concentrate_au','rougher.output.concentrate_au',\n",
    "                   'rougher.input.feed_au']]))\n"
   ]
  },
  {
   "cell_type": "code",
   "execution_count": 95,
   "metadata": {},
   "outputs": [
    {
     "data": {
      "image/png": "[encoded data removed]",
      "text/plain": [
       "<Figure size 864x576 with 1 Axes>"
      ]
     },
     "metadata": {
      "needs_background": "light"
     },
     "output_type": "display_data"
    }
   ],
   "source": [
    "#визуализируем распределение концентрации металла в зависимости от технологической стадии\n",
    "#визуализация для золота\n",
    "\n",
    "full['final.output.concentrate_au'].plot(kind='hist', bins=200, alpha=0.5, color='r', figsize=(12, 8))\n",
    "full['primary_cleaner.output.concentrate_au'].plot(kind='hist', color='y', bins=200, alpha=0.5)\n",
    "full['rougher.output.concentrate_au'].plot(kind='hist', color='g', bins=200, alpha=0.5)\n",
    "full['rougher.input.feed_au'].plot(kind='hist', color='c', bins=200, alpha=0.5)\n",
    "plt.legend(['Финальный концентрат','Содержание металла после первого этапа очистки', \n",
    "            'Содержание металла после флотации', 'Содержание металла в сырье на входе'])\n",
    "plt.xlabel('Содержание металла', fontsize = 14)\n",
    "plt.ylabel('Количество наблюдений', fontsize = 14)\n",
    "plt.title('Распределение содержания ЗОЛОТА (AU) в сырье в зависимости от этапа технологического процесса', fontsize = 16)\n",
    "plt.show()"
   ]
  },
  {
   "cell_type": "code",
   "execution_count": 96,
   "metadata": {},
   "outputs": [
    {
     "name": "stdout",
     "output_type": "stream",
     "text": [
      "Среднее арифметическое содержания СЕРЕБРА в зависимости от технологического этапа\n",
      "final.output.concentrate_ag               5.168387\n",
      "primary_cleaner.output.concentrate_ag     8.442408\n",
      "rougher.output.concentrate_ag            11.994759\n",
      "rougher.input.feed_ag                     8.794927\n",
      "dtype: float64\n",
      "\n",
      "Стандартное отклонение содержания СЕРЕБРА в зависимости от технологического этапа\n",
      "final.output.concentrate_ag              1.372327\n",
      "primary_cleaner.output.concentrate_ag    2.054412\n",
      "rougher.output.concentrate_ag            2.733792\n",
      "rougher.input.feed_ag                    1.936798\n",
      "dtype: float64\n"
     ]
    }
   ],
   "source": [
    "#расчеты для серебра\n",
    "\n",
    "print(\"Среднее арифметическое содержания СЕРЕБРА в зависимости от технологического этапа\")\n",
    "print((full[['final.output.concentrate_ag','primary_cleaner.output.concentrate_ag','rougher.output.concentrate_ag',\n",
    "             'rougher.input.feed_ag']].mean()))\n",
    "print()\n",
    "print(\"Стандартное отклонение содержания СЕРЕБРА в зависимости от технологического этапа\")\n",
    "print(np.std(full[['final.output.concentrate_ag','primary_cleaner.output.concentrate_ag','rougher.output.concentrate_ag',\n",
    "                   'rougher.input.feed_ag']]))"
   ]
  },
  {
   "cell_type": "code",
   "execution_count": 97,
   "metadata": {},
   "outputs": [
    {
     "data": {
      "image/png": "[encoded data removed]",
      "text/plain": [
       "<Figure size 864x576 with 1 Axes>"
      ]
     },
     "metadata": {
      "needs_background": "light"
     },
     "output_type": "display_data"
    }
   ],
   "source": [
    "#визуализация для серебра\n",
    "\n",
    "full['final.output.concentrate_ag'].plot(kind='hist', bins=200, alpha=0.5, color='r', figsize=(12, 8))\n",
    "full['primary_cleaner.output.concentrate_ag'].plot(kind='hist', color='y', bins=200, alpha=0.5)\n",
    "full['rougher.output.concentrate_ag'].plot(kind='hist', color='g', bins=200, alpha=0.5)\n",
    "full['rougher.input.feed_ag'].plot(kind='hist', color='c', bins=200, alpha=0.5)\n",
    "plt.legend(['Финальный концентрат','Содержание металла после первого этапа очистки', \n",
    "            'Содержание металла после флотации', 'Содержание металла в сырье на входе'])\n",
    "plt.xlabel('Содержание металла', fontsize = 14)\n",
    "plt.ylabel('Количество наблюдений', fontsize = 14)\n",
    "plt.title('Распределение содержания СЕРЕБРА (AG) в сырье в зависимости от этапа технологического процесса', fontsize = 16)\n",
    "plt.show()"
   ]
  },
  {
   "cell_type": "code",
   "execution_count": 98,
   "metadata": {},
   "outputs": [
    {
     "name": "stdout",
     "output_type": "stream",
     "text": [
      "Среднее арифметическое содержания СВИНЦА в зависимости от технологического этапа\n",
      "final.output.concentrate_pb              9.978821\n",
      "primary_cleaner.output.concentrate_pb    9.810317\n",
      "rougher.output.concentrate_pb            7.606272\n",
      "rougher.input.feed_pb                    3.585096\n",
      "dtype: float64\n",
      "\n",
      "Стандартное отклонение содержания СВИНЦА в зависимости от технологического этапа\n",
      "final.output.concentrate_pb              1.669185\n",
      "primary_cleaner.output.concentrate_pb    2.572187\n",
      "rougher.output.concentrate_pb            1.796710\n",
      "rougher.input.feed_pb                    1.062945\n",
      "dtype: float64\n"
     ]
    }
   ],
   "source": [
    "#расчеты для свинца\n",
    "\n",
    "print(\"Среднее арифметическое содержания СВИНЦА в зависимости от технологического этапа\")\n",
    "print((full[['final.output.concentrate_pb','primary_cleaner.output.concentrate_pb',\n",
    "             'rougher.output.concentrate_pb','rougher.input.feed_pb']].mean()))\n",
    "print()\n",
    "print(\"Стандартное отклонение содержания СВИНЦА в зависимости от технологического этапа\")\n",
    "print(np.std(full[['final.output.concentrate_pb','primary_cleaner.output.concentrate_pb',\n",
    "                   'rougher.output.concentrate_pb','rougher.input.feed_pb']]))"
   ]
  },
  {
   "cell_type": "code",
   "execution_count": 99,
   "metadata": {},
   "outputs": [
    {
     "data": {
      "image/png": "[encoded data removed]",
      "text/plain": [
       "<Figure size 864x576 with 1 Axes>"
      ]
     },
     "metadata": {
      "needs_background": "light"
     },
     "output_type": "display_data"
    }
   ],
   "source": [
    "#визуализация для свинца\n",
    "\n",
    "full['final.output.concentrate_pb'].plot(kind='hist', bins=200, alpha=0.5, color='r', figsize=(12, 8))\n",
    "full['primary_cleaner.output.concentrate_pb'].plot(kind='hist', color='y', bins=200, alpha=0.5)\n",
    "full['rougher.output.concentrate_pb'].plot(kind='hist', color='g', bins=200, alpha=0.5)\n",
    "full['rougher.input.feed_pb'].plot(kind='hist', color='c', bins=200, alpha=0.5)\n",
    "plt.legend(['Финальный концентрат','Содержание металла после первого этапа очистки', \n",
    "            'Содержание металла после флотации', 'Содержание металла в сырье на входе'])\n",
    "plt.xlabel('Содержание металла', fontsize = 14)\n",
    "plt.ylabel('Количество наблюдений', fontsize = 14)\n",
    "plt.title('Распределение содержания СВИНЦА (PB) в сырье в зависимости от этапа технологического процесса', fontsize = 16)\n",
    "plt.show()"
   ]
  },
  {
   "cell_type": "code",
   "execution_count": 100,
   "metadata": {},
   "outputs": [
    {
     "name": "stdout",
     "output_type": "stream",
     "text": [
      "Среднее арифметическое размера гранул обучающей и тестовой выборки на этапе сырья на входе\n",
      "60.23985599255736 55.95275402889511\n",
      "\n",
      "Стандартное отклонение размера гранул обучающей и тестовой выборки на этапе сырья на входе\n",
      "23.00449662459302 19.07853057739454\n"
     ]
    }
   ],
   "source": [
    "#cравним распределение размеров гранул сырья на обучающей и тестовой выборках\n",
    "#этап сырья на входе\n",
    "\n",
    "print(\"Среднее арифметическое размера гранул обучающей и тестовой выборки на этапе сырья на входе\")\n",
    "print(train['rougher.input.feed_size'].mean(),test['rougher.input.feed_size'].mean())\n",
    "print()\n",
    "print(\"Стандартное отклонение размера гранул обучающей и тестовой выборки на этапе сырья на входе\")\n",
    "print(np.std(train['rougher.input.feed_size']),np.std(test['rougher.input.feed_size']))"
   ]
  },
  {
   "cell_type": "code",
   "execution_count": 101,
   "metadata": {},
   "outputs": [
    {
     "data": {
      "image/png": "[encoded data removed]",
      "text/plain": [
       "<Figure size 864x576 with 1 Axes>"
      ]
     },
     "metadata": {
      "needs_background": "light"
     },
     "output_type": "display_data"
    }
   ],
   "source": [
    "#визуализируем распределение размеров гранул сырья на обучающей и тестовой выборках в зависимости от технологической стадии\n",
    "#этап сырья на входе\n",
    "\n",
    "train['rougher.input.feed_size'].plot(kind='hist', bins=200, alpha=0.5, color='r', figsize=(12, 8))\n",
    "test['rougher.input.feed_size'].plot(kind='hist', color='g', bins=200, alpha=0.5)\n",
    "plt.legend(['Обучающая выборка','Тестовая выборка'])\n",
    "plt.xlabel('Размеры гранул', fontsize = 14)\n",
    "plt.ylabel('Количество наблюдений', fontsize = 14)\n",
    "plt.title('Распределение размеров гранул сырья на обучающей и тестовой выборках на этапе сырья на входе', fontsize = 16)\n",
    "plt.show()"
   ]
  },
  {
   "cell_type": "code",
   "execution_count": 102,
   "metadata": {},
   "outputs": [
    {
     "name": "stdout",
     "output_type": "stream",
     "text": [
      "Среднее арифметическое размера гранул обучающей и тестовой выборки на этапе первой очистки\n",
      "7.322309906901314 7.266339191270906\n",
      "\n",
      "Стандартное отклонение размера гранул обучающей и тестовой выборки на этапе первой очистки\n",
      "0.6140405639148665 0.6101610916571282\n"
     ]
    }
   ],
   "source": [
    "#этап первой очистки\n",
    "\n",
    "print(\"Среднее арифметическое размера гранул обучающей и тестовой выборки на этапе первой очистки\")\n",
    "print(train['primary_cleaner.input.feed_size'].mean(),test['primary_cleaner.input.feed_size'].mean())\n",
    "print()\n",
    "print(\"Стандартное отклонение размера гранул обучающей и тестовой выборки на этапе первой очистки\")\n",
    "print(np.std(train['primary_cleaner.input.feed_size']),np.std(test['primary_cleaner.input.feed_size']))"
   ]
  },
  {
   "cell_type": "code",
   "execution_count": 103,
   "metadata": {},
   "outputs": [
    {
     "data": {
      "image/png": "[encoded data removed]",
      "text/plain": [
       "<Figure size 864x576 with 1 Axes>"
      ]
     },
     "metadata": {
      "needs_background": "light"
     },
     "output_type": "display_data"
    }
   ],
   "source": [
    "#этап первой очистки\n",
    "\n",
    "train['primary_cleaner.input.feed_size'].plot(kind='hist', bins=200, alpha=0.5, color='r', figsize=(12, 8))\n",
    "test['primary_cleaner.input.feed_size'].plot(kind='hist', color='g', bins=200, alpha=0.5)\n",
    "plt.legend(['Обучающая выборка','Тестовая выборка'])\n",
    "plt.xlabel('Размеры гранул', fontsize = 14)\n",
    "plt.ylabel('Количество наблюдений', fontsize = 14)\n",
    "plt.title('Распределение размеров гранул сырья на обучающей и тестовой выборках на этапе первой очистки', fontsize = 16)\n",
    "plt.show()"
   ]
  },
  {
   "cell_type": "code",
   "execution_count": 104,
   "metadata": {},
   "outputs": [
    {
     "name": "stdout",
     "output_type": "stream",
     "text": [
      "Среднее арифметическое содержания МЕТАЛЛОВ в зависимости от технологического этапа\n",
      "total_final              68.653624\n",
      "total_primary_cleaner    60.764731\n",
      "total_rougher            68.170865\n",
      "total_feed               57.320789\n",
      "dtype: float64\n",
      "\n",
      "Стандартное отклонение содержания МЕТАЛЛОВ в зависимости от технологического этапа\n",
      "total_final               7.427345\n",
      "total_primary_cleaner    10.017014\n",
      "total_rougher            12.490957\n",
      "total_feed                7.212494\n",
      "dtype: float64\n"
     ]
    }
   ],
   "source": [
    "#исследуем суммарную концентрацию всех веществ на разных стадиях: в сырье, в черновом и финальном концентратах\n",
    "#создадим 4 признака с суммарной концентрацией всех металлов на рассматриваемых стадиях технологического процесса\n",
    "\n",
    "full['total_final'] = full[['final.output.concentrate_au','final.output.concentrate_ag','final.output.concentrate_pb','final.output.concentrate_sol']].sum(axis = 1)\n",
    "full['total_primary_cleaner'] = full[['primary_cleaner.output.concentrate_au','primary_cleaner.output.concentrate_ag','primary_cleaner.output.concentrate_pb','primary_cleaner.output.concentrate_sol']].sum(axis = 1)\n",
    "full['total_rougher'] = full[['rougher.output.concentrate_au','rougher.output.concentrate_ag','rougher.output.concentrate_pb','rougher.output.concentrate_sol']].sum(axis = 1)\n",
    "full['total_feed'] = full[['rougher.input.feed_au','rougher.input.feed_ag','rougher.input.feed_pb','rougher.input.feed_sol']].sum(axis = 1)\n",
    "\n",
    "#расчеты среднего арифметического и стандартного отклонения\n",
    "\n",
    "print(\"Среднее арифметическое содержания МЕТАЛЛОВ в зависимости от технологического этапа\")\n",
    "print((full[['total_final','total_primary_cleaner',\n",
    "             'total_rougher','total_feed']].mean()))\n",
    "print()\n",
    "print(\"Стандартное отклонение содержания МЕТАЛЛОВ в зависимости от технологического этапа\")\n",
    "print(np.std(full[['total_final','total_primary_cleaner',\n",
    "             'total_rougher','total_feed']]))"
   ]
  },
  {
   "cell_type": "code",
   "execution_count": 105,
   "metadata": {},
   "outputs": [
    {
     "data": {
      "image/png": "[encoded data removed]",
      "text/plain": [
       "<Figure size 864x576 with 1 Axes>"
      ]
     },
     "metadata": {
      "needs_background": "light"
     },
     "output_type": "display_data"
    }
   ],
   "source": [
    "#визуализируем распределение содержания металлов в сырье в зависимости от этапа технологического процесса\n",
    "\n",
    "full['total_final'].plot(kind='hist', bins=200, alpha=0.5, color='r', figsize=(12, 8))\n",
    "full['total_primary_cleaner'].plot(kind='hist', color='y', bins=200, alpha=0.5)\n",
    "full['total_rougher'].plot(kind='hist', color='g', bins=200, alpha=0.5)\n",
    "full['total_feed'].plot(kind='hist', color='c', bins=200, alpha=0.5)\n",
    "plt.legend(['Финальный концентрат','Содержание металла после первого этапа очистки', \n",
    "            'Содержание металла после флотации', 'Содержание металла в сырье на входе'])\n",
    "plt.xlabel('Содержание металла', fontsize = 14)\n",
    "plt.ylabel('Количество наблюдений', fontsize = 14)\n",
    "plt.title('Распределение содержания МЕТАЛЛОВ в сырье в зависимости от этапа технологического процесса', fontsize = 16)\n",
    "plt.show()"
   ]
  },
  {
   "cell_type": "code",
   "execution_count": 106,
   "metadata": {},
   "outputs": [],
   "source": [
    "#удалим аномалии в выборках full и train\n",
    "\n",
    "def dell(sample):\n",
    "    sample = sample[(sample['rougher.input.feed_au'] != 0) & (sample['primary_cleaner.output.concentrate_sol'] != 0) & (\n",
    "    sample['primary_cleaner.output.concentrate_pb'] != 0) & (sample['primary_cleaner.output.concentrate_ag'] != 0) & (\n",
    "    sample['primary_cleaner.output.concentrate_au'] != 0) & (sample['rougher.input.feed_ag'] != 0) & (\n",
    "    sample['rougher.input.feed_pb'] != 0) & (sample['rougher.input.feed_sol'] != 0) & (\n",
    "    sample['rougher.output.concentrate_au'] != 0) & (sample['rougher.output.concentrate_ag'] != 0) & (\n",
    "    sample['rougher.output.concentrate_pb'] != 0) & (sample['rougher.output.concentrate_sol'] != 0) & (\n",
    "    sample['final.output.concentrate_au'] != 0) & (sample['final.output.concentrate_ag'] != 0) & (\n",
    "    sample['final.output.concentrate_pb'] != 0) & (sample['final.output.concentrate_sol'] != 0)]\n",
    "dell(full)\n",
    "dell(train)"
   ]
  },
  {
   "cell_type": "markdown",
   "metadata": {},
   "source": [
    "<div class=\"alert alert-info\">\n",
    "<h2>Выводы. Анализ данных.<a class=\"tocSkip\"> </h2>\n",
    "\n",
    "1. Концентрация металлов золота и свинца увеличивается по мере изменения технологической стадии с темпом в 1.5-2 раза. У серебра отсутствует явная динамика. Стандартное отклонение с новыми этапами либо не меняется, либо увеличивается, в основном из-за удлиненния левого хвоста.\n",
    " \n",
    "2. Распределение размеров гранул сырья на обучающей и тестовой выборках на этапе сырья на входе отличается на 6,7%, на этапе сырья на входе отличие средних составляет менее 1%. Вывод: изменения не укажут значимого влияние на обучение моделей. \n",
    "    \n",
    "3. Суммарная концентрация всех веществ на разных стадиях увеличивается. На финальной стадии резко уменьшается стандартное отклонение (если не брать в учет длинный хвост слева). \n",
    "</div>"
   ]
  },
  {
   "cell_type": "markdown",
   "metadata": {},
   "source": [
    "## Модель"
   ]
  },
  {
   "cell_type": "markdown",
   "metadata": {},
   "source": [
    "<div class=\"alert alert-info\">\n",
    "<h2> План<a class=\"tocSkip\"> </h2>\n",
    "\n",
    "1. Удалим колонки, которые нам не нужны для обучения моделей\n",
    " \n",
    "2. Сформируем новые обучающие и тестовые выборки\n",
    "\n",
    "3. Рассчитаем формулу smape\n",
    "    \n",
    "3. Обучим модель на тренировочной выборке для каждого из технологических этапов алгоритмами линейная регрессия, дерево решений и случайный лес\n",
    " \n",
    "4. Сделаем выводы по результатам моделирования     \n",
    "</div>"
   ]
  },
  {
   "cell_type": "code",
   "execution_count": 107,
   "metadata": {},
   "outputs": [],
   "source": [
    "#поменяем тип признаков на тип \"float32\"\n",
    "\n",
    "train.loc[:, train.columns !='date'] = train.loc[:, train.columns !='date'].astype('float32')\n",
    "test.loc[:, test.columns !='date'] = test.loc[:, test.columns !='date'].astype('float32')\n",
    "full.loc[:, full.columns !='date'] = full.loc[:, full.columns !='date'].astype('float32')"
   ]
  },
  {
   "cell_type": "code",
   "execution_count": 108,
   "metadata": {},
   "outputs": [],
   "source": [
    "#из датасета full добавим в выборку test отсутствующие целевые колонки 'rougher.output.recovery','final.output.recovery'\n",
    "\n",
    "test = test.merge(full.loc[:, ['date','rougher.output.recovery','final.output.recovery']], on='date')\n",
    "train = train.drop(columns=test_missed_items, axis=1)\n",
    "train = train.merge(full.loc[:, ['date','rougher.output.recovery','final.output.recovery']], on='date')"
   ]
  },
  {
   "cell_type": "code",
   "execution_count": 109,
   "metadata": {},
   "outputs": [],
   "source": [
    "#удалим колонки, которые нам не нужны для обучения моделей\n",
    "\n",
    "full = full.drop('date', axis=1)\n",
    "train = train.drop('date', axis=1)\n",
    "test = test.drop('date', axis=1)\n",
    "full = full.drop('total_final', axis=1)\n",
    "full = full.drop('total_primary_cleaner', axis=1)\n",
    "full = full.drop('total_rougher', axis=1)\n",
    "full = full.drop('total_feed', axis=1)"
   ]
  },
  {
   "cell_type": "code",
   "execution_count": 110,
   "metadata": {},
   "outputs": [],
   "source": [
    "#разобьем данные на целевые и параметры для этапов rougher и final \n",
    "\n",
    "#обучающая выборка\n",
    "\n",
    "features_rougher_train = train.drop('rougher.output.recovery', axis=1)\n",
    "target_rougher_train = train['rougher.output.recovery']\n",
    "features_final_train = train.drop('final.output.recovery', axis=1)\n",
    "target_final_train = train['final.output.recovery']\n",
    "\n",
    "#тестовая выборка\n",
    "\n",
    "features_rougher_test = test.drop('rougher.output.recovery', axis=1)\n",
    "target_rougher_test = test['rougher.output.recovery']\n",
    "features_final_test = test.drop('final.output.recovery', axis=1)\n",
    "target_final_test = test['final.output.recovery']"
   ]
  },
  {
   "cell_type": "code",
   "execution_count": 111,
   "metadata": {},
   "outputs": [],
   "source": [
    "#создадим функцию для расчета smape\n",
    "\n",
    "def smape(target, predict):\n",
    "    smape = (1/len(target))*np.sum((np.abs(target - predict))/((np.abs(target)+np.abs(predict))/2))*100*(-1)\n",
    "    return smape\n",
    "\n",
    "#рассчитываем параметр scoring для cross_val_score\n",
    "\n",
    "smape_formula = make_scorer(smape, greater_is_better = False)"
   ]
  },
  {
   "cell_type": "code",
   "execution_count": 112,
   "metadata": {},
   "outputs": [
    {
     "name": "stdout",
     "output_type": "stream",
     "text": [
      "Итоговая sMape для линейной регрессии: 11.984776618670805\n"
     ]
    }
   ],
   "source": [
    "#обучим модель на тренировочной выборке для каждого из технологических этапов алгоритмом линейной регрессии\n",
    "#флотация\n",
    "\n",
    "model_lr = LinearRegression()\n",
    "smape_rougher_train = cross_val_score(model_lr, features_rougher_train,target_rougher_train, scoring=smape_formula, cv=5)\n",
    "smape_rougher_train_mean = smape_rougher_train.mean()\n",
    "\n",
    "#финальный концетрат\n",
    "\n",
    "smape_final_train = cross_val_score(model_lr, features_final_train,target_final_train, scoring=smape_formula, cv=5)\n",
    "smape_final_train_mean = smape_final_train.mean()\n",
    "\n",
    "#рассчитаем итоговый smape\n",
    "\n",
    "result_smape = 0.25*smape_rougher_train_mean+0.75*smape_final_train_mean\n",
    "print(\"Итоговая sMape для линейной регрессии:\", result_smape)"
   ]
  },
  {
   "cell_type": "code",
   "execution_count": 115,
   "metadata": {},
   "outputs": [
    {
     "name": "stdout",
     "output_type": "stream",
     "text": [
      "Итоговая sMape для дерева решений: 9.874513729028056 лучший параметр 14\n"
     ]
    }
   ],
   "source": [
    "#обучим модель (C ЦИКЛОМ) на тренировочной выборке для каждого из технологических этапов алгоритмом дерево решений\n",
    "#флотация\n",
    "\n",
    "best = 1000\n",
    "param = 0\n",
    "for n in range(1, 15, 1):\n",
    "    model_dt = DecisionTreeRegressor(max_depth=n, random_state=STATE)\n",
    "    smape_rougher = cross_val_score(model_dt, features_rougher_train,target_rougher_train, scoring=smape_formula,cv=5)\n",
    "    smape_rougher_train_mean = smape_rougher.mean()\n",
    "\n",
    "#финальный концетрат\n",
    "\n",
    "    smape_final_train = cross_val_score(model_dt, features_final_train,target_final_train,scoring=smape_formula,cv=5)\n",
    "    smape_final_train_mean = smape_final_train.mean()\n",
    "    result_smape = 0.25*smape_rougher_train_mean+0.75*smape_final_train_mean\n",
    "    \n",
    "    if result_smape < best:\n",
    "        best = result_smape\n",
    "        param = n\n",
    "print(\"Итоговая sMape для дерева решений:\", best, \"лучший параметр\", n)"
   ]
  },
  {
   "cell_type": "code",
   "execution_count": 117,
   "metadata": {},
   "outputs": [
    {
     "name": "stdout",
     "output_type": "stream",
     "text": [
      "Итоговая sMape для дерева решений: 10.962488781364675 лучший параметр max_depth 10 лучший параметр n_estimators 10\n"
     ]
    }
   ],
   "source": [
    "#обучим модель (C ЦИКЛОМ) на тренировочной выборке для каждого из технологических этапов алгоритмом случайный лес\n",
    "#флотация\n",
    "\n",
    "best = 1000\n",
    "param_n = 0\n",
    "param_m = 0\n",
    "\n",
    "for n in range(8, 11, 1):\n",
    "    for m in range(8, 11, 1):\n",
    "        model_rf = RandomForestRegressor(n_estimators=n, max_depth=m, random_state=STATE)\n",
    "        smape_rougher = cross_val_score(model_rf, features_rougher_train,target_rougher_train, scoring=smape_formula,cv=5)\n",
    "        smape_rougher_train_mean = smape_rougher.mean()\n",
    "\n",
    "#финальный концетрат\n",
    "\n",
    "        smape_final_train = cross_val_score(model_rf, features_final_train,target_final_train,scoring=smape_formula,cv=5)\n",
    "        smape_final_train_mean = smape_final_train.mean()\n",
    "        result_smape = 0.25*smape_rougher_train_mean+0.75*smape_final_train_mean\n",
    "\n",
    "        if result_smape < best:\n",
    "            best = result_smape\n",
    "            param_n = n\n",
    "            param_m = m\n",
    "print(\"Итоговая sMape для дерева решений:\", best, \"лучший параметр max_depth\", n, \"лучший параметр n_estimators\",m)"
   ]
  },
  {
   "cell_type": "code",
   "execution_count": 118,
   "metadata": {},
   "outputs": [
    {
     "name": "stdout",
     "output_type": "stream",
     "text": [
      "Best parsms: {'max_depth': 9, 'n_estimators': 10}, Best sMAPE: 10.969181044685048\n"
     ]
    }
   ],
   "source": [
    "#обучим модель (C GridSearchCV) на тренировочной выборке для каждого из технологических этапов алгоритмом случайный лес\n",
    "\n",
    "features_train = train.drop(columns=['rougher.output.recovery', 'final.output.recovery'], axis=1)\n",
    "target_train = train[['rougher.output.recovery', 'final.output.recovery']]\n",
    "\n",
    "def get_smape(target, predict):\n",
    "    smape = (1/len(target))*np.sum((np.abs(target - predict))/( (np.abs(target)+np.abs(predict))/2))*100\n",
    "    return smape\n",
    "\n",
    "def get_final_smape(y_true, y_pred):\n",
    "    y_pred = np.transpose(y_pred)\n",
    "    rougher = get_smape(y_true['rougher.output.recovery'], y_pred[0])\n",
    "    final = get_smape(y_true['final.output.recovery'], y_pred[1])\n",
    "    return 0.25 * rougher + 0.75 * final\n",
    "\n",
    "custom_score = make_scorer(get_final_smape, greater_is_better=False)\n",
    "\n",
    "model_dt = RandomForestRegressor(random_state=STATE)\n",
    "parametrs = { 'n_estimators': range (8, 11, 1),\n",
    "              'max_depth': range (8,11, 1)}\n",
    "\n",
    "grid_model = GridSearchCV(model_dt, parametrs, cv=5, scoring=custom_score, n_jobs=-1)\n",
    "grid_model.fit(features_train, target_train)\n",
    "print(f'Best parsms: {grid_model.best_params_}, Best sMAPE: {abs(grid_model.best_score_)}')"
   ]
  },
  {
   "cell_type": "code",
   "execution_count": 120,
   "metadata": {},
   "outputs": [
    {
     "name": "stdout",
     "output_type": "stream",
     "text": [
      "Итоговая sMape для случайного леса: 9.094126097520856\n"
     ]
    }
   ],
   "source": [
    "#проверим качество модели на тестовой выборке\n",
    "\n",
    "model_test_rougher = RandomForestRegressor(n_estimators=10, max_depth=10, random_state=STATE)\n",
    "model_test_rougher.fit(features_rougher_train,target_rougher_train)\n",
    "predicted_rougher = model_test_rougher.predict(features_rougher_test)\n",
    "\n",
    "model_test_final = RandomForestRegressor(n_estimators=10, max_depth=10, random_state=STATE)\n",
    "model_test_final.fit(features_final_train,target_final_train)\n",
    "predicted_final = model_test_final.predict(features_final_test)\n",
    "\n",
    "smape_rougher = smape(target_rougher_test, predicted_rougher)\n",
    "smape_final = smape(target_final_test, predicted_final)\n",
    "\n",
    "result_smape = (0.25*smape_rougher+0.75*smape_final)*(-1)\n",
    "print(\"Итоговая sMape для случайного леса:\", result_smape)"
   ]
  },
  {
   "cell_type": "code",
   "execution_count": 121,
   "metadata": {},
   "outputs": [
    {
     "name": "stdout",
     "output_type": "stream",
     "text": [
      "Итоговая sMape для случайного леса: 11.574852245146564\n"
     ]
    }
   ],
   "source": [
    "#проверим результат лучшей модели на константной модели\n",
    "\n",
    "dummy_rougher = DummyRegressor(strategy=\"mean\")\n",
    "dummy_final = DummyRegressor(strategy=\"mean\")\n",
    "\n",
    "#флотация\n",
    "\n",
    "dummy_rougher.fit(features_rougher_train,target_rougher_train)\n",
    "dummy_predict_rougher = dummy_rougher.predict(features_rougher_test)\n",
    "smape_rougher = cross_val_score(dummy_rougher, features_rougher_train,target_rougher_train, scoring=smape_formula, cv=5)\n",
    "smape_rougher_test_mean = smape_rougher.mean()\n",
    "\n",
    "#финальный концетрат\n",
    "\n",
    "dummy_final.fit(features_final_train,target_final_train)\n",
    "dummy_predict_final = dummy_final.predict(features_final_test)\n",
    "smape_final = cross_val_score(dummy_final, features_final_train,target_final_train, scoring=smape_formula, cv=5)\n",
    "smape_final_test_mean = smape_final.mean()\n",
    "\n",
    "#рассчитаем итоговый smape\n",
    "\n",
    "result_smape = 0.25*smape_rougher_test_mean+0.75*smape_final_test_mean\n",
    "print(\"Итоговая sMape для случайного леса:\", result_smape)"
   ]
  },
  {
   "cell_type": "markdown",
   "metadata": {},
   "source": [
    "<div class=\"alert alert-info\">\n",
    "<h2>Выводы. Модель.<a class=\"tocSkip\"> </h2>\n",
    "\n",
    "Нам необходимо было подготовить прототип модели машинного обучения, которая должна предсказать коэффициент восстановления золота из золотосодержащей руды. Для обучения модели использовали три алгоритма: линейная регрессия, дерево решений и случайный лес. Лучший результат показал алгоритм случайный лес, у которой самый низкий показатель smape (10.96) при глубине и количестве деревьев равным 10. Проверка модели на тестовой выборке показала результат немного лучше (9.09). Результат получился лучше по сравнению с константной моделью (11.57). Предлагаем использовать данную модель в качестве прототипа ML.\n",
    "</div>"
   ]
  },
  {
   "cell_type": "markdown",
   "metadata": {},
   "source": [
    "## Чек-лист готовности проекта"
   ]
  },
  {
   "cell_type": "markdown",
   "metadata": {},
   "source": [
    "- [x]  Jupyter Notebook открыт\n",
    "- [x]  Весь код выполняется без ошибок\n",
    "- [x]  Ячейки с кодом расположены в порядке выполнения\n",
    "- [x]  Выполнен шаг 1: данные подготовлены\n",
    "    - [x]  Проверена формула вычисления эффективности обогащения\n",
    "    - [x]  Проанализированы признаки, недоступные в тестовой выборке\n",
    "    - [x]  Проведена предобработка данных\n",
    "- [x]  Выполнен шаг 2: данные проанализированы\n",
    "    - [x]  Исследовано изменение концентрации элементов на каждом этапе\n",
    "    - [x]  Проанализированы распределения размеров гранул на обучающей и тестовой выборках\n",
    "    - [x]  Исследованы суммарные концентрации\n",
    "- [x]  Выполнен шаг 3: построена модель прогнозирования\n",
    "    - [x]  Написана функция для вычисления итогового *sMAPE*\n",
    "    - [x]  Обучено и проверено несколько моделей\n",
    "    - [x]  Выбрана лучшая модель, её качество проверено на тестовой выборке"
   ]
  }
 ],
 "metadata": {
  "ExecuteTimeLog": [
   {
    "duration": 46,
    "start_time": "2023-01-30T20:48:56.672Z"
   },
   {
    "duration": 386,
    "start_time": "2023-01-30T20:49:00.113Z"
   },
   {
    "duration": 878,
    "start_time": "2023-01-30T20:49:00.501Z"
   },
   {
    "duration": 0,
    "start_time": "2023-01-30T20:49:01.380Z"
   },
   {
    "duration": 2376,
    "start_time": "2023-01-30T20:49:24.837Z"
   },
   {
    "duration": 73,
    "start_time": "2023-01-30T20:49:29.764Z"
   },
   {
    "duration": 18,
    "start_time": "2023-01-30T20:51:10.080Z"
   },
   {
    "duration": 12,
    "start_time": "2023-01-30T20:53:08.816Z"
   },
   {
    "duration": 15,
    "start_time": "2023-01-30T20:53:27.449Z"
   },
   {
    "duration": 69,
    "start_time": "2023-01-30T20:54:14.664Z"
   },
   {
    "duration": 53,
    "start_time": "2023-01-30T23:48:36.199Z"
   },
   {
    "duration": 435,
    "start_time": "2023-01-30T23:48:39.518Z"
   },
   {
    "duration": 1887,
    "start_time": "2023-01-30T23:48:39.956Z"
   },
   {
    "duration": 85,
    "start_time": "2023-01-30T23:48:41.845Z"
   },
   {
    "duration": 17,
    "start_time": "2023-01-30T23:48:41.939Z"
   },
   {
    "duration": 11,
    "start_time": "2023-01-30T23:48:41.958Z"
   },
   {
    "duration": 15,
    "start_time": "2023-01-30T23:48:41.971Z"
   },
   {
    "duration": 53,
    "start_time": "2023-01-30T23:48:41.987Z"
   },
   {
    "duration": 19,
    "start_time": "2023-01-30T23:48:50.340Z"
   },
   {
    "duration": 25,
    "start_time": "2023-01-30T23:49:03.126Z"
   },
   {
    "duration": 2,
    "start_time": "2023-01-30T23:49:19.241Z"
   },
   {
    "duration": 678,
    "start_time": "2023-01-30T23:49:19.245Z"
   },
   {
    "duration": 84,
    "start_time": "2023-01-30T23:49:19.924Z"
   },
   {
    "duration": 37,
    "start_time": "2023-01-30T23:49:20.009Z"
   },
   {
    "duration": 15,
    "start_time": "2023-01-30T23:49:20.057Z"
   },
   {
    "duration": 15,
    "start_time": "2023-01-30T23:49:20.074Z"
   },
   {
    "duration": 12,
    "start_time": "2023-01-30T23:49:20.091Z"
   },
   {
    "duration": 23,
    "start_time": "2023-01-30T23:52:11.521Z"
   },
   {
    "duration": 126,
    "start_time": "2023-01-30T23:52:26.943Z"
   },
   {
    "duration": 126,
    "start_time": "2023-01-30T23:53:42.430Z"
   },
   {
    "duration": 3,
    "start_time": "2023-01-30T23:53:45.560Z"
   },
   {
    "duration": 742,
    "start_time": "2023-01-30T23:53:45.566Z"
   },
   {
    "duration": 91,
    "start_time": "2023-01-30T23:53:46.310Z"
   },
   {
    "duration": 35,
    "start_time": "2023-01-30T23:53:46.403Z"
   },
   {
    "duration": 27,
    "start_time": "2023-01-30T23:53:46.440Z"
   },
   {
    "duration": 49,
    "start_time": "2023-01-30T23:53:46.468Z"
   },
   {
    "duration": 134,
    "start_time": "2023-01-30T23:53:46.518Z"
   },
   {
    "duration": 120,
    "start_time": "2023-01-30T23:54:34.466Z"
   },
   {
    "duration": 415,
    "start_time": "2023-01-31T03:02:39.829Z"
   },
   {
    "duration": 3096,
    "start_time": "2023-01-31T03:02:40.246Z"
   },
   {
    "duration": 83,
    "start_time": "2023-01-31T03:02:43.344Z"
   },
   {
    "duration": 26,
    "start_time": "2023-01-31T03:02:43.429Z"
   },
   {
    "duration": 15,
    "start_time": "2023-01-31T03:02:43.457Z"
   },
   {
    "duration": 19,
    "start_time": "2023-01-31T03:02:43.474Z"
   },
   {
    "duration": 154,
    "start_time": "2023-01-31T03:02:43.495Z"
   },
   {
    "duration": 162,
    "start_time": "2023-01-31T03:02:43.651Z"
   },
   {
    "duration": 416,
    "start_time": "2023-01-31T08:17:50.255Z"
   },
   {
    "duration": 4805,
    "start_time": "2023-01-31T08:17:50.673Z"
   },
   {
    "duration": 131,
    "start_time": "2023-01-31T08:17:55.481Z"
   },
   {
    "duration": 25,
    "start_time": "2023-01-31T08:17:55.614Z"
   },
   {
    "duration": 36,
    "start_time": "2023-01-31T08:17:55.641Z"
   },
   {
    "duration": 25,
    "start_time": "2023-01-31T08:17:55.680Z"
   },
   {
    "duration": 3,
    "start_time": "2023-01-31T08:17:55.707Z"
   },
   {
    "duration": 16,
    "start_time": "2023-01-31T08:22:08.193Z"
   },
   {
    "duration": 133,
    "start_time": "2023-01-31T08:22:40.812Z"
   },
   {
    "duration": 61,
    "start_time": "2023-01-31T08:22:50.307Z"
   },
   {
    "duration": 53,
    "start_time": "2023-01-31T08:23:05.459Z"
   },
   {
    "duration": 66,
    "start_time": "2023-01-31T08:23:27.901Z"
   },
   {
    "duration": 58,
    "start_time": "2023-01-31T08:59:56.564Z"
   },
   {
    "duration": 478,
    "start_time": "2023-01-31T09:00:25.953Z"
   },
   {
    "duration": 7,
    "start_time": "2023-01-31T09:05:49.406Z"
   },
   {
    "duration": 9,
    "start_time": "2023-01-31T09:06:01.299Z"
   },
   {
    "duration": 5,
    "start_time": "2023-01-31T09:06:12.960Z"
   },
   {
    "duration": 8,
    "start_time": "2023-01-31T09:09:29.171Z"
   },
   {
    "duration": 79,
    "start_time": "2023-01-31T09:09:46.114Z"
   },
   {
    "duration": 7179,
    "start_time": "2023-01-31T09:10:03.135Z"
   },
   {
    "duration": 10889,
    "start_time": "2023-01-31T09:10:27.647Z"
   },
   {
    "duration": 9,
    "start_time": "2023-01-31T09:36:52.373Z"
   },
   {
    "duration": 43936,
    "start_time": "2023-01-31T09:37:07.385Z"
   },
   {
    "duration": 45,
    "start_time": "2023-01-31T09:38:35.133Z"
   },
   {
    "duration": 2,
    "start_time": "2023-01-31T09:39:27.433Z"
   },
   {
    "duration": 729,
    "start_time": "2023-01-31T09:39:27.437Z"
   },
   {
    "duration": 90,
    "start_time": "2023-01-31T09:39:28.168Z"
   },
   {
    "duration": 16,
    "start_time": "2023-01-31T09:39:28.259Z"
   },
   {
    "duration": 20,
    "start_time": "2023-01-31T09:39:28.277Z"
   },
   {
    "duration": 45,
    "start_time": "2023-01-31T09:39:28.299Z"
   },
   {
    "duration": 393,
    "start_time": "2023-01-31T09:39:28.346Z"
   },
   {
    "duration": 6,
    "start_time": "2023-01-31T09:39:28.741Z"
   },
   {
    "duration": 28,
    "start_time": "2023-01-31T09:39:28.750Z"
   },
   {
    "duration": 15,
    "start_time": "2023-01-31T09:39:28.780Z"
   },
   {
    "duration": 48417,
    "start_time": "2023-01-31T09:39:28.797Z"
   },
   {
    "duration": 18,
    "start_time": "2023-01-31T09:40:17.216Z"
   },
   {
    "duration": 48867,
    "start_time": "2023-01-31T09:41:42.509Z"
   },
   {
    "duration": 16,
    "start_time": "2023-01-31T09:42:31.377Z"
   },
   {
    "duration": 5263,
    "start_time": "2023-01-31T09:46:33.413Z"
   },
   {
    "duration": 10204,
    "start_time": "2023-01-31T09:46:47.887Z"
   },
   {
    "duration": 45419,
    "start_time": "2023-01-31T09:48:35.199Z"
   },
   {
    "duration": 53,
    "start_time": "2023-01-31T09:50:20.214Z"
   },
   {
    "duration": 19,
    "start_time": "2023-01-31T09:55:01.910Z"
   },
   {
    "duration": 5,
    "start_time": "2023-01-31T09:58:33.200Z"
   },
   {
    "duration": 5,
    "start_time": "2023-01-31T09:59:30.901Z"
   },
   {
    "duration": 9,
    "start_time": "2023-01-31T10:04:23.627Z"
   },
   {
    "duration": 8,
    "start_time": "2023-01-31T10:04:36.528Z"
   },
   {
    "duration": 10,
    "start_time": "2023-01-31T10:05:47.761Z"
   },
   {
    "duration": 9,
    "start_time": "2023-01-31T10:07:41.261Z"
   },
   {
    "duration": 2,
    "start_time": "2023-01-31T10:08:09.285Z"
   },
   {
    "duration": 9,
    "start_time": "2023-01-31T10:08:39.675Z"
   },
   {
    "duration": 7,
    "start_time": "2023-01-31T10:08:57.666Z"
   },
   {
    "duration": 3,
    "start_time": "2023-01-31T10:09:31.717Z"
   },
   {
    "duration": 735,
    "start_time": "2023-01-31T10:09:31.722Z"
   },
   {
    "duration": 92,
    "start_time": "2023-01-31T10:09:32.460Z"
   },
   {
    "duration": 19,
    "start_time": "2023-01-31T10:09:32.554Z"
   },
   {
    "duration": 14,
    "start_time": "2023-01-31T10:09:32.575Z"
   },
   {
    "duration": 46,
    "start_time": "2023-01-31T10:09:32.592Z"
   },
   {
    "duration": 372,
    "start_time": "2023-01-31T10:09:32.641Z"
   },
   {
    "duration": 17,
    "start_time": "2023-01-31T10:09:33.020Z"
   },
   {
    "duration": 10,
    "start_time": "2023-01-31T10:09:33.038Z"
   },
   {
    "duration": 45879,
    "start_time": "2023-01-31T10:09:33.050Z"
   },
   {
    "duration": 3,
    "start_time": "2023-01-31T10:10:18.931Z"
   },
   {
    "duration": 8,
    "start_time": "2023-01-31T10:10:18.936Z"
   },
   {
    "duration": 10,
    "start_time": "2023-01-31T10:10:18.946Z"
   },
   {
    "duration": 13,
    "start_time": "2023-01-31T10:12:05.091Z"
   },
   {
    "duration": 11,
    "start_time": "2023-01-31T10:13:21.223Z"
   },
   {
    "duration": 12,
    "start_time": "2023-01-31T10:13:50.292Z"
   },
   {
    "duration": 6,
    "start_time": "2023-01-31T10:16:58.064Z"
   },
   {
    "duration": 10,
    "start_time": "2023-01-31T10:17:44.998Z"
   },
   {
    "duration": 4,
    "start_time": "2023-01-31T10:17:58.576Z"
   },
   {
    "duration": 8,
    "start_time": "2023-01-31T10:18:07.235Z"
   },
   {
    "duration": 5,
    "start_time": "2023-01-31T10:18:29.528Z"
   },
   {
    "duration": 12,
    "start_time": "2023-01-31T10:18:51.577Z"
   },
   {
    "duration": 9,
    "start_time": "2023-01-31T10:18:57.907Z"
   },
   {
    "duration": 7,
    "start_time": "2023-01-31T10:19:07.262Z"
   },
   {
    "duration": 6,
    "start_time": "2023-01-31T10:19:25.526Z"
   },
   {
    "duration": 6,
    "start_time": "2023-01-31T10:26:06.788Z"
   },
   {
    "duration": 9,
    "start_time": "2023-01-31T10:33:03.556Z"
   },
   {
    "duration": 7,
    "start_time": "2023-01-31T10:33:37.483Z"
   },
   {
    "duration": 5,
    "start_time": "2023-01-31T10:33:56.864Z"
   },
   {
    "duration": 6,
    "start_time": "2023-01-31T10:34:13.040Z"
   },
   {
    "duration": 4,
    "start_time": "2023-01-31T10:34:41.706Z"
   },
   {
    "duration": 7,
    "start_time": "2023-01-31T10:34:50.270Z"
   },
   {
    "duration": 9,
    "start_time": "2023-01-31T10:35:59.669Z"
   },
   {
    "duration": 5,
    "start_time": "2023-01-31T10:36:07.736Z"
   },
   {
    "duration": 8,
    "start_time": "2023-01-31T10:36:46.735Z"
   },
   {
    "duration": 9,
    "start_time": "2023-01-31T10:36:57.546Z"
   },
   {
    "duration": 6,
    "start_time": "2023-01-31T10:37:06.566Z"
   },
   {
    "duration": 8,
    "start_time": "2023-01-31T10:37:35.500Z"
   },
   {
    "duration": 10,
    "start_time": "2023-01-31T10:38:10.462Z"
   },
   {
    "duration": 13,
    "start_time": "2023-01-31T10:38:19.802Z"
   },
   {
    "duration": 10,
    "start_time": "2023-01-31T10:38:25.697Z"
   },
   {
    "duration": 8,
    "start_time": "2023-01-31T10:38:44.623Z"
   },
   {
    "duration": 1096,
    "start_time": "2023-01-31T23:35:11.084Z"
   },
   {
    "duration": 2983,
    "start_time": "2023-01-31T23:35:12.182Z"
   },
   {
    "duration": 80,
    "start_time": "2023-01-31T23:35:15.167Z"
   },
   {
    "duration": 15,
    "start_time": "2023-01-31T23:35:15.248Z"
   },
   {
    "duration": 28,
    "start_time": "2023-01-31T23:35:15.265Z"
   },
   {
    "duration": 16,
    "start_time": "2023-01-31T23:35:15.295Z"
   },
   {
    "duration": 350,
    "start_time": "2023-01-31T23:35:15.312Z"
   },
   {
    "duration": 12,
    "start_time": "2023-01-31T23:35:15.664Z"
   },
   {
    "duration": 69,
    "start_time": "2023-01-31T23:35:15.678Z"
   },
   {
    "duration": 0,
    "start_time": "2023-01-31T23:35:15.748Z"
   },
   {
    "duration": 0,
    "start_time": "2023-01-31T23:35:15.749Z"
   },
   {
    "duration": 0,
    "start_time": "2023-01-31T23:35:15.750Z"
   },
   {
    "duration": 0,
    "start_time": "2023-01-31T23:35:15.751Z"
   },
   {
    "duration": 0,
    "start_time": "2023-01-31T23:35:15.752Z"
   },
   {
    "duration": 89,
    "start_time": "2023-01-31T23:36:03.556Z"
   },
   {
    "duration": 73,
    "start_time": "2023-01-31T23:36:36.924Z"
   },
   {
    "duration": 74,
    "start_time": "2023-01-31T23:37:36.765Z"
   },
   {
    "duration": 66,
    "start_time": "2023-01-31T23:38:10.116Z"
   },
   {
    "duration": 3,
    "start_time": "2023-01-31T23:41:17.912Z"
   },
   {
    "duration": 680,
    "start_time": "2023-01-31T23:41:17.916Z"
   },
   {
    "duration": 66,
    "start_time": "2023-01-31T23:41:18.598Z"
   },
   {
    "duration": 30,
    "start_time": "2023-01-31T23:41:18.666Z"
   },
   {
    "duration": 10,
    "start_time": "2023-01-31T23:41:18.697Z"
   },
   {
    "duration": 15,
    "start_time": "2023-01-31T23:41:18.708Z"
   },
   {
    "duration": 349,
    "start_time": "2023-01-31T23:41:18.724Z"
   },
   {
    "duration": 18,
    "start_time": "2023-01-31T23:41:19.075Z"
   },
   {
    "duration": 73,
    "start_time": "2023-01-31T23:41:19.094Z"
   },
   {
    "duration": 0,
    "start_time": "2023-01-31T23:41:19.168Z"
   },
   {
    "duration": 0,
    "start_time": "2023-01-31T23:41:19.170Z"
   },
   {
    "duration": 0,
    "start_time": "2023-01-31T23:41:19.171Z"
   },
   {
    "duration": 0,
    "start_time": "2023-01-31T23:41:19.172Z"
   },
   {
    "duration": 0,
    "start_time": "2023-01-31T23:41:19.173Z"
   },
   {
    "duration": 6,
    "start_time": "2023-01-31T23:42:10.949Z"
   },
   {
    "duration": 69,
    "start_time": "2023-01-31T23:42:38.887Z"
   },
   {
    "duration": 68,
    "start_time": "2023-01-31T23:42:55.990Z"
   },
   {
    "duration": 94,
    "start_time": "2023-01-31T23:43:02.575Z"
   },
   {
    "duration": 6,
    "start_time": "2023-01-31T23:43:09.084Z"
   },
   {
    "duration": 6,
    "start_time": "2023-01-31T23:43:59.278Z"
   },
   {
    "duration": 76,
    "start_time": "2023-01-31T23:44:08.578Z"
   },
   {
    "duration": 83,
    "start_time": "2023-01-31T23:44:26.374Z"
   },
   {
    "duration": 66,
    "start_time": "2023-01-31T23:44:49.577Z"
   },
   {
    "duration": 6,
    "start_time": "2023-01-31T23:44:58.784Z"
   },
   {
    "duration": 69,
    "start_time": "2023-01-31T23:45:06.892Z"
   },
   {
    "duration": 67,
    "start_time": "2023-01-31T23:45:20.174Z"
   },
   {
    "duration": 72,
    "start_time": "2023-01-31T23:45:35.802Z"
   },
   {
    "duration": 6,
    "start_time": "2023-01-31T23:45:54.423Z"
   },
   {
    "duration": 6,
    "start_time": "2023-01-31T23:46:02.978Z"
   },
   {
    "duration": 6,
    "start_time": "2023-01-31T23:46:19.420Z"
   },
   {
    "duration": 6,
    "start_time": "2023-01-31T23:46:40.047Z"
   },
   {
    "duration": 8,
    "start_time": "2023-01-31T23:46:55.405Z"
   },
   {
    "duration": 8,
    "start_time": "2023-01-31T23:47:52.149Z"
   },
   {
    "duration": 9,
    "start_time": "2023-01-31T23:48:19.581Z"
   },
   {
    "duration": 70,
    "start_time": "2023-02-01T00:49:02.597Z"
   },
   {
    "duration": 59,
    "start_time": "2023-02-01T01:13:45.518Z"
   },
   {
    "duration": 9,
    "start_time": "2023-02-01T01:28:27.921Z"
   },
   {
    "duration": 14,
    "start_time": "2023-02-01T01:29:13.959Z"
   },
   {
    "duration": 1464,
    "start_time": "2023-02-01T01:29:33.678Z"
   },
   {
    "duration": 568,
    "start_time": "2023-02-01T01:29:53.769Z"
   },
   {
    "duration": 14,
    "start_time": "2023-02-01T01:30:07.155Z"
   },
   {
    "duration": 19,
    "start_time": "2023-02-01T01:30:38.837Z"
   },
   {
    "duration": 21,
    "start_time": "2023-02-01T01:30:54.781Z"
   },
   {
    "duration": 27,
    "start_time": "2023-02-01T01:31:01.528Z"
   },
   {
    "duration": 11,
    "start_time": "2023-02-01T01:33:54.444Z"
   },
   {
    "duration": 7,
    "start_time": "2023-02-01T01:39:33.381Z"
   },
   {
    "duration": 14,
    "start_time": "2023-02-01T01:39:51.656Z"
   },
   {
    "duration": 15,
    "start_time": "2023-02-01T01:40:48.372Z"
   },
   {
    "duration": 14,
    "start_time": "2023-02-01T01:40:58.429Z"
   },
   {
    "duration": 43885,
    "start_time": "2023-02-01T01:42:56.439Z"
   },
   {
    "duration": 6,
    "start_time": "2023-02-01T01:43:40.326Z"
   },
   {
    "duration": 6,
    "start_time": "2023-02-01T01:44:28.998Z"
   },
   {
    "duration": 72,
    "start_time": "2023-02-01T04:33:43.553Z"
   },
   {
    "duration": 3,
    "start_time": "2023-02-01T04:33:50.075Z"
   },
   {
    "duration": 695,
    "start_time": "2023-02-01T04:33:50.080Z"
   },
   {
    "duration": 53,
    "start_time": "2023-02-01T04:33:50.776Z"
   },
   {
    "duration": 77,
    "start_time": "2023-02-01T04:33:50.830Z"
   },
   {
    "duration": 11,
    "start_time": "2023-02-01T04:33:50.909Z"
   },
   {
    "duration": 15,
    "start_time": "2023-02-01T04:33:50.922Z"
   },
   {
    "duration": 328,
    "start_time": "2023-02-01T04:33:50.938Z"
   },
   {
    "duration": 24,
    "start_time": "2023-02-01T04:33:51.267Z"
   },
   {
    "duration": 16,
    "start_time": "2023-02-01T04:33:51.292Z"
   },
   {
    "duration": 14,
    "start_time": "2023-02-01T04:33:51.309Z"
   },
   {
    "duration": 41438,
    "start_time": "2023-02-01T04:33:51.324Z"
   },
   {
    "duration": 6,
    "start_time": "2023-02-01T04:34:32.764Z"
   },
   {
    "duration": 70,
    "start_time": "2023-02-01T04:34:32.772Z"
   },
   {
    "duration": 382,
    "start_time": "2023-02-01T04:34:50.181Z"
   },
   {
    "duration": 1089,
    "start_time": "2023-02-01T04:35:57.393Z"
   },
   {
    "duration": 305,
    "start_time": "2023-02-01T04:36:31.672Z"
   },
   {
    "duration": 324,
    "start_time": "2023-02-01T04:40:28.979Z"
   },
   {
    "duration": 431,
    "start_time": "2023-02-01T04:40:46.838Z"
   },
   {
    "duration": 462,
    "start_time": "2023-02-01T04:41:25.323Z"
   },
   {
    "duration": 540,
    "start_time": "2023-02-01T04:46:07.880Z"
   },
   {
    "duration": 461,
    "start_time": "2023-02-01T04:46:23.924Z"
   },
   {
    "duration": 445,
    "start_time": "2023-02-01T04:47:17.076Z"
   },
   {
    "duration": 957,
    "start_time": "2023-02-01T05:29:30.973Z"
   },
   {
    "duration": 748,
    "start_time": "2023-02-01T05:30:52.688Z"
   },
   {
    "duration": 1386,
    "start_time": "2023-02-01T05:31:44.474Z"
   },
   {
    "duration": 1466,
    "start_time": "2023-02-01T05:35:40.640Z"
   },
   {
    "duration": 1658,
    "start_time": "2023-02-01T05:40:09.169Z"
   },
   {
    "duration": 915,
    "start_time": "2023-02-01T05:41:03.897Z"
   },
   {
    "duration": 1404,
    "start_time": "2023-02-01T05:41:14.082Z"
   },
   {
    "duration": 1489,
    "start_time": "2023-02-01T05:42:49.869Z"
   },
   {
    "duration": 3,
    "start_time": "2023-02-01T05:43:31.739Z"
   },
   {
    "duration": 1566,
    "start_time": "2023-02-01T05:46:30.603Z"
   },
   {
    "duration": 1475,
    "start_time": "2023-02-01T05:46:46.796Z"
   },
   {
    "duration": 1528,
    "start_time": "2023-02-01T05:47:25.058Z"
   },
   {
    "duration": 1510,
    "start_time": "2023-02-01T05:50:31.445Z"
   },
   {
    "duration": 1509,
    "start_time": "2023-02-01T05:50:44.902Z"
   },
   {
    "duration": 1596,
    "start_time": "2023-02-01T05:56:04.143Z"
   },
   {
    "duration": 1553,
    "start_time": "2023-02-01T05:57:47.115Z"
   },
   {
    "duration": 777,
    "start_time": "2023-02-01T06:24:48.255Z"
   },
   {
    "duration": 915,
    "start_time": "2023-02-01T06:27:08.784Z"
   },
   {
    "duration": 879,
    "start_time": "2023-02-01T06:29:08.134Z"
   },
   {
    "duration": 667,
    "start_time": "2023-02-01T06:30:16.019Z"
   },
   {
    "duration": 885,
    "start_time": "2023-02-01T06:30:34.724Z"
   },
   {
    "duration": 774,
    "start_time": "2023-02-01T06:30:38.887Z"
   },
   {
    "duration": 2,
    "start_time": "2023-02-01T06:36:33.239Z"
   },
   {
    "duration": 652,
    "start_time": "2023-02-01T06:36:33.243Z"
   },
   {
    "duration": 53,
    "start_time": "2023-02-01T06:36:33.897Z"
   },
   {
    "duration": 40,
    "start_time": "2023-02-01T06:36:33.952Z"
   },
   {
    "duration": 13,
    "start_time": "2023-02-01T06:36:33.994Z"
   },
   {
    "duration": 16,
    "start_time": "2023-02-01T06:36:34.009Z"
   },
   {
    "duration": 351,
    "start_time": "2023-02-01T06:36:34.027Z"
   },
   {
    "duration": 21,
    "start_time": "2023-02-01T06:36:34.380Z"
   },
   {
    "duration": 22,
    "start_time": "2023-02-01T06:36:34.404Z"
   },
   {
    "duration": 15,
    "start_time": "2023-02-01T06:36:34.428Z"
   },
   {
    "duration": 39813,
    "start_time": "2023-02-01T06:36:34.445Z"
   },
   {
    "duration": 6,
    "start_time": "2023-02-01T06:37:14.259Z"
   },
   {
    "duration": 1537,
    "start_time": "2023-02-01T06:37:14.266Z"
   },
   {
    "duration": 1556,
    "start_time": "2023-02-01T06:37:15.805Z"
   },
   {
    "duration": 1491,
    "start_time": "2023-02-01T06:37:17.363Z"
   },
   {
    "duration": 883,
    "start_time": "2023-02-01T06:37:18.856Z"
   },
   {
    "duration": 755,
    "start_time": "2023-02-01T06:37:19.742Z"
   },
   {
    "duration": 3,
    "start_time": "2023-02-01T06:37:52.277Z"
   },
   {
    "duration": 84,
    "start_time": "2023-02-01T06:38:15.062Z"
   },
   {
    "duration": 1190,
    "start_time": "2023-02-01T06:38:35.690Z"
   },
   {
    "duration": 34,
    "start_time": "2023-02-01T06:41:00.221Z"
   },
   {
    "duration": 9,
    "start_time": "2023-02-01T06:41:56.539Z"
   },
   {
    "duration": 6,
    "start_time": "2023-02-01T06:42:43.366Z"
   },
   {
    "duration": 9,
    "start_time": "2023-02-01T06:44:17.592Z"
   },
   {
    "duration": 16,
    "start_time": "2023-02-01T06:48:21.002Z"
   },
   {
    "duration": 28,
    "start_time": "2023-02-01T06:49:28.209Z"
   },
   {
    "duration": 11,
    "start_time": "2023-02-01T06:52:32.862Z"
   },
   {
    "duration": 28,
    "start_time": "2023-02-01T06:53:41.477Z"
   },
   {
    "duration": 12,
    "start_time": "2023-02-01T06:57:22.454Z"
   },
   {
    "duration": 7,
    "start_time": "2023-02-01T07:00:39.896Z"
   },
   {
    "duration": 54,
    "start_time": "2023-02-01T08:39:26.732Z"
   },
   {
    "duration": 1517,
    "start_time": "2023-02-01T08:39:32.104Z"
   },
   {
    "duration": 4540,
    "start_time": "2023-02-01T08:39:33.624Z"
   },
   {
    "duration": 60,
    "start_time": "2023-02-01T08:39:38.166Z"
   },
   {
    "duration": 40,
    "start_time": "2023-02-01T08:39:38.228Z"
   },
   {
    "duration": 13,
    "start_time": "2023-02-01T08:39:38.270Z"
   },
   {
    "duration": 22,
    "start_time": "2023-02-01T08:39:38.285Z"
   },
   {
    "duration": 366,
    "start_time": "2023-02-01T08:39:38.309Z"
   },
   {
    "duration": 15,
    "start_time": "2023-02-01T08:39:38.677Z"
   },
   {
    "duration": 32,
    "start_time": "2023-02-01T08:39:38.693Z"
   },
   {
    "duration": 14,
    "start_time": "2023-02-01T08:39:38.728Z"
   },
   {
    "duration": 45026,
    "start_time": "2023-02-01T08:39:38.744Z"
   },
   {
    "duration": 5,
    "start_time": "2023-02-01T08:40:23.772Z"
   },
   {
    "duration": 40,
    "start_time": "2023-02-01T08:40:23.779Z"
   },
   {
    "duration": 1570,
    "start_time": "2023-02-01T08:40:23.821Z"
   },
   {
    "duration": 16,
    "start_time": "2023-02-01T08:40:25.392Z"
   },
   {
    "duration": 1524,
    "start_time": "2023-02-01T08:40:25.410Z"
   },
   {
    "duration": 40,
    "start_time": "2023-02-01T08:40:26.936Z"
   },
   {
    "duration": 1537,
    "start_time": "2023-02-01T08:40:26.978Z"
   },
   {
    "duration": 11,
    "start_time": "2023-02-01T08:40:28.517Z"
   },
   {
    "duration": 924,
    "start_time": "2023-02-01T08:40:28.529Z"
   },
   {
    "duration": 14,
    "start_time": "2023-02-01T08:40:29.455Z"
   },
   {
    "duration": 766,
    "start_time": "2023-02-01T08:40:29.471Z"
   },
   {
    "duration": 49,
    "start_time": "2023-02-01T08:40:30.239Z"
   },
   {
    "duration": 2789,
    "start_time": "2023-02-01T08:41:01.484Z"
   },
   {
    "duration": 38,
    "start_time": "2023-02-01T08:41:13.562Z"
   },
   {
    "duration": 1674,
    "start_time": "2023-02-01T08:41:16.031Z"
   },
   {
    "duration": 1783,
    "start_time": "2023-02-01T11:03:13.107Z"
   },
   {
    "duration": 3303,
    "start_time": "2023-02-01T11:03:14.893Z"
   },
   {
    "duration": 63,
    "start_time": "2023-02-01T11:03:18.198Z"
   },
   {
    "duration": 18,
    "start_time": "2023-02-01T11:03:18.263Z"
   },
   {
    "duration": 13,
    "start_time": "2023-02-01T11:03:18.283Z"
   },
   {
    "duration": 45,
    "start_time": "2023-02-01T11:03:18.298Z"
   },
   {
    "duration": 413,
    "start_time": "2023-02-01T11:03:18.345Z"
   },
   {
    "duration": 16,
    "start_time": "2023-02-01T11:03:18.760Z"
   },
   {
    "duration": 38,
    "start_time": "2023-02-01T11:03:18.778Z"
   },
   {
    "duration": 16,
    "start_time": "2023-02-01T11:03:18.820Z"
   },
   {
    "duration": 50050,
    "start_time": "2023-02-01T11:03:18.838Z"
   },
   {
    "duration": 7,
    "start_time": "2023-02-01T11:04:08.891Z"
   },
   {
    "duration": 55,
    "start_time": "2023-02-01T11:04:08.900Z"
   },
   {
    "duration": 1713,
    "start_time": "2023-02-01T11:04:08.957Z"
   },
   {
    "duration": 20,
    "start_time": "2023-02-01T11:04:10.672Z"
   },
   {
    "duration": 1779,
    "start_time": "2023-02-01T11:04:10.694Z"
   },
   {
    "duration": 32,
    "start_time": "2023-02-01T11:04:12.475Z"
   },
   {
    "duration": 1846,
    "start_time": "2023-02-01T11:04:12.521Z"
   },
   {
    "duration": 15,
    "start_time": "2023-02-01T11:04:14.370Z"
   },
   {
    "duration": 1224,
    "start_time": "2023-02-01T11:04:14.387Z"
   },
   {
    "duration": 14,
    "start_time": "2023-02-01T11:04:15.614Z"
   },
   {
    "duration": 917,
    "start_time": "2023-02-01T11:04:15.630Z"
   },
   {
    "duration": 49,
    "start_time": "2023-02-01T11:04:16.548Z"
   },
   {
    "duration": 1766,
    "start_time": "2023-02-01T11:04:16.598Z"
   },
   {
    "duration": 47,
    "start_time": "2023-02-01T11:07:16.679Z"
   },
   {
    "duration": 138,
    "start_time": "2023-02-01T11:41:57.084Z"
   },
   {
    "duration": 63,
    "start_time": "2023-02-01T11:48:05.073Z"
   },
   {
    "duration": 45,
    "start_time": "2023-02-01T11:51:01.544Z"
   },
   {
    "duration": 66,
    "start_time": "2023-02-01T11:54:40.745Z"
   },
   {
    "duration": 21,
    "start_time": "2023-02-01T11:55:11.005Z"
   },
   {
    "duration": 52,
    "start_time": "2023-02-01T14:00:09.979Z"
   },
   {
    "duration": 1743,
    "start_time": "2023-02-01T14:00:24.709Z"
   },
   {
    "duration": 3657,
    "start_time": "2023-02-01T14:00:26.454Z"
   },
   {
    "duration": 67,
    "start_time": "2023-02-01T14:00:30.113Z"
   },
   {
    "duration": 19,
    "start_time": "2023-02-01T14:00:30.182Z"
   },
   {
    "duration": 24,
    "start_time": "2023-02-01T14:00:30.221Z"
   },
   {
    "duration": 36,
    "start_time": "2023-02-01T14:00:30.247Z"
   },
   {
    "duration": 396,
    "start_time": "2023-02-01T14:00:30.285Z"
   },
   {
    "duration": 16,
    "start_time": "2023-02-01T14:00:30.682Z"
   },
   {
    "duration": 62,
    "start_time": "2023-02-01T14:00:30.700Z"
   },
   {
    "duration": 26,
    "start_time": "2023-02-01T14:00:30.764Z"
   },
   {
    "duration": 50157,
    "start_time": "2023-02-01T14:00:30.792Z"
   },
   {
    "duration": 8,
    "start_time": "2023-02-01T14:01:20.954Z"
   },
   {
    "duration": 63,
    "start_time": "2023-02-01T14:01:20.964Z"
   },
   {
    "duration": 1712,
    "start_time": "2023-02-01T14:01:21.029Z"
   },
   {
    "duration": 19,
    "start_time": "2023-02-01T14:01:22.742Z"
   },
   {
    "duration": 1716,
    "start_time": "2023-02-01T14:01:22.762Z"
   },
   {
    "duration": 55,
    "start_time": "2023-02-01T14:01:24.480Z"
   },
   {
    "duration": 1824,
    "start_time": "2023-02-01T14:01:24.538Z"
   },
   {
    "duration": 12,
    "start_time": "2023-02-01T14:01:26.364Z"
   },
   {
    "duration": 1041,
    "start_time": "2023-02-01T14:01:26.379Z"
   },
   {
    "duration": 8,
    "start_time": "2023-02-01T14:01:27.422Z"
   },
   {
    "duration": 919,
    "start_time": "2023-02-01T14:01:27.432Z"
   },
   {
    "duration": 72,
    "start_time": "2023-02-01T14:01:28.354Z"
   },
   {
    "duration": 1748,
    "start_time": "2023-02-01T14:01:28.428Z"
   },
   {
    "duration": 81,
    "start_time": "2023-02-01T14:01:30.178Z"
   },
   {
    "duration": 0,
    "start_time": "2023-02-01T14:01:30.261Z"
   },
   {
    "duration": 0,
    "start_time": "2023-02-01T14:01:30.263Z"
   },
   {
    "duration": 0,
    "start_time": "2023-02-01T14:01:30.264Z"
   },
   {
    "duration": 140,
    "start_time": "2023-02-01T14:01:39.073Z"
   },
   {
    "duration": 63,
    "start_time": "2023-02-01T14:01:40.033Z"
   },
   {
    "duration": 85,
    "start_time": "2023-02-01T14:01:43.497Z"
   },
   {
    "duration": 9,
    "start_time": "2023-02-01T14:02:20.697Z"
   },
   {
    "duration": 19,
    "start_time": "2023-02-01T14:02:26.385Z"
   },
   {
    "duration": 19,
    "start_time": "2023-02-01T14:04:32.733Z"
   },
   {
    "duration": 49,
    "start_time": "2023-02-01T14:19:51.377Z"
   },
   {
    "duration": 4,
    "start_time": "2023-02-01T14:32:07.120Z"
   },
   {
    "duration": 344,
    "start_time": "2023-02-01T14:54:04.781Z"
   },
   {
    "duration": 2025,
    "start_time": "2023-02-01T14:54:17.498Z"
   },
   {
    "duration": 2222,
    "start_time": "2023-02-01T14:54:34.501Z"
   },
   {
    "duration": 1540,
    "start_time": "2023-02-01T14:54:46.188Z"
   },
   {
    "duration": 4095,
    "start_time": "2023-02-01T14:56:27.030Z"
   },
   {
    "duration": 3790,
    "start_time": "2023-02-01T15:00:38.038Z"
   },
   {
    "duration": 4,
    "start_time": "2023-02-01T15:00:52.617Z"
   },
   {
    "duration": 3690,
    "start_time": "2023-02-01T15:00:53.643Z"
   },
   {
    "duration": 4,
    "start_time": "2023-02-01T15:05:21.839Z"
   },
   {
    "duration": 16051,
    "start_time": "2023-02-01T15:05:32.243Z"
   },
   {
    "duration": 974991,
    "start_time": "2023-02-01T15:09:00.304Z"
   },
   {
    "duration": 11,
    "start_time": "2023-02-01T15:53:04.147Z"
   },
   {
    "duration": 4,
    "start_time": "2023-02-01T15:53:28.414Z"
   },
   {
    "duration": 13,
    "start_time": "2023-02-01T15:53:33.761Z"
   },
   {
    "duration": 10,
    "start_time": "2023-02-01T15:53:52.845Z"
   },
   {
    "duration": 45,
    "start_time": "2023-02-01T15:57:56.897Z"
   },
   {
    "duration": 51,
    "start_time": "2023-02-01T15:58:17.209Z"
   },
   {
    "duration": 49,
    "start_time": "2023-02-01T16:00:30.205Z"
   },
   {
    "duration": 4,
    "start_time": "2023-02-01T16:17:51.758Z"
   },
   {
    "duration": 756,
    "start_time": "2023-02-01T16:17:51.765Z"
   },
   {
    "duration": 62,
    "start_time": "2023-02-01T16:17:52.523Z"
   },
   {
    "duration": 44,
    "start_time": "2023-02-01T16:17:52.587Z"
   },
   {
    "duration": 17,
    "start_time": "2023-02-01T16:17:52.634Z"
   },
   {
    "duration": 20,
    "start_time": "2023-02-01T16:17:52.653Z"
   },
   {
    "duration": 390,
    "start_time": "2023-02-01T16:17:52.675Z"
   },
   {
    "duration": 20,
    "start_time": "2023-02-01T16:17:53.066Z"
   },
   {
    "duration": 39,
    "start_time": "2023-02-01T16:17:53.089Z"
   },
   {
    "duration": 29,
    "start_time": "2023-02-01T16:17:53.131Z"
   },
   {
    "duration": 44198,
    "start_time": "2023-02-01T16:17:53.163Z"
   },
   {
    "duration": 5,
    "start_time": "2023-02-01T16:18:37.363Z"
   },
   {
    "duration": 51,
    "start_time": "2023-02-01T16:18:37.370Z"
   },
   {
    "duration": 1313,
    "start_time": "2023-02-01T16:18:37.423Z"
   },
   {
    "duration": 0,
    "start_time": "2023-02-01T16:18:38.738Z"
   },
   {
    "duration": 0,
    "start_time": "2023-02-01T16:18:38.740Z"
   },
   {
    "duration": 0,
    "start_time": "2023-02-01T16:18:38.741Z"
   },
   {
    "duration": 0,
    "start_time": "2023-02-01T16:18:38.743Z"
   },
   {
    "duration": 0,
    "start_time": "2023-02-01T16:18:38.745Z"
   },
   {
    "duration": 0,
    "start_time": "2023-02-01T16:18:38.747Z"
   },
   {
    "duration": 0,
    "start_time": "2023-02-01T16:18:38.748Z"
   },
   {
    "duration": 0,
    "start_time": "2023-02-01T16:18:38.750Z"
   },
   {
    "duration": 0,
    "start_time": "2023-02-01T16:18:38.751Z"
   },
   {
    "duration": 0,
    "start_time": "2023-02-01T16:18:38.753Z"
   },
   {
    "duration": 0,
    "start_time": "2023-02-01T16:18:38.754Z"
   },
   {
    "duration": 0,
    "start_time": "2023-02-01T16:18:38.756Z"
   },
   {
    "duration": 0,
    "start_time": "2023-02-01T16:18:38.758Z"
   },
   {
    "duration": 0,
    "start_time": "2023-02-01T16:18:38.759Z"
   },
   {
    "duration": 0,
    "start_time": "2023-02-01T16:18:38.761Z"
   },
   {
    "duration": 0,
    "start_time": "2023-02-01T16:18:38.762Z"
   },
   {
    "duration": 0,
    "start_time": "2023-02-01T16:18:38.764Z"
   },
   {
    "duration": 0,
    "start_time": "2023-02-01T16:18:38.766Z"
   },
   {
    "duration": 4,
    "start_time": "2023-02-01T16:18:40.456Z"
   },
   {
    "duration": 701,
    "start_time": "2023-02-01T16:18:40.462Z"
   },
   {
    "duration": 68,
    "start_time": "2023-02-01T16:18:41.165Z"
   },
   {
    "duration": 18,
    "start_time": "2023-02-01T16:18:41.235Z"
   },
   {
    "duration": 19,
    "start_time": "2023-02-01T16:18:41.255Z"
   },
   {
    "duration": 22,
    "start_time": "2023-02-01T16:18:41.276Z"
   },
   {
    "duration": 377,
    "start_time": "2023-02-01T16:18:41.301Z"
   },
   {
    "duration": 17,
    "start_time": "2023-02-01T16:18:41.680Z"
   },
   {
    "duration": 38,
    "start_time": "2023-02-01T16:18:41.699Z"
   },
   {
    "duration": 28,
    "start_time": "2023-02-01T16:18:41.738Z"
   },
   {
    "duration": 43543,
    "start_time": "2023-02-01T16:18:41.768Z"
   },
   {
    "duration": 9,
    "start_time": "2023-02-01T16:19:25.312Z"
   },
   {
    "duration": 41,
    "start_time": "2023-02-01T16:19:25.323Z"
   },
   {
    "duration": 1764,
    "start_time": "2023-02-01T16:19:25.368Z"
   },
   {
    "duration": 24,
    "start_time": "2023-02-01T16:19:27.133Z"
   },
   {
    "duration": 1874,
    "start_time": "2023-02-01T16:19:27.159Z"
   },
   {
    "duration": 30,
    "start_time": "2023-02-01T16:19:29.035Z"
   },
   {
    "duration": 1713,
    "start_time": "2023-02-01T16:19:29.067Z"
   },
   {
    "duration": 11,
    "start_time": "2023-02-01T16:19:30.782Z"
   },
   {
    "duration": 867,
    "start_time": "2023-02-01T16:19:30.794Z"
   },
   {
    "duration": 7,
    "start_time": "2023-02-01T16:19:31.663Z"
   },
   {
    "duration": 1078,
    "start_time": "2023-02-01T16:19:31.672Z"
   },
   {
    "duration": 69,
    "start_time": "2023-02-01T16:19:32.752Z"
   },
   {
    "duration": 1666,
    "start_time": "2023-02-01T16:19:32.822Z"
   },
   {
    "duration": 157,
    "start_time": "2023-02-01T16:19:34.490Z"
   },
   {
    "duration": 90,
    "start_time": "2023-02-01T16:19:34.650Z"
   },
   {
    "duration": 24,
    "start_time": "2023-02-01T16:19:34.742Z"
   },
   {
    "duration": 5,
    "start_time": "2023-02-01T16:19:34.771Z"
   },
   {
    "duration": 4351,
    "start_time": "2023-02-01T16:19:34.778Z"
   },
   {
    "duration": 15558,
    "start_time": "2023-02-01T16:19:39.132Z"
   },
   {
    "duration": 964614,
    "start_time": "2023-02-01T16:19:54.692Z"
   },
   {
    "duration": 63,
    "start_time": "2023-02-01T16:35:59.308Z"
   },
   {
    "duration": 1511,
    "start_time": "2023-02-03T00:53:24.652Z"
   },
   {
    "duration": 3039,
    "start_time": "2023-02-03T00:53:26.166Z"
   },
   {
    "duration": 58,
    "start_time": "2023-02-03T00:53:29.206Z"
   },
   {
    "duration": 18,
    "start_time": "2023-02-03T00:53:29.265Z"
   },
   {
    "duration": 12,
    "start_time": "2023-02-03T00:53:29.293Z"
   },
   {
    "duration": 16,
    "start_time": "2023-02-03T00:53:29.306Z"
   },
   {
    "duration": 342,
    "start_time": "2023-02-03T00:53:29.324Z"
   },
   {
    "duration": 24,
    "start_time": "2023-02-03T00:53:29.668Z"
   },
   {
    "duration": 21,
    "start_time": "2023-02-03T00:53:29.693Z"
   },
   {
    "duration": 14,
    "start_time": "2023-02-03T00:53:29.715Z"
   },
   {
    "duration": 43331,
    "start_time": "2023-02-03T00:53:29.730Z"
   },
   {
    "duration": 5,
    "start_time": "2023-02-03T00:54:13.064Z"
   },
   {
    "duration": 49,
    "start_time": "2023-02-03T00:54:13.071Z"
   },
   {
    "duration": 1517,
    "start_time": "2023-02-03T00:54:13.122Z"
   },
   {
    "duration": 16,
    "start_time": "2023-02-03T00:54:14.640Z"
   },
   {
    "duration": 1542,
    "start_time": "2023-02-03T00:54:14.658Z"
   },
   {
    "duration": 25,
    "start_time": "2023-02-03T00:54:16.202Z"
   },
   {
    "duration": 1524,
    "start_time": "2023-02-03T00:54:16.229Z"
   },
   {
    "duration": 11,
    "start_time": "2023-02-03T00:54:17.755Z"
   },
   {
    "duration": 870,
    "start_time": "2023-02-03T00:54:17.768Z"
   },
   {
    "duration": 6,
    "start_time": "2023-02-03T00:54:18.639Z"
   },
   {
    "duration": 786,
    "start_time": "2023-02-03T00:54:18.647Z"
   },
   {
    "duration": 47,
    "start_time": "2023-02-03T00:54:19.434Z"
   },
   {
    "duration": 1455,
    "start_time": "2023-02-03T00:54:19.493Z"
   },
   {
    "duration": 26,
    "start_time": "2023-02-03T00:54:20.950Z"
   },
   {
    "duration": 144,
    "start_time": "2023-02-03T00:54:20.978Z"
   },
   {
    "duration": 158,
    "start_time": "2023-02-03T00:54:21.124Z"
   },
   {
    "duration": 22,
    "start_time": "2023-02-03T00:54:21.284Z"
   },
   {
    "duration": 4,
    "start_time": "2023-02-03T00:54:21.308Z"
   },
   {
    "duration": 3786,
    "start_time": "2023-02-03T00:54:21.313Z"
   },
   {
    "duration": 12096,
    "start_time": "2023-02-03T00:54:25.101Z"
   },
   {
    "duration": 719662,
    "start_time": "2023-02-03T00:54:37.199Z"
   },
   {
    "duration": 49,
    "start_time": "2023-02-03T01:06:36.863Z"
   },
   {
    "duration": 101,
    "start_time": "2023-02-03T01:06:39.681Z"
   },
   {
    "duration": 11,
    "start_time": "2023-02-03T01:06:48.970Z"
   },
   {
    "duration": 80,
    "start_time": "2023-02-03T01:10:08.093Z"
   },
   {
    "duration": 1273,
    "start_time": "2023-02-03T01:10:41.909Z"
   },
   {
    "duration": 29,
    "start_time": "2023-02-03T01:16:48.006Z"
   },
   {
    "duration": 5,
    "start_time": "2023-02-03T01:30:12.340Z"
   },
   {
    "duration": 5,
    "start_time": "2023-02-03T01:30:23.394Z"
   },
   {
    "duration": 10,
    "start_time": "2023-02-03T01:37:43.416Z"
   },
   {
    "duration": 15,
    "start_time": "2023-02-03T01:38:23.719Z"
   },
   {
    "duration": 5,
    "start_time": "2023-02-03T01:38:57.535Z"
   },
   {
    "duration": 9,
    "start_time": "2023-02-03T01:39:04.751Z"
   },
   {
    "duration": 17,
    "start_time": "2023-02-03T01:39:24.091Z"
   },
   {
    "duration": 10,
    "start_time": "2023-02-03T01:41:17.417Z"
   },
   {
    "duration": 3,
    "start_time": "2023-02-03T01:41:33.977Z"
   },
   {
    "duration": 657,
    "start_time": "2023-02-03T01:41:33.982Z"
   },
   {
    "duration": 62,
    "start_time": "2023-02-03T01:41:34.641Z"
   },
   {
    "duration": 25,
    "start_time": "2023-02-03T01:41:34.705Z"
   },
   {
    "duration": 12,
    "start_time": "2023-02-03T01:41:34.732Z"
   },
   {
    "duration": 19,
    "start_time": "2023-02-03T01:41:34.745Z"
   },
   {
    "duration": 351,
    "start_time": "2023-02-03T01:41:34.766Z"
   },
   {
    "duration": 15,
    "start_time": "2023-02-03T01:41:35.119Z"
   },
   {
    "duration": 17,
    "start_time": "2023-02-03T01:41:35.137Z"
   },
   {
    "duration": 38,
    "start_time": "2023-02-03T01:41:35.156Z"
   },
   {
    "duration": 39222,
    "start_time": "2023-02-03T01:41:35.198Z"
   },
   {
    "duration": 4,
    "start_time": "2023-02-03T01:42:14.423Z"
   },
   {
    "duration": 46,
    "start_time": "2023-02-03T01:42:14.429Z"
   },
   {
    "duration": 1565,
    "start_time": "2023-02-03T01:42:14.477Z"
   },
   {
    "duration": 16,
    "start_time": "2023-02-03T01:42:16.044Z"
   },
   {
    "duration": 1557,
    "start_time": "2023-02-03T01:42:16.061Z"
   },
   {
    "duration": 26,
    "start_time": "2023-02-03T01:42:17.620Z"
   },
   {
    "duration": 1567,
    "start_time": "2023-02-03T01:42:17.648Z"
   },
   {
    "duration": 12,
    "start_time": "2023-02-03T01:42:19.217Z"
   },
   {
    "duration": 778,
    "start_time": "2023-02-03T01:42:19.231Z"
   },
   {
    "duration": 8,
    "start_time": "2023-02-03T01:42:20.011Z"
   },
   {
    "duration": 976,
    "start_time": "2023-02-03T01:42:20.020Z"
   },
   {
    "duration": 54,
    "start_time": "2023-02-03T01:42:20.998Z"
   },
   {
    "duration": 1599,
    "start_time": "2023-02-03T01:42:21.054Z"
   },
   {
    "duration": 86,
    "start_time": "2023-02-03T01:42:22.654Z"
   },
   {
    "duration": 119,
    "start_time": "2023-02-03T01:42:22.742Z"
   },
   {
    "duration": 11,
    "start_time": "2023-02-03T01:42:22.862Z"
   },
   {
    "duration": 0,
    "start_time": "2023-02-03T01:42:22.875Z"
   },
   {
    "duration": 0,
    "start_time": "2023-02-03T01:42:22.893Z"
   },
   {
    "duration": 0,
    "start_time": "2023-02-03T01:42:22.894Z"
   },
   {
    "duration": 0,
    "start_time": "2023-02-03T01:42:22.895Z"
   },
   {
    "duration": 0,
    "start_time": "2023-02-03T01:42:22.896Z"
   },
   {
    "duration": 0,
    "start_time": "2023-02-03T01:42:22.897Z"
   },
   {
    "duration": 0,
    "start_time": "2023-02-03T01:42:22.898Z"
   },
   {
    "duration": 15,
    "start_time": "2023-02-03T01:43:40.705Z"
   },
   {
    "duration": 3,
    "start_time": "2023-02-03T01:43:48.870Z"
   },
   {
    "duration": 676,
    "start_time": "2023-02-03T01:43:48.875Z"
   },
   {
    "duration": 57,
    "start_time": "2023-02-03T01:43:49.553Z"
   },
   {
    "duration": 15,
    "start_time": "2023-02-03T01:43:49.612Z"
   },
   {
    "duration": 11,
    "start_time": "2023-02-03T01:43:49.629Z"
   },
   {
    "duration": 15,
    "start_time": "2023-02-03T01:43:49.641Z"
   },
   {
    "duration": 342,
    "start_time": "2023-02-03T01:43:49.657Z"
   },
   {
    "duration": 14,
    "start_time": "2023-02-03T01:43:50.001Z"
   },
   {
    "duration": 34,
    "start_time": "2023-02-03T01:43:50.017Z"
   },
   {
    "duration": 15,
    "start_time": "2023-02-03T01:43:50.053Z"
   },
   {
    "duration": 41291,
    "start_time": "2023-02-03T01:43:50.069Z"
   },
   {
    "duration": 4,
    "start_time": "2023-02-03T01:44:31.362Z"
   },
   {
    "duration": 65,
    "start_time": "2023-02-03T01:44:31.367Z"
   },
   {
    "duration": 1539,
    "start_time": "2023-02-03T01:44:31.434Z"
   },
   {
    "duration": 25,
    "start_time": "2023-02-03T01:44:32.975Z"
   },
   {
    "duration": 1518,
    "start_time": "2023-02-03T01:44:33.002Z"
   },
   {
    "duration": 26,
    "start_time": "2023-02-03T01:44:34.521Z"
   },
   {
    "duration": 1588,
    "start_time": "2023-02-03T01:44:34.549Z"
   },
   {
    "duration": 10,
    "start_time": "2023-02-03T01:44:36.139Z"
   },
   {
    "duration": 882,
    "start_time": "2023-02-03T01:44:36.150Z"
   },
   {
    "duration": 7,
    "start_time": "2023-02-03T01:44:37.033Z"
   },
   {
    "duration": 778,
    "start_time": "2023-02-03T01:44:37.041Z"
   },
   {
    "duration": 48,
    "start_time": "2023-02-03T01:44:37.821Z"
   },
   {
    "duration": 1522,
    "start_time": "2023-02-03T01:44:37.871Z"
   },
   {
    "duration": 72,
    "start_time": "2023-02-03T01:44:39.395Z"
   },
   {
    "duration": 115,
    "start_time": "2023-02-03T01:44:39.470Z"
   },
   {
    "duration": 15,
    "start_time": "2023-02-03T01:44:39.592Z"
   },
   {
    "duration": 0,
    "start_time": "2023-02-03T01:44:39.608Z"
   },
   {
    "duration": 0,
    "start_time": "2023-02-03T01:44:39.610Z"
   },
   {
    "duration": 0,
    "start_time": "2023-02-03T01:44:39.611Z"
   },
   {
    "duration": 0,
    "start_time": "2023-02-03T01:44:39.612Z"
   },
   {
    "duration": 0,
    "start_time": "2023-02-03T01:44:39.614Z"
   },
   {
    "duration": 0,
    "start_time": "2023-02-03T01:44:39.615Z"
   },
   {
    "duration": 0,
    "start_time": "2023-02-03T01:44:39.617Z"
   },
   {
    "duration": 10,
    "start_time": "2023-02-03T01:45:35.073Z"
   },
   {
    "duration": 3,
    "start_time": "2023-02-03T01:45:51.162Z"
   },
   {
    "duration": 670,
    "start_time": "2023-02-03T01:45:51.167Z"
   },
   {
    "duration": 61,
    "start_time": "2023-02-03T01:45:51.838Z"
   },
   {
    "duration": 23,
    "start_time": "2023-02-03T01:45:51.901Z"
   },
   {
    "duration": 12,
    "start_time": "2023-02-03T01:45:51.925Z"
   },
   {
    "duration": 21,
    "start_time": "2023-02-03T01:45:51.938Z"
   },
   {
    "duration": 338,
    "start_time": "2023-02-03T01:45:51.960Z"
   },
   {
    "duration": 13,
    "start_time": "2023-02-03T01:45:52.300Z"
   },
   {
    "duration": 36,
    "start_time": "2023-02-03T01:45:52.315Z"
   },
   {
    "duration": 29,
    "start_time": "2023-02-03T01:45:52.352Z"
   },
   {
    "duration": 40856,
    "start_time": "2023-02-03T01:45:52.383Z"
   },
   {
    "duration": 4,
    "start_time": "2023-02-03T01:46:33.241Z"
   },
   {
    "duration": 52,
    "start_time": "2023-02-03T01:46:33.246Z"
   },
   {
    "duration": 1540,
    "start_time": "2023-02-03T01:46:33.300Z"
   },
   {
    "duration": 17,
    "start_time": "2023-02-03T01:46:34.841Z"
   },
   {
    "duration": 1573,
    "start_time": "2023-02-03T01:46:34.859Z"
   },
   {
    "duration": 26,
    "start_time": "2023-02-03T01:46:36.434Z"
   },
   {
    "duration": 1535,
    "start_time": "2023-02-03T01:46:36.462Z"
   },
   {
    "duration": 11,
    "start_time": "2023-02-03T01:46:37.998Z"
   },
   {
    "duration": 887,
    "start_time": "2023-02-03T01:46:38.011Z"
   },
   {
    "duration": 7,
    "start_time": "2023-02-03T01:46:38.899Z"
   },
   {
    "duration": 794,
    "start_time": "2023-02-03T01:46:38.907Z"
   },
   {
    "duration": 48,
    "start_time": "2023-02-03T01:46:39.703Z"
   },
   {
    "duration": 1512,
    "start_time": "2023-02-03T01:46:39.754Z"
   },
   {
    "duration": 190,
    "start_time": "2023-02-03T01:46:41.267Z"
   },
   {
    "duration": 111,
    "start_time": "2023-02-03T01:46:41.459Z"
   },
   {
    "duration": 34,
    "start_time": "2023-02-03T01:46:41.572Z"
   },
   {
    "duration": 0,
    "start_time": "2023-02-03T01:46:41.608Z"
   },
   {
    "duration": 0,
    "start_time": "2023-02-03T01:46:41.609Z"
   },
   {
    "duration": 0,
    "start_time": "2023-02-03T01:46:41.611Z"
   },
   {
    "duration": 0,
    "start_time": "2023-02-03T01:46:41.612Z"
   },
   {
    "duration": 0,
    "start_time": "2023-02-03T01:46:41.614Z"
   },
   {
    "duration": 0,
    "start_time": "2023-02-03T01:46:41.615Z"
   },
   {
    "duration": 0,
    "start_time": "2023-02-03T01:46:41.617Z"
   },
   {
    "duration": 3,
    "start_time": "2023-02-03T01:48:48.762Z"
   },
   {
    "duration": 646,
    "start_time": "2023-02-03T01:48:48.767Z"
   },
   {
    "duration": 49,
    "start_time": "2023-02-03T01:48:49.414Z"
   },
   {
    "duration": 31,
    "start_time": "2023-02-03T01:48:49.465Z"
   },
   {
    "duration": 12,
    "start_time": "2023-02-03T01:48:49.497Z"
   },
   {
    "duration": 16,
    "start_time": "2023-02-03T01:48:49.510Z"
   },
   {
    "duration": 337,
    "start_time": "2023-02-03T01:48:49.528Z"
   },
   {
    "duration": 25,
    "start_time": "2023-02-03T01:48:49.867Z"
   },
   {
    "duration": 16,
    "start_time": "2023-02-03T01:48:49.894Z"
   },
   {
    "duration": 14,
    "start_time": "2023-02-03T01:48:49.911Z"
   },
   {
    "duration": 37935,
    "start_time": "2023-02-03T01:48:49.927Z"
   },
   {
    "duration": 4,
    "start_time": "2023-02-03T01:49:27.864Z"
   },
   {
    "duration": 49,
    "start_time": "2023-02-03T01:49:27.870Z"
   },
   {
    "duration": 1489,
    "start_time": "2023-02-03T01:49:27.921Z"
   },
   {
    "duration": 17,
    "start_time": "2023-02-03T01:49:29.412Z"
   },
   {
    "duration": 1552,
    "start_time": "2023-02-03T01:49:29.431Z"
   },
   {
    "duration": 32,
    "start_time": "2023-02-03T01:49:30.984Z"
   },
   {
    "duration": 1574,
    "start_time": "2023-02-03T01:49:31.018Z"
   },
   {
    "duration": 13,
    "start_time": "2023-02-03T01:49:32.594Z"
   },
   {
    "duration": 770,
    "start_time": "2023-02-03T01:49:32.609Z"
   },
   {
    "duration": 14,
    "start_time": "2023-02-03T01:49:33.380Z"
   },
   {
    "duration": 966,
    "start_time": "2023-02-03T01:49:33.395Z"
   },
   {
    "duration": 62,
    "start_time": "2023-02-03T01:49:34.362Z"
   },
   {
    "duration": 1517,
    "start_time": "2023-02-03T01:49:34.426Z"
   },
   {
    "duration": 90,
    "start_time": "2023-02-03T01:49:35.945Z"
   },
   {
    "duration": 26,
    "start_time": "2023-02-03T01:49:36.037Z"
   },
   {
    "duration": 0,
    "start_time": "2023-02-03T01:49:36.065Z"
   },
   {
    "duration": 0,
    "start_time": "2023-02-03T01:49:36.066Z"
   },
   {
    "duration": 0,
    "start_time": "2023-02-03T01:49:36.066Z"
   },
   {
    "duration": 0,
    "start_time": "2023-02-03T01:49:36.067Z"
   },
   {
    "duration": 0,
    "start_time": "2023-02-03T01:49:36.068Z"
   },
   {
    "duration": 0,
    "start_time": "2023-02-03T01:49:36.069Z"
   },
   {
    "duration": 0,
    "start_time": "2023-02-03T01:49:36.070Z"
   },
   {
    "duration": 0,
    "start_time": "2023-02-03T01:49:36.071Z"
   },
   {
    "duration": 11,
    "start_time": "2023-02-03T02:12:38.742Z"
   },
   {
    "duration": 1447,
    "start_time": "2023-02-03T04:31:07.645Z"
   },
   {
    "duration": 2997,
    "start_time": "2023-02-03T04:31:09.094Z"
   },
   {
    "duration": 55,
    "start_time": "2023-02-03T04:31:12.092Z"
   },
   {
    "duration": 17,
    "start_time": "2023-02-03T04:31:12.149Z"
   },
   {
    "duration": 12,
    "start_time": "2023-02-03T04:31:12.168Z"
   },
   {
    "duration": 16,
    "start_time": "2023-02-03T04:31:12.181Z"
   },
   {
    "duration": 323,
    "start_time": "2023-02-03T04:31:12.228Z"
   },
   {
    "duration": 13,
    "start_time": "2023-02-03T04:31:12.552Z"
   },
   {
    "duration": 23,
    "start_time": "2023-02-03T04:31:12.566Z"
   },
   {
    "duration": 12,
    "start_time": "2023-02-03T04:31:12.591Z"
   },
   {
    "duration": 41848,
    "start_time": "2023-02-03T04:31:12.605Z"
   },
   {
    "duration": 4,
    "start_time": "2023-02-03T04:31:54.455Z"
   },
   {
    "duration": 36,
    "start_time": "2023-02-03T04:31:54.460Z"
   },
   {
    "duration": 1548,
    "start_time": "2023-02-03T04:31:54.498Z"
   },
   {
    "duration": 16,
    "start_time": "2023-02-03T04:31:56.047Z"
   },
   {
    "duration": 1608,
    "start_time": "2023-02-03T04:31:56.065Z"
   },
   {
    "duration": 26,
    "start_time": "2023-02-03T04:31:57.674Z"
   },
   {
    "duration": 1535,
    "start_time": "2023-02-03T04:31:57.702Z"
   },
   {
    "duration": 10,
    "start_time": "2023-02-03T04:31:59.239Z"
   },
   {
    "duration": 865,
    "start_time": "2023-02-03T04:31:59.251Z"
   },
   {
    "duration": 10,
    "start_time": "2023-02-03T04:32:00.118Z"
   },
   {
    "duration": 783,
    "start_time": "2023-02-03T04:32:00.130Z"
   },
   {
    "duration": 55,
    "start_time": "2023-02-03T04:32:00.915Z"
   },
   {
    "duration": 1470,
    "start_time": "2023-02-03T04:32:00.972Z"
   },
   {
    "duration": 190,
    "start_time": "2023-02-03T04:32:02.443Z"
   },
   {
    "duration": 116,
    "start_time": "2023-02-03T04:32:02.635Z"
   },
   {
    "duration": 0,
    "start_time": "2023-02-03T04:32:02.752Z"
   },
   {
    "duration": 0,
    "start_time": "2023-02-03T04:32:02.753Z"
   },
   {
    "duration": 0,
    "start_time": "2023-02-03T04:32:02.754Z"
   },
   {
    "duration": 0,
    "start_time": "2023-02-03T04:32:02.755Z"
   },
   {
    "duration": 0,
    "start_time": "2023-02-03T04:32:02.757Z"
   },
   {
    "duration": 0,
    "start_time": "2023-02-03T04:32:02.758Z"
   },
   {
    "duration": 0,
    "start_time": "2023-02-03T04:32:02.759Z"
   },
   {
    "duration": 0,
    "start_time": "2023-02-03T04:32:02.761Z"
   },
   {
    "duration": 11,
    "start_time": "2023-02-03T04:32:12.162Z"
   },
   {
    "duration": 3,
    "start_time": "2023-02-03T04:32:22.368Z"
   },
   {
    "duration": 634,
    "start_time": "2023-02-03T04:32:22.373Z"
   },
   {
    "duration": 63,
    "start_time": "2023-02-03T04:32:23.009Z"
   },
   {
    "duration": 16,
    "start_time": "2023-02-03T04:32:23.073Z"
   },
   {
    "duration": 11,
    "start_time": "2023-02-03T04:32:23.090Z"
   },
   {
    "duration": 41,
    "start_time": "2023-02-03T04:32:23.103Z"
   },
   {
    "duration": 328,
    "start_time": "2023-02-03T04:32:23.145Z"
   },
   {
    "duration": 15,
    "start_time": "2023-02-03T04:32:23.474Z"
   },
   {
    "duration": 27,
    "start_time": "2023-02-03T04:32:23.491Z"
   },
   {
    "duration": 19,
    "start_time": "2023-02-03T04:32:23.520Z"
   },
   {
    "duration": 38687,
    "start_time": "2023-02-03T04:32:23.540Z"
   },
   {
    "duration": 5,
    "start_time": "2023-02-03T04:33:02.229Z"
   },
   {
    "duration": 48,
    "start_time": "2023-02-03T04:33:02.235Z"
   },
   {
    "duration": 1374,
    "start_time": "2023-02-03T04:33:02.285Z"
   },
   {
    "duration": 16,
    "start_time": "2023-02-03T04:33:03.660Z"
   },
   {
    "duration": 1485,
    "start_time": "2023-02-03T04:33:03.677Z"
   },
   {
    "duration": 31,
    "start_time": "2023-02-03T04:33:05.164Z"
   },
   {
    "duration": 1491,
    "start_time": "2023-02-03T04:33:05.197Z"
   },
   {
    "duration": 12,
    "start_time": "2023-02-03T04:33:06.689Z"
   },
   {
    "duration": 772,
    "start_time": "2023-02-03T04:33:06.703Z"
   },
   {
    "duration": 7,
    "start_time": "2023-02-03T04:33:07.477Z"
   },
   {
    "duration": 871,
    "start_time": "2023-02-03T04:33:07.486Z"
   },
   {
    "duration": 48,
    "start_time": "2023-02-03T04:33:08.359Z"
   },
   {
    "duration": 1518,
    "start_time": "2023-02-03T04:33:08.410Z"
   },
   {
    "duration": 66,
    "start_time": "2023-02-03T04:33:09.929Z"
   },
   {
    "duration": 39,
    "start_time": "2023-02-03T04:33:09.996Z"
   },
   {
    "duration": 0,
    "start_time": "2023-02-03T04:33:10.036Z"
   },
   {
    "duration": 0,
    "start_time": "2023-02-03T04:33:10.037Z"
   },
   {
    "duration": 0,
    "start_time": "2023-02-03T04:33:10.039Z"
   },
   {
    "duration": 0,
    "start_time": "2023-02-03T04:33:10.039Z"
   },
   {
    "duration": 0,
    "start_time": "2023-02-03T04:33:10.040Z"
   },
   {
    "duration": 0,
    "start_time": "2023-02-03T04:33:10.042Z"
   },
   {
    "duration": 0,
    "start_time": "2023-02-03T04:33:10.043Z"
   },
   {
    "duration": 0,
    "start_time": "2023-02-03T04:33:10.043Z"
   },
   {
    "duration": 14,
    "start_time": "2023-02-03T04:33:49.386Z"
   },
   {
    "duration": 4,
    "start_time": "2023-02-03T04:34:26.521Z"
   },
   {
    "duration": 674,
    "start_time": "2023-02-03T04:34:26.526Z"
   },
   {
    "duration": 72,
    "start_time": "2023-02-03T04:34:27.202Z"
   },
   {
    "duration": 20,
    "start_time": "2023-02-03T04:34:27.277Z"
   },
   {
    "duration": 36,
    "start_time": "2023-02-03T04:34:27.300Z"
   },
   {
    "duration": 15,
    "start_time": "2023-02-03T04:34:27.338Z"
   },
   {
    "duration": 326,
    "start_time": "2023-02-03T04:34:27.355Z"
   },
   {
    "duration": 14,
    "start_time": "2023-02-03T04:34:27.682Z"
   },
   {
    "duration": 20,
    "start_time": "2023-02-03T04:34:27.698Z"
   },
   {
    "duration": 14,
    "start_time": "2023-02-03T04:34:27.728Z"
   },
   {
    "duration": 42496,
    "start_time": "2023-02-03T04:34:27.745Z"
   },
   {
    "duration": 5,
    "start_time": "2023-02-03T04:35:10.242Z"
   },
   {
    "duration": 46,
    "start_time": "2023-02-03T04:35:10.248Z"
   },
   {
    "duration": 1500,
    "start_time": "2023-02-03T04:35:10.296Z"
   },
   {
    "duration": 16,
    "start_time": "2023-02-03T04:35:11.798Z"
   },
   {
    "duration": 1503,
    "start_time": "2023-02-03T04:35:11.815Z"
   },
   {
    "duration": 31,
    "start_time": "2023-02-03T04:35:13.320Z"
   },
   {
    "duration": 1523,
    "start_time": "2023-02-03T04:35:13.352Z"
   },
   {
    "duration": 10,
    "start_time": "2023-02-03T04:35:14.877Z"
   },
   {
    "duration": 890,
    "start_time": "2023-02-03T04:35:14.889Z"
   },
   {
    "duration": 6,
    "start_time": "2023-02-03T04:35:15.781Z"
   },
   {
    "duration": 753,
    "start_time": "2023-02-03T04:35:15.788Z"
   },
   {
    "duration": 47,
    "start_time": "2023-02-03T04:35:16.542Z"
   },
   {
    "duration": 1574,
    "start_time": "2023-02-03T04:35:16.590Z"
   },
   {
    "duration": 83,
    "start_time": "2023-02-03T04:35:18.165Z"
   },
   {
    "duration": 12,
    "start_time": "2023-02-03T04:35:18.250Z"
   },
   {
    "duration": 0,
    "start_time": "2023-02-03T04:35:18.264Z"
   },
   {
    "duration": 0,
    "start_time": "2023-02-03T04:35:18.265Z"
   },
   {
    "duration": 0,
    "start_time": "2023-02-03T04:35:18.266Z"
   },
   {
    "duration": 0,
    "start_time": "2023-02-03T04:35:18.267Z"
   },
   {
    "duration": 0,
    "start_time": "2023-02-03T04:35:18.268Z"
   },
   {
    "duration": 0,
    "start_time": "2023-02-03T04:35:18.269Z"
   },
   {
    "duration": 1,
    "start_time": "2023-02-03T04:35:18.270Z"
   },
   {
    "duration": 0,
    "start_time": "2023-02-03T04:35:18.271Z"
   },
   {
    "duration": 44,
    "start_time": "2023-02-03T04:35:27.924Z"
   },
   {
    "duration": 1183,
    "start_time": "2023-02-03T04:39:35.698Z"
   },
   {
    "duration": 1132,
    "start_time": "2023-02-03T04:40:30.520Z"
   },
   {
    "duration": 38,
    "start_time": "2023-02-03T04:51:59.958Z"
   },
   {
    "duration": 20,
    "start_time": "2023-02-03T04:52:18.726Z"
   },
   {
    "duration": 15,
    "start_time": "2023-02-03T04:53:03.446Z"
   },
   {
    "duration": 3,
    "start_time": "2023-02-03T04:53:08.156Z"
   },
   {
    "duration": 631,
    "start_time": "2023-02-03T04:53:08.161Z"
   },
   {
    "duration": 64,
    "start_time": "2023-02-03T04:53:08.794Z"
   },
   {
    "duration": 15,
    "start_time": "2023-02-03T04:53:08.860Z"
   },
   {
    "duration": 11,
    "start_time": "2023-02-03T04:53:08.876Z"
   },
   {
    "duration": 16,
    "start_time": "2023-02-03T04:53:08.889Z"
   },
   {
    "duration": 351,
    "start_time": "2023-02-03T04:53:08.907Z"
   },
   {
    "duration": 12,
    "start_time": "2023-02-03T04:53:09.260Z"
   },
   {
    "duration": 73,
    "start_time": "2023-02-03T04:53:09.274Z"
   },
   {
    "duration": 23,
    "start_time": "2023-02-03T04:53:09.349Z"
   },
   {
    "duration": 39612,
    "start_time": "2023-02-03T04:53:09.373Z"
   },
   {
    "duration": 4,
    "start_time": "2023-02-03T04:53:48.987Z"
   },
   {
    "duration": 67,
    "start_time": "2023-02-03T04:53:48.992Z"
   },
   {
    "duration": 1444,
    "start_time": "2023-02-03T04:53:49.061Z"
   },
   {
    "duration": 33,
    "start_time": "2023-02-03T04:53:50.507Z"
   },
   {
    "duration": 1437,
    "start_time": "2023-02-03T04:53:50.542Z"
   },
   {
    "duration": 26,
    "start_time": "2023-02-03T04:53:51.980Z"
   },
   {
    "duration": 1534,
    "start_time": "2023-02-03T04:53:52.007Z"
   },
   {
    "duration": 12,
    "start_time": "2023-02-03T04:53:53.543Z"
   },
   {
    "duration": 855,
    "start_time": "2023-02-03T04:53:53.556Z"
   },
   {
    "duration": 22,
    "start_time": "2023-02-03T04:53:54.413Z"
   },
   {
    "duration": 817,
    "start_time": "2023-02-03T04:53:54.437Z"
   },
   {
    "duration": 55,
    "start_time": "2023-02-03T04:53:55.256Z"
   },
   {
    "duration": 1536,
    "start_time": "2023-02-03T04:53:55.327Z"
   },
   {
    "duration": 172,
    "start_time": "2023-02-03T04:53:56.865Z"
   },
   {
    "duration": 63,
    "start_time": "2023-02-03T04:53:57.038Z"
   },
   {
    "duration": 10,
    "start_time": "2023-02-03T04:53:57.102Z"
   },
   {
    "duration": 0,
    "start_time": "2023-02-03T04:53:57.127Z"
   },
   {
    "duration": 0,
    "start_time": "2023-02-03T04:53:57.128Z"
   },
   {
    "duration": 0,
    "start_time": "2023-02-03T04:53:57.129Z"
   },
   {
    "duration": 0,
    "start_time": "2023-02-03T04:53:57.129Z"
   },
   {
    "duration": 0,
    "start_time": "2023-02-03T04:53:57.138Z"
   },
   {
    "duration": 0,
    "start_time": "2023-02-03T04:53:57.141Z"
   },
   {
    "duration": 0,
    "start_time": "2023-02-03T04:53:57.142Z"
   },
   {
    "duration": 0,
    "start_time": "2023-02-03T04:53:57.150Z"
   },
   {
    "duration": 287,
    "start_time": "2023-02-03T05:00:15.753Z"
   },
   {
    "duration": 16,
    "start_time": "2023-02-03T05:00:40.727Z"
   },
   {
    "duration": 4,
    "start_time": "2023-02-03T05:00:57.289Z"
   },
   {
    "duration": 648,
    "start_time": "2023-02-03T05:00:57.295Z"
   },
   {
    "duration": 48,
    "start_time": "2023-02-03T05:00:57.944Z"
   },
   {
    "duration": 15,
    "start_time": "2023-02-03T05:00:57.993Z"
   },
   {
    "duration": 20,
    "start_time": "2023-02-03T05:00:58.028Z"
   },
   {
    "duration": 15,
    "start_time": "2023-02-03T05:00:58.050Z"
   },
   {
    "duration": 324,
    "start_time": "2023-02-03T05:00:58.066Z"
   },
   {
    "duration": 13,
    "start_time": "2023-02-03T05:00:58.391Z"
   },
   {
    "duration": 35,
    "start_time": "2023-02-03T05:00:58.406Z"
   },
   {
    "duration": 13,
    "start_time": "2023-02-03T05:00:58.444Z"
   },
   {
    "duration": 41453,
    "start_time": "2023-02-03T05:00:58.459Z"
   },
   {
    "duration": 4,
    "start_time": "2023-02-03T05:01:39.914Z"
   },
   {
    "duration": 55,
    "start_time": "2023-02-03T05:01:39.927Z"
   },
   {
    "duration": 1445,
    "start_time": "2023-02-03T05:01:39.984Z"
   },
   {
    "duration": 16,
    "start_time": "2023-02-03T05:01:41.440Z"
   },
   {
    "duration": 1461,
    "start_time": "2023-02-03T05:01:41.458Z"
   },
   {
    "duration": 35,
    "start_time": "2023-02-03T05:01:42.921Z"
   },
   {
    "duration": 1525,
    "start_time": "2023-02-03T05:01:42.957Z"
   },
   {
    "duration": 11,
    "start_time": "2023-02-03T05:01:44.484Z"
   },
   {
    "duration": 782,
    "start_time": "2023-02-03T05:01:44.496Z"
   },
   {
    "duration": 7,
    "start_time": "2023-02-03T05:01:45.280Z"
   },
   {
    "duration": 889,
    "start_time": "2023-02-03T05:01:45.289Z"
   },
   {
    "duration": 63,
    "start_time": "2023-02-03T05:01:46.180Z"
   },
   {
    "duration": 1541,
    "start_time": "2023-02-03T05:01:46.244Z"
   },
   {
    "duration": 79,
    "start_time": "2023-02-03T05:01:47.787Z"
   },
   {
    "duration": 287,
    "start_time": "2023-02-03T05:01:47.868Z"
   },
   {
    "duration": 19,
    "start_time": "2023-02-03T05:01:48.157Z"
   },
   {
    "duration": 0,
    "start_time": "2023-02-03T05:01:48.178Z"
   },
   {
    "duration": 0,
    "start_time": "2023-02-03T05:01:48.179Z"
   },
   {
    "duration": 0,
    "start_time": "2023-02-03T05:01:48.180Z"
   },
   {
    "duration": 0,
    "start_time": "2023-02-03T05:01:48.181Z"
   },
   {
    "duration": 0,
    "start_time": "2023-02-03T05:01:48.182Z"
   },
   {
    "duration": 0,
    "start_time": "2023-02-03T05:01:48.183Z"
   },
   {
    "duration": 0,
    "start_time": "2023-02-03T05:01:48.184Z"
   },
   {
    "duration": 0,
    "start_time": "2023-02-03T05:01:48.184Z"
   },
   {
    "duration": 12,
    "start_time": "2023-02-03T05:07:44.431Z"
   },
   {
    "duration": 15,
    "start_time": "2023-02-03T05:07:55.721Z"
   },
   {
    "duration": 472,
    "start_time": "2023-02-03T05:09:03.670Z"
   },
   {
    "duration": 51,
    "start_time": "2023-02-03T05:10:06.887Z"
   },
   {
    "duration": 78,
    "start_time": "2023-02-03T05:10:55.789Z"
   },
   {
    "duration": 10,
    "start_time": "2023-02-03T05:11:02.245Z"
   },
   {
    "duration": 10,
    "start_time": "2023-02-03T05:11:13.268Z"
   },
   {
    "duration": 19,
    "start_time": "2023-02-03T05:11:28.516Z"
   },
   {
    "duration": 13,
    "start_time": "2023-02-03T05:13:53.323Z"
   },
   {
    "duration": 15,
    "start_time": "2023-02-03T05:15:04.825Z"
   },
   {
    "duration": 12,
    "start_time": "2023-02-03T05:15:44.169Z"
   },
   {
    "duration": 3,
    "start_time": "2023-02-03T05:18:44.347Z"
   },
   {
    "duration": 637,
    "start_time": "2023-02-03T05:18:44.353Z"
   },
   {
    "duration": 65,
    "start_time": "2023-02-03T05:18:44.991Z"
   },
   {
    "duration": 19,
    "start_time": "2023-02-03T05:18:45.059Z"
   },
   {
    "duration": 11,
    "start_time": "2023-02-03T05:18:45.080Z"
   },
   {
    "duration": 47,
    "start_time": "2023-02-03T05:18:45.093Z"
   },
   {
    "duration": 344,
    "start_time": "2023-02-03T05:18:45.142Z"
   },
   {
    "duration": 13,
    "start_time": "2023-02-03T05:18:45.488Z"
   },
   {
    "duration": 32,
    "start_time": "2023-02-03T05:18:45.503Z"
   },
   {
    "duration": 14,
    "start_time": "2023-02-03T05:18:45.540Z"
   },
   {
    "duration": 39404,
    "start_time": "2023-02-03T05:18:45.556Z"
   },
   {
    "duration": 4,
    "start_time": "2023-02-03T05:19:24.962Z"
   },
   {
    "duration": 39,
    "start_time": "2023-02-03T05:19:24.968Z"
   },
   {
    "duration": 1503,
    "start_time": "2023-02-03T05:19:25.008Z"
   },
   {
    "duration": 30,
    "start_time": "2023-02-03T05:19:26.513Z"
   },
   {
    "duration": 1536,
    "start_time": "2023-02-03T05:19:26.545Z"
   },
   {
    "duration": 27,
    "start_time": "2023-02-03T05:19:28.083Z"
   },
   {
    "duration": 1505,
    "start_time": "2023-02-03T05:19:28.112Z"
   },
   {
    "duration": 26,
    "start_time": "2023-02-03T05:19:29.619Z"
   },
   {
    "duration": 754,
    "start_time": "2023-02-03T05:19:29.646Z"
   },
   {
    "duration": 7,
    "start_time": "2023-02-03T05:19:30.402Z"
   },
   {
    "duration": 953,
    "start_time": "2023-02-03T05:19:30.410Z"
   },
   {
    "duration": 48,
    "start_time": "2023-02-03T05:19:31.365Z"
   },
   {
    "duration": 1481,
    "start_time": "2023-02-03T05:19:31.429Z"
   },
   {
    "duration": 77,
    "start_time": "2023-02-03T05:19:32.912Z"
   },
   {
    "duration": 711,
    "start_time": "2023-02-03T05:19:32.990Z"
   },
   {
    "duration": 43,
    "start_time": "2023-02-03T05:19:33.702Z"
   },
   {
    "duration": 22,
    "start_time": "2023-02-03T05:19:33.747Z"
   },
   {
    "duration": 1324,
    "start_time": "2023-02-03T05:19:33.770Z"
   },
   {
    "duration": 0,
    "start_time": "2023-02-03T05:19:35.095Z"
   },
   {
    "duration": 0,
    "start_time": "2023-02-03T05:19:35.096Z"
   },
   {
    "duration": 0,
    "start_time": "2023-02-03T05:19:35.097Z"
   },
   {
    "duration": 0,
    "start_time": "2023-02-03T05:19:35.098Z"
   },
   {
    "duration": 0,
    "start_time": "2023-02-03T05:19:35.099Z"
   },
   {
    "duration": 0,
    "start_time": "2023-02-03T05:19:35.100Z"
   },
   {
    "duration": 3,
    "start_time": "2023-02-03T05:52:21.041Z"
   },
   {
    "duration": 10,
    "start_time": "2023-02-03T06:21:19.149Z"
   },
   {
    "duration": 3,
    "start_time": "2023-02-03T06:21:21.577Z"
   },
   {
    "duration": 6,
    "start_time": "2023-02-03T06:21:22.626Z"
   },
   {
    "duration": 2933,
    "start_time": "2023-02-03T06:21:38.518Z"
   },
   {
    "duration": 3,
    "start_time": "2023-02-03T06:22:39.222Z"
   },
   {
    "duration": 3221,
    "start_time": "2023-02-03T06:22:40.018Z"
   },
   {
    "duration": 4,
    "start_time": "2023-02-03T06:27:20.595Z"
   },
   {
    "duration": 2,
    "start_time": "2023-02-03T06:27:21.101Z"
   },
   {
    "duration": 2601,
    "start_time": "2023-02-03T06:27:23.349Z"
   },
   {
    "duration": 4,
    "start_time": "2023-02-03T06:49:30.065Z"
   },
   {
    "duration": 3331,
    "start_time": "2023-02-03T07:00:27.469Z"
   },
   {
    "duration": 1840,
    "start_time": "2023-02-03T07:00:45.427Z"
   },
   {
    "duration": 2988,
    "start_time": "2023-02-03T07:01:19.640Z"
   },
   {
    "duration": 2997,
    "start_time": "2023-02-03T07:02:43.569Z"
   },
   {
    "duration": 2997,
    "start_time": "2023-02-03T07:04:39.795Z"
   },
   {
    "duration": 3086,
    "start_time": "2023-02-03T07:04:53.501Z"
   },
   {
    "duration": 26,
    "start_time": "2023-02-03T07:05:10.013Z"
   },
   {
    "duration": 3160,
    "start_time": "2023-02-03T07:05:16.012Z"
   },
   {
    "duration": 6114,
    "start_time": "2023-02-03T07:07:30.257Z"
   },
   {
    "duration": 0,
    "start_time": "2023-02-03T07:16:13.068Z"
   },
   {
    "duration": 11121,
    "start_time": "2023-02-03T07:16:24.857Z"
   },
   {
    "duration": 136664,
    "start_time": "2023-02-03T07:19:03.651Z"
   },
   {
    "duration": 134446,
    "start_time": "2023-02-03T07:21:27.620Z"
   },
   {
    "duration": 14,
    "start_time": "2023-02-03T07:23:42.068Z"
   },
   {
    "duration": 6137,
    "start_time": "2023-02-03T07:24:06.818Z"
   },
   {
    "duration": 3,
    "start_time": "2023-02-03T07:24:41.603Z"
   },
   {
    "duration": 3,
    "start_time": "2023-02-03T07:24:43.559Z"
   },
   {
    "duration": 6305,
    "start_time": "2023-02-03T07:24:51.123Z"
   },
   {
    "duration": 3,
    "start_time": "2023-02-03T07:25:10.969Z"
   },
   {
    "duration": 2,
    "start_time": "2023-02-03T07:25:11.501Z"
   },
   {
    "duration": 6151,
    "start_time": "2023-02-03T07:25:20.974Z"
   },
   {
    "duration": 3,
    "start_time": "2023-02-03T08:13:34.722Z"
   },
   {
    "duration": 629,
    "start_time": "2023-02-03T08:13:34.727Z"
   },
   {
    "duration": 52,
    "start_time": "2023-02-03T08:13:35.358Z"
   },
   {
    "duration": 31,
    "start_time": "2023-02-03T08:13:35.411Z"
   },
   {
    "duration": 11,
    "start_time": "2023-02-03T08:13:35.444Z"
   },
   {
    "duration": 16,
    "start_time": "2023-02-03T08:13:35.456Z"
   },
   {
    "duration": 332,
    "start_time": "2023-02-03T08:13:35.473Z"
   },
   {
    "duration": 20,
    "start_time": "2023-02-03T08:13:35.807Z"
   },
   {
    "duration": 17,
    "start_time": "2023-02-03T08:13:35.829Z"
   },
   {
    "duration": 14,
    "start_time": "2023-02-03T08:13:35.847Z"
   },
   {
    "duration": 37349,
    "start_time": "2023-02-03T08:13:35.865Z"
   },
   {
    "duration": 12,
    "start_time": "2023-02-03T08:14:13.216Z"
   },
   {
    "duration": 55,
    "start_time": "2023-02-03T08:14:13.230Z"
   },
   {
    "duration": 1420,
    "start_time": "2023-02-03T08:14:13.287Z"
   },
   {
    "duration": 26,
    "start_time": "2023-02-03T08:14:14.709Z"
   },
   {
    "duration": 1480,
    "start_time": "2023-02-03T08:14:14.736Z"
   },
   {
    "duration": 31,
    "start_time": "2023-02-03T08:14:16.218Z"
   },
   {
    "duration": 1514,
    "start_time": "2023-02-03T08:14:16.251Z"
   },
   {
    "duration": 9,
    "start_time": "2023-02-03T08:14:17.767Z"
   },
   {
    "duration": 850,
    "start_time": "2023-02-03T08:14:17.778Z"
   },
   {
    "duration": 7,
    "start_time": "2023-02-03T08:14:18.629Z"
   },
   {
    "duration": 737,
    "start_time": "2023-02-03T08:14:18.637Z"
   },
   {
    "duration": 60,
    "start_time": "2023-02-03T08:14:19.376Z"
   },
   {
    "duration": 1467,
    "start_time": "2023-02-03T08:14:19.439Z"
   },
   {
    "duration": 80,
    "start_time": "2023-02-03T08:14:20.909Z"
   },
   {
    "duration": 832,
    "start_time": "2023-02-03T08:14:20.990Z"
   },
   {
    "duration": 29,
    "start_time": "2023-02-03T08:14:21.827Z"
   },
   {
    "duration": 19,
    "start_time": "2023-02-03T08:14:21.858Z"
   },
   {
    "duration": 8,
    "start_time": "2023-02-03T08:14:21.880Z"
   },
   {
    "duration": 6,
    "start_time": "2023-02-03T08:14:21.890Z"
   },
   {
    "duration": 13,
    "start_time": "2023-02-03T08:14:21.897Z"
   },
   {
    "duration": 2621,
    "start_time": "2023-02-03T08:14:21.912Z"
   },
   {
    "duration": 92,
    "start_time": "2023-02-03T08:14:24.536Z"
   },
   {
    "duration": 2987,
    "start_time": "2023-02-03T08:14:24.630Z"
   },
   {
    "duration": 0,
    "start_time": "2023-02-03T08:14:27.618Z"
   },
   {
    "duration": 0,
    "start_time": "2023-02-03T08:14:27.620Z"
   },
   {
    "duration": 0,
    "start_time": "2023-02-03T08:14:27.622Z"
   },
   {
    "duration": 2920,
    "start_time": "2023-02-03T08:16:14.018Z"
   },
   {
    "duration": 6066,
    "start_time": "2023-02-03T08:17:52.186Z"
   },
   {
    "duration": 6098,
    "start_time": "2023-02-03T08:26:22.624Z"
   },
   {
    "duration": 4,
    "start_time": "2023-02-03T08:28:05.350Z"
   },
   {
    "duration": 6823,
    "start_time": "2023-02-03T08:28:18.647Z"
   },
   {
    "duration": 3011,
    "start_time": "2023-02-03T08:30:53.223Z"
   },
   {
    "duration": 5906,
    "start_time": "2023-02-03T08:42:07.232Z"
   },
   {
    "duration": 5926,
    "start_time": "2023-02-03T08:43:31.040Z"
   },
   {
    "duration": 130652,
    "start_time": "2023-02-03T08:44:26.823Z"
   },
   {
    "duration": 75,
    "start_time": "2023-02-03T08:47:29.789Z"
   },
   {
    "duration": 10053,
    "start_time": "2023-02-03T08:48:02.499Z"
   },
   {
    "duration": 3,
    "start_time": "2023-02-03T08:49:04.116Z"
   },
   {
    "duration": 615,
    "start_time": "2023-02-03T08:49:04.122Z"
   },
   {
    "duration": 55,
    "start_time": "2023-02-03T08:49:04.738Z"
   },
   {
    "duration": 37,
    "start_time": "2023-02-03T08:49:04.796Z"
   },
   {
    "duration": 13,
    "start_time": "2023-02-03T08:49:04.835Z"
   },
   {
    "duration": 30,
    "start_time": "2023-02-03T08:49:04.850Z"
   },
   {
    "duration": 367,
    "start_time": "2023-02-03T08:49:04.882Z"
   },
   {
    "duration": 17,
    "start_time": "2023-02-03T08:49:05.251Z"
   },
   {
    "duration": 36,
    "start_time": "2023-02-03T08:49:05.271Z"
   },
   {
    "duration": 26,
    "start_time": "2023-02-03T08:49:05.309Z"
   },
   {
    "duration": 42022,
    "start_time": "2023-02-03T08:49:05.337Z"
   },
   {
    "duration": 4,
    "start_time": "2023-02-03T08:49:47.361Z"
   },
   {
    "duration": 61,
    "start_time": "2023-02-03T08:49:47.367Z"
   },
   {
    "duration": 1556,
    "start_time": "2023-02-03T08:49:47.430Z"
   },
   {
    "duration": 16,
    "start_time": "2023-02-03T08:49:48.988Z"
   },
   {
    "duration": 1624,
    "start_time": "2023-02-03T08:49:49.006Z"
   },
   {
    "duration": 34,
    "start_time": "2023-02-03T08:49:50.632Z"
   },
   {
    "duration": 1640,
    "start_time": "2023-02-03T08:49:50.667Z"
   },
   {
    "duration": 20,
    "start_time": "2023-02-03T08:49:52.310Z"
   },
   {
    "duration": 966,
    "start_time": "2023-02-03T08:49:52.331Z"
   },
   {
    "duration": 7,
    "start_time": "2023-02-03T08:49:53.300Z"
   },
   {
    "duration": 812,
    "start_time": "2023-02-03T08:49:53.309Z"
   },
   {
    "duration": 53,
    "start_time": "2023-02-03T08:49:54.123Z"
   },
   {
    "duration": 1655,
    "start_time": "2023-02-03T08:49:54.180Z"
   },
   {
    "duration": 74,
    "start_time": "2023-02-03T08:49:55.837Z"
   },
   {
    "duration": 830,
    "start_time": "2023-02-03T08:49:55.912Z"
   },
   {
    "duration": 36,
    "start_time": "2023-02-03T08:49:56.743Z"
   },
   {
    "duration": 22,
    "start_time": "2023-02-03T08:49:56.781Z"
   },
   {
    "duration": 31,
    "start_time": "2023-02-03T08:49:56.805Z"
   },
   {
    "duration": 5,
    "start_time": "2023-02-03T08:49:56.838Z"
   },
   {
    "duration": 20,
    "start_time": "2023-02-03T08:49:56.845Z"
   },
   {
    "duration": 2867,
    "start_time": "2023-02-03T08:49:56.867Z"
   },
   {
    "duration": 3,
    "start_time": "2023-02-03T08:49:59.736Z"
   },
   {
    "duration": 10538,
    "start_time": "2023-02-03T08:49:59.741Z"
   },
   {
    "duration": 159555,
    "start_time": "2023-02-03T08:50:10.281Z"
   },
   {
    "duration": 4,
    "start_time": "2023-02-03T08:52:49.838Z"
   },
   {
    "duration": 51,
    "start_time": "2023-02-03T08:52:49.844Z"
   },
   {
    "duration": 6364,
    "start_time": "2023-02-03T08:53:05.977Z"
   },
   {
    "duration": 3,
    "start_time": "2023-02-03T08:57:19.015Z"
   },
   {
    "duration": 589,
    "start_time": "2023-02-03T08:57:19.020Z"
   },
   {
    "duration": 60,
    "start_time": "2023-02-03T08:57:19.611Z"
   },
   {
    "duration": 16,
    "start_time": "2023-02-03T08:57:19.672Z"
   },
   {
    "duration": 11,
    "start_time": "2023-02-03T08:57:19.690Z"
   },
   {
    "duration": 19,
    "start_time": "2023-02-03T08:57:19.728Z"
   },
   {
    "duration": 363,
    "start_time": "2023-02-03T08:57:19.749Z"
   },
   {
    "duration": 18,
    "start_time": "2023-02-03T08:57:20.114Z"
   },
   {
    "duration": 19,
    "start_time": "2023-02-03T08:57:20.134Z"
   },
   {
    "duration": 15,
    "start_time": "2023-02-03T08:57:20.155Z"
   },
   {
    "duration": 43848,
    "start_time": "2023-02-03T08:57:20.172Z"
   },
   {
    "duration": 10,
    "start_time": "2023-02-03T08:58:04.022Z"
   },
   {
    "duration": 63,
    "start_time": "2023-02-03T08:58:04.034Z"
   },
   {
    "duration": 1637,
    "start_time": "2023-02-03T08:58:04.099Z"
   },
   {
    "duration": 18,
    "start_time": "2023-02-03T08:58:05.738Z"
   },
   {
    "duration": 1883,
    "start_time": "2023-02-03T08:58:05.758Z"
   },
   {
    "duration": 29,
    "start_time": "2023-02-03T08:58:07.643Z"
   },
   {
    "duration": 1765,
    "start_time": "2023-02-03T08:58:07.674Z"
   },
   {
    "duration": 15,
    "start_time": "2023-02-03T08:58:09.441Z"
   },
   {
    "duration": 871,
    "start_time": "2023-02-03T08:58:09.458Z"
   },
   {
    "duration": 12,
    "start_time": "2023-02-03T08:58:10.332Z"
   },
   {
    "duration": 973,
    "start_time": "2023-02-03T08:58:10.348Z"
   },
   {
    "duration": 51,
    "start_time": "2023-02-03T08:58:11.323Z"
   },
   {
    "duration": 1633,
    "start_time": "2023-02-03T08:58:11.376Z"
   },
   {
    "duration": 93,
    "start_time": "2023-02-03T08:58:13.010Z"
   },
   {
    "duration": 804,
    "start_time": "2023-02-03T08:58:13.105Z"
   },
   {
    "duration": 54,
    "start_time": "2023-02-03T08:58:13.911Z"
   },
   {
    "duration": 20,
    "start_time": "2023-02-03T08:58:13.966Z"
   },
   {
    "duration": 9,
    "start_time": "2023-02-03T08:58:13.989Z"
   },
   {
    "duration": 6,
    "start_time": "2023-02-03T08:58:13.999Z"
   },
   {
    "duration": 7222,
    "start_time": "2023-02-03T08:58:14.007Z"
   },
   {
    "duration": 7,
    "start_time": "2023-02-03T08:58:21.231Z"
   },
   {
    "duration": 10602,
    "start_time": "2023-02-03T08:58:21.242Z"
   },
   {
    "duration": 166973,
    "start_time": "2023-02-03T08:58:31.846Z"
   },
   {
    "duration": 7,
    "start_time": "2023-02-03T09:01:18.821Z"
   },
   {
    "duration": 52,
    "start_time": "2023-02-03T09:01:18.830Z"
   },
   {
    "duration": 2,
    "start_time": "2023-02-03T09:15:53.254Z"
   },
   {
    "duration": 13,
    "start_time": "2023-02-03T09:24:43.352Z"
   },
   {
    "duration": 2678,
    "start_time": "2023-02-03T09:25:54.015Z"
   },
   {
    "duration": 4,
    "start_time": "2023-02-03T09:28:35.709Z"
   },
   {
    "duration": 21,
    "start_time": "2023-02-03T09:28:35.714Z"
   },
   {
    "duration": 675,
    "start_time": "2023-02-03T09:28:35.737Z"
   },
   {
    "duration": 64,
    "start_time": "2023-02-03T09:28:36.414Z"
   },
   {
    "duration": 15,
    "start_time": "2023-02-03T09:28:36.479Z"
   },
   {
    "duration": 39,
    "start_time": "2023-02-03T09:28:36.495Z"
   },
   {
    "duration": 22,
    "start_time": "2023-02-03T09:28:36.536Z"
   },
   {
    "duration": 351,
    "start_time": "2023-02-03T09:28:36.560Z"
   },
   {
    "duration": 26,
    "start_time": "2023-02-03T09:28:36.913Z"
   },
   {
    "duration": 21,
    "start_time": "2023-02-03T09:28:36.941Z"
   },
   {
    "duration": 20,
    "start_time": "2023-02-03T09:28:36.964Z"
   },
   {
    "duration": 43455,
    "start_time": "2023-02-03T09:28:36.985Z"
   },
   {
    "duration": 5,
    "start_time": "2023-02-03T09:29:20.442Z"
   },
   {
    "duration": 57,
    "start_time": "2023-02-03T09:29:20.449Z"
   },
   {
    "duration": 1543,
    "start_time": "2023-02-03T09:29:20.508Z"
   },
   {
    "duration": 17,
    "start_time": "2023-02-03T09:29:22.053Z"
   },
   {
    "duration": 1539,
    "start_time": "2023-02-03T09:29:22.072Z"
   },
   {
    "duration": 33,
    "start_time": "2023-02-03T09:29:23.612Z"
   },
   {
    "duration": 1663,
    "start_time": "2023-02-03T09:29:23.647Z"
   },
   {
    "duration": 18,
    "start_time": "2023-02-03T09:29:25.312Z"
   },
   {
    "duration": 871,
    "start_time": "2023-02-03T09:29:25.334Z"
   },
   {
    "duration": 5,
    "start_time": "2023-02-03T09:29:26.207Z"
   },
   {
    "duration": 857,
    "start_time": "2023-02-03T09:29:26.214Z"
   },
   {
    "duration": 55,
    "start_time": "2023-02-03T09:29:27.073Z"
   },
   {
    "duration": 1574,
    "start_time": "2023-02-03T09:29:27.130Z"
   },
   {
    "duration": 198,
    "start_time": "2023-02-03T09:29:28.706Z"
   },
   {
    "duration": 758,
    "start_time": "2023-02-03T09:29:28.906Z"
   },
   {
    "duration": 33,
    "start_time": "2023-02-03T09:29:29.666Z"
   },
   {
    "duration": 41,
    "start_time": "2023-02-03T09:29:29.701Z"
   },
   {
    "duration": 11,
    "start_time": "2023-02-03T09:29:29.744Z"
   },
   {
    "duration": 7,
    "start_time": "2023-02-03T09:29:29.757Z"
   },
   {
    "duration": 5465,
    "start_time": "2023-02-03T09:29:29.765Z"
   },
   {
    "duration": 3,
    "start_time": "2023-02-03T09:29:35.232Z"
   },
   {
    "duration": 10180,
    "start_time": "2023-02-03T09:29:35.237Z"
   },
   {
    "duration": 156817,
    "start_time": "2023-02-03T09:29:45.419Z"
   },
   {
    "duration": 2,
    "start_time": "2023-02-03T09:32:22.238Z"
   },
   {
    "duration": 2553,
    "start_time": "2023-02-03T09:32:22.242Z"
   },
   {
    "duration": 0,
    "start_time": "2023-02-03T09:32:24.797Z"
   },
   {
    "duration": 16,
    "start_time": "2023-02-03T09:35:33.172Z"
   },
   {
    "duration": 31,
    "start_time": "2023-02-03T09:36:02.909Z"
   },
   {
    "duration": 16,
    "start_time": "2023-02-03T09:40:33.096Z"
   },
   {
    "duration": 14,
    "start_time": "2023-02-03T09:40:38.952Z"
   },
   {
    "duration": 14,
    "start_time": "2023-02-03T09:40:52.281Z"
   },
   {
    "duration": 25,
    "start_time": "2023-02-03T09:42:16.136Z"
   },
   {
    "duration": 22,
    "start_time": "2023-02-03T09:42:22.844Z"
   },
   {
    "duration": 26,
    "start_time": "2023-02-03T09:43:26.429Z"
   },
   {
    "duration": 18,
    "start_time": "2023-02-03T09:43:35.208Z"
   },
   {
    "duration": 21,
    "start_time": "2023-02-03T09:46:16.014Z"
   },
   {
    "duration": 17,
    "start_time": "2023-02-03T09:46:42.451Z"
   },
   {
    "duration": 3,
    "start_time": "2023-02-03T09:47:18.269Z"
   },
   {
    "duration": 8,
    "start_time": "2023-02-03T09:47:18.274Z"
   },
   {
    "duration": 709,
    "start_time": "2023-02-03T09:47:18.284Z"
   },
   {
    "duration": 69,
    "start_time": "2023-02-03T09:47:18.995Z"
   },
   {
    "duration": 15,
    "start_time": "2023-02-03T09:47:19.065Z"
   },
   {
    "duration": 11,
    "start_time": "2023-02-03T09:47:19.081Z"
   },
   {
    "duration": 19,
    "start_time": "2023-02-03T09:47:19.093Z"
   },
   {
    "duration": 626,
    "start_time": "2023-02-03T09:47:19.127Z"
   },
   {
    "duration": 12,
    "start_time": "2023-02-03T09:47:19.757Z"
   },
   {
    "duration": 70,
    "start_time": "2023-02-03T09:47:19.772Z"
   },
   {
    "duration": 31,
    "start_time": "2023-02-03T09:47:19.843Z"
   },
   {
    "duration": 43487,
    "start_time": "2023-02-03T09:47:19.876Z"
   },
   {
    "duration": 5,
    "start_time": "2023-02-03T09:48:03.366Z"
   },
   {
    "duration": 71,
    "start_time": "2023-02-03T09:48:03.373Z"
   },
   {
    "duration": 1401,
    "start_time": "2023-02-03T09:48:03.446Z"
   },
   {
    "duration": 16,
    "start_time": "2023-02-03T09:48:04.848Z"
   },
   {
    "duration": 1582,
    "start_time": "2023-02-03T09:48:04.865Z"
   },
   {
    "duration": 24,
    "start_time": "2023-02-03T09:48:06.449Z"
   },
   {
    "duration": 1667,
    "start_time": "2023-02-03T09:48:06.474Z"
   },
   {
    "duration": 10,
    "start_time": "2023-02-03T09:48:08.143Z"
   },
   {
    "duration": 916,
    "start_time": "2023-02-03T09:48:08.155Z"
   },
   {
    "duration": 6,
    "start_time": "2023-02-03T09:48:09.073Z"
   },
   {
    "duration": 763,
    "start_time": "2023-02-03T09:48:09.081Z"
   },
   {
    "duration": 49,
    "start_time": "2023-02-03T09:48:09.846Z"
   },
   {
    "duration": 1525,
    "start_time": "2023-02-03T09:48:09.897Z"
   },
   {
    "duration": 75,
    "start_time": "2023-02-03T09:48:11.424Z"
   },
   {
    "duration": 758,
    "start_time": "2023-02-03T09:48:11.500Z"
   },
   {
    "duration": 36,
    "start_time": "2023-02-03T09:48:12.261Z"
   },
   {
    "duration": 32,
    "start_time": "2023-02-03T09:48:12.298Z"
   },
   {
    "duration": 0,
    "start_time": "2023-02-03T09:48:12.339Z"
   },
   {
    "duration": 0,
    "start_time": "2023-02-03T09:48:12.342Z"
   },
   {
    "duration": 0,
    "start_time": "2023-02-03T09:48:12.343Z"
   },
   {
    "duration": 0,
    "start_time": "2023-02-03T09:48:12.344Z"
   },
   {
    "duration": 0,
    "start_time": "2023-02-03T09:48:12.345Z"
   },
   {
    "duration": 0,
    "start_time": "2023-02-03T09:48:12.347Z"
   },
   {
    "duration": 0,
    "start_time": "2023-02-03T09:48:12.348Z"
   },
   {
    "duration": 0,
    "start_time": "2023-02-03T09:48:12.350Z"
   },
   {
    "duration": 0,
    "start_time": "2023-02-03T09:48:12.351Z"
   },
   {
    "duration": 16,
    "start_time": "2023-02-03T09:49:05.034Z"
   },
   {
    "duration": 4,
    "start_time": "2023-02-03T09:49:18.999Z"
   },
   {
    "duration": 8,
    "start_time": "2023-02-03T09:49:19.006Z"
   },
   {
    "duration": 637,
    "start_time": "2023-02-03T09:49:19.016Z"
   },
   {
    "duration": 53,
    "start_time": "2023-02-03T09:49:19.655Z"
   },
   {
    "duration": 134,
    "start_time": "2023-02-03T09:49:19.709Z"
   },
   {
    "duration": 10,
    "start_time": "2023-02-03T09:49:19.845Z"
   },
   {
    "duration": 23,
    "start_time": "2023-02-03T09:49:19.857Z"
   },
   {
    "duration": 321,
    "start_time": "2023-02-03T09:49:19.881Z"
   },
   {
    "duration": 12,
    "start_time": "2023-02-03T09:49:20.204Z"
   },
   {
    "duration": 16,
    "start_time": "2023-02-03T09:49:20.232Z"
   },
   {
    "duration": 14,
    "start_time": "2023-02-03T09:49:20.249Z"
   },
   {
    "duration": 38236,
    "start_time": "2023-02-03T09:49:20.265Z"
   },
   {
    "duration": 4,
    "start_time": "2023-02-03T09:49:58.503Z"
   },
   {
    "duration": 62,
    "start_time": "2023-02-03T09:49:58.508Z"
   },
   {
    "duration": 1388,
    "start_time": "2023-02-03T09:49:58.572Z"
   },
   {
    "duration": 15,
    "start_time": "2023-02-03T09:49:59.962Z"
   },
   {
    "duration": 1458,
    "start_time": "2023-02-03T09:49:59.978Z"
   },
   {
    "duration": 27,
    "start_time": "2023-02-03T09:50:01.439Z"
   },
   {
    "duration": 1500,
    "start_time": "2023-02-03T09:50:01.468Z"
   },
   {
    "duration": 12,
    "start_time": "2023-02-03T09:50:02.970Z"
   },
   {
    "duration": 738,
    "start_time": "2023-02-03T09:50:02.983Z"
   },
   {
    "duration": 9,
    "start_time": "2023-02-03T09:50:03.723Z"
   },
   {
    "duration": 888,
    "start_time": "2023-02-03T09:50:03.734Z"
   },
   {
    "duration": 49,
    "start_time": "2023-02-03T09:50:04.628Z"
   },
   {
    "duration": 1472,
    "start_time": "2023-02-03T09:50:04.679Z"
   },
   {
    "duration": 82,
    "start_time": "2023-02-03T09:50:06.152Z"
   },
   {
    "duration": 742,
    "start_time": "2023-02-03T09:50:06.236Z"
   },
   {
    "duration": 31,
    "start_time": "2023-02-03T09:50:06.980Z"
   },
   {
    "duration": 33,
    "start_time": "2023-02-03T09:50:07.013Z"
   },
   {
    "duration": 0,
    "start_time": "2023-02-03T09:50:07.047Z"
   },
   {
    "duration": 0,
    "start_time": "2023-02-03T09:50:07.049Z"
   },
   {
    "duration": 0,
    "start_time": "2023-02-03T09:50:07.050Z"
   },
   {
    "duration": 0,
    "start_time": "2023-02-03T09:50:07.052Z"
   },
   {
    "duration": 0,
    "start_time": "2023-02-03T09:50:07.053Z"
   },
   {
    "duration": 0,
    "start_time": "2023-02-03T09:50:07.054Z"
   },
   {
    "duration": 0,
    "start_time": "2023-02-03T09:50:07.056Z"
   },
   {
    "duration": 0,
    "start_time": "2023-02-03T09:50:07.057Z"
   },
   {
    "duration": 0,
    "start_time": "2023-02-03T09:50:07.058Z"
   },
   {
    "duration": 18,
    "start_time": "2023-02-03T09:50:42.440Z"
   },
   {
    "duration": 17,
    "start_time": "2023-02-03T09:50:57.038Z"
   },
   {
    "duration": 5,
    "start_time": "2023-02-03T09:51:13.532Z"
   },
   {
    "duration": 38,
    "start_time": "2023-02-03T09:51:13.540Z"
   },
   {
    "duration": 742,
    "start_time": "2023-02-03T09:51:13.580Z"
   },
   {
    "duration": 67,
    "start_time": "2023-02-03T09:51:14.331Z"
   },
   {
    "duration": 28,
    "start_time": "2023-02-03T09:51:14.400Z"
   },
   {
    "duration": 13,
    "start_time": "2023-02-03T09:51:14.430Z"
   },
   {
    "duration": 22,
    "start_time": "2023-02-03T09:51:14.445Z"
   },
   {
    "duration": 350,
    "start_time": "2023-02-03T09:51:14.469Z"
   },
   {
    "duration": 22,
    "start_time": "2023-02-03T09:51:14.821Z"
   },
   {
    "duration": 26,
    "start_time": "2023-02-03T09:51:14.847Z"
   },
   {
    "duration": 22,
    "start_time": "2023-02-03T09:51:14.874Z"
   },
   {
    "duration": 41927,
    "start_time": "2023-02-03T09:51:14.898Z"
   },
   {
    "duration": 6,
    "start_time": "2023-02-03T09:51:56.828Z"
   },
   {
    "duration": 63,
    "start_time": "2023-02-03T09:51:56.836Z"
   },
   {
    "duration": 1583,
    "start_time": "2023-02-03T09:51:56.900Z"
   },
   {
    "duration": 17,
    "start_time": "2023-02-03T09:51:58.484Z"
   },
   {
    "duration": 1661,
    "start_time": "2023-02-03T09:51:58.503Z"
   },
   {
    "duration": 27,
    "start_time": "2023-02-03T09:52:00.166Z"
   },
   {
    "duration": 1590,
    "start_time": "2023-02-03T09:52:00.195Z"
   },
   {
    "duration": 11,
    "start_time": "2023-02-03T09:52:01.787Z"
   },
   {
    "duration": 955,
    "start_time": "2023-02-03T09:52:01.800Z"
   },
   {
    "duration": 5,
    "start_time": "2023-02-03T09:52:02.756Z"
   },
   {
    "duration": 794,
    "start_time": "2023-02-03T09:52:02.763Z"
   },
   {
    "duration": 53,
    "start_time": "2023-02-03T09:52:03.559Z"
   },
   {
    "duration": 1476,
    "start_time": "2023-02-03T09:52:03.614Z"
   },
   {
    "duration": 82,
    "start_time": "2023-02-03T09:52:05.092Z"
   },
   {
    "duration": 923,
    "start_time": "2023-02-03T09:52:05.175Z"
   },
   {
    "duration": 43,
    "start_time": "2023-02-03T09:52:06.101Z"
   },
   {
    "duration": 16,
    "start_time": "2023-02-03T09:52:06.145Z"
   },
   {
    "duration": 19,
    "start_time": "2023-02-03T09:52:06.163Z"
   },
   {
    "duration": 0,
    "start_time": "2023-02-03T09:52:06.184Z"
   },
   {
    "duration": 0,
    "start_time": "2023-02-03T09:52:06.186Z"
   },
   {
    "duration": 0,
    "start_time": "2023-02-03T09:52:06.187Z"
   },
   {
    "duration": 0,
    "start_time": "2023-02-03T09:52:06.189Z"
   },
   {
    "duration": 0,
    "start_time": "2023-02-03T09:52:06.190Z"
   },
   {
    "duration": 0,
    "start_time": "2023-02-03T09:52:06.192Z"
   },
   {
    "duration": 0,
    "start_time": "2023-02-03T09:52:06.193Z"
   },
   {
    "duration": 0,
    "start_time": "2023-02-03T09:52:06.194Z"
   },
   {
    "duration": 13,
    "start_time": "2023-02-03T09:52:34.012Z"
   },
   {
    "duration": 19,
    "start_time": "2023-02-03T09:54:57.686Z"
   },
   {
    "duration": 4,
    "start_time": "2023-02-03T09:55:02.648Z"
   },
   {
    "duration": 14,
    "start_time": "2023-02-03T09:55:02.655Z"
   },
   {
    "duration": 672,
    "start_time": "2023-02-03T09:55:02.671Z"
   },
   {
    "duration": 50,
    "start_time": "2023-02-03T09:55:03.346Z"
   },
   {
    "duration": 84,
    "start_time": "2023-02-03T09:55:03.397Z"
   },
   {
    "duration": 17,
    "start_time": "2023-02-03T09:55:03.482Z"
   },
   {
    "duration": 17,
    "start_time": "2023-02-03T09:55:03.500Z"
   },
   {
    "duration": 342,
    "start_time": "2023-02-03T09:55:03.518Z"
   },
   {
    "duration": 13,
    "start_time": "2023-02-03T09:55:03.863Z"
   },
   {
    "duration": 21,
    "start_time": "2023-02-03T09:55:03.878Z"
   },
   {
    "duration": 28,
    "start_time": "2023-02-03T09:55:03.901Z"
   },
   {
    "duration": 41836,
    "start_time": "2023-02-03T09:55:03.932Z"
   },
   {
    "duration": 4,
    "start_time": "2023-02-03T09:55:45.769Z"
   },
   {
    "duration": 70,
    "start_time": "2023-02-03T09:55:45.775Z"
   },
   {
    "duration": 1530,
    "start_time": "2023-02-03T09:55:45.847Z"
   },
   {
    "duration": 16,
    "start_time": "2023-02-03T09:55:47.379Z"
   },
   {
    "duration": 1558,
    "start_time": "2023-02-03T09:55:47.396Z"
   },
   {
    "duration": 25,
    "start_time": "2023-02-03T09:55:48.956Z"
   },
   {
    "duration": 1575,
    "start_time": "2023-02-03T09:55:48.983Z"
   },
   {
    "duration": 12,
    "start_time": "2023-02-03T09:55:50.560Z"
   },
   {
    "duration": 754,
    "start_time": "2023-02-03T09:55:50.574Z"
   },
   {
    "duration": 7,
    "start_time": "2023-02-03T09:55:51.330Z"
   },
   {
    "duration": 881,
    "start_time": "2023-02-03T09:55:51.338Z"
   },
   {
    "duration": 46,
    "start_time": "2023-02-03T09:55:52.227Z"
   },
   {
    "duration": 1460,
    "start_time": "2023-02-03T09:55:52.274Z"
   },
   {
    "duration": 73,
    "start_time": "2023-02-03T09:55:53.736Z"
   },
   {
    "duration": 766,
    "start_time": "2023-02-03T09:55:53.810Z"
   },
   {
    "duration": 24,
    "start_time": "2023-02-03T09:55:54.578Z"
   },
   {
    "duration": 0,
    "start_time": "2023-02-03T09:55:54.603Z"
   },
   {
    "duration": 0,
    "start_time": "2023-02-03T09:55:54.604Z"
   },
   {
    "duration": 0,
    "start_time": "2023-02-03T09:55:54.605Z"
   },
   {
    "duration": 0,
    "start_time": "2023-02-03T09:55:54.606Z"
   },
   {
    "duration": 0,
    "start_time": "2023-02-03T09:55:54.607Z"
   },
   {
    "duration": 0,
    "start_time": "2023-02-03T09:55:54.627Z"
   },
   {
    "duration": 0,
    "start_time": "2023-02-03T09:55:54.629Z"
   },
   {
    "duration": 0,
    "start_time": "2023-02-03T09:55:54.630Z"
   },
   {
    "duration": 0,
    "start_time": "2023-02-03T09:55:54.631Z"
   },
   {
    "duration": 0,
    "start_time": "2023-02-03T09:55:54.632Z"
   },
   {
    "duration": 34,
    "start_time": "2023-02-03T09:56:13.454Z"
   },
   {
    "duration": 17,
    "start_time": "2023-02-03T09:56:18.524Z"
   },
   {
    "duration": 17,
    "start_time": "2023-02-03T09:56:21.949Z"
   },
   {
    "duration": 23,
    "start_time": "2023-02-03T09:57:09.069Z"
   },
   {
    "duration": 4,
    "start_time": "2023-02-03T09:57:13.444Z"
   },
   {
    "duration": 15,
    "start_time": "2023-02-03T09:57:13.450Z"
   },
   {
    "duration": 707,
    "start_time": "2023-02-03T09:57:13.467Z"
   },
   {
    "duration": 63,
    "start_time": "2023-02-03T09:57:14.176Z"
   },
   {
    "duration": 22,
    "start_time": "2023-02-03T09:57:14.241Z"
   },
   {
    "duration": 12,
    "start_time": "2023-02-03T09:57:14.265Z"
   },
   {
    "duration": 18,
    "start_time": "2023-02-03T09:57:14.279Z"
   },
   {
    "duration": 323,
    "start_time": "2023-02-03T09:57:14.327Z"
   },
   {
    "duration": 17,
    "start_time": "2023-02-03T09:57:14.651Z"
   },
   {
    "duration": 21,
    "start_time": "2023-02-03T09:57:14.669Z"
   },
   {
    "duration": 35,
    "start_time": "2023-02-03T09:57:14.693Z"
   },
   {
    "duration": 43311,
    "start_time": "2023-02-03T09:57:14.730Z"
   },
   {
    "duration": 5,
    "start_time": "2023-02-03T09:57:58.043Z"
   },
   {
    "duration": 64,
    "start_time": "2023-02-03T09:57:58.050Z"
   },
   {
    "duration": 1451,
    "start_time": "2023-02-03T09:57:58.127Z"
   },
   {
    "duration": 16,
    "start_time": "2023-02-03T09:57:59.579Z"
   },
   {
    "duration": 1498,
    "start_time": "2023-02-03T09:57:59.597Z"
   },
   {
    "duration": 34,
    "start_time": "2023-02-03T09:58:01.097Z"
   },
   {
    "duration": 1503,
    "start_time": "2023-02-03T09:58:01.133Z"
   },
   {
    "duration": 11,
    "start_time": "2023-02-03T09:58:02.638Z"
   },
   {
    "duration": 867,
    "start_time": "2023-02-03T09:58:02.651Z"
   },
   {
    "duration": 7,
    "start_time": "2023-02-03T09:58:03.527Z"
   },
   {
    "duration": 861,
    "start_time": "2023-02-03T09:58:03.535Z"
   },
   {
    "duration": 60,
    "start_time": "2023-02-03T09:58:04.398Z"
   },
   {
    "duration": 1515,
    "start_time": "2023-02-03T09:58:04.459Z"
   },
   {
    "duration": 85,
    "start_time": "2023-02-03T09:58:05.976Z"
   },
   {
    "duration": 765,
    "start_time": "2023-02-03T09:58:06.063Z"
   },
   {
    "duration": 38,
    "start_time": "2023-02-03T09:58:06.829Z"
   },
   {
    "duration": 16,
    "start_time": "2023-02-03T09:58:06.870Z"
   },
   {
    "duration": 54,
    "start_time": "2023-02-03T09:58:06.888Z"
   },
   {
    "duration": 4,
    "start_time": "2023-02-03T09:58:06.943Z"
   },
   {
    "duration": 2681,
    "start_time": "2023-02-03T09:58:06.948Z"
   },
   {
    "duration": 3,
    "start_time": "2023-02-03T09:58:09.631Z"
   },
   {
    "duration": 10315,
    "start_time": "2023-02-03T09:58:09.636Z"
   },
   {
    "duration": 97618,
    "start_time": "2023-02-03T09:58:19.952Z"
   },
   {
    "duration": 4,
    "start_time": "2023-02-03T09:59:57.572Z"
   },
   {
    "duration": 1635,
    "start_time": "2023-02-03T09:59:57.577Z"
   },
   {
    "duration": 0,
    "start_time": "2023-02-03T09:59:59.214Z"
   },
   {
    "duration": 3150,
    "start_time": "2023-02-03T10:00:18.551Z"
   },
   {
    "duration": 3340,
    "start_time": "2023-02-03T10:00:57.973Z"
   },
   {
    "duration": 33,
    "start_time": "2023-02-03T10:01:04.021Z"
   },
   {
    "duration": 208720,
    "start_time": "2023-02-03T10:01:54.661Z"
   },
   {
    "duration": 117,
    "start_time": "2023-02-03T10:16:37.473Z"
   },
   {
    "duration": 879,
    "start_time": "2023-02-03T10:16:59.110Z"
   },
   {
    "duration": 63503,
    "start_time": "2023-02-03T10:17:15.352Z"
   },
   {
    "duration": 87,
    "start_time": "2023-02-03T10:25:05.087Z"
   },
   {
    "duration": 806801,
    "start_time": "2023-02-03T10:25:25.152Z"
   },
   {
    "duration": 0,
    "start_time": "2023-02-03T10:38:51.955Z"
   },
   {
    "duration": 27,
    "start_time": "2023-02-03T10:39:20.698Z"
   },
   {
    "duration": 17,
    "start_time": "2023-02-03T10:42:02.951Z"
   },
   {
    "duration": 3,
    "start_time": "2023-02-03T10:42:10.168Z"
   },
   {
    "duration": 14,
    "start_time": "2023-02-03T10:42:10.173Z"
   },
   {
    "duration": 689,
    "start_time": "2023-02-03T10:42:10.189Z"
   },
   {
    "duration": 76,
    "start_time": "2023-02-03T10:42:10.880Z"
   },
   {
    "duration": 14,
    "start_time": "2023-02-03T10:42:10.958Z"
   },
   {
    "duration": 11,
    "start_time": "2023-02-03T10:42:10.973Z"
   },
   {
    "duration": 17,
    "start_time": "2023-02-03T10:42:10.985Z"
   },
   {
    "duration": 348,
    "start_time": "2023-02-03T10:42:11.003Z"
   },
   {
    "duration": 14,
    "start_time": "2023-02-03T10:42:11.353Z"
   },
   {
    "duration": 20,
    "start_time": "2023-02-03T10:42:11.369Z"
   },
   {
    "duration": 50,
    "start_time": "2023-02-03T10:42:11.390Z"
   },
   {
    "duration": 43000,
    "start_time": "2023-02-03T10:42:11.442Z"
   },
   {
    "duration": 5,
    "start_time": "2023-02-03T10:42:54.444Z"
   },
   {
    "duration": 50,
    "start_time": "2023-02-03T10:42:54.452Z"
   },
   {
    "duration": 1609,
    "start_time": "2023-02-03T10:42:54.503Z"
   },
   {
    "duration": 33,
    "start_time": "2023-02-03T10:42:56.114Z"
   },
   {
    "duration": 1623,
    "start_time": "2023-02-03T10:42:56.149Z"
   },
   {
    "duration": 26,
    "start_time": "2023-02-03T10:42:57.774Z"
   },
   {
    "duration": 1671,
    "start_time": "2023-02-03T10:42:57.802Z"
   },
   {
    "duration": 69,
    "start_time": "2023-02-03T10:42:59.474Z"
   },
   {
    "duration": 1781,
    "start_time": "2023-02-03T10:42:59.544Z"
   },
   {
    "duration": 12,
    "start_time": "2023-02-03T10:43:01.326Z"
   },
   {
    "duration": 795,
    "start_time": "2023-02-03T10:43:01.339Z"
   },
   {
    "duration": 53,
    "start_time": "2023-02-03T10:43:02.136Z"
   },
   {
    "duration": 1500,
    "start_time": "2023-02-03T10:43:02.191Z"
   },
   {
    "duration": 204,
    "start_time": "2023-02-03T10:43:03.693Z"
   },
   {
    "duration": 1141,
    "start_time": "2023-02-03T10:43:03.899Z"
   },
   {
    "duration": 120,
    "start_time": "2023-02-03T10:43:05.042Z"
   },
   {
    "duration": 71,
    "start_time": "2023-02-03T10:43:05.165Z"
   },
   {
    "duration": 91,
    "start_time": "2023-02-03T10:43:05.239Z"
   },
   {
    "duration": 5,
    "start_time": "2023-02-03T10:43:05.332Z"
   },
   {
    "duration": 4393,
    "start_time": "2023-02-03T10:43:05.341Z"
   },
   {
    "duration": 3,
    "start_time": "2023-02-03T10:43:09.736Z"
   },
   {
    "duration": 62128,
    "start_time": "2023-02-03T10:43:09.741Z"
   },
   {
    "duration": 439091,
    "start_time": "2023-02-03T10:44:11.871Z"
   },
   {
    "duration": 0,
    "start_time": "2023-02-03T10:51:30.964Z"
   },
   {
    "duration": 0,
    "start_time": "2023-02-03T10:51:30.965Z"
   },
   {
    "duration": 0,
    "start_time": "2023-02-03T10:51:30.966Z"
   },
   {
    "duration": 0,
    "start_time": "2023-02-03T10:51:30.969Z"
   },
   {
    "duration": 15,
    "start_time": "2023-02-03T10:51:32.885Z"
   },
   {
    "duration": 4,
    "start_time": "2023-02-03T10:51:40.514Z"
   },
   {
    "duration": 11,
    "start_time": "2023-02-03T10:51:40.520Z"
   },
   {
    "duration": 670,
    "start_time": "2023-02-03T10:51:40.532Z"
   },
   {
    "duration": 61,
    "start_time": "2023-02-03T10:51:41.204Z"
   },
   {
    "duration": 15,
    "start_time": "2023-02-03T10:51:41.267Z"
   },
   {
    "duration": 11,
    "start_time": "2023-02-03T10:51:41.284Z"
   },
   {
    "duration": 38,
    "start_time": "2023-02-03T10:51:41.296Z"
   },
   {
    "duration": 332,
    "start_time": "2023-02-03T10:51:41.336Z"
   },
   {
    "duration": 13,
    "start_time": "2023-02-03T10:51:41.669Z"
   },
   {
    "duration": 15,
    "start_time": "2023-02-03T10:51:41.685Z"
   },
   {
    "duration": 39,
    "start_time": "2023-02-03T10:51:41.701Z"
   },
   {
    "duration": 41615,
    "start_time": "2023-02-03T10:51:41.741Z"
   },
   {
    "duration": 4,
    "start_time": "2023-02-03T10:52:23.358Z"
   },
   {
    "duration": 51,
    "start_time": "2023-02-03T10:52:23.364Z"
   },
   {
    "duration": 1471,
    "start_time": "2023-02-03T10:52:23.427Z"
   },
   {
    "duration": 15,
    "start_time": "2023-02-03T10:52:24.900Z"
   },
   {
    "duration": 1520,
    "start_time": "2023-02-03T10:52:24.932Z"
   },
   {
    "duration": 26,
    "start_time": "2023-02-03T10:52:26.453Z"
   },
   {
    "duration": 1587,
    "start_time": "2023-02-03T10:52:26.481Z"
   },
   {
    "duration": 13,
    "start_time": "2023-02-03T10:52:28.070Z"
   },
   {
    "duration": 905,
    "start_time": "2023-02-03T10:52:28.084Z"
   },
   {
    "duration": 7,
    "start_time": "2023-02-03T10:52:28.990Z"
   },
   {
    "duration": 802,
    "start_time": "2023-02-03T10:52:28.998Z"
   },
   {
    "duration": 56,
    "start_time": "2023-02-03T10:52:29.802Z"
   },
   {
    "duration": 1543,
    "start_time": "2023-02-03T10:52:29.860Z"
   },
   {
    "duration": 202,
    "start_time": "2023-02-03T10:52:31.404Z"
   },
   {
    "duration": 768,
    "start_time": "2023-02-03T10:52:31.608Z"
   },
   {
    "duration": 55,
    "start_time": "2023-02-03T10:52:32.379Z"
   },
   {
    "duration": 17,
    "start_time": "2023-02-03T10:52:32.436Z"
   },
   {
    "duration": 13,
    "start_time": "2023-02-03T10:52:32.454Z"
   },
   {
    "duration": 0,
    "start_time": "2023-02-03T10:52:32.468Z"
   },
   {
    "duration": 0,
    "start_time": "2023-02-03T10:52:32.469Z"
   },
   {
    "duration": 0,
    "start_time": "2023-02-03T10:52:32.470Z"
   },
   {
    "duration": 0,
    "start_time": "2023-02-03T10:52:32.471Z"
   },
   {
    "duration": 0,
    "start_time": "2023-02-03T10:52:32.473Z"
   },
   {
    "duration": 0,
    "start_time": "2023-02-03T10:52:32.474Z"
   },
   {
    "duration": 0,
    "start_time": "2023-02-03T10:52:32.475Z"
   },
   {
    "duration": 0,
    "start_time": "2023-02-03T10:52:32.476Z"
   },
   {
    "duration": 15,
    "start_time": "2023-02-03T10:54:11.362Z"
   },
   {
    "duration": 4,
    "start_time": "2023-02-03T10:54:14.774Z"
   },
   {
    "duration": 7,
    "start_time": "2023-02-03T10:54:14.779Z"
   },
   {
    "duration": 668,
    "start_time": "2023-02-03T10:54:14.788Z"
   },
   {
    "duration": 53,
    "start_time": "2023-02-03T10:54:15.458Z"
   },
   {
    "duration": 15,
    "start_time": "2023-02-03T10:54:15.527Z"
   },
   {
    "duration": 12,
    "start_time": "2023-02-03T10:54:15.543Z"
   },
   {
    "duration": 19,
    "start_time": "2023-02-03T10:54:15.556Z"
   },
   {
    "duration": 328,
    "start_time": "2023-02-03T10:54:15.576Z"
   },
   {
    "duration": 22,
    "start_time": "2023-02-03T10:54:15.906Z"
   },
   {
    "duration": 14,
    "start_time": "2023-02-03T10:54:15.930Z"
   },
   {
    "duration": 15,
    "start_time": "2023-02-03T10:54:15.946Z"
   },
   {
    "duration": 39578,
    "start_time": "2023-02-03T10:54:15.962Z"
   },
   {
    "duration": 5,
    "start_time": "2023-02-03T10:54:55.542Z"
   },
   {
    "duration": 60,
    "start_time": "2023-02-03T10:54:55.549Z"
   },
   {
    "duration": 1544,
    "start_time": "2023-02-03T10:54:55.610Z"
   },
   {
    "duration": 15,
    "start_time": "2023-02-03T10:54:57.156Z"
   },
   {
    "duration": 1683,
    "start_time": "2023-02-03T10:54:57.173Z"
   },
   {
    "duration": 26,
    "start_time": "2023-02-03T10:54:58.858Z"
   },
   {
    "duration": 1674,
    "start_time": "2023-02-03T10:54:58.886Z"
   },
   {
    "duration": 11,
    "start_time": "2023-02-03T10:55:00.562Z"
   },
   {
    "duration": 805,
    "start_time": "2023-02-03T10:55:00.574Z"
   },
   {
    "duration": 7,
    "start_time": "2023-02-03T10:55:01.380Z"
   },
   {
    "duration": 1024,
    "start_time": "2023-02-03T10:55:01.388Z"
   },
   {
    "duration": 55,
    "start_time": "2023-02-03T10:55:02.415Z"
   },
   {
    "duration": 1663,
    "start_time": "2023-02-03T10:55:02.472Z"
   },
   {
    "duration": 90,
    "start_time": "2023-02-03T10:55:04.138Z"
   },
   {
    "duration": 802,
    "start_time": "2023-02-03T10:55:04.230Z"
   },
   {
    "duration": 59,
    "start_time": "2023-02-03T10:55:05.034Z"
   },
   {
    "duration": 33,
    "start_time": "2023-02-03T10:55:05.095Z"
   },
   {
    "duration": 32,
    "start_time": "2023-02-03T10:55:05.130Z"
   },
   {
    "duration": 8,
    "start_time": "2023-02-03T10:55:05.164Z"
   },
   {
    "duration": 40,
    "start_time": "2023-02-03T10:55:05.174Z"
   },
   {
    "duration": 0,
    "start_time": "2023-02-03T10:55:05.217Z"
   },
   {
    "duration": 0,
    "start_time": "2023-02-03T10:55:05.219Z"
   },
   {
    "duration": 0,
    "start_time": "2023-02-03T10:55:05.228Z"
   },
   {
    "duration": 0,
    "start_time": "2023-02-03T10:55:05.229Z"
   },
   {
    "duration": 0,
    "start_time": "2023-02-03T10:55:05.231Z"
   },
   {
    "duration": 0,
    "start_time": "2023-02-03T10:55:05.232Z"
   },
   {
    "duration": 3,
    "start_time": "2023-02-03T10:56:14.070Z"
   },
   {
    "duration": 14,
    "start_time": "2023-02-03T10:56:14.076Z"
   },
   {
    "duration": 634,
    "start_time": "2023-02-03T10:56:14.092Z"
   },
   {
    "duration": 52,
    "start_time": "2023-02-03T10:56:14.728Z"
   },
   {
    "duration": 16,
    "start_time": "2023-02-03T10:56:14.782Z"
   },
   {
    "duration": 32,
    "start_time": "2023-02-03T10:56:14.800Z"
   },
   {
    "duration": 16,
    "start_time": "2023-02-03T10:56:14.833Z"
   },
   {
    "duration": 338,
    "start_time": "2023-02-03T10:56:14.851Z"
   },
   {
    "duration": 147,
    "start_time": "2023-02-03T10:56:15.191Z"
   },
   {
    "duration": 17,
    "start_time": "2023-02-03T10:56:15.340Z"
   },
   {
    "duration": 14,
    "start_time": "2023-02-03T10:56:15.359Z"
   },
   {
    "duration": 38863,
    "start_time": "2023-02-03T10:56:15.374Z"
   },
   {
    "duration": 4,
    "start_time": "2023-02-03T10:56:54.241Z"
   },
   {
    "duration": 40,
    "start_time": "2023-02-03T10:56:54.247Z"
   },
   {
    "duration": 1613,
    "start_time": "2023-02-03T10:56:54.289Z"
   },
   {
    "duration": 24,
    "start_time": "2023-02-03T10:56:55.904Z"
   },
   {
    "duration": 1635,
    "start_time": "2023-02-03T10:56:55.930Z"
   },
   {
    "duration": 27,
    "start_time": "2023-02-03T10:56:57.567Z"
   },
   {
    "duration": 1637,
    "start_time": "2023-02-03T10:56:57.596Z"
   },
   {
    "duration": 17,
    "start_time": "2023-02-03T10:56:59.235Z"
   },
   {
    "duration": 835,
    "start_time": "2023-02-03T10:56:59.254Z"
   },
   {
    "duration": 7,
    "start_time": "2023-02-03T10:57:00.090Z"
   },
   {
    "duration": 992,
    "start_time": "2023-02-03T10:57:00.098Z"
   },
   {
    "duration": 72,
    "start_time": "2023-02-03T10:57:01.092Z"
   },
   {
    "duration": 1589,
    "start_time": "2023-02-03T10:57:01.166Z"
   },
   {
    "duration": 90,
    "start_time": "2023-02-03T10:57:02.757Z"
   },
   {
    "duration": 780,
    "start_time": "2023-02-03T10:57:02.849Z"
   },
   {
    "duration": 50,
    "start_time": "2023-02-03T10:57:03.631Z"
   },
   {
    "duration": 16,
    "start_time": "2023-02-03T10:57:03.683Z"
   },
   {
    "duration": 46,
    "start_time": "2023-02-03T10:57:03.700Z"
   },
   {
    "duration": 4,
    "start_time": "2023-02-03T10:57:03.748Z"
   },
   {
    "duration": 20,
    "start_time": "2023-02-03T10:57:03.754Z"
   },
   {
    "duration": 0,
    "start_time": "2023-02-03T10:57:03.776Z"
   },
   {
    "duration": 0,
    "start_time": "2023-02-03T10:57:03.777Z"
   },
   {
    "duration": 0,
    "start_time": "2023-02-03T10:57:03.778Z"
   },
   {
    "duration": 0,
    "start_time": "2023-02-03T10:57:03.779Z"
   },
   {
    "duration": 0,
    "start_time": "2023-02-03T10:57:03.780Z"
   },
   {
    "duration": 0,
    "start_time": "2023-02-03T10:57:03.781Z"
   },
   {
    "duration": 18,
    "start_time": "2023-02-03T11:21:59.051Z"
   },
   {
    "duration": 17,
    "start_time": "2023-02-03T11:37:26.549Z"
   },
   {
    "duration": 14,
    "start_time": "2023-02-03T11:37:37.983Z"
   },
   {
    "duration": 15,
    "start_time": "2023-02-03T11:37:59.183Z"
   },
   {
    "duration": 23,
    "start_time": "2023-02-03T11:38:14.285Z"
   },
   {
    "duration": 7,
    "start_time": "2023-02-03T11:39:14.305Z"
   },
   {
    "duration": 4,
    "start_time": "2023-02-03T11:39:57.878Z"
   },
   {
    "duration": 5,
    "start_time": "2023-02-03T11:39:57.885Z"
   },
   {
    "duration": 663,
    "start_time": "2023-02-03T11:39:57.892Z"
   },
   {
    "duration": 54,
    "start_time": "2023-02-03T11:39:58.557Z"
   },
   {
    "duration": 36,
    "start_time": "2023-02-03T11:39:58.612Z"
   },
   {
    "duration": 18,
    "start_time": "2023-02-03T11:39:58.650Z"
   },
   {
    "duration": 19,
    "start_time": "2023-02-03T11:39:58.670Z"
   },
   {
    "duration": 332,
    "start_time": "2023-02-03T11:39:58.690Z"
   },
   {
    "duration": 19,
    "start_time": "2023-02-03T11:39:59.027Z"
   },
   {
    "duration": 17,
    "start_time": "2023-02-03T11:39:59.048Z"
   },
   {
    "duration": 17,
    "start_time": "2023-02-03T11:39:59.067Z"
   },
   {
    "duration": 43977,
    "start_time": "2023-02-03T11:39:59.086Z"
   },
   {
    "duration": 5,
    "start_time": "2023-02-03T11:40:43.064Z"
   },
   {
    "duration": 40,
    "start_time": "2023-02-03T11:40:43.071Z"
   },
   {
    "duration": 1575,
    "start_time": "2023-02-03T11:40:43.128Z"
   },
   {
    "duration": 35,
    "start_time": "2023-02-03T11:40:44.705Z"
   },
   {
    "duration": 1577,
    "start_time": "2023-02-03T11:40:44.741Z"
   },
   {
    "duration": 46,
    "start_time": "2023-02-03T11:40:46.320Z"
   },
   {
    "duration": 1683,
    "start_time": "2023-02-03T11:40:46.367Z"
   },
   {
    "duration": 12,
    "start_time": "2023-02-03T11:40:48.051Z"
   },
   {
    "duration": 945,
    "start_time": "2023-02-03T11:40:48.065Z"
   },
   {
    "duration": 15,
    "start_time": "2023-02-03T11:40:49.013Z"
   },
   {
    "duration": 820,
    "start_time": "2023-02-03T11:40:49.030Z"
   },
   {
    "duration": 49,
    "start_time": "2023-02-03T11:40:49.852Z"
   },
   {
    "duration": 1622,
    "start_time": "2023-02-03T11:40:49.903Z"
   },
   {
    "duration": 82,
    "start_time": "2023-02-03T11:40:51.529Z"
   },
   {
    "duration": 799,
    "start_time": "2023-02-03T11:40:51.613Z"
   },
   {
    "duration": 57,
    "start_time": "2023-02-03T11:40:52.416Z"
   },
   {
    "duration": 16,
    "start_time": "2023-02-03T11:40:52.476Z"
   },
   {
    "duration": 8,
    "start_time": "2023-02-03T11:40:52.493Z"
   },
   {
    "duration": 11,
    "start_time": "2023-02-03T11:40:52.502Z"
   },
   {
    "duration": 34,
    "start_time": "2023-02-03T11:40:52.514Z"
   },
   {
    "duration": 0,
    "start_time": "2023-02-03T11:40:52.550Z"
   },
   {
    "duration": 0,
    "start_time": "2023-02-03T11:40:52.551Z"
   },
   {
    "duration": 0,
    "start_time": "2023-02-03T11:40:52.553Z"
   },
   {
    "duration": 0,
    "start_time": "2023-02-03T11:40:52.553Z"
   },
   {
    "duration": 0,
    "start_time": "2023-02-03T11:40:52.554Z"
   },
   {
    "duration": 0,
    "start_time": "2023-02-03T11:40:52.556Z"
   },
   {
    "duration": 15,
    "start_time": "2023-02-03T11:46:49.488Z"
   },
   {
    "duration": 3,
    "start_time": "2023-02-03T11:46:52.703Z"
   },
   {
    "duration": 7,
    "start_time": "2023-02-03T11:46:52.709Z"
   },
   {
    "duration": 632,
    "start_time": "2023-02-03T11:46:52.718Z"
   },
   {
    "duration": 54,
    "start_time": "2023-02-03T11:46:53.352Z"
   },
   {
    "duration": 155,
    "start_time": "2023-02-03T11:46:53.409Z"
   },
   {
    "duration": 20,
    "start_time": "2023-02-03T11:46:53.566Z"
   },
   {
    "duration": 19,
    "start_time": "2023-02-03T11:46:53.588Z"
   },
   {
    "duration": 335,
    "start_time": "2023-02-03T11:46:53.629Z"
   },
   {
    "duration": 15,
    "start_time": "2023-02-03T11:46:53.966Z"
   },
   {
    "duration": 18,
    "start_time": "2023-02-03T11:46:53.982Z"
   },
   {
    "duration": 34,
    "start_time": "2023-02-03T11:46:54.002Z"
   },
   {
    "duration": 42756,
    "start_time": "2023-02-03T11:46:54.037Z"
   },
   {
    "duration": 4,
    "start_time": "2023-02-03T11:47:36.796Z"
   },
   {
    "duration": 63,
    "start_time": "2023-02-03T11:47:36.802Z"
   },
   {
    "duration": 1682,
    "start_time": "2023-02-03T11:47:36.867Z"
   },
   {
    "duration": 19,
    "start_time": "2023-02-03T11:47:38.553Z"
   },
   {
    "duration": 1765,
    "start_time": "2023-02-03T11:47:38.573Z"
   },
   {
    "duration": 36,
    "start_time": "2023-02-03T11:47:40.341Z"
   },
   {
    "duration": 1751,
    "start_time": "2023-02-03T11:47:40.378Z"
   },
   {
    "duration": 16,
    "start_time": "2023-02-03T11:47:42.134Z"
   },
   {
    "duration": 834,
    "start_time": "2023-02-03T11:47:42.151Z"
   },
   {
    "duration": 8,
    "start_time": "2023-02-03T11:47:42.987Z"
   },
   {
    "duration": 1109,
    "start_time": "2023-02-03T11:47:42.997Z"
   },
   {
    "duration": 90,
    "start_time": "2023-02-03T11:47:44.109Z"
   },
   {
    "duration": 1709,
    "start_time": "2023-02-03T11:47:44.201Z"
   },
   {
    "duration": 94,
    "start_time": "2023-02-03T11:47:45.911Z"
   },
   {
    "duration": 866,
    "start_time": "2023-02-03T11:47:46.007Z"
   },
   {
    "duration": 62,
    "start_time": "2023-02-03T11:47:46.875Z"
   },
   {
    "duration": 19,
    "start_time": "2023-02-03T11:47:46.939Z"
   },
   {
    "duration": 19,
    "start_time": "2023-02-03T11:47:46.960Z"
   },
   {
    "duration": 0,
    "start_time": "2023-02-03T11:47:46.981Z"
   },
   {
    "duration": 0,
    "start_time": "2023-02-03T11:47:46.982Z"
   },
   {
    "duration": 0,
    "start_time": "2023-02-03T11:47:46.983Z"
   },
   {
    "duration": 0,
    "start_time": "2023-02-03T11:47:46.984Z"
   },
   {
    "duration": 0,
    "start_time": "2023-02-03T11:47:46.986Z"
   },
   {
    "duration": 0,
    "start_time": "2023-02-03T11:47:46.986Z"
   },
   {
    "duration": 0,
    "start_time": "2023-02-03T11:47:46.987Z"
   },
   {
    "duration": 0,
    "start_time": "2023-02-03T11:47:46.988Z"
   },
   {
    "duration": 1295,
    "start_time": "2023-02-03T11:51:16.874Z"
   },
   {
    "duration": 5,
    "start_time": "2023-02-03T11:51:31.021Z"
   },
   {
    "duration": 36,
    "start_time": "2023-02-03T11:51:31.029Z"
   },
   {
    "duration": 647,
    "start_time": "2023-02-03T11:51:31.067Z"
   },
   {
    "duration": 72,
    "start_time": "2023-02-03T11:51:31.717Z"
   },
   {
    "duration": 14,
    "start_time": "2023-02-03T11:51:31.791Z"
   },
   {
    "duration": 26,
    "start_time": "2023-02-03T11:51:31.807Z"
   },
   {
    "duration": 27,
    "start_time": "2023-02-03T11:51:31.838Z"
   },
   {
    "duration": 325,
    "start_time": "2023-02-03T11:51:31.866Z"
   },
   {
    "duration": 43,
    "start_time": "2023-02-03T11:51:32.194Z"
   },
   {
    "duration": 18,
    "start_time": "2023-02-03T11:51:32.239Z"
   },
   {
    "duration": 32,
    "start_time": "2023-02-03T11:51:32.259Z"
   },
   {
    "duration": 43218,
    "start_time": "2023-02-03T11:51:32.293Z"
   },
   {
    "duration": 5,
    "start_time": "2023-02-03T11:52:15.513Z"
   },
   {
    "duration": 63,
    "start_time": "2023-02-03T11:52:15.520Z"
   },
   {
    "duration": 1693,
    "start_time": "2023-02-03T11:52:15.585Z"
   },
   {
    "duration": 17,
    "start_time": "2023-02-03T11:52:17.280Z"
   },
   {
    "duration": 1802,
    "start_time": "2023-02-03T11:52:17.299Z"
   },
   {
    "duration": 52,
    "start_time": "2023-02-03T11:52:19.103Z"
   },
   {
    "duration": 1712,
    "start_time": "2023-02-03T11:52:19.157Z"
   },
   {
    "duration": 12,
    "start_time": "2023-02-03T11:52:20.871Z"
   },
   {
    "duration": 1002,
    "start_time": "2023-02-03T11:52:20.885Z"
   },
   {
    "duration": 8,
    "start_time": "2023-02-03T11:52:21.888Z"
   },
   {
    "duration": 945,
    "start_time": "2023-02-03T11:52:21.898Z"
   },
   {
    "duration": 49,
    "start_time": "2023-02-03T11:52:22.846Z"
   },
   {
    "duration": 1677,
    "start_time": "2023-02-03T11:52:22.897Z"
   },
   {
    "duration": 241,
    "start_time": "2023-02-03T11:52:24.576Z"
   },
   {
    "duration": 906,
    "start_time": "2023-02-03T11:52:24.819Z"
   },
   {
    "duration": 54,
    "start_time": "2023-02-03T11:52:25.728Z"
   },
   {
    "duration": 42,
    "start_time": "2023-02-03T11:52:25.784Z"
   },
   {
    "duration": 32,
    "start_time": "2023-02-03T11:52:25.830Z"
   },
   {
    "duration": 23,
    "start_time": "2023-02-03T11:52:25.864Z"
   },
   {
    "duration": 24,
    "start_time": "2023-02-03T11:52:25.889Z"
   },
   {
    "duration": 0,
    "start_time": "2023-02-03T11:52:25.914Z"
   },
   {
    "duration": 0,
    "start_time": "2023-02-03T11:52:25.915Z"
   },
   {
    "duration": 0,
    "start_time": "2023-02-03T11:52:25.917Z"
   },
   {
    "duration": 0,
    "start_time": "2023-02-03T11:52:25.918Z"
   },
   {
    "duration": 0,
    "start_time": "2023-02-03T11:52:25.919Z"
   },
   {
    "duration": 0,
    "start_time": "2023-02-03T11:52:25.920Z"
   },
   {
    "duration": 110,
    "start_time": "2023-02-03T11:53:32.475Z"
   },
   {
    "duration": 1575,
    "start_time": "2023-02-03T11:53:56.844Z"
   },
   {
    "duration": 7,
    "start_time": "2023-02-03T11:54:04.463Z"
   },
   {
    "duration": 12,
    "start_time": "2023-02-03T11:54:04.475Z"
   },
   {
    "duration": 737,
    "start_time": "2023-02-03T11:54:04.489Z"
   },
   {
    "duration": 88,
    "start_time": "2023-02-03T11:54:05.230Z"
   },
   {
    "duration": 28,
    "start_time": "2023-02-03T11:54:05.321Z"
   },
   {
    "duration": 46,
    "start_time": "2023-02-03T11:54:05.354Z"
   },
   {
    "duration": 16,
    "start_time": "2023-02-03T11:54:05.402Z"
   },
   {
    "duration": 386,
    "start_time": "2023-02-03T11:54:05.421Z"
   },
   {
    "duration": 58,
    "start_time": "2023-02-03T11:54:05.810Z"
   },
   {
    "duration": 49,
    "start_time": "2023-02-03T11:54:05.871Z"
   },
   {
    "duration": 23,
    "start_time": "2023-02-03T11:54:05.922Z"
   },
   {
    "duration": 41543,
    "start_time": "2023-02-03T11:54:05.947Z"
   },
   {
    "duration": 0,
    "start_time": "2023-02-03T11:54:47.493Z"
   },
   {
    "duration": 0,
    "start_time": "2023-02-03T11:54:47.495Z"
   },
   {
    "duration": 0,
    "start_time": "2023-02-03T11:54:47.497Z"
   },
   {
    "duration": 0,
    "start_time": "2023-02-03T11:54:47.498Z"
   },
   {
    "duration": 0,
    "start_time": "2023-02-03T11:54:47.499Z"
   },
   {
    "duration": 0,
    "start_time": "2023-02-03T11:54:47.501Z"
   },
   {
    "duration": 0,
    "start_time": "2023-02-03T11:54:47.502Z"
   },
   {
    "duration": 0,
    "start_time": "2023-02-03T11:54:47.503Z"
   },
   {
    "duration": 0,
    "start_time": "2023-02-03T11:54:47.528Z"
   },
   {
    "duration": 0,
    "start_time": "2023-02-03T11:54:47.534Z"
   },
   {
    "duration": 0,
    "start_time": "2023-02-03T11:54:47.535Z"
   },
   {
    "duration": 0,
    "start_time": "2023-02-03T11:54:47.538Z"
   },
   {
    "duration": 0,
    "start_time": "2023-02-03T11:54:47.540Z"
   },
   {
    "duration": 0,
    "start_time": "2023-02-03T11:54:47.541Z"
   },
   {
    "duration": 0,
    "start_time": "2023-02-03T11:54:47.541Z"
   },
   {
    "duration": 0,
    "start_time": "2023-02-03T11:54:47.542Z"
   },
   {
    "duration": 0,
    "start_time": "2023-02-03T11:54:47.543Z"
   },
   {
    "duration": 0,
    "start_time": "2023-02-03T11:54:47.544Z"
   },
   {
    "duration": 0,
    "start_time": "2023-02-03T11:54:47.547Z"
   },
   {
    "duration": 0,
    "start_time": "2023-02-03T11:54:47.552Z"
   },
   {
    "duration": 0,
    "start_time": "2023-02-03T11:54:47.553Z"
   },
   {
    "duration": 0,
    "start_time": "2023-02-03T11:54:47.554Z"
   },
   {
    "duration": 0,
    "start_time": "2023-02-03T11:54:47.555Z"
   },
   {
    "duration": 0,
    "start_time": "2023-02-03T11:54:47.558Z"
   },
   {
    "duration": 0,
    "start_time": "2023-02-03T11:54:47.559Z"
   },
   {
    "duration": 0,
    "start_time": "2023-02-03T11:54:47.562Z"
   },
   {
    "duration": 0,
    "start_time": "2023-02-03T11:54:47.564Z"
   },
   {
    "duration": 35,
    "start_time": "2023-02-03T11:54:49.885Z"
   },
   {
    "duration": 68,
    "start_time": "2023-02-03T11:56:53.379Z"
   },
   {
    "duration": 150,
    "start_time": "2023-02-03T11:57:47.232Z"
   },
   {
    "duration": 5,
    "start_time": "2023-02-03T11:58:21.319Z"
   },
   {
    "duration": 49,
    "start_time": "2023-02-03T11:58:21.329Z"
   },
   {
    "duration": 826,
    "start_time": "2023-02-03T11:58:21.380Z"
   },
   {
    "duration": 73,
    "start_time": "2023-02-03T11:58:22.208Z"
   },
   {
    "duration": 17,
    "start_time": "2023-02-03T11:58:22.283Z"
   },
   {
    "duration": 40,
    "start_time": "2023-02-03T11:58:22.303Z"
   },
   {
    "duration": 32,
    "start_time": "2023-02-03T11:58:22.357Z"
   },
   {
    "duration": 395,
    "start_time": "2023-02-03T11:58:22.391Z"
   },
   {
    "duration": 39,
    "start_time": "2023-02-03T11:58:22.787Z"
   },
   {
    "duration": 18,
    "start_time": "2023-02-03T11:58:22.828Z"
   },
   {
    "duration": 47,
    "start_time": "2023-02-03T11:58:22.849Z"
   },
   {
    "duration": 39146,
    "start_time": "2023-02-03T11:58:22.898Z"
   },
   {
    "duration": 0,
    "start_time": "2023-02-03T11:59:02.046Z"
   },
   {
    "duration": 0,
    "start_time": "2023-02-03T11:59:02.047Z"
   },
   {
    "duration": 0,
    "start_time": "2023-02-03T11:59:02.048Z"
   },
   {
    "duration": 0,
    "start_time": "2023-02-03T11:59:02.049Z"
   },
   {
    "duration": 0,
    "start_time": "2023-02-03T11:59:02.050Z"
   },
   {
    "duration": 0,
    "start_time": "2023-02-03T11:59:02.051Z"
   },
   {
    "duration": 0,
    "start_time": "2023-02-03T11:59:02.054Z"
   },
   {
    "duration": 0,
    "start_time": "2023-02-03T11:59:02.055Z"
   },
   {
    "duration": 0,
    "start_time": "2023-02-03T11:59:02.056Z"
   },
   {
    "duration": 0,
    "start_time": "2023-02-03T11:59:02.058Z"
   },
   {
    "duration": 0,
    "start_time": "2023-02-03T11:59:02.058Z"
   },
   {
    "duration": 0,
    "start_time": "2023-02-03T11:59:02.059Z"
   },
   {
    "duration": 0,
    "start_time": "2023-02-03T11:59:02.061Z"
   },
   {
    "duration": 0,
    "start_time": "2023-02-03T11:59:02.065Z"
   },
   {
    "duration": 0,
    "start_time": "2023-02-03T11:59:02.067Z"
   },
   {
    "duration": 0,
    "start_time": "2023-02-03T11:59:02.068Z"
   },
   {
    "duration": 0,
    "start_time": "2023-02-03T11:59:02.069Z"
   },
   {
    "duration": 0,
    "start_time": "2023-02-03T11:59:02.071Z"
   },
   {
    "duration": 0,
    "start_time": "2023-02-03T11:59:02.073Z"
   },
   {
    "duration": 0,
    "start_time": "2023-02-03T11:59:02.074Z"
   },
   {
    "duration": 0,
    "start_time": "2023-02-03T11:59:02.075Z"
   },
   {
    "duration": 0,
    "start_time": "2023-02-03T11:59:02.077Z"
   },
   {
    "duration": 0,
    "start_time": "2023-02-03T11:59:02.079Z"
   },
   {
    "duration": 0,
    "start_time": "2023-02-03T11:59:02.080Z"
   },
   {
    "duration": 0,
    "start_time": "2023-02-03T11:59:02.081Z"
   },
   {
    "duration": 0,
    "start_time": "2023-02-03T11:59:02.130Z"
   },
   {
    "duration": 0,
    "start_time": "2023-02-03T11:59:02.131Z"
   },
   {
    "duration": 62,
    "start_time": "2023-02-03T11:59:03.686Z"
   },
   {
    "duration": 5,
    "start_time": "2023-02-03T12:00:04.628Z"
   },
   {
    "duration": 55,
    "start_time": "2023-02-03T12:00:04.636Z"
   },
   {
    "duration": 722,
    "start_time": "2023-02-03T12:00:04.693Z"
   },
   {
    "duration": 72,
    "start_time": "2023-02-03T12:00:05.417Z"
   },
   {
    "duration": 44,
    "start_time": "2023-02-03T12:00:05.491Z"
   },
   {
    "duration": 45,
    "start_time": "2023-02-03T12:00:05.541Z"
   },
   {
    "duration": 44,
    "start_time": "2023-02-03T12:00:05.588Z"
   },
   {
    "duration": 513,
    "start_time": "2023-02-03T12:00:05.642Z"
   },
   {
    "duration": 99,
    "start_time": "2023-02-03T12:00:06.158Z"
   },
   {
    "duration": 71,
    "start_time": "2023-02-03T12:00:06.259Z"
   },
   {
    "duration": 46,
    "start_time": "2023-02-03T12:00:06.336Z"
   },
   {
    "duration": 45061,
    "start_time": "2023-02-03T12:00:06.385Z"
   },
   {
    "duration": 5,
    "start_time": "2023-02-03T12:00:51.448Z"
   },
   {
    "duration": 45,
    "start_time": "2023-02-03T12:00:51.454Z"
   },
   {
    "duration": 1629,
    "start_time": "2023-02-03T12:00:51.501Z"
   },
   {
    "duration": 19,
    "start_time": "2023-02-03T12:00:53.139Z"
   },
   {
    "duration": 1704,
    "start_time": "2023-02-03T12:00:53.160Z"
   },
   {
    "duration": 30,
    "start_time": "2023-02-03T12:00:54.866Z"
   },
   {
    "duration": 1768,
    "start_time": "2023-02-03T12:00:54.898Z"
   },
   {
    "duration": 15,
    "start_time": "2023-02-03T12:00:56.667Z"
   },
   {
    "duration": 923,
    "start_time": "2023-02-03T12:00:56.684Z"
   },
   {
    "duration": 9,
    "start_time": "2023-02-03T12:00:57.609Z"
   },
   {
    "duration": 1084,
    "start_time": "2023-02-03T12:00:57.628Z"
   },
   {
    "duration": 66,
    "start_time": "2023-02-03T12:00:58.716Z"
   },
   {
    "duration": 1695,
    "start_time": "2023-02-03T12:00:58.784Z"
   },
   {
    "duration": 101,
    "start_time": "2023-02-03T12:01:00.481Z"
   },
   {
    "duration": 903,
    "start_time": "2023-02-03T12:01:00.584Z"
   },
   {
    "duration": 82,
    "start_time": "2023-02-03T12:01:01.490Z"
   },
   {
    "duration": 17,
    "start_time": "2023-02-03T12:01:01.574Z"
   },
   {
    "duration": 23,
    "start_time": "2023-02-03T12:01:01.593Z"
   },
   {
    "duration": 50,
    "start_time": "2023-02-03T12:01:01.617Z"
   },
   {
    "duration": 106,
    "start_time": "2023-02-03T12:01:01.669Z"
   },
   {
    "duration": 0,
    "start_time": "2023-02-03T12:01:01.777Z"
   },
   {
    "duration": 0,
    "start_time": "2023-02-03T12:01:01.779Z"
   },
   {
    "duration": 0,
    "start_time": "2023-02-03T12:01:01.781Z"
   },
   {
    "duration": 0,
    "start_time": "2023-02-03T12:01:01.783Z"
   },
   {
    "duration": 0,
    "start_time": "2023-02-03T12:01:01.784Z"
   },
   {
    "duration": 0,
    "start_time": "2023-02-03T12:01:01.785Z"
   },
   {
    "duration": 5,
    "start_time": "2023-02-03T12:01:17.321Z"
   },
   {
    "duration": 8,
    "start_time": "2023-02-03T12:01:17.331Z"
   },
   {
    "duration": 774,
    "start_time": "2023-02-03T12:01:17.342Z"
   },
   {
    "duration": 64,
    "start_time": "2023-02-03T12:01:18.118Z"
   },
   {
    "duration": 16,
    "start_time": "2023-02-03T12:01:18.183Z"
   },
   {
    "duration": 36,
    "start_time": "2023-02-03T12:01:18.201Z"
   },
   {
    "duration": 19,
    "start_time": "2023-02-03T12:01:18.239Z"
   },
   {
    "duration": 399,
    "start_time": "2023-02-03T12:01:18.259Z"
   },
   {
    "duration": 91,
    "start_time": "2023-02-03T12:01:18.660Z"
   },
   {
    "duration": 90,
    "start_time": "2023-02-03T12:01:18.755Z"
   },
   {
    "duration": 17,
    "start_time": "2023-02-03T12:01:18.846Z"
   },
   {
    "duration": 69,
    "start_time": "2023-02-03T12:01:18.865Z"
   },
   {
    "duration": 44878,
    "start_time": "2023-02-03T12:01:18.936Z"
   },
   {
    "duration": 16,
    "start_time": "2023-02-03T12:02:03.817Z"
   },
   {
    "duration": 63,
    "start_time": "2023-02-03T12:02:03.842Z"
   },
   {
    "duration": 978,
    "start_time": "2023-02-03T12:02:03.906Z"
   },
   {
    "duration": 0,
    "start_time": "2023-02-03T12:02:04.887Z"
   },
   {
    "duration": 0,
    "start_time": "2023-02-03T12:02:04.888Z"
   },
   {
    "duration": 0,
    "start_time": "2023-02-03T12:02:04.889Z"
   },
   {
    "duration": 0,
    "start_time": "2023-02-03T12:02:04.891Z"
   },
   {
    "duration": 0,
    "start_time": "2023-02-03T12:02:04.892Z"
   },
   {
    "duration": 0,
    "start_time": "2023-02-03T12:02:04.894Z"
   },
   {
    "duration": 0,
    "start_time": "2023-02-03T12:02:04.895Z"
   },
   {
    "duration": 0,
    "start_time": "2023-02-03T12:02:04.897Z"
   },
   {
    "duration": 0,
    "start_time": "2023-02-03T12:02:04.898Z"
   },
   {
    "duration": 0,
    "start_time": "2023-02-03T12:02:04.899Z"
   },
   {
    "duration": 0,
    "start_time": "2023-02-03T12:02:04.901Z"
   },
   {
    "duration": 0,
    "start_time": "2023-02-03T12:02:04.928Z"
   },
   {
    "duration": 0,
    "start_time": "2023-02-03T12:02:04.929Z"
   },
   {
    "duration": 1,
    "start_time": "2023-02-03T12:02:04.929Z"
   },
   {
    "duration": 0,
    "start_time": "2023-02-03T12:02:04.930Z"
   },
   {
    "duration": 0,
    "start_time": "2023-02-03T12:02:04.931Z"
   },
   {
    "duration": 0,
    "start_time": "2023-02-03T12:02:04.932Z"
   },
   {
    "duration": 0,
    "start_time": "2023-02-03T12:02:04.933Z"
   },
   {
    "duration": 0,
    "start_time": "2023-02-03T12:02:04.933Z"
   },
   {
    "duration": 0,
    "start_time": "2023-02-03T12:02:04.936Z"
   },
   {
    "duration": 0,
    "start_time": "2023-02-03T12:02:05.095Z"
   },
   {
    "duration": 0,
    "start_time": "2023-02-03T12:02:05.097Z"
   },
   {
    "duration": 0,
    "start_time": "2023-02-03T12:02:05.098Z"
   },
   {
    "duration": 73,
    "start_time": "2023-02-03T12:05:29.744Z"
   },
   {
    "duration": 126,
    "start_time": "2023-02-03T12:05:50.492Z"
   },
   {
    "duration": 77,
    "start_time": "2023-02-03T12:07:24.023Z"
   },
   {
    "duration": 6,
    "start_time": "2023-02-03T12:14:01.255Z"
   },
   {
    "duration": 39,
    "start_time": "2023-02-03T12:14:01.264Z"
   },
   {
    "duration": 898,
    "start_time": "2023-02-03T12:14:01.305Z"
   },
   {
    "duration": 92,
    "start_time": "2023-02-03T12:14:02.205Z"
   },
   {
    "duration": 39,
    "start_time": "2023-02-03T12:14:02.300Z"
   },
   {
    "duration": 24,
    "start_time": "2023-02-03T12:14:02.343Z"
   },
   {
    "duration": 38,
    "start_time": "2023-02-03T12:14:02.371Z"
   },
   {
    "duration": 392,
    "start_time": "2023-02-03T12:14:02.412Z"
   },
   {
    "duration": 2,
    "start_time": "2023-02-03T12:14:02.806Z"
   },
   {
    "duration": 64,
    "start_time": "2023-02-03T12:14:02.811Z"
   },
   {
    "duration": 45,
    "start_time": "2023-02-03T12:14:02.877Z"
   },
   {
    "duration": 38868,
    "start_time": "2023-02-03T12:14:02.925Z"
   },
   {
    "duration": 7,
    "start_time": "2023-02-03T12:14:41.794Z"
   },
   {
    "duration": 55,
    "start_time": "2023-02-03T12:14:41.805Z"
   },
   {
    "duration": 1799,
    "start_time": "2023-02-03T12:14:41.862Z"
   },
   {
    "duration": 27,
    "start_time": "2023-02-03T12:14:43.663Z"
   },
   {
    "duration": 1910,
    "start_time": "2023-02-03T12:14:43.693Z"
   },
   {
    "duration": 49,
    "start_time": "2023-02-03T12:14:45.604Z"
   },
   {
    "duration": 1865,
    "start_time": "2023-02-03T12:14:45.655Z"
   },
   {
    "duration": 31,
    "start_time": "2023-02-03T12:14:47.522Z"
   },
   {
    "duration": 930,
    "start_time": "2023-02-03T12:14:47.556Z"
   },
   {
    "duration": 7,
    "start_time": "2023-02-03T12:14:48.488Z"
   },
   {
    "duration": 1046,
    "start_time": "2023-02-03T12:14:48.497Z"
   },
   {
    "duration": 61,
    "start_time": "2023-02-03T12:14:49.550Z"
   },
   {
    "duration": 1834,
    "start_time": "2023-02-03T12:14:49.613Z"
   },
   {
    "duration": 92,
    "start_time": "2023-02-03T12:14:51.450Z"
   },
   {
    "duration": 933,
    "start_time": "2023-02-03T12:14:51.544Z"
   },
   {
    "duration": 78,
    "start_time": "2023-02-03T12:14:52.479Z"
   },
   {
    "duration": 26,
    "start_time": "2023-02-03T12:14:52.559Z"
   },
   {
    "duration": 14,
    "start_time": "2023-02-03T12:14:52.587Z"
   },
   {
    "duration": 27,
    "start_time": "2023-02-03T12:14:52.604Z"
   },
   {
    "duration": 55,
    "start_time": "2023-02-03T12:14:52.636Z"
   },
   {
    "duration": 1,
    "start_time": "2023-02-03T12:14:52.693Z"
   },
   {
    "duration": 0,
    "start_time": "2023-02-03T12:14:52.694Z"
   },
   {
    "duration": 0,
    "start_time": "2023-02-03T12:14:52.697Z"
   },
   {
    "duration": 0,
    "start_time": "2023-02-03T12:14:52.699Z"
   },
   {
    "duration": 0,
    "start_time": "2023-02-03T12:14:52.700Z"
   },
   {
    "duration": 0,
    "start_time": "2023-02-03T12:14:52.702Z"
   },
   {
    "duration": 5,
    "start_time": "2023-02-03T12:16:19.906Z"
   },
   {
    "duration": 6,
    "start_time": "2023-02-03T12:16:19.914Z"
   },
   {
    "duration": 747,
    "start_time": "2023-02-03T12:16:19.922Z"
   },
   {
    "duration": 103,
    "start_time": "2023-02-03T12:16:20.672Z"
   },
   {
    "duration": 27,
    "start_time": "2023-02-03T12:16:20.779Z"
   },
   {
    "duration": 34,
    "start_time": "2023-02-03T12:16:20.809Z"
   },
   {
    "duration": 47,
    "start_time": "2023-02-03T12:16:20.848Z"
   },
   {
    "duration": 377,
    "start_time": "2023-02-03T12:16:20.897Z"
   },
   {
    "duration": 3,
    "start_time": "2023-02-03T12:16:21.278Z"
   },
   {
    "duration": 24,
    "start_time": "2023-02-03T12:16:21.283Z"
   },
   {
    "duration": 41,
    "start_time": "2023-02-03T12:16:21.310Z"
   },
   {
    "duration": 41718,
    "start_time": "2023-02-03T12:16:21.353Z"
   },
   {
    "duration": 6,
    "start_time": "2023-02-03T12:17:03.074Z"
   },
   {
    "duration": 73,
    "start_time": "2023-02-03T12:17:03.082Z"
   },
   {
    "duration": 1850,
    "start_time": "2023-02-03T12:17:03.157Z"
   },
   {
    "duration": 37,
    "start_time": "2023-02-03T12:17:05.009Z"
   },
   {
    "duration": 1868,
    "start_time": "2023-02-03T12:17:05.048Z"
   },
   {
    "duration": 48,
    "start_time": "2023-02-03T12:17:06.919Z"
   },
   {
    "duration": 1974,
    "start_time": "2023-02-03T12:17:06.968Z"
   },
   {
    "duration": 14,
    "start_time": "2023-02-03T12:17:08.945Z"
   },
   {
    "duration": 1115,
    "start_time": "2023-02-03T12:17:08.962Z"
   },
   {
    "duration": 7,
    "start_time": "2023-02-03T12:17:10.079Z"
   },
   {
    "duration": 989,
    "start_time": "2023-02-03T12:17:10.089Z"
   },
   {
    "duration": 93,
    "start_time": "2023-02-03T12:17:11.082Z"
   },
   {
    "duration": 1900,
    "start_time": "2023-02-03T12:17:11.177Z"
   },
   {
    "duration": 117,
    "start_time": "2023-02-03T12:17:13.079Z"
   },
   {
    "duration": 1052,
    "start_time": "2023-02-03T12:17:13.198Z"
   },
   {
    "duration": 103,
    "start_time": "2023-02-03T12:17:14.252Z"
   },
   {
    "duration": 30,
    "start_time": "2023-02-03T12:17:14.357Z"
   },
   {
    "duration": 19,
    "start_time": "2023-02-03T12:17:14.389Z"
   },
   {
    "duration": 25,
    "start_time": "2023-02-03T12:17:14.411Z"
   },
   {
    "duration": 4907,
    "start_time": "2023-02-03T12:17:14.444Z"
   },
   {
    "duration": 3,
    "start_time": "2023-02-03T12:17:19.353Z"
   },
   {
    "duration": 68943,
    "start_time": "2023-02-03T12:17:19.358Z"
   },
   {
    "duration": 783759,
    "start_time": "2023-02-03T12:18:28.303Z"
   },
   {
    "duration": 6,
    "start_time": "2023-02-03T12:31:32.067Z"
   },
   {
    "duration": 3695,
    "start_time": "2023-02-03T12:31:32.077Z"
   },
   {
    "duration": 35,
    "start_time": "2023-02-03T12:31:35.774Z"
   },
   {
    "duration": 4,
    "start_time": "2023-02-03T13:42:50.581Z"
   },
   {
    "duration": 9,
    "start_time": "2023-02-03T13:42:50.586Z"
   },
   {
    "duration": 636,
    "start_time": "2023-02-03T13:42:50.596Z"
   },
   {
    "duration": 54,
    "start_time": "2023-02-03T13:42:51.234Z"
   },
   {
    "duration": 14,
    "start_time": "2023-02-03T13:42:51.290Z"
   },
   {
    "duration": 11,
    "start_time": "2023-02-03T13:42:51.328Z"
   },
   {
    "duration": 15,
    "start_time": "2023-02-03T13:42:51.340Z"
   },
   {
    "duration": 319,
    "start_time": "2023-02-03T13:42:51.356Z"
   },
   {
    "duration": 2,
    "start_time": "2023-02-03T13:42:51.677Z"
   },
   {
    "duration": 24,
    "start_time": "2023-02-03T13:42:51.681Z"
   },
   {
    "duration": 28,
    "start_time": "2023-02-03T13:42:51.706Z"
   },
   {
    "duration": 30206,
    "start_time": "2023-02-03T13:42:51.736Z"
   },
   {
    "duration": 4,
    "start_time": "2023-02-03T13:43:21.943Z"
   },
   {
    "duration": 44,
    "start_time": "2023-02-03T13:43:21.949Z"
   },
   {
    "duration": 1457,
    "start_time": "2023-02-03T13:43:21.995Z"
   },
   {
    "duration": 16,
    "start_time": "2023-02-03T13:43:23.454Z"
   },
   {
    "duration": 1519,
    "start_time": "2023-02-03T13:43:23.471Z"
   },
   {
    "duration": 36,
    "start_time": "2023-02-03T13:43:24.992Z"
   },
   {
    "duration": 1540,
    "start_time": "2023-02-03T13:43:25.030Z"
   },
   {
    "duration": 10,
    "start_time": "2023-02-03T13:43:26.572Z"
   },
   {
    "duration": 783,
    "start_time": "2023-02-03T13:43:26.583Z"
   },
   {
    "duration": 6,
    "start_time": "2023-02-03T13:43:27.368Z"
   },
   {
    "duration": 898,
    "start_time": "2023-02-03T13:43:27.376Z"
   },
   {
    "duration": 64,
    "start_time": "2023-02-03T13:43:28.277Z"
   },
   {
    "duration": 1472,
    "start_time": "2023-02-03T13:43:28.343Z"
   },
   {
    "duration": 84,
    "start_time": "2023-02-03T13:43:29.816Z"
   },
   {
    "duration": 846,
    "start_time": "2023-02-03T13:43:29.902Z"
   },
   {
    "duration": 65,
    "start_time": "2023-02-03T13:43:30.749Z"
   },
   {
    "duration": 27,
    "start_time": "2023-02-03T13:43:30.815Z"
   },
   {
    "duration": 11,
    "start_time": "2023-02-03T13:43:30.844Z"
   },
   {
    "duration": 18,
    "start_time": "2023-02-03T13:43:30.856Z"
   },
   {
    "duration": 2454,
    "start_time": "2023-02-03T13:43:30.875Z"
   },
   {
    "duration": 3,
    "start_time": "2023-02-03T13:43:33.330Z"
   },
   {
    "duration": 59860,
    "start_time": "2023-02-03T13:43:33.334Z"
   },
   {
    "duration": 593,
    "start_time": "2023-02-03T13:44:33.195Z"
   },
   {
    "duration": 0,
    "start_time": "2023-02-03T13:44:33.790Z"
   },
   {
    "duration": 0,
    "start_time": "2023-02-03T13:44:33.791Z"
   },
   {
    "duration": 0,
    "start_time": "2023-02-03T13:44:33.792Z"
   },
   {
    "duration": 0,
    "start_time": "2023-02-03T13:44:33.793Z"
   },
   {
    "duration": 47162,
    "start_time": "2023-02-03T13:45:08.584Z"
   },
   {
    "duration": 47219,
    "start_time": "2023-02-03T13:46:33.827Z"
   },
   {
    "duration": 20279,
    "start_time": "2023-02-03T13:54:37.979Z"
   },
   {
    "duration": 52359,
    "start_time": "2023-02-03T13:55:22.880Z"
   },
   {
    "duration": 5,
    "start_time": "2023-02-03T13:58:54.524Z"
   },
   {
    "duration": 9,
    "start_time": "2023-02-03T13:58:54.531Z"
   },
   {
    "duration": 669,
    "start_time": "2023-02-03T13:58:54.542Z"
   },
   {
    "duration": 83,
    "start_time": "2023-02-03T13:58:55.214Z"
   },
   {
    "duration": 32,
    "start_time": "2023-02-03T13:58:55.299Z"
   },
   {
    "duration": 13,
    "start_time": "2023-02-03T13:58:55.333Z"
   },
   {
    "duration": 21,
    "start_time": "2023-02-03T13:58:55.347Z"
   },
   {
    "duration": 344,
    "start_time": "2023-02-03T13:58:55.370Z"
   },
   {
    "duration": 3,
    "start_time": "2023-02-03T13:58:55.715Z"
   },
   {
    "duration": 26,
    "start_time": "2023-02-03T13:58:55.720Z"
   },
   {
    "duration": 20,
    "start_time": "2023-02-03T13:58:55.747Z"
   },
   {
    "duration": 31709,
    "start_time": "2023-02-03T13:58:55.769Z"
   },
   {
    "duration": 6,
    "start_time": "2023-02-03T13:59:27.480Z"
   },
   {
    "duration": 69,
    "start_time": "2023-02-03T13:59:27.488Z"
   },
   {
    "duration": 1554,
    "start_time": "2023-02-03T13:59:27.559Z"
   },
   {
    "duration": 20,
    "start_time": "2023-02-03T13:59:29.114Z"
   },
   {
    "duration": 1624,
    "start_time": "2023-02-03T13:59:29.135Z"
   },
   {
    "duration": 27,
    "start_time": "2023-02-03T13:59:30.760Z"
   },
   {
    "duration": 1671,
    "start_time": "2023-02-03T13:59:30.788Z"
   },
   {
    "duration": 17,
    "start_time": "2023-02-03T13:59:32.461Z"
   },
   {
    "duration": 922,
    "start_time": "2023-02-03T13:59:32.481Z"
   },
   {
    "duration": 6,
    "start_time": "2023-02-03T13:59:33.405Z"
   },
   {
    "duration": 773,
    "start_time": "2023-02-03T13:59:33.427Z"
   },
   {
    "duration": 55,
    "start_time": "2023-02-03T13:59:34.202Z"
   },
   {
    "duration": 1554,
    "start_time": "2023-02-03T13:59:34.259Z"
   },
   {
    "duration": 83,
    "start_time": "2023-02-03T13:59:35.814Z"
   },
   {
    "duration": 800,
    "start_time": "2023-02-03T13:59:35.899Z"
   },
   {
    "duration": 83,
    "start_time": "2023-02-03T13:59:36.703Z"
   },
   {
    "duration": 21,
    "start_time": "2023-02-03T13:59:36.788Z"
   },
   {
    "duration": 24,
    "start_time": "2023-02-03T13:59:36.811Z"
   },
   {
    "duration": 18,
    "start_time": "2023-02-03T13:59:36.837Z"
   },
   {
    "duration": 2472,
    "start_time": "2023-02-03T13:59:36.857Z"
   },
   {
    "duration": 4,
    "start_time": "2023-02-03T13:59:39.331Z"
   },
   {
    "duration": 63779,
    "start_time": "2023-02-03T13:59:39.337Z"
   },
   {
    "duration": 52213,
    "start_time": "2023-02-03T14:00:43.119Z"
   },
   {
    "duration": 30964,
    "start_time": "2023-02-03T14:01:35.334Z"
   },
   {
    "duration": 24895,
    "start_time": "2023-02-03T14:02:06.300Z"
   },
   {
    "duration": 3,
    "start_time": "2023-02-03T14:02:31.196Z"
   },
   {
    "duration": 3429,
    "start_time": "2023-02-03T14:02:31.200Z"
   },
   {
    "duration": 44,
    "start_time": "2023-02-03T14:02:34.631Z"
   },
   {
    "duration": 219379,
    "start_time": "2023-02-03T14:03:01.353Z"
   },
   {
    "duration": 7298,
    "start_time": "2023-02-03T14:08:10.694Z"
   },
   {
    "duration": 38,
    "start_time": "2023-02-03T14:09:31.629Z"
   },
   {
    "duration": 38,
    "start_time": "2023-02-03T14:12:09.720Z"
   },
   {
    "duration": 35,
    "start_time": "2023-02-03T14:15:24.716Z"
   },
   {
    "duration": 45,
    "start_time": "2023-02-03T14:16:35.594Z"
   },
   {
    "duration": 5,
    "start_time": "2023-02-03T14:34:31.189Z"
   },
   {
    "duration": 24,
    "start_time": "2023-02-03T14:34:31.195Z"
   },
   {
    "duration": 649,
    "start_time": "2023-02-03T14:34:31.221Z"
   },
   {
    "duration": 63,
    "start_time": "2023-02-03T14:34:31.872Z"
   },
   {
    "duration": 15,
    "start_time": "2023-02-03T14:34:31.937Z"
   },
   {
    "duration": 11,
    "start_time": "2023-02-03T14:34:31.953Z"
   },
   {
    "duration": 14,
    "start_time": "2023-02-03T14:34:31.965Z"
   },
   {
    "duration": 333,
    "start_time": "2023-02-03T14:34:31.981Z"
   },
   {
    "duration": 3,
    "start_time": "2023-02-03T14:34:32.316Z"
   },
   {
    "duration": 16,
    "start_time": "2023-02-03T14:34:32.327Z"
   },
   {
    "duration": 17,
    "start_time": "2023-02-03T14:34:32.344Z"
   },
   {
    "duration": 33569,
    "start_time": "2023-02-03T14:34:32.362Z"
   },
   {
    "duration": 4,
    "start_time": "2023-02-03T14:35:05.933Z"
   },
   {
    "duration": 70,
    "start_time": "2023-02-03T14:35:05.938Z"
   },
   {
    "duration": 1453,
    "start_time": "2023-02-03T14:35:06.010Z"
   },
   {
    "duration": 23,
    "start_time": "2023-02-03T14:35:07.464Z"
   },
   {
    "duration": 1438,
    "start_time": "2023-02-03T14:35:07.489Z"
   },
   {
    "duration": 29,
    "start_time": "2023-02-03T14:35:08.929Z"
   },
   {
    "duration": 1481,
    "start_time": "2023-02-03T14:35:08.959Z"
   },
   {
    "duration": 14,
    "start_time": "2023-02-03T14:35:10.442Z"
   },
   {
    "duration": 852,
    "start_time": "2023-02-03T14:35:10.458Z"
   },
   {
    "duration": 6,
    "start_time": "2023-02-03T14:35:11.312Z"
   },
   {
    "duration": 848,
    "start_time": "2023-02-03T14:35:11.328Z"
   },
   {
    "duration": 60,
    "start_time": "2023-02-03T14:35:12.179Z"
   },
   {
    "duration": 1452,
    "start_time": "2023-02-03T14:35:12.241Z"
   },
   {
    "duration": 86,
    "start_time": "2023-02-03T14:35:13.694Z"
   },
   {
    "duration": 740,
    "start_time": "2023-02-03T14:35:13.782Z"
   },
   {
    "duration": 40,
    "start_time": "2023-02-03T14:35:14.524Z"
   },
   {
    "duration": 18,
    "start_time": "2023-02-03T14:35:14.565Z"
   },
   {
    "duration": 8,
    "start_time": "2023-02-03T14:35:14.584Z"
   },
   {
    "duration": 8,
    "start_time": "2023-02-03T14:35:14.593Z"
   },
   {
    "duration": 1932,
    "start_time": "2023-02-03T14:35:14.603Z"
   },
   {
    "duration": 91,
    "start_time": "2023-02-03T14:35:16.537Z"
   },
   {
    "duration": 9,
    "start_time": "2023-02-03T14:35:16.630Z"
   },
   {
    "duration": 48311,
    "start_time": "2023-02-03T14:35:16.641Z"
   },
   {
    "duration": 3,
    "start_time": "2023-02-03T14:36:04.953Z"
   },
   {
    "duration": 204967,
    "start_time": "2023-02-03T14:36:04.957Z"
   },
   {
    "duration": 3,
    "start_time": "2023-02-03T14:39:29.928Z"
   },
   {
    "duration": 6909,
    "start_time": "2023-02-03T14:39:29.933Z"
   },
   {
    "duration": 36,
    "start_time": "2023-02-03T14:39:36.843Z"
   },
   {
    "duration": 5331,
    "start_time": "2023-02-04T13:14:05.008Z"
   },
   {
    "duration": 2,
    "start_time": "2023-02-04T13:14:10.342Z"
   },
   {
    "duration": 3735,
    "start_time": "2023-02-04T13:14:10.346Z"
   },
   {
    "duration": 83,
    "start_time": "2023-02-04T13:14:14.082Z"
   },
   {
    "duration": 28,
    "start_time": "2023-02-04T13:14:14.168Z"
   },
   {
    "duration": 49,
    "start_time": "2023-02-04T13:14:14.198Z"
   },
   {
    "duration": 30,
    "start_time": "2023-02-04T13:14:14.259Z"
   },
   {
    "duration": 439,
    "start_time": "2023-02-04T13:14:14.292Z"
   },
   {
    "duration": 2,
    "start_time": "2023-02-04T13:14:14.733Z"
   },
   {
    "duration": 39,
    "start_time": "2023-02-04T13:14:14.743Z"
   },
   {
    "duration": 34,
    "start_time": "2023-02-04T13:14:14.784Z"
   },
   {
    "duration": 39775,
    "start_time": "2023-02-04T13:14:14.820Z"
   },
   {
    "duration": 4,
    "start_time": "2023-02-04T13:14:54.596Z"
   },
   {
    "duration": 51,
    "start_time": "2023-02-04T13:14:54.603Z"
   },
   {
    "duration": 1995,
    "start_time": "2023-02-04T13:14:54.656Z"
   },
   {
    "duration": 18,
    "start_time": "2023-02-04T13:14:56.654Z"
   },
   {
    "duration": 1849,
    "start_time": "2023-02-04T13:14:56.673Z"
   },
   {
    "duration": 30,
    "start_time": "2023-02-04T13:14:58.524Z"
   },
   {
    "duration": 1846,
    "start_time": "2023-02-04T13:14:58.555Z"
   },
   {
    "duration": 28,
    "start_time": "2023-02-04T13:15:00.404Z"
   },
   {
    "duration": 997,
    "start_time": "2023-02-04T13:15:00.434Z"
   },
   {
    "duration": 13,
    "start_time": "2023-02-04T13:15:01.434Z"
   },
   {
    "duration": 914,
    "start_time": "2023-02-04T13:15:01.450Z"
   },
   {
    "duration": 50,
    "start_time": "2023-02-04T13:15:02.365Z"
   },
   {
    "duration": 1693,
    "start_time": "2023-02-04T13:15:02.427Z"
   },
   {
    "duration": 89,
    "start_time": "2023-02-04T13:15:04.121Z"
   },
   {
    "duration": 858,
    "start_time": "2023-02-04T13:15:04.211Z"
   },
   {
    "duration": 37,
    "start_time": "2023-02-04T13:15:05.071Z"
   },
   {
    "duration": 27,
    "start_time": "2023-02-04T13:15:05.110Z"
   },
   {
    "duration": 9,
    "start_time": "2023-02-04T13:15:05.139Z"
   },
   {
    "duration": 25,
    "start_time": "2023-02-04T13:17:20.885Z"
   },
   {
    "duration": 29,
    "start_time": "2023-02-04T13:17:26.280Z"
   },
   {
    "duration": 1581,
    "start_time": "2023-02-04T22:44:48.143Z"
   },
   {
    "duration": 3,
    "start_time": "2023-02-04T22:44:49.726Z"
   },
   {
    "duration": 3435,
    "start_time": "2023-02-04T22:44:49.730Z"
   },
   {
    "duration": 87,
    "start_time": "2023-02-04T22:44:53.168Z"
   },
   {
    "duration": 36,
    "start_time": "2023-02-04T22:44:53.257Z"
   },
   {
    "duration": 17,
    "start_time": "2023-02-04T22:44:53.295Z"
   },
   {
    "duration": 22,
    "start_time": "2023-02-04T22:44:53.313Z"
   },
   {
    "duration": 377,
    "start_time": "2023-02-04T22:44:53.337Z"
   },
   {
    "duration": 2,
    "start_time": "2023-02-04T22:44:53.716Z"
   },
   {
    "duration": 28,
    "start_time": "2023-02-04T22:44:53.721Z"
   },
   {
    "duration": 17,
    "start_time": "2023-02-04T22:44:53.751Z"
   },
   {
    "duration": 38856,
    "start_time": "2023-02-04T22:44:53.770Z"
   },
   {
    "duration": 5,
    "start_time": "2023-02-04T22:45:32.628Z"
   },
   {
    "duration": 57,
    "start_time": "2023-02-04T22:45:32.635Z"
   },
   {
    "duration": 1562,
    "start_time": "2023-02-04T22:45:32.694Z"
   },
   {
    "duration": 16,
    "start_time": "2023-02-04T22:45:34.258Z"
   },
   {
    "duration": 1634,
    "start_time": "2023-02-04T22:45:34.276Z"
   },
   {
    "duration": 33,
    "start_time": "2023-02-04T22:45:35.912Z"
   },
   {
    "duration": 1795,
    "start_time": "2023-02-04T22:45:35.947Z"
   },
   {
    "duration": 12,
    "start_time": "2023-02-04T22:45:37.744Z"
   },
   {
    "duration": 916,
    "start_time": "2023-02-04T22:45:37.758Z"
   },
   {
    "duration": 18,
    "start_time": "2023-02-04T22:45:38.676Z"
   },
   {
    "duration": 827,
    "start_time": "2023-02-04T22:45:38.696Z"
   },
   {
    "duration": 51,
    "start_time": "2023-02-04T22:45:39.525Z"
   },
   {
    "duration": 1777,
    "start_time": "2023-02-04T22:45:39.591Z"
   },
   {
    "duration": 79,
    "start_time": "2023-02-04T22:45:41.370Z"
   },
   {
    "duration": 815,
    "start_time": "2023-02-04T22:45:41.451Z"
   },
   {
    "duration": 46,
    "start_time": "2023-02-04T22:45:42.269Z"
   },
   {
    "duration": 18,
    "start_time": "2023-02-04T22:45:42.317Z"
   },
   {
    "duration": 12,
    "start_time": "2023-02-04T22:45:42.337Z"
   },
   {
    "duration": 11,
    "start_time": "2023-02-04T22:45:42.351Z"
   },
   {
    "duration": 2741,
    "start_time": "2023-02-04T22:45:42.364Z"
   },
   {
    "duration": 89,
    "start_time": "2023-02-04T22:45:45.107Z"
   },
   {
    "duration": 19,
    "start_time": "2023-02-04T22:45:45.198Z"
   },
   {
    "duration": 53447,
    "start_time": "2023-02-04T22:45:45.219Z"
   },
   {
    "duration": 4,
    "start_time": "2023-02-04T22:46:38.667Z"
   },
   {
    "duration": 221338,
    "start_time": "2023-02-04T22:46:38.673Z"
   },
   {
    "duration": 3,
    "start_time": "2023-02-04T22:50:20.013Z"
   },
   {
    "duration": 7643,
    "start_time": "2023-02-04T22:50:20.019Z"
   },
   {
    "duration": 59,
    "start_time": "2023-02-04T22:50:27.665Z"
   },
   {
    "duration": 5,
    "start_time": "2023-02-04T22:50:58.986Z"
   },
   {
    "duration": 8,
    "start_time": "2023-02-04T22:50:58.993Z"
   },
   {
    "duration": 691,
    "start_time": "2023-02-04T22:50:59.003Z"
   },
   {
    "duration": 69,
    "start_time": "2023-02-04T22:50:59.697Z"
   },
   {
    "duration": 41,
    "start_time": "2023-02-04T22:50:59.768Z"
   },
   {
    "duration": 15,
    "start_time": "2023-02-04T22:50:59.811Z"
   },
   {
    "duration": 23,
    "start_time": "2023-02-04T22:50:59.828Z"
   },
   {
    "duration": 395,
    "start_time": "2023-02-04T22:50:59.853Z"
   },
   {
    "duration": 3,
    "start_time": "2023-02-04T22:51:00.250Z"
   },
   {
    "duration": 48,
    "start_time": "2023-02-04T22:51:00.255Z"
   },
   {
    "duration": 37,
    "start_time": "2023-02-04T22:51:00.305Z"
   },
   {
    "duration": 35124,
    "start_time": "2023-02-04T22:51:00.345Z"
   },
   {
    "duration": 6,
    "start_time": "2023-02-04T22:51:35.470Z"
   },
   {
    "duration": 82,
    "start_time": "2023-02-04T22:51:35.478Z"
   },
   {
    "duration": 1871,
    "start_time": "2023-02-04T22:51:35.562Z"
   },
   {
    "duration": 17,
    "start_time": "2023-02-04T22:51:37.435Z"
   },
   {
    "duration": 1585,
    "start_time": "2023-02-04T22:51:37.454Z"
   },
   {
    "duration": 52,
    "start_time": "2023-02-04T22:51:39.042Z"
   },
   {
    "duration": 1658,
    "start_time": "2023-02-04T22:51:39.096Z"
   },
   {
    "duration": 13,
    "start_time": "2023-02-04T22:51:40.756Z"
   },
   {
    "duration": 991,
    "start_time": "2023-02-04T22:51:40.771Z"
   },
   {
    "duration": 7,
    "start_time": "2023-02-04T22:51:41.764Z"
   },
   {
    "duration": 834,
    "start_time": "2023-02-04T22:51:41.773Z"
   },
   {
    "duration": 85,
    "start_time": "2023-02-04T22:51:42.610Z"
   },
   {
    "duration": 1719,
    "start_time": "2023-02-04T22:51:42.697Z"
   },
   {
    "duration": 199,
    "start_time": "2023-02-04T22:51:44.418Z"
   },
   {
    "duration": 791,
    "start_time": "2023-02-04T22:51:44.619Z"
   },
   {
    "duration": 57,
    "start_time": "2023-02-04T22:51:45.412Z"
   },
   {
    "duration": 34,
    "start_time": "2023-02-04T22:51:45.471Z"
   },
   {
    "duration": 13,
    "start_time": "2023-02-04T22:51:45.507Z"
   },
   {
    "duration": 6,
    "start_time": "2023-02-04T22:51:45.523Z"
   },
   {
    "duration": 2568,
    "start_time": "2023-02-04T22:51:45.531Z"
   },
   {
    "duration": 4,
    "start_time": "2023-02-04T22:51:48.101Z"
   },
   {
    "duration": 90,
    "start_time": "2023-02-04T22:51:48.108Z"
   },
   {
    "duration": 52820,
    "start_time": "2023-02-04T22:51:48.200Z"
   },
   {
    "duration": 3,
    "start_time": "2023-02-04T22:52:41.022Z"
   },
   {
    "duration": 225744,
    "start_time": "2023-02-04T22:52:41.027Z"
   },
   {
    "duration": 3,
    "start_time": "2023-02-04T22:56:26.774Z"
   },
   {
    "duration": 7869,
    "start_time": "2023-02-04T22:56:26.779Z"
   },
   {
    "duration": 53,
    "start_time": "2023-02-04T22:56:34.650Z"
   },
   {
    "duration": 5,
    "start_time": "2023-02-05T00:00:53.826Z"
   },
   {
    "duration": 6,
    "start_time": "2023-02-05T00:00:53.833Z"
   },
   {
    "duration": 689,
    "start_time": "2023-02-05T00:00:53.840Z"
   },
   {
    "duration": 83,
    "start_time": "2023-02-05T00:00:54.531Z"
   },
   {
    "duration": 17,
    "start_time": "2023-02-05T00:00:54.616Z"
   },
   {
    "duration": 14,
    "start_time": "2023-02-05T00:00:54.635Z"
   },
   {
    "duration": 43,
    "start_time": "2023-02-05T00:00:54.650Z"
   },
   {
    "duration": 369,
    "start_time": "2023-02-05T00:00:54.695Z"
   },
   {
    "duration": 2,
    "start_time": "2023-02-05T00:00:55.067Z"
   },
   {
    "duration": 38,
    "start_time": "2023-02-05T00:00:55.071Z"
   },
   {
    "duration": 18,
    "start_time": "2023-02-05T00:00:55.111Z"
   },
   {
    "duration": 33828,
    "start_time": "2023-02-05T00:00:55.130Z"
   },
   {
    "duration": 6,
    "start_time": "2023-02-05T00:01:28.960Z"
   },
   {
    "duration": 81,
    "start_time": "2023-02-05T00:01:28.968Z"
   },
   {
    "duration": 1556,
    "start_time": "2023-02-05T00:01:29.051Z"
   },
   {
    "duration": 18,
    "start_time": "2023-02-05T00:01:30.609Z"
   },
   {
    "duration": 1647,
    "start_time": "2023-02-05T00:01:30.629Z"
   },
   {
    "duration": 47,
    "start_time": "2023-02-05T00:01:32.278Z"
   },
   {
    "duration": 1685,
    "start_time": "2023-02-05T00:01:32.326Z"
   },
   {
    "duration": 12,
    "start_time": "2023-02-05T00:01:34.013Z"
   },
   {
    "duration": 823,
    "start_time": "2023-02-05T00:01:34.027Z"
   },
   {
    "duration": 9,
    "start_time": "2023-02-05T00:01:34.853Z"
   },
   {
    "duration": 1250,
    "start_time": "2023-02-05T00:01:34.863Z"
   },
   {
    "duration": 102,
    "start_time": "2023-02-05T00:01:36.117Z"
   },
   {
    "duration": 1593,
    "start_time": "2023-02-05T00:01:36.221Z"
   },
   {
    "duration": 88,
    "start_time": "2023-02-05T00:01:37.816Z"
   },
   {
    "duration": 813,
    "start_time": "2023-02-05T00:01:37.906Z"
   },
   {
    "duration": 41,
    "start_time": "2023-02-05T00:01:38.721Z"
   },
   {
    "duration": 32,
    "start_time": "2023-02-05T00:01:38.764Z"
   },
   {
    "duration": 9,
    "start_time": "2023-02-05T00:01:38.797Z"
   },
   {
    "duration": 7,
    "start_time": "2023-02-05T00:01:38.807Z"
   },
   {
    "duration": 2277,
    "start_time": "2023-02-05T00:01:38.816Z"
   },
   {
    "duration": 3,
    "start_time": "2023-02-05T00:01:41.095Z"
   },
   {
    "duration": 92,
    "start_time": "2023-02-05T00:01:41.100Z"
   },
   {
    "duration": 51552,
    "start_time": "2023-02-05T00:01:41.194Z"
   },
   {
    "duration": 2,
    "start_time": "2023-02-05T00:02:32.748Z"
   },
   {
    "duration": 212624,
    "start_time": "2023-02-05T00:02:32.752Z"
   },
   {
    "duration": 120477,
    "start_time": "2023-02-05T00:06:05.377Z"
   },
   {
    "duration": 3,
    "start_time": "2023-02-05T00:08:05.856Z"
   },
   {
    "duration": 7432,
    "start_time": "2023-02-05T00:08:05.861Z"
   },
   {
    "duration": 41,
    "start_time": "2023-02-05T00:08:13.295Z"
   }
  ],
  "kernelspec": {
   "display_name": "Python 3 (ipykernel)",
   "language": "python",
   "name": "python3"
  },
  "language_info": {
   "codemirror_mode": {
    "name": "ipython",
    "version": 3
   },
   "file_extension": ".py",
   "mimetype": "text/x-python",
   "name": "python",
   "nbconvert_exporter": "python",
   "pygments_lexer": "ipython3",
   "version": "3.9.13"
  },
  "toc": {
   "base_numbering": 1,
   "nav_menu": {},
   "number_sections": true,
   "sideBar": true,
   "skip_h1_title": true,
   "title_cell": "Содержание",
   "title_sidebar": "Contents",
   "toc_cell": true,
   "toc_position": {
    "height": "calc(100% - 180px)",
    "left": "10px",
    "top": "150px",
    "width": "366.188px"
   },
   "toc_section_display": true,
   "toc_window_display": true
  }
 },
 "nbformat": 4,
 "nbformat_minor": 2
}
