{
 "cells": [
  {
   "cell_type": "markdown",
   "metadata": {
    "toc": true
   },
   "source": [
    "<h1>Содержание<span class=\"tocSkip\"></span></h1>\n",
    "<div class=\"toc\"><ul class=\"toc-item\"><li><span><a href=\"#Подготовка\" data-toc-modified-id=\"Подготовка-1\"><span class=\"toc-item-num\">1&nbsp;&nbsp;</span>Подготовка</a></span></li><li><span><a href=\"#Анализ\" data-toc-modified-id=\"Анализ-2\"><span class=\"toc-item-num\">2&nbsp;&nbsp;</span>Анализ</a></span></li><li><span><a href=\"#Обучение\" data-toc-modified-id=\"Обучение-3\"><span class=\"toc-item-num\">3&nbsp;&nbsp;</span>Обучение</a></span></li><li><span><a href=\"#Тестирование\" data-toc-modified-id=\"Тестирование-4\"><span class=\"toc-item-num\">4&nbsp;&nbsp;</span>Тестирование</a></span></li><li><span><a href=\"#Чек-лист-проверки\" data-toc-modified-id=\"Чек-лист-проверки-5\"><span class=\"toc-item-num\">5&nbsp;&nbsp;</span>Чек-лист проверки</a></span></li></ul></div>"
   ]
  },
  {
   "cell_type": "markdown",
   "metadata": {},
   "source": [
    "#  Прогнозирование заказов такси"
   ]
  },
  {
   "cell_type": "markdown",
   "metadata": {},
   "source": [
    "Компания «Чётенькое такси» собрала исторические данные о заказах такси в аэропортах. Чтобы привлекать больше водителей в период пиковой нагрузки, нужно спрогнозировать количество заказов такси на следующий час. Постройте модель для такого предсказания.\n",
    "\n",
    "Значение метрики *RMSE* на тестовой выборке должно быть не больше 48.\n",
    "\n",
    "Вам нужно:\n",
    "\n",
    "1. Загрузить данные и выполнить их ресемплирование по одному часу.\n",
    "2. Проанализировать данные.\n",
    "3. Обучить разные модели с различными гиперпараметрами. Сделать тестовую выборку размером 10% от исходных данных.\n",
    "4. Проверить данные на тестовой выборке и сделать выводы.\n",
    "\n",
    "\n",
    "Данные лежат в файле `taxi.csv`. Количество заказов находится в столбце `num_orders` (от англ. *number of orders*, «число заказов»)."
   ]
  },
  {
   "cell_type": "markdown",
   "metadata": {},
   "source": [
    "## Подготовка"
   ]
  },
  {
   "cell_type": "markdown",
   "metadata": {},
   "source": [
    "<div class=\"alert alert-info\">\n",
    "<h2> План<a class=\"tocSkip\"> </h2>\n",
    "\n",
    "1. Импортируем библиотеки\n",
    " \n",
    "2. Загружаем данные из файлов\n",
    "    \n",
    "3. Изучаем общую информацию о данных\n",
    "    \n",
    "4. Найдем выбросы в данных\n",
    "\n",
    "5. Разложим временной ряд на тренд, сезонность и остаток\n",
    "\n",
    "6. Добавим новые признаки\n",
    "\n",
    "7. Сформируем выборки для обучения\n",
    "    \n",
    "8. Инициализируем модели LinearRegression, RandomForestRegressor, LGBMRegressor, CatBoostRegressor\n",
    "     \n",
    "9. Протестируем лучшую модель на тестовой выборке и сравним RMSE с константной моделью\n",
    "\n",
    "10. Делаем выводы по результатам проведенной загрузки данных    \n",
    "</div>"
   ]
  },
  {
   "cell_type": "code",
   "execution_count": 22,
   "metadata": {},
   "outputs": [],
   "source": [
    "# импортируем библиотеки\n",
    "# импорты из стандартной библиотеки\n",
    "\n",
    "import sklearn\n",
    "\n",
    "# импорты сторонних библиотек\n",
    "\n",
    "import pandas as pd\n",
    "import numpy as np\n",
    "import matplotlib.pyplot as plt\n",
    "import lightgbm as lgb\n",
    "\n",
    "# импорты модулей текущего проекта\n",
    "\n",
    "from sklearn.model_selection import train_test_split\n",
    "from sklearn.linear_model import LinearRegression\n",
    "from sklearn.metrics import mean_squared_error\n",
    "from sklearn.model_selection import GridSearchCV\n",
    "from sklearn.ensemble import RandomForestRegressor\n",
    "from sklearn.model_selection import RandomizedSearchCV\n",
    "from statsmodels.tsa.seasonal import seasonal_decompose\n",
    "from sklearn.model_selection import TimeSeriesSplit\n",
    "from catboost import CatBoostRegressor\n",
    "from lightgbm import LGBMRegressor"
   ]
  },
  {
   "cell_type": "code",
   "execution_count": 23,
   "metadata": {},
   "outputs": [],
   "source": [
    "# загружаем данные из файлов\n",
    "\n",
    "data = pd.read_csv('/datasets/taxi.csv', index_col=[0], parse_dates=[0])"
   ]
  },
  {
   "cell_type": "code",
   "execution_count": 24,
   "metadata": {},
   "outputs": [
    {
     "data": {
      "text/html": [
       "<div>\n",
       "<style scoped>\n",
       "    .dataframe tbody tr th:only-of-type {\n",
       "        vertical-align: middle;\n",
       "    }\n",
       "\n",
       "    .dataframe tbody tr th {\n",
       "        vertical-align: top;\n",
       "    }\n",
       "\n",
       "    .dataframe thead th {\n",
       "        text-align: right;\n",
       "    }\n",
       "</style>\n",
       "<table border=\"1\" class=\"dataframe\">\n",
       "  <thead>\n",
       "    <tr style=\"text-align: right;\">\n",
       "      <th></th>\n",
       "      <th>num_orders</th>\n",
       "    </tr>\n",
       "    <tr>\n",
       "      <th>datetime</th>\n",
       "      <th></th>\n",
       "    </tr>\n",
       "  </thead>\n",
       "  <tbody>\n",
       "    <tr>\n",
       "      <th>2018-03-01 00:00:00</th>\n",
       "      <td>9</td>\n",
       "    </tr>\n",
       "    <tr>\n",
       "      <th>2018-03-01 00:10:00</th>\n",
       "      <td>14</td>\n",
       "    </tr>\n",
       "    <tr>\n",
       "      <th>2018-03-01 00:20:00</th>\n",
       "      <td>28</td>\n",
       "    </tr>\n",
       "    <tr>\n",
       "      <th>2018-03-01 00:30:00</th>\n",
       "      <td>20</td>\n",
       "    </tr>\n",
       "    <tr>\n",
       "      <th>2018-03-01 00:40:00</th>\n",
       "      <td>32</td>\n",
       "    </tr>\n",
       "    <tr>\n",
       "      <th>...</th>\n",
       "      <td>...</td>\n",
       "    </tr>\n",
       "    <tr>\n",
       "      <th>2018-08-31 23:10:00</th>\n",
       "      <td>32</td>\n",
       "    </tr>\n",
       "    <tr>\n",
       "      <th>2018-08-31 23:20:00</th>\n",
       "      <td>24</td>\n",
       "    </tr>\n",
       "    <tr>\n",
       "      <th>2018-08-31 23:30:00</th>\n",
       "      <td>27</td>\n",
       "    </tr>\n",
       "    <tr>\n",
       "      <th>2018-08-31 23:40:00</th>\n",
       "      <td>39</td>\n",
       "    </tr>\n",
       "    <tr>\n",
       "      <th>2018-08-31 23:50:00</th>\n",
       "      <td>53</td>\n",
       "    </tr>\n",
       "  </tbody>\n",
       "</table>\n",
       "<p>26496 rows × 1 columns</p>\n",
       "</div>"
      ],
      "text/plain": [
       "                     num_orders\n",
       "datetime                       \n",
       "2018-03-01 00:00:00           9\n",
       "2018-03-01 00:10:00          14\n",
       "2018-03-01 00:20:00          28\n",
       "2018-03-01 00:30:00          20\n",
       "2018-03-01 00:40:00          32\n",
       "...                         ...\n",
       "2018-08-31 23:10:00          32\n",
       "2018-08-31 23:20:00          24\n",
       "2018-08-31 23:30:00          27\n",
       "2018-08-31 23:40:00          39\n",
       "2018-08-31 23:50:00          53\n",
       "\n",
       "[26496 rows x 1 columns]"
      ]
     },
     "metadata": {},
     "output_type": "display_data"
    },
    {
     "name": "stdout",
     "output_type": "stream",
     "text": [
      "<class 'pandas.core.frame.DataFrame'>\n",
      "DatetimeIndex: 26496 entries, 2018-03-01 00:00:00 to 2018-08-31 23:50:00\n",
      "Data columns (total 1 columns):\n",
      " #   Column      Non-Null Count  Dtype\n",
      "---  ------      --------------  -----\n",
      " 0   num_orders  26496 non-null  int64\n",
      "dtypes: int64(1)\n",
      "memory usage: 414.0 KB\n"
     ]
    }
   ],
   "source": [
    "#выведим на экран общую информацию о данных\n",
    "\n",
    "display(data)\n",
    "data.info()"
   ]
  },
  {
   "cell_type": "code",
   "execution_count": 25,
   "metadata": {},
   "outputs": [],
   "source": [
    "# отсортируем индексы в хронологическом порядке\n",
    "\n",
    "data.sort_index(inplace=True)\n",
    "\n",
    "# сгруппируем значения в часовой интервал  \n",
    "\n",
    "data = data.resample('1H').sum()"
   ]
  },
  {
   "cell_type": "code",
   "execution_count": 26,
   "metadata": {},
   "outputs": [
    {
     "data": {
      "text/html": [
       "<div>\n",
       "<style scoped>\n",
       "    .dataframe tbody tr th:only-of-type {\n",
       "        vertical-align: middle;\n",
       "    }\n",
       "\n",
       "    .dataframe tbody tr th {\n",
       "        vertical-align: top;\n",
       "    }\n",
       "\n",
       "    .dataframe thead th {\n",
       "        text-align: right;\n",
       "    }\n",
       "</style>\n",
       "<table border=\"1\" class=\"dataframe\">\n",
       "  <thead>\n",
       "    <tr style=\"text-align: right;\">\n",
       "      <th></th>\n",
       "      <th>num_orders</th>\n",
       "    </tr>\n",
       "    <tr>\n",
       "      <th>datetime</th>\n",
       "      <th></th>\n",
       "    </tr>\n",
       "  </thead>\n",
       "  <tbody>\n",
       "    <tr>\n",
       "      <th>2018-03-01 00:00:00</th>\n",
       "      <td>124</td>\n",
       "    </tr>\n",
       "    <tr>\n",
       "      <th>2018-03-01 01:00:00</th>\n",
       "      <td>85</td>\n",
       "    </tr>\n",
       "    <tr>\n",
       "      <th>2018-03-01 02:00:00</th>\n",
       "      <td>71</td>\n",
       "    </tr>\n",
       "    <tr>\n",
       "      <th>2018-03-01 03:00:00</th>\n",
       "      <td>66</td>\n",
       "    </tr>\n",
       "    <tr>\n",
       "      <th>2018-03-01 04:00:00</th>\n",
       "      <td>43</td>\n",
       "    </tr>\n",
       "    <tr>\n",
       "      <th>...</th>\n",
       "      <td>...</td>\n",
       "    </tr>\n",
       "    <tr>\n",
       "      <th>2018-08-31 19:00:00</th>\n",
       "      <td>136</td>\n",
       "    </tr>\n",
       "    <tr>\n",
       "      <th>2018-08-31 20:00:00</th>\n",
       "      <td>154</td>\n",
       "    </tr>\n",
       "    <tr>\n",
       "      <th>2018-08-31 21:00:00</th>\n",
       "      <td>159</td>\n",
       "    </tr>\n",
       "    <tr>\n",
       "      <th>2018-08-31 22:00:00</th>\n",
       "      <td>223</td>\n",
       "    </tr>\n",
       "    <tr>\n",
       "      <th>2018-08-31 23:00:00</th>\n",
       "      <td>205</td>\n",
       "    </tr>\n",
       "  </tbody>\n",
       "</table>\n",
       "<p>4416 rows × 1 columns</p>\n",
       "</div>"
      ],
      "text/plain": [
       "                     num_orders\n",
       "datetime                       \n",
       "2018-03-01 00:00:00         124\n",
       "2018-03-01 01:00:00          85\n",
       "2018-03-01 02:00:00          71\n",
       "2018-03-01 03:00:00          66\n",
       "2018-03-01 04:00:00          43\n",
       "...                         ...\n",
       "2018-08-31 19:00:00         136\n",
       "2018-08-31 20:00:00         154\n",
       "2018-08-31 21:00:00         159\n",
       "2018-08-31 22:00:00         223\n",
       "2018-08-31 23:00:00         205\n",
       "\n",
       "[4416 rows x 1 columns]"
      ]
     },
     "metadata": {},
     "output_type": "display_data"
    },
    {
     "name": "stdout",
     "output_type": "stream",
     "text": [
      "<class 'pandas.core.frame.DataFrame'>\n",
      "DatetimeIndex: 4416 entries, 2018-03-01 00:00:00 to 2018-08-31 23:00:00\n",
      "Freq: H\n",
      "Data columns (total 1 columns):\n",
      " #   Column      Non-Null Count  Dtype\n",
      "---  ------      --------------  -----\n",
      " 0   num_orders  4416 non-null   int64\n",
      "dtypes: int64(1)\n",
      "memory usage: 69.0 KB\n"
     ]
    }
   ],
   "source": [
    "# проверяем\n",
    "\n",
    "display(data)\n",
    "data.info()"
   ]
  },
  {
   "cell_type": "code",
   "execution_count": 27,
   "metadata": {},
   "outputs": [
    {
     "name": "stdout",
     "output_type": "stream",
     "text": [
      "True\n"
     ]
    }
   ],
   "source": [
    "# проверяем факт хронологии в индексе\n",
    "\n",
    "print(data.index.is_monotonic)"
   ]
  },
  {
   "cell_type": "markdown",
   "metadata": {},
   "source": [
    "## Анализ"
   ]
  },
  {
   "cell_type": "code",
   "execution_count": 28,
   "metadata": {},
   "outputs": [
    {
     "data": {
      "image/png": "[encoded data removed]",
      "text/plain": [
       "<Figure size 720x576 with 1 Axes>"
      ]
     },
     "metadata": {
      "needs_background": "light"
     },
     "output_type": "display_data"
    }
   ],
   "source": [
    "# построим boxplot количественных признаков\n",
    "\n",
    "data.plot(kind='box', title='num_orders',figsize=(10,8));"
   ]
  },
  {
   "cell_type": "code",
   "execution_count": 29,
   "metadata": {},
   "outputs": [
    {
     "data": {
      "image/png": "[encoded data removed]",
      "text/plain": [
       "<Figure size 1224x792 with 1 Axes>"
      ]
     },
     "metadata": {
      "needs_background": "light"
     },
     "output_type": "display_data"
    }
   ],
   "source": [
    "# построим график временного ряда\n",
    "\n",
    "data.plot(figsize=(17, 11));\n"
   ]
  },
  {
   "cell_type": "code",
   "execution_count": 30,
   "metadata": {
    "scrolled": true
   },
   "outputs": [
    {
     "data": {
      "text/plain": [
       "Text(0.5, 1.0, 'Остаток')"
      ]
     },
     "execution_count": 30,
     "metadata": {},
     "output_type": "execute_result"
    },
    {
     "data": {
      "image/png": "[encoded data removed]",
      "text/plain": [
       "<Figure size 1224x1224 with 4 Axes>"
      ]
     },
     "metadata": {
      "needs_background": "light"
     },
     "output_type": "display_data"
    }
   ],
   "source": [
    "# разложим временной ряд на тренд, сезонность и остаток\n",
    "\n",
    "decomposed = seasonal_decompose(data)\n",
    "\n",
    "plt.figure(figsize=(17, 17))\n",
    "\n",
    "decomposed.trend.plot(ax=plt.gca())\n",
    "plt.title('Тренд')\n",
    "\n",
    "plt.subplot(512)\n",
    "decomposed.seasonal['2018-03-01':'2018-03-31'].plot(ax=plt.gca())\n",
    "plt.title('Сезонность, март')\n",
    "\n",
    "plt.subplot(513)\n",
    "decomposed.seasonal['2018-08-01':'2018-08-31'].plot(ax=plt.gca())\n",
    "plt.title('Сезонность, август')\n",
    "\n",
    "plt.subplot(514)\n",
    "decomposed.seasonal['2018-08-01':'2018-08-02'].plot(ax=plt.gca())\n",
    "plt.title('Сезонность, 2 дня')\n",
    "\n",
    "plt.subplot(515)\n",
    "\n",
    "decomposed.resid.plot(ax=plt.gca())\n",
    "plt.title('Остаток')"
   ]
  },
  {
   "cell_type": "code",
   "execution_count": 31,
   "metadata": {},
   "outputs": [
    {
     "data": {
      "image/png": "[encoded data removed]",
      "text/plain": [
       "<Figure size 1152x576 with 1 Axes>"
      ]
     },
     "metadata": {
      "needs_background": "light"
     },
     "output_type": "display_data"
    }
   ],
   "source": [
    "# сгруппируем значения в дневной интервал и выведим график за месяц\n",
    "\n",
    "data_day = data.resample('1D').sum()\n",
    "data_day.sort_index(inplace=True)\n",
    "data_day['2018-08-01':'2018-09-30'].plot(figsize=(16, 8));"
   ]
  },
  {
   "cell_type": "code",
   "execution_count": 32,
   "metadata": {},
   "outputs": [
    {
     "data": {
      "image/png": "[encoded data removed]",
      "text/plain": [
       "<Figure size 432x288 with 1 Axes>"
      ]
     },
     "metadata": {
      "needs_background": "light"
     },
     "output_type": "display_data"
    }
   ],
   "source": [
    "decomposed_day = seasonal_decompose(data_day['2018-08-01':'2018-09-30'])\n",
    "decomposed_day.seasonal.plot(ax=plt.gca())\n",
    "plt.title('Сезонность, 2 месяца');"
   ]
  },
  {
   "cell_type": "markdown",
   "metadata": {},
   "source": [
    "<div class=\"alert alert-block alert-info\">\n",
    "<h2> Выводы. Подготовка и анализ данных.<a class=\"tocSkip\"> </h2>\n",
    "    \n",
    "1. Тренд восходящий, стохастический процесс нестационарный.\n",
    "\n",
    "2. Наблюдаем сезонность на ежедневной основе с пиками утром, в обед и ночью, что связано рабочим траффиком и доступностью общественного транспорта, а также пробками.\n",
    "\n",
    "3. Виден скачок поездок в начале каждой недели.\n",
    "\n",
    "4. Данные были подготовлены, тк пропусков не было, формат \"int\", заголовки df созданы в соответствии со стандартами \n",
    "    \n",
    "</div>"
   ]
  },
  {
   "cell_type": "markdown",
   "metadata": {},
   "source": [
    "## Обучение"
   ]
  },
  {
   "cell_type": "code",
   "execution_count": 33,
   "metadata": {},
   "outputs": [],
   "source": [
    "# создадим функцию для добавления признаков\n",
    "\n",
    "def new_features(df, max_lag, rolling_mean_size):\n",
    "#    df['year'] = df.index.year\n",
    "#    df['month'] = df.index.month\n",
    "#    df['day'] = df.index.day\n",
    "    df['dayofweek'] = df.index.dayofweek\n",
    "    \n",
    "    for lag in range(1, max_lag + 1):\n",
    "        df['lag_{}'.format(lag)] = df['num_orders'].shift(lag)\n",
    "\n",
    "    df['rolling_mean'] = df['num_orders'].shift().rolling(rolling_mean_size).mean()\n",
    "    \n",
    "new_features(data, 30, 1)"
   ]
  },
  {
   "cell_type": "code",
   "execution_count": 34,
   "metadata": {},
   "outputs": [
    {
     "data": {
      "text/html": [
       "<div>\n",
       "<style scoped>\n",
       "    .dataframe tbody tr th:only-of-type {\n",
       "        vertical-align: middle;\n",
       "    }\n",
       "\n",
       "    .dataframe tbody tr th {\n",
       "        vertical-align: top;\n",
       "    }\n",
       "\n",
       "    .dataframe thead th {\n",
       "        text-align: right;\n",
       "    }\n",
       "</style>\n",
       "<table border=\"1\" class=\"dataframe\">\n",
       "  <thead>\n",
       "    <tr style=\"text-align: right;\">\n",
       "      <th></th>\n",
       "      <th>num_orders</th>\n",
       "      <th>dayofweek</th>\n",
       "      <th>lag_1</th>\n",
       "      <th>lag_2</th>\n",
       "      <th>lag_3</th>\n",
       "      <th>lag_4</th>\n",
       "      <th>lag_5</th>\n",
       "      <th>lag_6</th>\n",
       "      <th>lag_7</th>\n",
       "      <th>lag_8</th>\n",
       "      <th>...</th>\n",
       "      <th>lag_22</th>\n",
       "      <th>lag_23</th>\n",
       "      <th>lag_24</th>\n",
       "      <th>lag_25</th>\n",
       "      <th>lag_26</th>\n",
       "      <th>lag_27</th>\n",
       "      <th>lag_28</th>\n",
       "      <th>lag_29</th>\n",
       "      <th>lag_30</th>\n",
       "      <th>rolling_mean</th>\n",
       "    </tr>\n",
       "    <tr>\n",
       "      <th>datetime</th>\n",
       "      <th></th>\n",
       "      <th></th>\n",
       "      <th></th>\n",
       "      <th></th>\n",
       "      <th></th>\n",
       "      <th></th>\n",
       "      <th></th>\n",
       "      <th></th>\n",
       "      <th></th>\n",
       "      <th></th>\n",
       "      <th></th>\n",
       "      <th></th>\n",
       "      <th></th>\n",
       "      <th></th>\n",
       "      <th></th>\n",
       "      <th></th>\n",
       "      <th></th>\n",
       "      <th></th>\n",
       "      <th></th>\n",
       "      <th></th>\n",
       "      <th></th>\n",
       "    </tr>\n",
       "  </thead>\n",
       "  <tbody>\n",
       "    <tr>\n",
       "      <th>2018-03-01 00:00:00</th>\n",
       "      <td>124</td>\n",
       "      <td>3</td>\n",
       "      <td>NaN</td>\n",
       "      <td>NaN</td>\n",
       "      <td>NaN</td>\n",
       "      <td>NaN</td>\n",
       "      <td>NaN</td>\n",
       "      <td>NaN</td>\n",
       "      <td>NaN</td>\n",
       "      <td>NaN</td>\n",
       "      <td>...</td>\n",
       "      <td>NaN</td>\n",
       "      <td>NaN</td>\n",
       "      <td>NaN</td>\n",
       "      <td>NaN</td>\n",
       "      <td>NaN</td>\n",
       "      <td>NaN</td>\n",
       "      <td>NaN</td>\n",
       "      <td>NaN</td>\n",
       "      <td>NaN</td>\n",
       "      <td>NaN</td>\n",
       "    </tr>\n",
       "    <tr>\n",
       "      <th>2018-03-01 01:00:00</th>\n",
       "      <td>85</td>\n",
       "      <td>3</td>\n",
       "      <td>124.0</td>\n",
       "      <td>NaN</td>\n",
       "      <td>NaN</td>\n",
       "      <td>NaN</td>\n",
       "      <td>NaN</td>\n",
       "      <td>NaN</td>\n",
       "      <td>NaN</td>\n",
       "      <td>NaN</td>\n",
       "      <td>...</td>\n",
       "      <td>NaN</td>\n",
       "      <td>NaN</td>\n",
       "      <td>NaN</td>\n",
       "      <td>NaN</td>\n",
       "      <td>NaN</td>\n",
       "      <td>NaN</td>\n",
       "      <td>NaN</td>\n",
       "      <td>NaN</td>\n",
       "      <td>NaN</td>\n",
       "      <td>124.0</td>\n",
       "    </tr>\n",
       "    <tr>\n",
       "      <th>2018-03-01 02:00:00</th>\n",
       "      <td>71</td>\n",
       "      <td>3</td>\n",
       "      <td>85.0</td>\n",
       "      <td>124.0</td>\n",
       "      <td>NaN</td>\n",
       "      <td>NaN</td>\n",
       "      <td>NaN</td>\n",
       "      <td>NaN</td>\n",
       "      <td>NaN</td>\n",
       "      <td>NaN</td>\n",
       "      <td>...</td>\n",
       "      <td>NaN</td>\n",
       "      <td>NaN</td>\n",
       "      <td>NaN</td>\n",
       "      <td>NaN</td>\n",
       "      <td>NaN</td>\n",
       "      <td>NaN</td>\n",
       "      <td>NaN</td>\n",
       "      <td>NaN</td>\n",
       "      <td>NaN</td>\n",
       "      <td>85.0</td>\n",
       "    </tr>\n",
       "    <tr>\n",
       "      <th>2018-03-01 03:00:00</th>\n",
       "      <td>66</td>\n",
       "      <td>3</td>\n",
       "      <td>71.0</td>\n",
       "      <td>85.0</td>\n",
       "      <td>124.0</td>\n",
       "      <td>NaN</td>\n",
       "      <td>NaN</td>\n",
       "      <td>NaN</td>\n",
       "      <td>NaN</td>\n",
       "      <td>NaN</td>\n",
       "      <td>...</td>\n",
       "      <td>NaN</td>\n",
       "      <td>NaN</td>\n",
       "      <td>NaN</td>\n",
       "      <td>NaN</td>\n",
       "      <td>NaN</td>\n",
       "      <td>NaN</td>\n",
       "      <td>NaN</td>\n",
       "      <td>NaN</td>\n",
       "      <td>NaN</td>\n",
       "      <td>71.0</td>\n",
       "    </tr>\n",
       "    <tr>\n",
       "      <th>2018-03-01 04:00:00</th>\n",
       "      <td>43</td>\n",
       "      <td>3</td>\n",
       "      <td>66.0</td>\n",
       "      <td>71.0</td>\n",
       "      <td>85.0</td>\n",
       "      <td>124.0</td>\n",
       "      <td>NaN</td>\n",
       "      <td>NaN</td>\n",
       "      <td>NaN</td>\n",
       "      <td>NaN</td>\n",
       "      <td>...</td>\n",
       "      <td>NaN</td>\n",
       "      <td>NaN</td>\n",
       "      <td>NaN</td>\n",
       "      <td>NaN</td>\n",
       "      <td>NaN</td>\n",
       "      <td>NaN</td>\n",
       "      <td>NaN</td>\n",
       "      <td>NaN</td>\n",
       "      <td>NaN</td>\n",
       "      <td>66.0</td>\n",
       "    </tr>\n",
       "    <tr>\n",
       "      <th>...</th>\n",
       "      <td>...</td>\n",
       "      <td>...</td>\n",
       "      <td>...</td>\n",
       "      <td>...</td>\n",
       "      <td>...</td>\n",
       "      <td>...</td>\n",
       "      <td>...</td>\n",
       "      <td>...</td>\n",
       "      <td>...</td>\n",
       "      <td>...</td>\n",
       "      <td>...</td>\n",
       "      <td>...</td>\n",
       "      <td>...</td>\n",
       "      <td>...</td>\n",
       "      <td>...</td>\n",
       "      <td>...</td>\n",
       "      <td>...</td>\n",
       "      <td>...</td>\n",
       "      <td>...</td>\n",
       "      <td>...</td>\n",
       "      <td>...</td>\n",
       "    </tr>\n",
       "    <tr>\n",
       "      <th>2018-08-31 19:00:00</th>\n",
       "      <td>136</td>\n",
       "      <td>4</td>\n",
       "      <td>207.0</td>\n",
       "      <td>217.0</td>\n",
       "      <td>197.0</td>\n",
       "      <td>116.0</td>\n",
       "      <td>133.0</td>\n",
       "      <td>166.0</td>\n",
       "      <td>136.0</td>\n",
       "      <td>167.0</td>\n",
       "      <td>...</td>\n",
       "      <td>198.0</td>\n",
       "      <td>142.0</td>\n",
       "      <td>72.0</td>\n",
       "      <td>177.0</td>\n",
       "      <td>342.0</td>\n",
       "      <td>254.0</td>\n",
       "      <td>156.0</td>\n",
       "      <td>91.0</td>\n",
       "      <td>154.0</td>\n",
       "      <td>207.0</td>\n",
       "    </tr>\n",
       "    <tr>\n",
       "      <th>2018-08-31 20:00:00</th>\n",
       "      <td>154</td>\n",
       "      <td>4</td>\n",
       "      <td>136.0</td>\n",
       "      <td>207.0</td>\n",
       "      <td>217.0</td>\n",
       "      <td>197.0</td>\n",
       "      <td>116.0</td>\n",
       "      <td>133.0</td>\n",
       "      <td>166.0</td>\n",
       "      <td>136.0</td>\n",
       "      <td>...</td>\n",
       "      <td>158.0</td>\n",
       "      <td>198.0</td>\n",
       "      <td>142.0</td>\n",
       "      <td>72.0</td>\n",
       "      <td>177.0</td>\n",
       "      <td>342.0</td>\n",
       "      <td>254.0</td>\n",
       "      <td>156.0</td>\n",
       "      <td>91.0</td>\n",
       "      <td>136.0</td>\n",
       "    </tr>\n",
       "    <tr>\n",
       "      <th>2018-08-31 21:00:00</th>\n",
       "      <td>159</td>\n",
       "      <td>4</td>\n",
       "      <td>154.0</td>\n",
       "      <td>136.0</td>\n",
       "      <td>207.0</td>\n",
       "      <td>217.0</td>\n",
       "      <td>197.0</td>\n",
       "      <td>116.0</td>\n",
       "      <td>133.0</td>\n",
       "      <td>166.0</td>\n",
       "      <td>...</td>\n",
       "      <td>246.0</td>\n",
       "      <td>158.0</td>\n",
       "      <td>198.0</td>\n",
       "      <td>142.0</td>\n",
       "      <td>72.0</td>\n",
       "      <td>177.0</td>\n",
       "      <td>342.0</td>\n",
       "      <td>254.0</td>\n",
       "      <td>156.0</td>\n",
       "      <td>154.0</td>\n",
       "    </tr>\n",
       "    <tr>\n",
       "      <th>2018-08-31 22:00:00</th>\n",
       "      <td>223</td>\n",
       "      <td>4</td>\n",
       "      <td>159.0</td>\n",
       "      <td>154.0</td>\n",
       "      <td>136.0</td>\n",
       "      <td>207.0</td>\n",
       "      <td>217.0</td>\n",
       "      <td>197.0</td>\n",
       "      <td>116.0</td>\n",
       "      <td>133.0</td>\n",
       "      <td>...</td>\n",
       "      <td>276.0</td>\n",
       "      <td>246.0</td>\n",
       "      <td>158.0</td>\n",
       "      <td>198.0</td>\n",
       "      <td>142.0</td>\n",
       "      <td>72.0</td>\n",
       "      <td>177.0</td>\n",
       "      <td>342.0</td>\n",
       "      <td>254.0</td>\n",
       "      <td>159.0</td>\n",
       "    </tr>\n",
       "    <tr>\n",
       "      <th>2018-08-31 23:00:00</th>\n",
       "      <td>205</td>\n",
       "      <td>4</td>\n",
       "      <td>223.0</td>\n",
       "      <td>159.0</td>\n",
       "      <td>154.0</td>\n",
       "      <td>136.0</td>\n",
       "      <td>207.0</td>\n",
       "      <td>217.0</td>\n",
       "      <td>197.0</td>\n",
       "      <td>116.0</td>\n",
       "      <td>...</td>\n",
       "      <td>194.0</td>\n",
       "      <td>276.0</td>\n",
       "      <td>246.0</td>\n",
       "      <td>158.0</td>\n",
       "      <td>198.0</td>\n",
       "      <td>142.0</td>\n",
       "      <td>72.0</td>\n",
       "      <td>177.0</td>\n",
       "      <td>342.0</td>\n",
       "      <td>223.0</td>\n",
       "    </tr>\n",
       "  </tbody>\n",
       "</table>\n",
       "<p>4416 rows × 33 columns</p>\n",
       "</div>"
      ],
      "text/plain": [
       "                     num_orders  dayofweek  lag_1  lag_2  lag_3  lag_4  lag_5  \\\n",
       "datetime                                                                        \n",
       "2018-03-01 00:00:00         124          3    NaN    NaN    NaN    NaN    NaN   \n",
       "2018-03-01 01:00:00          85          3  124.0    NaN    NaN    NaN    NaN   \n",
       "2018-03-01 02:00:00          71          3   85.0  124.0    NaN    NaN    NaN   \n",
       "2018-03-01 03:00:00          66          3   71.0   85.0  124.0    NaN    NaN   \n",
       "2018-03-01 04:00:00          43          3   66.0   71.0   85.0  124.0    NaN   \n",
       "...                         ...        ...    ...    ...    ...    ...    ...   \n",
       "2018-08-31 19:00:00         136          4  207.0  217.0  197.0  116.0  133.0   \n",
       "2018-08-31 20:00:00         154          4  136.0  207.0  217.0  197.0  116.0   \n",
       "2018-08-31 21:00:00         159          4  154.0  136.0  207.0  217.0  197.0   \n",
       "2018-08-31 22:00:00         223          4  159.0  154.0  136.0  207.0  217.0   \n",
       "2018-08-31 23:00:00         205          4  223.0  159.0  154.0  136.0  207.0   \n",
       "\n",
       "                     lag_6  lag_7  lag_8  ...  lag_22  lag_23  lag_24  lag_25  \\\n",
       "datetime                                  ...                                   \n",
       "2018-03-01 00:00:00    NaN    NaN    NaN  ...     NaN     NaN     NaN     NaN   \n",
       "2018-03-01 01:00:00    NaN    NaN    NaN  ...     NaN     NaN     NaN     NaN   \n",
       "2018-03-01 02:00:00    NaN    NaN    NaN  ...     NaN     NaN     NaN     NaN   \n",
       "2018-03-01 03:00:00    NaN    NaN    NaN  ...     NaN     NaN     NaN     NaN   \n",
       "2018-03-01 04:00:00    NaN    NaN    NaN  ...     NaN     NaN     NaN     NaN   \n",
       "...                    ...    ...    ...  ...     ...     ...     ...     ...   \n",
       "2018-08-31 19:00:00  166.0  136.0  167.0  ...   198.0   142.0    72.0   177.0   \n",
       "2018-08-31 20:00:00  133.0  166.0  136.0  ...   158.0   198.0   142.0    72.0   \n",
       "2018-08-31 21:00:00  116.0  133.0  166.0  ...   246.0   158.0   198.0   142.0   \n",
       "2018-08-31 22:00:00  197.0  116.0  133.0  ...   276.0   246.0   158.0   198.0   \n",
       "2018-08-31 23:00:00  217.0  197.0  116.0  ...   194.0   276.0   246.0   158.0   \n",
       "\n",
       "                     lag_26  lag_27  lag_28  lag_29  lag_30  rolling_mean  \n",
       "datetime                                                                   \n",
       "2018-03-01 00:00:00     NaN     NaN     NaN     NaN     NaN           NaN  \n",
       "2018-03-01 01:00:00     NaN     NaN     NaN     NaN     NaN         124.0  \n",
       "2018-03-01 02:00:00     NaN     NaN     NaN     NaN     NaN          85.0  \n",
       "2018-03-01 03:00:00     NaN     NaN     NaN     NaN     NaN          71.0  \n",
       "2018-03-01 04:00:00     NaN     NaN     NaN     NaN     NaN          66.0  \n",
       "...                     ...     ...     ...     ...     ...           ...  \n",
       "2018-08-31 19:00:00   342.0   254.0   156.0    91.0   154.0         207.0  \n",
       "2018-08-31 20:00:00   177.0   342.0   254.0   156.0    91.0         136.0  \n",
       "2018-08-31 21:00:00    72.0   177.0   342.0   254.0   156.0         154.0  \n",
       "2018-08-31 22:00:00   142.0    72.0   177.0   342.0   254.0         159.0  \n",
       "2018-08-31 23:00:00   198.0   142.0    72.0   177.0   342.0         223.0  \n",
       "\n",
       "[4416 rows x 33 columns]"
      ]
     },
     "metadata": {},
     "output_type": "display_data"
    }
   ],
   "source": [
    "# проверяем\n",
    "\n",
    "display(data)"
   ]
  },
  {
   "cell_type": "code",
   "execution_count": 36,
   "metadata": {},
   "outputs": [],
   "source": [
    "# разобьем датасет на тестовую и обучающие выборки\n",
    "\n",
    "train, test = train_test_split(data, shuffle=False, test_size=0.1)\n",
    "train = train.dropna()\n",
    "test = test.dropna()"
   ]
  },
  {
   "cell_type": "code",
   "execution_count": 37,
   "metadata": {},
   "outputs": [],
   "source": [
    "# сохраним признаки и цель в разных переменных для выборок тестовой и обучающей \n",
    "\n",
    "features_train = train.drop('num_orders', axis = 1)\n",
    "target_train = train['num_orders']\n",
    "# features_valid = test.drop('num_orders', axis = 1)\n",
    "# target_valid = test['num_orders']\n",
    "features_test = test.drop('num_orders', axis = 1)\n",
    "target_test = test['num_orders']"
   ]
  },
  {
   "cell_type": "code",
   "execution_count": 38,
   "metadata": {},
   "outputs": [
    {
     "name": "stdout",
     "output_type": "stream",
     "text": [
      "RMSE: 45.10245688939071\n",
      "CPU times: user 84 ms, sys: 99.8 ms, total: 184 ms\n",
      "Wall time: 194 ms\n"
     ]
    }
   ],
   "source": [
    "%%time\n",
    "\n",
    "# инициализируем модель LinearRegression\n",
    "\n",
    "model = LinearRegression()\n",
    "model.fit(features_train, target_train)\n",
    "prediction = model.predict(features_test)\n",
    "print(\"RMSE:\", mean_squared_error(target_test, prediction, squared= False))"
   ]
  },
  {
   "cell_type": "code",
   "execution_count": 39,
   "metadata": {},
   "outputs": [
    {
     "name": "stdout",
     "output_type": "stream",
     "text": [
      "best_score: 27.843800358986\n",
      "best_params: {'max_depth': 8, 'n_estimators': 16}\n",
      "CPU times: user 1min 4s, sys: 146 ms, total: 1min 4s\n",
      "Wall time: 1min 5s\n"
     ]
    }
   ],
   "source": [
    "%%time\n",
    "\n",
    "# инициализируем модель RandomForestRegressor\n",
    "\n",
    "rfr = RandomForestRegressor()\n",
    "\n",
    "parameters = {\n",
    "    'n_estimators': range(1, 20, 1),\n",
    "    'max_depth': range(1, 10)}\n",
    "\n",
    "tscv = TimeSeriesSplit(n_splits=3)\n",
    "\n",
    "grid_model = GridSearchCV(estimator=rfr, cv=tscv, scoring='neg_root_mean_squared_error', param_grid=parameters, n_jobs=-1)\n",
    "\n",
    "grid_model.fit(features_train, target_train)\n",
    "\n",
    "grid_model_best_score = grid_model.best_score_ * -1\n",
    "grid_model_best_params = grid_model.best_params_\n",
    "print(f'best_score: {grid_model_best_score}')\n",
    "print(f'best_params: {grid_model_best_params}')"
   ]
  },
  {
   "cell_type": "code",
   "execution_count": 40,
   "metadata": {},
   "outputs": [
    {
     "name": "stdout",
     "output_type": "stream",
     "text": [
      "best_score: 27.839412962030934\n",
      "best_params: {'learning_rate': 0.2, 'max_depth': 10, 'n_estimators': 20}\n",
      "CPU times: user 10.5 s, sys: 49.6 ms, total: 10.5 s\n",
      "Wall time: 10.6 s\n"
     ]
    }
   ],
   "source": [
    "%%time\n",
    "\n",
    "# инициализируем модель LGBMRegressor\n",
    "\n",
    "lgbmr = LGBMRegressor()\n",
    "\n",
    "parameters = {\n",
    "    'learning_rate':[0.1, 0.2, 0.3, 0.4, 0.5],\n",
    "    'n_estimators': [1, 20], \n",
    "    'max_depth': [1, 10]}\n",
    "\n",
    "tscv = TimeSeriesSplit(n_splits=3)\n",
    "\n",
    "grid_model = GridSearchCV(lgbmr, parameters, scoring='neg_root_mean_squared_error', cv=tscv)\n",
    "\n",
    "grid_model.fit(features_train, target_train)\n",
    "\n",
    "grid_model_best_score = grid_model.best_score_ * -1\n",
    "grid_model_best_params = grid_model.best_params_\n",
    "print(f'best_score: {grid_model_best_score}')\n",
    "print(f'best_params: {grid_model_best_params}')"
   ]
  },
  {
   "cell_type": "code",
   "execution_count": 41,
   "metadata": {},
   "outputs": [
    {
     "name": "stdout",
     "output_type": "stream",
     "text": [
      "best_score: 26.296355766694543\n",
      "best_params: {'learning_rate': 0.1, 'n_estimators': 500, 'verbose': False}\n",
      "CPU times: user 50.6 s, sys: 1.19 s, total: 51.8 s\n",
      "Wall time: 1min 17s\n"
     ]
    }
   ],
   "source": [
    "%%time\n",
    "\n",
    "# инициализируем модель CatBoostRegressor\n",
    "\n",
    "cbr = CatBoostRegressor()\n",
    "\n",
    "parameters = {\n",
    "    'learning_rate':[0.1, 0.2, 0.3],\n",
    "    'n_estimators': [10, 50, 100, 300, 500], \n",
    "#    'depth': [2, 15],\n",
    "    'verbose':[False]}\n",
    "\n",
    "tscv = TimeSeriesSplit(n_splits=3)\n",
    "\n",
    "grid_model = GridSearchCV(cbr, parameters, cv=tscv,\n",
    "    scoring='neg_root_mean_squared_error')\n",
    "\n",
    "grid_model.fit(features_train, target_train)\n",
    "\n",
    "grid_model_best_score = grid_model.best_score_ * -1\n",
    "grid_model_best_params = grid_model.best_params_\n",
    "print(f'best_score: {grid_model_best_score}')\n",
    "print(f'best_params: {grid_model_best_params}')"
   ]
  },
  {
   "cell_type": "markdown",
   "metadata": {},
   "source": [
    "<div class=\"alert alert-block alert-info\">\n",
    "<h2> Выводы. Обучение моделей.<a class=\"tocSkip\"> </h2>\n",
    "    \n",
    "1. Инициализировали 4 модели LinearRegression, RandomForestRegressor, LGBMRegressor, CatBoostRegressor. Кроме LinearRegression значения RMSE у всех моделей меньше требуемых 48.\n",
    "\n",
    "2. Наиболее качественный результат показала модель CatBoostRegressor (RMSE 27.17), но при этом обучение оказалось самом длительным (45.5 сек).\n",
    "\n",
    "3. Быстрее всего с RMSE < 48 обучилась модель RandomForestRegressor (1.83 сек).\n",
    "  \n",
    "</div>"
   ]
  },
  {
   "cell_type": "markdown",
   "metadata": {},
   "source": [
    "## Тестирование"
   ]
  },
  {
   "cell_type": "code",
   "execution_count": 42,
   "metadata": {},
   "outputs": [
    {
     "name": "stdout",
     "output_type": "stream",
     "text": [
      "RMSE: 84.63336276399527\n"
     ]
    }
   ],
   "source": [
    "# проверим модель по среднему значению\n",
    "\n",
    "prediction = np.ones(test.shape[0])*train['num_orders'].mean()\n",
    "print(\"RMSE:\", mean_squared_error(target_test, prediction, squared= False))"
   ]
  },
  {
   "cell_type": "code",
   "execution_count": 43,
   "metadata": {},
   "outputs": [
    {
     "name": "stdout",
     "output_type": "stream",
     "text": [
      "RMSE: 59.054503546641314\n"
     ]
    }
   ],
   "source": [
    "# проверим модель по предыдущему значению\n",
    "# сдвинем данные на шаг вперед\n",
    "\n",
    "prediction = test['num_orders'].shift()\n",
    "\n",
    "# заполним нулевое/первое значение в \"сдвинутой\" колонке последним значением в целевом признаке\n",
    "\n",
    "prediction.iloc[0] = target_test.iloc[-1]\n",
    "\n",
    "# выведим на экран значение RMSE\n",
    "print(\"RMSE:\", mean_squared_error(target_test, prediction, squared= False))"
   ]
  },
  {
   "cell_type": "code",
   "execution_count": 44,
   "metadata": {},
   "outputs": [
    {
     "name": "stdout",
     "output_type": "stream",
     "text": [
      "RMSE: 41.33411842501157\n"
     ]
    }
   ],
   "source": [
    "# проверим модель с лучшими параметрами на тестовой выборке для CatBoostRegressor\n",
    "\n",
    "cbr = CatBoostRegressor(n_estimators = 500, learning_rate=0.1, verbose=False)\n",
    "cbr.fit(features_train, target_train, verbose=False)\n",
    "prediction = cbr.predict(features_test)\n",
    "print(\"RMSE:\", mean_squared_error(target_test, prediction, squared= False))"
   ]
  },
  {
   "cell_type": "code",
   "execution_count": 45,
   "metadata": {},
   "outputs": [
    {
     "name": "stderr",
     "output_type": "stream",
     "text": [
      "/opt/conda/lib/python3.9/site-packages/lightgbm/sklearn.py:736: UserWarning: 'verbose' argument is deprecated and will be removed in a future release of LightGBM. Pass 'log_evaluation()' callback via 'callbacks' argument instead.\n",
      "  _log_warning(\"'verbose' argument is deprecated and will be removed in a future release of LightGBM. \"\n"
     ]
    },
    {
     "name": "stdout",
     "output_type": "stream",
     "text": [
      "RMSE: 45.06079046863939\n"
     ]
    }
   ],
   "source": [
    "# проверим модель с лучшими параметрами на тестовой выборке для LGBMRegressor\n",
    "\n",
    "lgbmr = LGBMRegressor(learning_rate = 0.2, max_depth = 10, n_estimators = 20)\n",
    "lgbmr.fit(features_train, target_train, verbose=False)\n",
    "prediction = lgbmr.predict(features_test)\n",
    "print(\"RMSE:\", mean_squared_error(target_test, prediction, squared= False))"
   ]
  },
  {
   "cell_type": "code",
   "execution_count": 46,
   "metadata": {},
   "outputs": [
    {
     "name": "stdout",
     "output_type": "stream",
     "text": [
      "RMSE: 46.370852928059165\n"
     ]
    }
   ],
   "source": [
    "# проверим модель с лучшими параметрами на тестовой выборке для RandomForestRegressor\n",
    "\n",
    "rfr = RandomForestRegressor(max_depth = 8, n_estimators = 19)\n",
    "rfr.fit(features_train, target_train)\n",
    "prediction = rfr.predict(features_test)\n",
    "print(\"RMSE:\", mean_squared_error(target_test, prediction, squared= False))"
   ]
  },
  {
   "cell_type": "markdown",
   "metadata": {},
   "source": [
    "<div class=\"alert alert-block alert-info\">\n",
    "<h2> Выводы. Тестирование.<a class=\"tocSkip\"> </h2>\n",
    "    \n",
    "1. Проверка на стационарной модели показала результат RMSE равный 84.6., на модели по предыдущему значению - 59.\n",
    "\n",
    "2. В задании сказано, что нужно спрогнозировать количество заказов такси на следующий час, и для этого нужно построитеь модель для такого предсказания. Из всех рассмотренных моделей мы остановились на CatBoostRegressor, тк у нее лучшее значение RMSE на тестовой выборке (RMSE 41) и обучение занимает относительно малое врмея (2 мин 22 сек). Модель у нас немного переучилась, но тем не менее, результат соответствует установленным требованиям.\n",
    "  \n",
    "</div>"
   ]
  },
  {
   "cell_type": "markdown",
   "metadata": {},
   "source": [
    "## Чек-лист проверки"
   ]
  },
  {
   "cell_type": "markdown",
   "metadata": {},
   "source": [
    "- [x]  Jupyter Notebook открыт\n",
    "- [x]  Весь код выполняется без ошибок\n",
    "- [x]  Ячейки с кодом расположены в порядке исполнения\n",
    "- [x]  Данные загружены и подготовлены\n",
    "- [x]  Данные проанализированы\n",
    "- [x]  Модель обучена, гиперпараметры подобраны\n",
    "- [x]  Качество моделей проверено, выводы сделаны\n",
    "- [x]  Значение *RMSE* на тестовой выборке не больше 48"
   ]
  }
 ],
 "metadata": {
  "ExecuteTimeLog": [
   {
    "duration": 47,
    "start_time": "2023-03-01T09:40:37.253Z"
   },
   {
    "duration": 443,
    "start_time": "2023-03-01T09:41:08.891Z"
   },
   {
    "duration": 136,
    "start_time": "2023-03-01T09:41:09.585Z"
   },
   {
    "duration": 23,
    "start_time": "2023-03-01T09:41:39.976Z"
   },
   {
    "duration": 10,
    "start_time": "2023-03-01T09:47:11.698Z"
   },
   {
    "duration": 10,
    "start_time": "2023-03-01T09:47:29.906Z"
   },
   {
    "duration": 817,
    "start_time": "2023-03-01T09:48:07.028Z"
   },
   {
    "duration": 42,
    "start_time": "2023-03-01T09:48:07.847Z"
   },
   {
    "duration": 19,
    "start_time": "2023-03-01T09:48:07.891Z"
   },
   {
    "duration": 7,
    "start_time": "2023-03-01T09:48:07.912Z"
   },
   {
    "duration": 11,
    "start_time": "2023-03-01T09:48:07.921Z"
   },
   {
    "duration": 3,
    "start_time": "2023-03-01T09:52:01.434Z"
   },
   {
    "duration": 487,
    "start_time": "2023-03-01T11:13:55.143Z"
   },
   {
    "duration": 75,
    "start_time": "2023-03-01T11:47:40.351Z"
   },
   {
    "duration": 18,
    "start_time": "2023-03-01T11:48:26.240Z"
   },
   {
    "duration": 32,
    "start_time": "2023-03-01T12:12:50.541Z"
   },
   {
    "duration": 46,
    "start_time": "2023-03-01T12:12:50.575Z"
   },
   {
    "duration": 18,
    "start_time": "2023-03-01T12:12:50.623Z"
   },
   {
    "duration": 9,
    "start_time": "2023-03-01T12:12:50.643Z"
   },
   {
    "duration": 24,
    "start_time": "2023-03-01T12:12:50.654Z"
   },
   {
    "duration": 3,
    "start_time": "2023-03-01T12:12:50.680Z"
   },
   {
    "duration": 115,
    "start_time": "2023-03-01T12:12:50.684Z"
   },
   {
    "duration": 21,
    "start_time": "2023-03-01T12:12:50.801Z"
   },
   {
    "duration": 4,
    "start_time": "2023-03-01T12:13:22.164Z"
   },
   {
    "duration": 48,
    "start_time": "2023-03-01T12:13:22.170Z"
   },
   {
    "duration": 17,
    "start_time": "2023-03-01T12:13:22.220Z"
   },
   {
    "duration": 26,
    "start_time": "2023-03-01T12:13:22.239Z"
   },
   {
    "duration": 26,
    "start_time": "2023-03-01T12:13:22.268Z"
   },
   {
    "duration": 5,
    "start_time": "2023-03-01T12:13:22.295Z"
   },
   {
    "duration": 237,
    "start_time": "2023-03-01T12:13:22.302Z"
   },
   {
    "duration": 29,
    "start_time": "2023-03-01T12:13:22.541Z"
   },
   {
    "duration": 320,
    "start_time": "2023-03-01T12:13:33.106Z"
   },
   {
    "duration": 608,
    "start_time": "2023-03-01T12:16:35.821Z"
   },
   {
    "duration": 946,
    "start_time": "2023-03-01T12:17:36.666Z"
   },
   {
    "duration": 746,
    "start_time": "2023-03-01T12:18:08.684Z"
   },
   {
    "duration": 806,
    "start_time": "2023-03-01T12:18:33.015Z"
   },
   {
    "duration": 769,
    "start_time": "2023-03-01T12:18:46.620Z"
   },
   {
    "duration": 705,
    "start_time": "2023-03-01T12:19:36.687Z"
   },
   {
    "duration": 777,
    "start_time": "2023-03-01T12:20:50.044Z"
   },
   {
    "duration": 811,
    "start_time": "2023-03-01T12:22:15.939Z"
   },
   {
    "duration": 113,
    "start_time": "2023-03-01T12:27:19.266Z"
   },
   {
    "duration": 130,
    "start_time": "2023-03-01T12:28:26.096Z"
   },
   {
    "duration": 18,
    "start_time": "2023-03-01T12:28:26.810Z"
   },
   {
    "duration": 5,
    "start_time": "2023-03-01T12:28:37.740Z"
   },
   {
    "duration": 67,
    "start_time": "2023-03-01T12:28:37.747Z"
   },
   {
    "duration": 18,
    "start_time": "2023-03-01T12:28:37.816Z"
   },
   {
    "duration": 10,
    "start_time": "2023-03-01T12:28:37.836Z"
   },
   {
    "duration": 19,
    "start_time": "2023-03-01T12:28:37.848Z"
   },
   {
    "duration": 4,
    "start_time": "2023-03-01T12:28:37.869Z"
   },
   {
    "duration": 144,
    "start_time": "2023-03-01T12:28:37.875Z"
   },
   {
    "duration": 12,
    "start_time": "2023-03-01T12:28:38.021Z"
   },
   {
    "duration": 160,
    "start_time": "2023-03-01T12:29:25.964Z"
   },
   {
    "duration": 14,
    "start_time": "2023-03-01T12:29:27.351Z"
   },
   {
    "duration": 124,
    "start_time": "2023-03-01T12:29:58.871Z"
   },
   {
    "duration": 647,
    "start_time": "2023-03-01T12:29:59.940Z"
   },
   {
    "duration": 147,
    "start_time": "2023-03-01T12:30:47.418Z"
   },
   {
    "duration": 607,
    "start_time": "2023-03-01T12:30:48.093Z"
   },
   {
    "duration": 814,
    "start_time": "2023-03-01T12:33:27.847Z"
   },
   {
    "duration": 686,
    "start_time": "2023-03-01T12:33:51.212Z"
   },
   {
    "duration": 730,
    "start_time": "2023-03-01T12:34:59.647Z"
   },
   {
    "duration": 712,
    "start_time": "2023-03-01T12:35:08.279Z"
   },
   {
    "duration": 725,
    "start_time": "2023-03-01T12:35:25.516Z"
   },
   {
    "duration": 1059,
    "start_time": "2023-03-01T12:35:37.000Z"
   },
   {
    "duration": 804,
    "start_time": "2023-03-01T12:37:01.055Z"
   },
   {
    "duration": 607,
    "start_time": "2023-03-01T12:38:23.437Z"
   },
   {
    "duration": 542,
    "start_time": "2023-03-01T12:38:44.030Z"
   },
   {
    "duration": 863,
    "start_time": "2023-03-01T12:38:57.302Z"
   },
   {
    "duration": 797,
    "start_time": "2023-03-01T12:39:28.249Z"
   },
   {
    "duration": 583,
    "start_time": "2023-03-01T12:39:48.035Z"
   },
   {
    "duration": 1036,
    "start_time": "2023-03-01T12:39:58.310Z"
   },
   {
    "duration": 715,
    "start_time": "2023-03-01T12:40:13.192Z"
   },
   {
    "duration": 760,
    "start_time": "2023-03-01T12:40:53.906Z"
   },
   {
    "duration": 765,
    "start_time": "2023-03-01T12:41:19.365Z"
   },
   {
    "duration": 891,
    "start_time": "2023-03-01T12:41:28.123Z"
   },
   {
    "duration": 973,
    "start_time": "2023-03-01T12:42:11.028Z"
   },
   {
    "duration": 1102,
    "start_time": "2023-03-01T12:43:51.334Z"
   },
   {
    "duration": 1376,
    "start_time": "2023-03-01T12:45:00.776Z"
   },
   {
    "duration": 1026,
    "start_time": "2023-03-01T12:45:13.452Z"
   },
   {
    "duration": 1090,
    "start_time": "2023-03-01T12:46:08.839Z"
   },
   {
    "duration": 3,
    "start_time": "2023-03-01T14:52:31.978Z"
   },
   {
    "duration": 63,
    "start_time": "2023-03-01T14:52:31.983Z"
   },
   {
    "duration": 15,
    "start_time": "2023-03-01T14:52:32.048Z"
   },
   {
    "duration": 9,
    "start_time": "2023-03-01T14:52:32.064Z"
   },
   {
    "duration": 28,
    "start_time": "2023-03-01T14:52:32.075Z"
   },
   {
    "duration": 3,
    "start_time": "2023-03-01T14:52:32.105Z"
   },
   {
    "duration": 151,
    "start_time": "2023-03-01T14:52:32.110Z"
   },
   {
    "duration": 1050,
    "start_time": "2023-03-01T14:52:32.263Z"
   },
   {
    "duration": 13,
    "start_time": "2023-03-01T14:52:33.315Z"
   },
   {
    "duration": 41,
    "start_time": "2023-03-01T14:52:33.329Z"
   },
   {
    "duration": 5,
    "start_time": "2023-03-01T15:03:00.588Z"
   },
   {
    "duration": 101,
    "start_time": "2023-03-01T15:03:00.595Z"
   },
   {
    "duration": 17,
    "start_time": "2023-03-01T15:03:00.697Z"
   },
   {
    "duration": 31,
    "start_time": "2023-03-01T15:03:00.716Z"
   },
   {
    "duration": 34,
    "start_time": "2023-03-01T15:03:00.750Z"
   },
   {
    "duration": 14,
    "start_time": "2023-03-01T15:03:00.786Z"
   },
   {
    "duration": 175,
    "start_time": "2023-03-01T15:03:00.802Z"
   },
   {
    "duration": 972,
    "start_time": "2023-03-01T15:03:00.979Z"
   },
   {
    "duration": 16,
    "start_time": "2023-03-01T15:03:01.953Z"
   },
   {
    "duration": 49,
    "start_time": "2023-03-01T15:03:01.971Z"
   },
   {
    "duration": 13,
    "start_time": "2023-03-01T15:03:02.022Z"
   },
   {
    "duration": 6,
    "start_time": "2023-03-01T15:03:02.037Z"
   },
   {
    "duration": 219,
    "start_time": "2023-03-01T15:03:02.045Z"
   },
   {
    "duration": 3,
    "start_time": "2023-03-01T15:04:18.128Z"
   },
   {
    "duration": 48,
    "start_time": "2023-03-01T15:04:18.133Z"
   },
   {
    "duration": 16,
    "start_time": "2023-03-01T15:04:18.183Z"
   },
   {
    "duration": 7,
    "start_time": "2023-03-01T15:04:18.201Z"
   },
   {
    "duration": 22,
    "start_time": "2023-03-01T15:04:18.210Z"
   },
   {
    "duration": 26,
    "start_time": "2023-03-01T15:04:18.234Z"
   },
   {
    "duration": 127,
    "start_time": "2023-03-01T15:04:18.262Z"
   },
   {
    "duration": 1019,
    "start_time": "2023-03-01T15:04:18.390Z"
   },
   {
    "duration": 14,
    "start_time": "2023-03-01T15:04:19.411Z"
   },
   {
    "duration": 46,
    "start_time": "2023-03-01T15:04:19.426Z"
   },
   {
    "duration": 7,
    "start_time": "2023-03-01T15:04:19.473Z"
   },
   {
    "duration": 4,
    "start_time": "2023-03-01T15:04:19.482Z"
   },
   {
    "duration": 14,
    "start_time": "2023-03-01T15:04:19.488Z"
   },
   {
    "duration": 10,
    "start_time": "2023-03-01T15:17:49.256Z"
   },
   {
    "duration": 4,
    "start_time": "2023-03-01T15:20:18.992Z"
   },
   {
    "duration": 53,
    "start_time": "2023-03-01T15:20:18.998Z"
   },
   {
    "duration": 19,
    "start_time": "2023-03-01T15:20:19.053Z"
   },
   {
    "duration": 7,
    "start_time": "2023-03-01T15:20:19.073Z"
   },
   {
    "duration": 16,
    "start_time": "2023-03-01T15:20:19.082Z"
   },
   {
    "duration": 4,
    "start_time": "2023-03-01T15:20:19.099Z"
   },
   {
    "duration": 146,
    "start_time": "2023-03-01T15:20:19.104Z"
   },
   {
    "duration": 944,
    "start_time": "2023-03-01T15:20:19.258Z"
   },
   {
    "duration": 12,
    "start_time": "2023-03-01T15:20:20.204Z"
   },
   {
    "duration": 25,
    "start_time": "2023-03-01T15:20:20.218Z"
   },
   {
    "duration": 10,
    "start_time": "2023-03-01T15:20:20.260Z"
   },
   {
    "duration": 7,
    "start_time": "2023-03-01T15:20:20.272Z"
   },
   {
    "duration": 20,
    "start_time": "2023-03-01T15:20:20.281Z"
   },
   {
    "duration": 159,
    "start_time": "2023-03-01T15:20:20.306Z"
   },
   {
    "duration": 34,
    "start_time": "2023-03-01T15:21:47.398Z"
   },
   {
    "duration": 43,
    "start_time": "2023-03-01T15:21:47.434Z"
   },
   {
    "duration": 18,
    "start_time": "2023-03-01T15:21:47.479Z"
   },
   {
    "duration": 11,
    "start_time": "2023-03-01T15:21:47.499Z"
   },
   {
    "duration": 18,
    "start_time": "2023-03-01T15:21:47.513Z"
   },
   {
    "duration": 25,
    "start_time": "2023-03-01T15:21:47.533Z"
   },
   {
    "duration": 147,
    "start_time": "2023-03-01T15:21:47.561Z"
   },
   {
    "duration": 1488,
    "start_time": "2023-03-01T15:21:47.710Z"
   },
   {
    "duration": 13,
    "start_time": "2023-03-01T15:21:49.200Z"
   },
   {
    "duration": 45,
    "start_time": "2023-03-01T15:21:49.215Z"
   },
   {
    "duration": 11,
    "start_time": "2023-03-01T15:21:49.262Z"
   },
   {
    "duration": 7,
    "start_time": "2023-03-01T15:21:49.275Z"
   },
   {
    "duration": 13,
    "start_time": "2023-03-01T15:21:49.283Z"
   },
   {
    "duration": 161,
    "start_time": "2023-03-01T15:21:49.299Z"
   },
   {
    "duration": 6,
    "start_time": "2023-03-01T15:22:27.170Z"
   },
   {
    "duration": 64,
    "start_time": "2023-03-01T15:22:27.178Z"
   },
   {
    "duration": 19,
    "start_time": "2023-03-01T15:22:27.245Z"
   },
   {
    "duration": 19,
    "start_time": "2023-03-01T15:22:27.267Z"
   },
   {
    "duration": 32,
    "start_time": "2023-03-01T15:22:27.289Z"
   },
   {
    "duration": 7,
    "start_time": "2023-03-01T15:22:27.324Z"
   },
   {
    "duration": 218,
    "start_time": "2023-03-01T15:22:27.334Z"
   },
   {
    "duration": 1129,
    "start_time": "2023-03-01T15:22:27.554Z"
   },
   {
    "duration": 16,
    "start_time": "2023-03-01T15:22:28.685Z"
   },
   {
    "duration": 21,
    "start_time": "2023-03-01T15:22:28.704Z"
   },
   {
    "duration": 37,
    "start_time": "2023-03-01T15:22:28.727Z"
   },
   {
    "duration": 7,
    "start_time": "2023-03-01T15:22:28.766Z"
   },
   {
    "duration": 18,
    "start_time": "2023-03-01T15:22:28.774Z"
   },
   {
    "duration": 186,
    "start_time": "2023-03-01T15:22:28.796Z"
   },
   {
    "duration": 81,
    "start_time": "2023-03-01T15:23:07.853Z"
   },
   {
    "duration": 66,
    "start_time": "2023-03-01T15:24:04.284Z"
   },
   {
    "duration": 71,
    "start_time": "2023-03-01T15:24:52.698Z"
   },
   {
    "duration": 4,
    "start_time": "2023-03-01T15:25:00.275Z"
   },
   {
    "duration": 59,
    "start_time": "2023-03-01T15:25:00.280Z"
   },
   {
    "duration": 18,
    "start_time": "2023-03-01T15:25:00.341Z"
   },
   {
    "duration": 31,
    "start_time": "2023-03-01T15:25:00.360Z"
   },
   {
    "duration": 42,
    "start_time": "2023-03-01T15:25:00.394Z"
   },
   {
    "duration": 21,
    "start_time": "2023-03-01T15:25:00.438Z"
   },
   {
    "duration": 169,
    "start_time": "2023-03-01T15:25:00.460Z"
   },
   {
    "duration": 1035,
    "start_time": "2023-03-01T15:25:00.631Z"
   },
   {
    "duration": 13,
    "start_time": "2023-03-01T15:25:01.668Z"
   },
   {
    "duration": 38,
    "start_time": "2023-03-01T15:25:01.682Z"
   },
   {
    "duration": 16,
    "start_time": "2023-03-01T15:25:01.722Z"
   },
   {
    "duration": 29,
    "start_time": "2023-03-01T15:25:01.739Z"
   },
   {
    "duration": 36,
    "start_time": "2023-03-01T15:25:01.770Z"
   },
   {
    "duration": 169,
    "start_time": "2023-03-01T15:25:01.812Z"
   },
   {
    "duration": 72,
    "start_time": "2023-03-01T15:25:22.566Z"
   },
   {
    "duration": 66,
    "start_time": "2023-03-01T15:27:47.608Z"
   },
   {
    "duration": 724,
    "start_time": "2023-03-01T15:29:39.892Z"
   },
   {
    "duration": 108,
    "start_time": "2023-03-01T15:36:14.576Z"
   },
   {
    "duration": 107,
    "start_time": "2023-03-01T15:37:41.060Z"
   },
   {
    "duration": 39,
    "start_time": "2023-03-01T15:37:41.169Z"
   },
   {
    "duration": 20,
    "start_time": "2023-03-01T15:37:41.211Z"
   },
   {
    "duration": 10,
    "start_time": "2023-03-01T15:37:41.233Z"
   },
   {
    "duration": 22,
    "start_time": "2023-03-01T15:37:41.247Z"
   },
   {
    "duration": 3,
    "start_time": "2023-03-01T15:37:41.271Z"
   },
   {
    "duration": 133,
    "start_time": "2023-03-01T15:37:41.276Z"
   },
   {
    "duration": 939,
    "start_time": "2023-03-01T15:37:41.411Z"
   },
   {
    "duration": 17,
    "start_time": "2023-03-01T15:37:42.352Z"
   },
   {
    "duration": 21,
    "start_time": "2023-03-01T15:37:42.370Z"
   },
   {
    "duration": 10,
    "start_time": "2023-03-01T15:37:42.392Z"
   },
   {
    "duration": 5,
    "start_time": "2023-03-01T15:37:42.404Z"
   },
   {
    "duration": 14,
    "start_time": "2023-03-01T15:37:42.411Z"
   },
   {
    "duration": 803,
    "start_time": "2023-03-01T15:37:42.461Z"
   },
   {
    "duration": 69993,
    "start_time": "2023-03-01T15:37:43.266Z"
   },
   {
    "duration": 40314,
    "start_time": "2023-03-01T15:40:56.945Z"
   },
   {
    "duration": 46391,
    "start_time": "2023-03-01T15:43:22.469Z"
   },
   {
    "duration": 67,
    "start_time": "2023-03-01T15:47:26.262Z"
   },
   {
    "duration": 78,
    "start_time": "2023-03-01T15:48:57.331Z"
   },
   {
    "duration": 52,
    "start_time": "2023-03-01T15:51:37.384Z"
   },
   {
    "duration": 17265,
    "start_time": "2023-03-01T15:51:57.270Z"
   },
   {
    "duration": 1643,
    "start_time": "2023-03-01T15:52:39.123Z"
   },
   {
    "duration": 2000,
    "start_time": "2023-03-01T15:53:05.271Z"
   },
   {
    "duration": 14035,
    "start_time": "2023-03-01T15:54:24.335Z"
   },
   {
    "duration": 472,
    "start_time": "2023-03-01T15:58:08.675Z"
   },
   {
    "duration": 37099,
    "start_time": "2023-03-01T15:58:38.392Z"
   },
   {
    "duration": 4,
    "start_time": "2023-03-01T16:00:55.215Z"
   },
   {
    "duration": 48,
    "start_time": "2023-03-01T16:00:55.221Z"
   },
   {
    "duration": 19,
    "start_time": "2023-03-01T16:00:55.271Z"
   },
   {
    "duration": 11,
    "start_time": "2023-03-01T16:00:55.292Z"
   },
   {
    "duration": 19,
    "start_time": "2023-03-01T16:00:55.306Z"
   },
   {
    "duration": 35,
    "start_time": "2023-03-01T16:00:55.327Z"
   },
   {
    "duration": 139,
    "start_time": "2023-03-01T16:00:55.364Z"
   },
   {
    "duration": 1036,
    "start_time": "2023-03-01T16:00:55.505Z"
   },
   {
    "duration": 26,
    "start_time": "2023-03-01T16:00:56.543Z"
   },
   {
    "duration": 23,
    "start_time": "2023-03-01T16:00:56.571Z"
   },
   {
    "duration": 16,
    "start_time": "2023-03-01T16:00:56.595Z"
   },
   {
    "duration": 12,
    "start_time": "2023-03-01T16:00:56.613Z"
   },
   {
    "duration": 34,
    "start_time": "2023-03-01T16:00:56.626Z"
   },
   {
    "duration": 853,
    "start_time": "2023-03-01T16:00:56.663Z"
   },
   {
    "duration": 11946,
    "start_time": "2023-03-01T16:00:57.519Z"
   },
   {
    "duration": 46874,
    "start_time": "2023-03-01T16:02:17.939Z"
   },
   {
    "duration": 5,
    "start_time": "2023-03-01T16:04:56.004Z"
   },
   {
    "duration": 49,
    "start_time": "2023-03-01T16:04:56.011Z"
   },
   {
    "duration": 20,
    "start_time": "2023-03-01T16:04:56.062Z"
   },
   {
    "duration": 9,
    "start_time": "2023-03-01T16:04:56.084Z"
   },
   {
    "duration": 30,
    "start_time": "2023-03-01T16:04:56.096Z"
   },
   {
    "duration": 3,
    "start_time": "2023-03-01T16:04:56.128Z"
   },
   {
    "duration": 143,
    "start_time": "2023-03-01T16:04:56.132Z"
   },
   {
    "duration": 1055,
    "start_time": "2023-03-01T16:04:56.277Z"
   },
   {
    "duration": 26,
    "start_time": "2023-03-01T16:04:57.334Z"
   },
   {
    "duration": 23,
    "start_time": "2023-03-01T16:04:57.362Z"
   },
   {
    "duration": 11,
    "start_time": "2023-03-01T16:04:57.387Z"
   },
   {
    "duration": 6,
    "start_time": "2023-03-01T16:04:57.399Z"
   },
   {
    "duration": 21,
    "start_time": "2023-03-01T16:04:57.408Z"
   },
   {
    "duration": 3528,
    "start_time": "2023-03-01T16:04:57.458Z"
   },
   {
    "duration": 16078,
    "start_time": "2023-03-01T16:05:00.988Z"
   },
   {
    "duration": 46686,
    "start_time": "2023-03-01T16:05:17.068Z"
   },
   {
    "duration": 4,
    "start_time": "2023-03-01T16:13:49.575Z"
   },
   {
    "duration": 4,
    "start_time": "2023-03-01T16:20:50.436Z"
   },
   {
    "duration": 49,
    "start_time": "2023-03-01T16:20:50.443Z"
   },
   {
    "duration": 16,
    "start_time": "2023-03-01T16:20:50.495Z"
   },
   {
    "duration": 7,
    "start_time": "2023-03-01T16:20:50.513Z"
   },
   {
    "duration": 24,
    "start_time": "2023-03-01T16:20:50.523Z"
   },
   {
    "duration": 12,
    "start_time": "2023-03-01T16:20:50.549Z"
   },
   {
    "duration": 132,
    "start_time": "2023-03-01T16:20:50.563Z"
   },
   {
    "duration": 1008,
    "start_time": "2023-03-01T16:20:50.697Z"
   },
   {
    "duration": 13,
    "start_time": "2023-03-01T16:20:51.707Z"
   },
   {
    "duration": 39,
    "start_time": "2023-03-01T16:20:51.722Z"
   },
   {
    "duration": 12,
    "start_time": "2023-03-01T16:20:51.763Z"
   },
   {
    "duration": 9,
    "start_time": "2023-03-01T16:20:51.776Z"
   },
   {
    "duration": 19,
    "start_time": "2023-03-01T16:20:51.788Z"
   },
   {
    "duration": 1885,
    "start_time": "2023-03-01T16:20:51.811Z"
   },
   {
    "duration": 109276,
    "start_time": "2023-03-01T16:20:53.698Z"
   },
   {
    "duration": 45477,
    "start_time": "2023-03-01T16:22:42.975Z"
   },
   {
    "duration": 5,
    "start_time": "2023-03-01T16:23:28.454Z"
   },
   {
    "duration": 30,
    "start_time": "2023-03-01T16:23:28.461Z"
   },
   {
    "duration": 732,
    "start_time": "2023-03-01T16:25:20.125Z"
   },
   {
    "duration": 51,
    "start_time": "2023-03-01T16:39:18.690Z"
   },
   {
    "duration": 48,
    "start_time": "2023-03-01T16:45:32.965Z"
   },
   {
    "duration": 1550,
    "start_time": "2023-03-01T17:25:29.598Z"
   },
   {
    "duration": 142,
    "start_time": "2023-03-01T17:25:31.151Z"
   },
   {
    "duration": 19,
    "start_time": "2023-03-01T17:25:31.295Z"
   },
   {
    "duration": 32,
    "start_time": "2023-03-01T17:25:31.316Z"
   },
   {
    "duration": 21,
    "start_time": "2023-03-01T17:25:31.350Z"
   },
   {
    "duration": 25,
    "start_time": "2023-03-01T17:25:31.373Z"
   },
   {
    "duration": 145,
    "start_time": "2023-03-01T17:25:31.399Z"
   },
   {
    "duration": 875,
    "start_time": "2023-03-01T17:25:31.546Z"
   },
   {
    "duration": 12,
    "start_time": "2023-03-01T17:25:32.422Z"
   },
   {
    "duration": 37,
    "start_time": "2023-03-01T17:25:32.436Z"
   },
   {
    "duration": 26,
    "start_time": "2023-03-01T17:25:32.475Z"
   },
   {
    "duration": 5,
    "start_time": "2023-03-01T17:25:32.503Z"
   },
   {
    "duration": 18,
    "start_time": "2023-03-01T17:25:32.510Z"
   },
   {
    "duration": 2948,
    "start_time": "2023-03-01T17:25:32.531Z"
   },
   {
    "duration": 10749,
    "start_time": "2023-03-01T17:25:35.481Z"
   },
   {
    "duration": 45268,
    "start_time": "2023-03-01T17:25:46.232Z"
   },
   {
    "duration": 5,
    "start_time": "2023-03-01T17:26:31.502Z"
   },
   {
    "duration": 746,
    "start_time": "2023-03-01T17:26:31.508Z"
   },
   {
    "duration": 5934,
    "start_time": "2023-03-02T08:32:20.244Z"
   },
   {
    "duration": 101,
    "start_time": "2023-03-02T08:32:26.180Z"
   },
   {
    "duration": 26,
    "start_time": "2023-03-02T08:32:26.282Z"
   },
   {
    "duration": 124,
    "start_time": "2023-03-02T08:32:26.309Z"
   },
   {
    "duration": 98,
    "start_time": "2023-03-02T08:32:26.436Z"
   },
   {
    "duration": 47,
    "start_time": "2023-03-02T08:32:26.537Z"
   },
   {
    "duration": 295,
    "start_time": "2023-03-02T08:32:26.586Z"
   },
   {
    "duration": 1089,
    "start_time": "2023-03-02T08:32:26.883Z"
   },
   {
    "duration": 13,
    "start_time": "2023-03-02T08:32:27.974Z"
   },
   {
    "duration": 59,
    "start_time": "2023-03-02T08:32:27.988Z"
   },
   {
    "duration": 21,
    "start_time": "2023-03-02T08:32:28.048Z"
   },
   {
    "duration": 6,
    "start_time": "2023-03-02T08:32:28.071Z"
   },
   {
    "duration": 67,
    "start_time": "2023-03-02T08:32:28.078Z"
   },
   {
    "duration": 42,
    "start_time": "2023-03-02T08:32:28.147Z"
   },
   {
    "duration": 1782,
    "start_time": "2023-03-02T12:22:20.137Z"
   },
   {
    "duration": 168,
    "start_time": "2023-03-02T12:22:21.921Z"
   },
   {
    "duration": 22,
    "start_time": "2023-03-02T12:22:22.090Z"
   },
   {
    "duration": 16,
    "start_time": "2023-03-02T12:22:22.114Z"
   },
   {
    "duration": 19,
    "start_time": "2023-03-02T12:22:22.132Z"
   },
   {
    "duration": 4,
    "start_time": "2023-03-02T12:22:22.153Z"
   },
   {
    "duration": 199,
    "start_time": "2023-03-02T12:22:22.158Z"
   },
   {
    "duration": 871,
    "start_time": "2023-03-02T12:22:22.359Z"
   },
   {
    "duration": 1465,
    "start_time": "2023-03-02T12:22:23.232Z"
   },
   {
    "duration": 13,
    "start_time": "2023-03-02T12:22:24.700Z"
   },
   {
    "duration": 26,
    "start_time": "2023-03-02T12:22:24.715Z"
   },
   {
    "duration": 10,
    "start_time": "2023-03-02T12:22:24.743Z"
   },
   {
    "duration": 6,
    "start_time": "2023-03-02T12:22:24.755Z"
   },
   {
    "duration": 65,
    "start_time": "2023-03-02T12:22:24.763Z"
   },
   {
    "duration": 2765,
    "start_time": "2023-03-02T12:22:24.830Z"
   },
   {
    "duration": 14302,
    "start_time": "2023-03-02T12:22:27.597Z"
   },
   {
    "duration": 4780,
    "start_time": "2023-03-02T12:22:41.901Z"
   },
   {
    "duration": 5,
    "start_time": "2023-03-02T12:22:46.683Z"
   },
   {
    "duration": 688,
    "start_time": "2023-03-02T12:22:46.689Z"
   },
   {
    "duration": 835,
    "start_time": "2023-03-02T12:22:48.201Z"
   },
   {
    "duration": 6,
    "start_time": "2023-03-02T12:23:00.569Z"
   },
   {
    "duration": 104,
    "start_time": "2023-03-02T12:23:00.578Z"
   },
   {
    "duration": 21,
    "start_time": "2023-03-02T12:23:00.685Z"
   },
   {
    "duration": 49,
    "start_time": "2023-03-02T12:23:00.707Z"
   },
   {
    "duration": 65,
    "start_time": "2023-03-02T12:23:00.762Z"
   },
   {
    "duration": 37,
    "start_time": "2023-03-02T12:23:00.835Z"
   },
   {
    "duration": 185,
    "start_time": "2023-03-02T12:23:00.873Z"
   },
   {
    "duration": 403,
    "start_time": "2023-03-02T12:23:01.060Z"
   },
   {
    "duration": 911,
    "start_time": "2023-03-02T12:23:01.465Z"
   },
   {
    "duration": 19,
    "start_time": "2023-03-02T12:23:02.378Z"
   },
   {
    "duration": 53,
    "start_time": "2023-03-02T12:23:02.399Z"
   },
   {
    "duration": 11,
    "start_time": "2023-03-02T12:23:02.454Z"
   },
   {
    "duration": 6,
    "start_time": "2023-03-02T12:23:02.467Z"
   },
   {
    "duration": 15,
    "start_time": "2023-03-02T12:23:02.476Z"
   },
   {
    "duration": 4519,
    "start_time": "2023-03-02T12:23:02.525Z"
   },
   {
    "duration": 24130,
    "start_time": "2023-03-02T12:23:07.046Z"
   },
   {
    "duration": 0,
    "start_time": "2023-03-02T12:23:44.200Z"
   },
   {
    "duration": 0,
    "start_time": "2023-03-02T12:23:44.202Z"
   },
   {
    "duration": 0,
    "start_time": "2023-03-02T12:23:44.203Z"
   },
   {
    "duration": 0,
    "start_time": "2023-03-02T12:23:44.204Z"
   },
   {
    "duration": 0,
    "start_time": "2023-03-02T12:23:44.205Z"
   },
   {
    "duration": 0,
    "start_time": "2023-03-02T12:23:44.205Z"
   },
   {
    "duration": 0,
    "start_time": "2023-03-02T12:23:44.206Z"
   },
   {
    "duration": 0,
    "start_time": "2023-03-02T12:23:44.207Z"
   },
   {
    "duration": 0,
    "start_time": "2023-03-02T12:23:44.209Z"
   },
   {
    "duration": 0,
    "start_time": "2023-03-02T12:23:44.210Z"
   },
   {
    "duration": 0,
    "start_time": "2023-03-02T12:23:44.211Z"
   },
   {
    "duration": 0,
    "start_time": "2023-03-02T12:23:44.211Z"
   },
   {
    "duration": 0,
    "start_time": "2023-03-02T12:23:44.212Z"
   },
   {
    "duration": 0,
    "start_time": "2023-03-02T12:23:44.214Z"
   },
   {
    "duration": 0,
    "start_time": "2023-03-02T12:23:44.215Z"
   },
   {
    "duration": 0,
    "start_time": "2023-03-02T12:23:44.216Z"
   },
   {
    "duration": 0,
    "start_time": "2023-03-02T12:23:44.218Z"
   },
   {
    "duration": 0,
    "start_time": "2023-03-02T12:23:44.219Z"
   },
   {
    "duration": 0,
    "start_time": "2023-03-02T12:23:44.220Z"
   },
   {
    "duration": 5,
    "start_time": "2023-03-02T12:23:46.300Z"
   },
   {
    "duration": 60,
    "start_time": "2023-03-02T12:23:46.307Z"
   },
   {
    "duration": 17,
    "start_time": "2023-03-02T12:23:46.369Z"
   },
   {
    "duration": 7,
    "start_time": "2023-03-02T12:23:46.388Z"
   },
   {
    "duration": 17,
    "start_time": "2023-03-02T12:23:46.397Z"
   },
   {
    "duration": 4,
    "start_time": "2023-03-02T12:23:46.415Z"
   },
   {
    "duration": 137,
    "start_time": "2023-03-02T12:23:46.421Z"
   },
   {
    "duration": 320,
    "start_time": "2023-03-02T12:23:46.560Z"
   },
   {
    "duration": 1045,
    "start_time": "2023-03-02T12:23:46.882Z"
   },
   {
    "duration": 16,
    "start_time": "2023-03-02T12:23:47.930Z"
   },
   {
    "duration": 21,
    "start_time": "2023-03-02T12:23:47.948Z"
   },
   {
    "duration": 10,
    "start_time": "2023-03-02T12:23:47.971Z"
   },
   {
    "duration": 6,
    "start_time": "2023-03-02T12:23:47.983Z"
   },
   {
    "duration": 22,
    "start_time": "2023-03-02T12:23:48.021Z"
   },
   {
    "duration": 4509,
    "start_time": "2023-03-02T12:23:48.046Z"
   },
   {
    "duration": 13241,
    "start_time": "2023-03-02T12:23:52.558Z"
   },
   {
    "duration": 5,
    "start_time": "2023-03-02T12:24:07.158Z"
   },
   {
    "duration": 760,
    "start_time": "2023-03-02T12:24:07.165Z"
   },
   {
    "duration": 4,
    "start_time": "2023-03-02T12:24:09.910Z"
   },
   {
    "duration": 67,
    "start_time": "2023-03-02T12:24:09.916Z"
   },
   {
    "duration": 20,
    "start_time": "2023-03-02T12:24:09.986Z"
   },
   {
    "duration": 7,
    "start_time": "2023-03-02T12:24:10.008Z"
   },
   {
    "duration": 28,
    "start_time": "2023-03-02T12:24:10.017Z"
   },
   {
    "duration": 4,
    "start_time": "2023-03-02T12:24:10.047Z"
   },
   {
    "duration": 128,
    "start_time": "2023-03-02T12:24:10.052Z"
   },
   {
    "duration": 414,
    "start_time": "2023-03-02T12:24:10.182Z"
   },
   {
    "duration": 949,
    "start_time": "2023-03-02T12:24:10.598Z"
   },
   {
    "duration": 78,
    "start_time": "2023-03-02T12:24:11.551Z"
   },
   {
    "duration": 28,
    "start_time": "2023-03-02T12:24:11.630Z"
   },
   {
    "duration": 69,
    "start_time": "2023-03-02T12:24:11.660Z"
   },
   {
    "duration": 9,
    "start_time": "2023-03-02T12:24:11.734Z"
   },
   {
    "duration": 14,
    "start_time": "2023-03-02T12:24:11.745Z"
   },
   {
    "duration": 5009,
    "start_time": "2023-03-02T12:24:11.761Z"
   },
   {
    "duration": 12669,
    "start_time": "2023-03-02T12:24:16.772Z"
   },
   {
    "duration": 0,
    "start_time": "2023-03-02T12:24:29.443Z"
   },
   {
    "duration": 0,
    "start_time": "2023-03-02T12:24:29.444Z"
   },
   {
    "duration": 0,
    "start_time": "2023-03-02T12:24:29.445Z"
   },
   {
    "duration": 6,
    "start_time": "2023-03-02T12:24:31.535Z"
   },
   {
    "duration": 72,
    "start_time": "2023-03-02T12:24:31.543Z"
   },
   {
    "duration": 30,
    "start_time": "2023-03-02T12:24:31.617Z"
   },
   {
    "duration": 7,
    "start_time": "2023-03-02T12:24:31.649Z"
   },
   {
    "duration": 16,
    "start_time": "2023-03-02T12:24:31.659Z"
   },
   {
    "duration": 3,
    "start_time": "2023-03-02T12:24:31.677Z"
   },
   {
    "duration": 137,
    "start_time": "2023-03-02T12:24:31.682Z"
   },
   {
    "duration": 1264,
    "start_time": "2023-03-02T12:24:31.821Z"
   },
   {
    "duration": 1475,
    "start_time": "2023-03-02T12:24:33.086Z"
   },
   {
    "duration": 75,
    "start_time": "2023-03-02T12:24:34.563Z"
   },
   {
    "duration": 36,
    "start_time": "2023-03-02T12:24:34.641Z"
   },
   {
    "duration": 11,
    "start_time": "2023-03-02T12:24:34.723Z"
   },
   {
    "duration": 16,
    "start_time": "2023-03-02T12:24:34.736Z"
   },
   {
    "duration": 18,
    "start_time": "2023-03-02T12:24:34.754Z"
   },
   {
    "duration": 2681,
    "start_time": "2023-03-02T12:24:34.773Z"
   },
   {
    "duration": 15493,
    "start_time": "2023-03-02T12:24:37.456Z"
   },
   {
    "duration": 0,
    "start_time": "2023-03-02T12:24:52.951Z"
   },
   {
    "duration": 0,
    "start_time": "2023-03-02T12:24:52.953Z"
   },
   {
    "duration": 0,
    "start_time": "2023-03-02T12:24:52.954Z"
   },
   {
    "duration": 4,
    "start_time": "2023-03-02T12:24:55.111Z"
   },
   {
    "duration": 63,
    "start_time": "2023-03-02T12:24:55.118Z"
   },
   {
    "duration": 17,
    "start_time": "2023-03-02T12:24:55.182Z"
   },
   {
    "duration": 13,
    "start_time": "2023-03-02T12:24:55.201Z"
   },
   {
    "duration": 31,
    "start_time": "2023-03-02T12:24:55.217Z"
   },
   {
    "duration": 4,
    "start_time": "2023-03-02T12:24:55.249Z"
   },
   {
    "duration": 127,
    "start_time": "2023-03-02T12:24:55.255Z"
   },
   {
    "duration": 326,
    "start_time": "2023-03-02T12:24:55.384Z"
   },
   {
    "duration": 902,
    "start_time": "2023-03-02T12:24:55.712Z"
   },
   {
    "duration": 25,
    "start_time": "2023-03-02T12:24:56.616Z"
   },
   {
    "duration": 38,
    "start_time": "2023-03-02T12:24:56.643Z"
   },
   {
    "duration": 22,
    "start_time": "2023-03-02T12:24:56.682Z"
   },
   {
    "duration": 14,
    "start_time": "2023-03-02T12:24:56.706Z"
   },
   {
    "duration": 19,
    "start_time": "2023-03-02T12:24:56.724Z"
   },
   {
    "duration": 4307,
    "start_time": "2023-03-02T12:24:56.748Z"
   },
   {
    "duration": 1158273,
    "start_time": "2023-03-02T12:25:01.057Z"
   },
   {
    "duration": 55470,
    "start_time": "2023-03-02T12:44:19.332Z"
   },
   {
    "duration": 5,
    "start_time": "2023-03-02T12:45:14.804Z"
   },
   {
    "duration": 807,
    "start_time": "2023-03-02T12:45:14.810Z"
   },
   {
    "duration": 64,
    "start_time": "2023-03-02T12:45:15.619Z"
   },
   {
    "duration": 379,
    "start_time": "2023-03-02T13:02:08.884Z"
   },
   {
    "duration": 5,
    "start_time": "2023-03-02T13:02:18.874Z"
   },
   {
    "duration": 79,
    "start_time": "2023-03-02T13:02:18.881Z"
   },
   {
    "duration": 18,
    "start_time": "2023-03-02T13:02:18.962Z"
   },
   {
    "duration": 8,
    "start_time": "2023-03-02T13:02:18.982Z"
   },
   {
    "duration": 38,
    "start_time": "2023-03-02T13:02:18.993Z"
   },
   {
    "duration": 7,
    "start_time": "2023-03-02T13:02:19.033Z"
   },
   {
    "duration": 129,
    "start_time": "2023-03-02T13:02:19.042Z"
   },
   {
    "duration": 328,
    "start_time": "2023-03-02T13:02:19.173Z"
   },
   {
    "duration": 891,
    "start_time": "2023-03-02T13:02:19.503Z"
   },
   {
    "duration": 287,
    "start_time": "2023-03-02T13:02:20.396Z"
   },
   {
    "duration": 17,
    "start_time": "2023-03-02T13:02:20.685Z"
   },
   {
    "duration": 59,
    "start_time": "2023-03-02T13:02:20.704Z"
   },
   {
    "duration": 12,
    "start_time": "2023-03-02T13:02:20.765Z"
   },
   {
    "duration": 8,
    "start_time": "2023-03-02T13:02:20.780Z"
   },
   {
    "duration": 42,
    "start_time": "2023-03-02T13:02:20.790Z"
   },
   {
    "duration": 3098,
    "start_time": "2023-03-02T13:02:20.843Z"
   },
   {
    "duration": 42567,
    "start_time": "2023-03-02T13:02:23.942Z"
   },
   {
    "duration": 1543,
    "start_time": "2023-03-02T13:03:06.511Z"
   },
   {
    "duration": 0,
    "start_time": "2023-03-02T13:03:08.057Z"
   },
   {
    "duration": 0,
    "start_time": "2023-03-02T13:03:08.058Z"
   },
   {
    "duration": 4,
    "start_time": "2023-03-02T13:03:10.163Z"
   },
   {
    "duration": 67,
    "start_time": "2023-03-02T13:03:10.169Z"
   },
   {
    "duration": 22,
    "start_time": "2023-03-02T13:03:10.239Z"
   },
   {
    "duration": 9,
    "start_time": "2023-03-02T13:03:10.264Z"
   },
   {
    "duration": 24,
    "start_time": "2023-03-02T13:03:10.276Z"
   },
   {
    "duration": 4,
    "start_time": "2023-03-02T13:03:10.302Z"
   },
   {
    "duration": 196,
    "start_time": "2023-03-02T13:03:10.308Z"
   },
   {
    "duration": 551,
    "start_time": "2023-03-02T13:03:10.507Z"
   },
   {
    "duration": 914,
    "start_time": "2023-03-02T13:03:11.059Z"
   },
   {
    "duration": 387,
    "start_time": "2023-03-02T13:03:11.975Z"
   },
   {
    "duration": 73,
    "start_time": "2023-03-02T13:03:12.364Z"
   },
   {
    "duration": 22,
    "start_time": "2023-03-02T13:03:12.442Z"
   },
   {
    "duration": 61,
    "start_time": "2023-03-02T13:03:12.465Z"
   },
   {
    "duration": 12,
    "start_time": "2023-03-02T13:03:12.530Z"
   },
   {
    "duration": 17,
    "start_time": "2023-03-02T13:03:12.544Z"
   },
   {
    "duration": 4188,
    "start_time": "2023-03-02T13:03:12.564Z"
   },
   {
    "duration": 80552,
    "start_time": "2023-03-02T13:03:16.754Z"
   },
   {
    "duration": 0,
    "start_time": "2023-03-02T13:04:37.309Z"
   },
   {
    "duration": 0,
    "start_time": "2023-03-02T13:04:37.311Z"
   },
   {
    "duration": 0,
    "start_time": "2023-03-02T13:04:37.313Z"
   },
   {
    "duration": 6,
    "start_time": "2023-03-02T13:04:39.937Z"
   },
   {
    "duration": 60,
    "start_time": "2023-03-02T13:04:39.945Z"
   },
   {
    "duration": 32,
    "start_time": "2023-03-02T13:04:40.008Z"
   },
   {
    "duration": 8,
    "start_time": "2023-03-02T13:04:40.042Z"
   },
   {
    "duration": 19,
    "start_time": "2023-03-02T13:04:40.052Z"
   },
   {
    "duration": 3,
    "start_time": "2023-03-02T13:04:40.072Z"
   },
   {
    "duration": 137,
    "start_time": "2023-03-02T13:04:40.077Z"
   },
   {
    "duration": 401,
    "start_time": "2023-03-02T13:04:40.215Z"
   },
   {
    "duration": 1507,
    "start_time": "2023-03-02T13:04:40.621Z"
   },
   {
    "duration": 530,
    "start_time": "2023-03-02T13:04:42.130Z"
   },
   {
    "duration": 78,
    "start_time": "2023-03-02T13:04:42.661Z"
   },
   {
    "duration": 89,
    "start_time": "2023-03-02T13:04:42.742Z"
   },
   {
    "duration": 16,
    "start_time": "2023-03-02T13:04:42.833Z"
   },
   {
    "duration": 8,
    "start_time": "2023-03-02T13:04:42.853Z"
   },
   {
    "duration": 70,
    "start_time": "2023-03-02T13:04:42.863Z"
   },
   {
    "duration": 3845,
    "start_time": "2023-03-02T13:04:42.936Z"
   },
   {
    "duration": 181666,
    "start_time": "2023-03-02T13:04:46.783Z"
   },
   {
    "duration": 51135,
    "start_time": "2023-03-02T13:07:48.451Z"
   },
   {
    "duration": 6,
    "start_time": "2023-03-02T13:08:39.588Z"
   },
   {
    "duration": 698,
    "start_time": "2023-03-02T13:08:39.597Z"
   },
   {
    "duration": 5,
    "start_time": "2023-03-02T13:09:50.493Z"
   },
   {
    "duration": 81,
    "start_time": "2023-03-02T13:09:50.505Z"
   },
   {
    "duration": 25,
    "start_time": "2023-03-02T13:09:50.589Z"
   },
   {
    "duration": 13,
    "start_time": "2023-03-02T13:09:50.616Z"
   },
   {
    "duration": 30,
    "start_time": "2023-03-02T13:09:50.634Z"
   },
   {
    "duration": 5,
    "start_time": "2023-03-02T13:09:50.668Z"
   },
   {
    "duration": 135,
    "start_time": "2023-03-02T13:09:50.675Z"
   },
   {
    "duration": 408,
    "start_time": "2023-03-02T13:09:50.812Z"
   },
   {
    "duration": 886,
    "start_time": "2023-03-02T13:09:51.230Z"
   },
   {
    "duration": 497,
    "start_time": "2023-03-02T13:09:52.121Z"
   },
   {
    "duration": 19,
    "start_time": "2023-03-02T13:09:52.625Z"
   },
   {
    "duration": 24,
    "start_time": "2023-03-02T13:09:52.646Z"
   },
   {
    "duration": 14,
    "start_time": "2023-03-02T13:09:52.672Z"
   },
   {
    "duration": 8,
    "start_time": "2023-03-02T13:09:52.687Z"
   },
   {
    "duration": 38,
    "start_time": "2023-03-02T13:09:52.697Z"
   },
   {
    "duration": 4508,
    "start_time": "2023-03-02T13:09:52.737Z"
   },
   {
    "duration": 36069,
    "start_time": "2023-03-02T13:09:57.246Z"
   },
   {
    "duration": 50693,
    "start_time": "2023-03-02T13:10:33.316Z"
   },
   {
    "duration": 5,
    "start_time": "2023-03-02T13:11:24.010Z"
   },
   {
    "duration": 689,
    "start_time": "2023-03-02T13:11:24.016Z"
   },
   {
    "duration": 4,
    "start_time": "2023-03-02T13:19:07.421Z"
   },
   {
    "duration": 53,
    "start_time": "2023-03-02T13:19:07.427Z"
   },
   {
    "duration": 18,
    "start_time": "2023-03-02T13:19:07.482Z"
   },
   {
    "duration": 8,
    "start_time": "2023-03-02T13:19:07.502Z"
   },
   {
    "duration": 23,
    "start_time": "2023-03-02T13:19:07.512Z"
   },
   {
    "duration": 9,
    "start_time": "2023-03-02T13:19:07.538Z"
   },
   {
    "duration": 130,
    "start_time": "2023-03-02T13:19:07.549Z"
   },
   {
    "duration": 356,
    "start_time": "2023-03-02T13:19:07.681Z"
   },
   {
    "duration": 906,
    "start_time": "2023-03-02T13:19:08.040Z"
   },
   {
    "duration": 292,
    "start_time": "2023-03-02T13:19:08.948Z"
   },
   {
    "duration": 15,
    "start_time": "2023-03-02T13:19:09.244Z"
   },
   {
    "duration": 27,
    "start_time": "2023-03-02T13:19:09.262Z"
   },
   {
    "duration": 45,
    "start_time": "2023-03-02T13:19:09.291Z"
   },
   {
    "duration": 7,
    "start_time": "2023-03-02T13:19:09.338Z"
   },
   {
    "duration": 17,
    "start_time": "2023-03-02T13:19:09.348Z"
   },
   {
    "duration": 88,
    "start_time": "2023-03-02T13:19:09.368Z"
   },
   {
    "duration": 5,
    "start_time": "2023-03-02T13:20:48.703Z"
   },
   {
    "duration": 63,
    "start_time": "2023-03-02T13:20:48.710Z"
   },
   {
    "duration": 21,
    "start_time": "2023-03-02T13:20:48.774Z"
   },
   {
    "duration": 10,
    "start_time": "2023-03-02T13:20:48.797Z"
   },
   {
    "duration": 29,
    "start_time": "2023-03-02T13:20:48.810Z"
   },
   {
    "duration": 4,
    "start_time": "2023-03-02T13:20:48.841Z"
   },
   {
    "duration": 126,
    "start_time": "2023-03-02T13:20:48.846Z"
   },
   {
    "duration": 373,
    "start_time": "2023-03-02T13:20:48.974Z"
   },
   {
    "duration": 0,
    "start_time": "2023-03-02T13:20:49.349Z"
   },
   {
    "duration": 0,
    "start_time": "2023-03-02T13:20:49.350Z"
   },
   {
    "duration": 0,
    "start_time": "2023-03-02T13:20:49.351Z"
   },
   {
    "duration": 0,
    "start_time": "2023-03-02T13:20:49.353Z"
   },
   {
    "duration": 0,
    "start_time": "2023-03-02T13:20:49.354Z"
   },
   {
    "duration": 0,
    "start_time": "2023-03-02T13:20:49.355Z"
   },
   {
    "duration": 0,
    "start_time": "2023-03-02T13:20:49.356Z"
   },
   {
    "duration": 0,
    "start_time": "2023-03-02T13:20:49.357Z"
   },
   {
    "duration": 0,
    "start_time": "2023-03-02T13:20:49.358Z"
   },
   {
    "duration": 0,
    "start_time": "2023-03-02T13:20:49.359Z"
   },
   {
    "duration": 0,
    "start_time": "2023-03-02T13:20:49.360Z"
   },
   {
    "duration": 0,
    "start_time": "2023-03-02T13:20:49.361Z"
   },
   {
    "duration": 5,
    "start_time": "2023-03-02T13:20:54.101Z"
   },
   {
    "duration": 58,
    "start_time": "2023-03-02T13:20:54.109Z"
   },
   {
    "duration": 15,
    "start_time": "2023-03-02T13:20:54.168Z"
   },
   {
    "duration": 6,
    "start_time": "2023-03-02T13:20:54.185Z"
   },
   {
    "duration": 20,
    "start_time": "2023-03-02T13:20:54.193Z"
   },
   {
    "duration": 3,
    "start_time": "2023-03-02T13:20:54.215Z"
   },
   {
    "duration": 118,
    "start_time": "2023-03-02T13:20:54.219Z"
   },
   {
    "duration": 305,
    "start_time": "2023-03-02T13:20:54.339Z"
   },
   {
    "duration": 847,
    "start_time": "2023-03-02T13:20:54.646Z"
   },
   {
    "duration": 258,
    "start_time": "2023-03-02T13:20:55.495Z"
   },
   {
    "duration": 10,
    "start_time": "2023-03-02T13:20:55.755Z"
   },
   {
    "duration": 20,
    "start_time": "2023-03-02T13:20:55.766Z"
   },
   {
    "duration": 11,
    "start_time": "2023-03-02T13:20:55.787Z"
   },
   {
    "duration": 33,
    "start_time": "2023-03-02T13:20:55.801Z"
   },
   {
    "duration": 15,
    "start_time": "2023-03-02T13:20:55.836Z"
   },
   {
    "duration": 20186,
    "start_time": "2023-03-02T13:20:55.852Z"
   },
   {
    "duration": 202334,
    "start_time": "2023-03-02T13:21:16.039Z"
   },
   {
    "duration": 5,
    "start_time": "2023-03-02T13:24:52.863Z"
   },
   {
    "duration": 68,
    "start_time": "2023-03-02T13:24:52.869Z"
   },
   {
    "duration": 16,
    "start_time": "2023-03-02T13:24:52.942Z"
   },
   {
    "duration": 7,
    "start_time": "2023-03-02T13:24:52.960Z"
   },
   {
    "duration": 22,
    "start_time": "2023-03-02T13:24:52.969Z"
   },
   {
    "duration": 3,
    "start_time": "2023-03-02T13:24:52.993Z"
   },
   {
    "duration": 142,
    "start_time": "2023-03-02T13:24:52.998Z"
   },
   {
    "duration": 337,
    "start_time": "2023-03-02T13:24:53.141Z"
   },
   {
    "duration": 1102,
    "start_time": "2023-03-02T13:24:53.480Z"
   },
   {
    "duration": 277,
    "start_time": "2023-03-02T13:24:54.584Z"
   },
   {
    "duration": 11,
    "start_time": "2023-03-02T13:24:54.862Z"
   },
   {
    "duration": 31,
    "start_time": "2023-03-02T13:24:54.874Z"
   },
   {
    "duration": 25,
    "start_time": "2023-03-02T13:24:54.907Z"
   },
   {
    "duration": 6,
    "start_time": "2023-03-02T13:24:54.937Z"
   },
   {
    "duration": 38,
    "start_time": "2023-03-02T13:24:54.945Z"
   },
   {
    "duration": 1117,
    "start_time": "2023-03-02T13:24:54.985Z"
   },
   {
    "duration": 610,
    "start_time": "2023-03-02T13:24:56.104Z"
   },
   {
    "duration": 1381,
    "start_time": "2023-03-02T13:24:56.716Z"
   },
   {
    "duration": 6,
    "start_time": "2023-03-02T13:24:58.098Z"
   },
   {
    "duration": 6,
    "start_time": "2023-03-02T13:25:12.537Z"
   },
   {
    "duration": 50,
    "start_time": "2023-03-02T13:25:12.545Z"
   },
   {
    "duration": 17,
    "start_time": "2023-03-02T13:25:12.597Z"
   },
   {
    "duration": 8,
    "start_time": "2023-03-02T13:25:12.615Z"
   },
   {
    "duration": 30,
    "start_time": "2023-03-02T13:25:12.625Z"
   },
   {
    "duration": 4,
    "start_time": "2023-03-02T13:25:12.657Z"
   },
   {
    "duration": 123,
    "start_time": "2023-03-02T13:25:12.663Z"
   },
   {
    "duration": 327,
    "start_time": "2023-03-02T13:25:12.788Z"
   },
   {
    "duration": 860,
    "start_time": "2023-03-02T13:25:13.121Z"
   },
   {
    "duration": 270,
    "start_time": "2023-03-02T13:25:13.983Z"
   },
   {
    "duration": 12,
    "start_time": "2023-03-02T13:25:14.255Z"
   },
   {
    "duration": 24,
    "start_time": "2023-03-02T13:25:14.268Z"
   },
   {
    "duration": 31,
    "start_time": "2023-03-02T13:25:14.294Z"
   },
   {
    "duration": 20,
    "start_time": "2023-03-02T13:25:14.327Z"
   },
   {
    "duration": 28,
    "start_time": "2023-03-02T13:25:14.349Z"
   },
   {
    "duration": 20011,
    "start_time": "2023-03-02T13:25:14.379Z"
   },
   {
    "duration": 1268613,
    "start_time": "2023-03-02T13:25:34.392Z"
   },
   {
    "duration": 990,
    "start_time": "2023-03-02T13:46:43.007Z"
   },
   {
    "duration": 0,
    "start_time": "2023-03-02T13:46:44.000Z"
   },
   {
    "duration": 0,
    "start_time": "2023-03-02T13:46:44.001Z"
   },
   {
    "duration": 5,
    "start_time": "2023-03-02T13:46:45.673Z"
   },
   {
    "duration": 58,
    "start_time": "2023-03-02T13:46:45.680Z"
   },
   {
    "duration": 15,
    "start_time": "2023-03-02T13:46:45.740Z"
   },
   {
    "duration": 7,
    "start_time": "2023-03-02T13:46:45.757Z"
   },
   {
    "duration": 15,
    "start_time": "2023-03-02T13:46:45.766Z"
   },
   {
    "duration": 3,
    "start_time": "2023-03-02T13:46:45.783Z"
   },
   {
    "duration": 160,
    "start_time": "2023-03-02T13:46:45.787Z"
   },
   {
    "duration": 309,
    "start_time": "2023-03-02T13:46:45.949Z"
   },
   {
    "duration": 851,
    "start_time": "2023-03-02T13:46:46.259Z"
   },
   {
    "duration": 262,
    "start_time": "2023-03-02T13:46:47.112Z"
   },
   {
    "duration": 10,
    "start_time": "2023-03-02T13:46:47.376Z"
   },
   {
    "duration": 49,
    "start_time": "2023-03-02T13:46:47.387Z"
   },
   {
    "duration": 11,
    "start_time": "2023-03-02T13:46:47.438Z"
   },
   {
    "duration": 6,
    "start_time": "2023-03-02T13:46:47.452Z"
   },
   {
    "duration": 14,
    "start_time": "2023-03-02T13:46:47.459Z"
   },
   {
    "duration": 19001,
    "start_time": "2023-03-02T13:46:47.474Z"
   },
   {
    "duration": 413409,
    "start_time": "2023-03-02T13:47:06.477Z"
   },
   {
    "duration": 0,
    "start_time": "2023-03-02T13:53:59.889Z"
   },
   {
    "duration": 0,
    "start_time": "2023-03-02T13:53:59.890Z"
   },
   {
    "duration": 0,
    "start_time": "2023-03-02T13:53:59.892Z"
   },
   {
    "duration": 0,
    "start_time": "2023-03-02T13:53:59.893Z"
   },
   {
    "duration": 4,
    "start_time": "2023-03-02T13:54:03.789Z"
   },
   {
    "duration": 68,
    "start_time": "2023-03-02T13:54:03.796Z"
   },
   {
    "duration": 23,
    "start_time": "2023-03-02T13:54:03.868Z"
   },
   {
    "duration": 10,
    "start_time": "2023-03-02T13:54:03.893Z"
   },
   {
    "duration": 28,
    "start_time": "2023-03-02T13:54:03.906Z"
   },
   {
    "duration": 4,
    "start_time": "2023-03-02T13:54:03.939Z"
   },
   {
    "duration": 150,
    "start_time": "2023-03-02T13:54:03.945Z"
   },
   {
    "duration": 354,
    "start_time": "2023-03-02T13:54:04.096Z"
   },
   {
    "duration": 1136,
    "start_time": "2023-03-02T13:54:04.452Z"
   },
   {
    "duration": 319,
    "start_time": "2023-03-02T13:54:05.591Z"
   },
   {
    "duration": 19,
    "start_time": "2023-03-02T13:54:05.912Z"
   },
   {
    "duration": 25,
    "start_time": "2023-03-02T13:54:05.933Z"
   },
   {
    "duration": 13,
    "start_time": "2023-03-02T13:54:05.960Z"
   },
   {
    "duration": 8,
    "start_time": "2023-03-02T13:54:05.975Z"
   },
   {
    "duration": 37,
    "start_time": "2023-03-02T13:54:05.986Z"
   },
   {
    "duration": 20927,
    "start_time": "2023-03-02T13:54:06.026Z"
   },
   {
    "duration": 1122795,
    "start_time": "2023-03-02T13:54:26.954Z"
   },
   {
    "duration": 53704,
    "start_time": "2023-03-02T14:13:09.751Z"
   },
   {
    "duration": 5,
    "start_time": "2023-03-02T14:14:03.457Z"
   },
   {
    "duration": 8,
    "start_time": "2023-03-02T14:14:03.463Z"
   },
   {
    "duration": 723,
    "start_time": "2023-03-02T14:14:03.472Z"
   },
   {
    "duration": 5,
    "start_time": "2023-03-02T14:29:15.135Z"
   },
   {
    "duration": 47,
    "start_time": "2023-03-02T14:29:15.142Z"
   },
   {
    "duration": 15,
    "start_time": "2023-03-02T14:29:15.191Z"
   },
   {
    "duration": 8,
    "start_time": "2023-03-02T14:29:15.208Z"
   },
   {
    "duration": 19,
    "start_time": "2023-03-02T14:29:15.218Z"
   },
   {
    "duration": 4,
    "start_time": "2023-03-02T14:29:15.238Z"
   },
   {
    "duration": 117,
    "start_time": "2023-03-02T14:29:15.244Z"
   },
   {
    "duration": 306,
    "start_time": "2023-03-02T14:29:15.363Z"
   },
   {
    "duration": 829,
    "start_time": "2023-03-02T14:29:15.670Z"
   },
   {
    "duration": 242,
    "start_time": "2023-03-02T14:29:16.501Z"
   },
   {
    "duration": 11,
    "start_time": "2023-03-02T14:29:16.745Z"
   },
   {
    "duration": 19,
    "start_time": "2023-03-02T14:29:16.757Z"
   },
   {
    "duration": 14,
    "start_time": "2023-03-02T14:29:16.778Z"
   },
   {
    "duration": 5,
    "start_time": "2023-03-02T14:29:16.795Z"
   },
   {
    "duration": 37,
    "start_time": "2023-03-02T14:29:16.801Z"
   },
   {
    "duration": 18504,
    "start_time": "2023-03-02T14:29:16.841Z"
   },
   {
    "duration": 84683,
    "start_time": "2023-03-02T14:29:35.347Z"
   },
   {
    "duration": 49169,
    "start_time": "2023-03-02T14:31:00.041Z"
   },
   {
    "duration": 4,
    "start_time": "2023-03-02T14:31:49.212Z"
   },
   {
    "duration": 6,
    "start_time": "2023-03-02T14:31:49.218Z"
   },
   {
    "duration": 674,
    "start_time": "2023-03-02T14:31:49.227Z"
   },
   {
    "duration": 679,
    "start_time": "2023-03-02T14:33:53.237Z"
   },
   {
    "duration": 889,
    "start_time": "2023-03-02T14:37:29.150Z"
   },
   {
    "duration": 4,
    "start_time": "2023-03-02T14:38:54.536Z"
   },
   {
    "duration": 51,
    "start_time": "2023-03-02T14:38:54.543Z"
   },
   {
    "duration": 15,
    "start_time": "2023-03-02T14:38:54.596Z"
   },
   {
    "duration": 6,
    "start_time": "2023-03-02T14:38:54.613Z"
   },
   {
    "duration": 22,
    "start_time": "2023-03-02T14:38:54.621Z"
   },
   {
    "duration": 4,
    "start_time": "2023-03-02T14:38:54.644Z"
   },
   {
    "duration": 143,
    "start_time": "2023-03-02T14:38:54.649Z"
   },
   {
    "duration": 313,
    "start_time": "2023-03-02T14:38:54.793Z"
   },
   {
    "duration": 880,
    "start_time": "2023-03-02T14:38:55.107Z"
   },
   {
    "duration": 275,
    "start_time": "2023-03-02T14:38:55.989Z"
   },
   {
    "duration": 12,
    "start_time": "2023-03-02T14:38:56.266Z"
   },
   {
    "duration": 59,
    "start_time": "2023-03-02T14:38:56.279Z"
   },
   {
    "duration": 20,
    "start_time": "2023-03-02T14:38:56.340Z"
   },
   {
    "duration": 15,
    "start_time": "2023-03-02T14:38:56.362Z"
   },
   {
    "duration": 24,
    "start_time": "2023-03-02T14:38:56.378Z"
   },
   {
    "duration": 20762,
    "start_time": "2023-03-02T14:38:56.404Z"
   },
   {
    "duration": 141357,
    "start_time": "2023-03-02T14:39:17.168Z"
   },
   {
    "duration": 54136,
    "start_time": "2023-03-02T14:41:38.527Z"
   },
   {
    "duration": 5,
    "start_time": "2023-03-02T14:42:32.664Z"
   },
   {
    "duration": 19,
    "start_time": "2023-03-02T14:42:32.671Z"
   },
   {
    "duration": 732,
    "start_time": "2023-03-02T14:42:32.692Z"
   },
   {
    "duration": 7212,
    "start_time": "2023-03-02T14:42:33.427Z"
   },
   {
    "duration": 11195,
    "start_time": "2023-03-02T14:43:17.263Z"
   },
   {
    "duration": 12,
    "start_time": "2023-03-02T14:46:12.153Z"
   },
   {
    "duration": 161,
    "start_time": "2023-03-02T14:46:21.353Z"
   },
   {
    "duration": 2965,
    "start_time": "2023-03-02T14:51:51.467Z"
   },
   {
    "duration": 71877,
    "start_time": "2023-03-02T14:52:01.779Z"
   },
   {
    "duration": 57421,
    "start_time": "2023-03-02T14:54:47.403Z"
   },
   {
    "duration": 75542,
    "start_time": "2023-03-02T14:56:27.915Z"
   },
   {
    "duration": 4,
    "start_time": "2023-03-02T14:59:41.690Z"
   },
   {
    "duration": 54,
    "start_time": "2023-03-02T14:59:41.696Z"
   },
   {
    "duration": 15,
    "start_time": "2023-03-02T14:59:41.752Z"
   },
   {
    "duration": 6,
    "start_time": "2023-03-02T14:59:41.769Z"
   },
   {
    "duration": 16,
    "start_time": "2023-03-02T14:59:41.777Z"
   },
   {
    "duration": 3,
    "start_time": "2023-03-02T14:59:41.794Z"
   },
   {
    "duration": 139,
    "start_time": "2023-03-02T14:59:41.825Z"
   },
   {
    "duration": 322,
    "start_time": "2023-03-02T14:59:41.966Z"
   },
   {
    "duration": 888,
    "start_time": "2023-03-02T14:59:42.290Z"
   },
   {
    "duration": 284,
    "start_time": "2023-03-02T14:59:43.179Z"
   },
   {
    "duration": 12,
    "start_time": "2023-03-02T14:59:43.465Z"
   },
   {
    "duration": 22,
    "start_time": "2023-03-02T14:59:43.478Z"
   },
   {
    "duration": 2,
    "start_time": "2023-03-02T14:59:43.501Z"
   },
   {
    "duration": 16,
    "start_time": "2023-03-02T14:59:43.529Z"
   },
   {
    "duration": 5,
    "start_time": "2023-03-02T14:59:43.546Z"
   },
   {
    "duration": 11,
    "start_time": "2023-03-02T14:59:43.553Z"
   },
   {
    "duration": 23486,
    "start_time": "2023-03-02T14:59:43.566Z"
   },
   {
    "duration": 686819,
    "start_time": "2023-03-02T15:00:07.054Z"
   },
   {
    "duration": 0,
    "start_time": "2023-03-02T15:11:49.584Z"
   },
   {
    "duration": 0,
    "start_time": "2023-03-02T15:11:49.585Z"
   },
   {
    "duration": 0,
    "start_time": "2023-03-02T15:11:49.586Z"
   },
   {
    "duration": 0,
    "start_time": "2023-03-02T15:11:49.621Z"
   },
   {
    "duration": 0,
    "start_time": "2023-03-02T15:11:49.622Z"
   },
   {
    "duration": 0,
    "start_time": "2023-03-02T15:11:49.623Z"
   },
   {
    "duration": 0,
    "start_time": "2023-03-02T15:11:49.624Z"
   },
   {
    "duration": 0,
    "start_time": "2023-03-02T15:11:49.624Z"
   },
   {
    "duration": 0,
    "start_time": "2023-03-02T15:11:49.625Z"
   },
   {
    "duration": 0,
    "start_time": "2023-03-02T15:11:49.626Z"
   },
   {
    "duration": 0,
    "start_time": "2023-03-02T15:11:49.627Z"
   },
   {
    "duration": 0,
    "start_time": "2023-03-02T15:11:49.627Z"
   },
   {
    "duration": 0,
    "start_time": "2023-03-02T15:11:49.628Z"
   },
   {
    "duration": 0,
    "start_time": "2023-03-02T15:11:49.630Z"
   },
   {
    "duration": 0,
    "start_time": "2023-03-02T15:11:49.631Z"
   },
   {
    "duration": 0,
    "start_time": "2023-03-02T15:11:49.631Z"
   },
   {
    "duration": 0,
    "start_time": "2023-03-02T15:11:49.632Z"
   },
   {
    "duration": 0,
    "start_time": "2023-03-02T15:11:49.634Z"
   },
   {
    "duration": 0,
    "start_time": "2023-03-02T15:11:49.639Z"
   },
   {
    "duration": 0,
    "start_time": "2023-03-02T15:11:49.639Z"
   },
   {
    "duration": 0,
    "start_time": "2023-03-02T15:11:49.640Z"
   },
   {
    "duration": 0,
    "start_time": "2023-03-02T15:11:49.640Z"
   },
   {
    "duration": 0,
    "start_time": "2023-03-02T15:11:49.642Z"
   },
   {
    "duration": 0,
    "start_time": "2023-03-02T15:11:49.648Z"
   },
   {
    "duration": 5,
    "start_time": "2023-03-02T15:11:52.317Z"
   },
   {
    "duration": 47,
    "start_time": "2023-03-02T15:11:52.323Z"
   },
   {
    "duration": 17,
    "start_time": "2023-03-02T15:11:52.372Z"
   },
   {
    "duration": 8,
    "start_time": "2023-03-02T15:11:52.391Z"
   },
   {
    "duration": 31,
    "start_time": "2023-03-02T15:11:52.401Z"
   },
   {
    "duration": 4,
    "start_time": "2023-03-02T15:11:52.435Z"
   },
   {
    "duration": 118,
    "start_time": "2023-03-02T15:11:52.441Z"
   },
   {
    "duration": 636,
    "start_time": "2023-03-02T15:11:52.560Z"
   },
   {
    "duration": 843,
    "start_time": "2023-03-02T15:11:53.198Z"
   },
   {
    "duration": 524,
    "start_time": "2023-03-02T15:11:54.044Z"
   },
   {
    "duration": 22,
    "start_time": "2023-03-02T15:11:54.622Z"
   },
   {
    "duration": 92,
    "start_time": "2023-03-02T15:11:54.646Z"
   },
   {
    "duration": 3,
    "start_time": "2023-03-02T15:11:54.740Z"
   },
   {
    "duration": 12,
    "start_time": "2023-03-02T15:11:54.745Z"
   },
   {
    "duration": 7,
    "start_time": "2023-03-02T15:11:54.759Z"
   },
   {
    "duration": 66,
    "start_time": "2023-03-02T15:11:54.768Z"
   },
   {
    "duration": 23774,
    "start_time": "2023-03-02T15:11:54.836Z"
   },
   {
    "duration": 205462,
    "start_time": "2023-03-02T15:12:18.612Z"
   },
   {
    "duration": 0,
    "start_time": "2023-03-02T15:15:44.076Z"
   },
   {
    "duration": 0,
    "start_time": "2023-03-02T15:15:44.078Z"
   },
   {
    "duration": 0,
    "start_time": "2023-03-02T15:15:44.078Z"
   },
   {
    "duration": 0,
    "start_time": "2023-03-02T15:15:44.079Z"
   },
   {
    "duration": 0,
    "start_time": "2023-03-02T15:15:44.080Z"
   },
   {
    "duration": 0,
    "start_time": "2023-03-02T15:15:44.082Z"
   },
   {
    "duration": 686,
    "start_time": "2023-03-02T15:15:47.538Z"
   },
   {
    "duration": 5,
    "start_time": "2023-03-02T15:15:50.982Z"
   },
   {
    "duration": 248150,
    "start_time": "2023-03-02T15:15:56.101Z"
   },
   {
    "duration": 1,
    "start_time": "2023-03-02T15:20:04.253Z"
   },
   {
    "duration": 236,
    "start_time": "2023-03-02T15:20:09.613Z"
   },
   {
    "duration": 372,
    "start_time": "2023-03-02T15:20:19.308Z"
   },
   {
    "duration": 563,
    "start_time": "2023-03-02T15:20:27.128Z"
   },
   {
    "duration": 5464,
    "start_time": "2023-03-02T15:20:32.822Z"
   },
   {
    "duration": 5619,
    "start_time": "2023-03-02T15:20:46.178Z"
   },
   {
    "duration": 257,
    "start_time": "2023-03-02T15:21:02.902Z"
   },
   {
    "duration": 148,
    "start_time": "2023-03-02T15:21:09.915Z"
   },
   {
    "duration": 248,
    "start_time": "2023-03-02T15:21:15.240Z"
   },
   {
    "duration": 142,
    "start_time": "2023-03-02T15:21:22.806Z"
   },
   {
    "duration": 259,
    "start_time": "2023-03-02T15:21:28.459Z"
   },
   {
    "duration": 334,
    "start_time": "2023-03-02T15:21:32.877Z"
   },
   {
    "duration": 1143,
    "start_time": "2023-03-02T15:24:19.389Z"
   },
   {
    "duration": 1039,
    "start_time": "2023-03-02T15:25:20.398Z"
   },
   {
    "duration": 4,
    "start_time": "2023-03-02T15:30:46.551Z"
   },
   {
    "duration": 44,
    "start_time": "2023-03-02T15:30:46.568Z"
   },
   {
    "duration": 25,
    "start_time": "2023-03-02T15:30:46.614Z"
   },
   {
    "duration": 7,
    "start_time": "2023-03-02T15:30:46.641Z"
   },
   {
    "duration": 15,
    "start_time": "2023-03-02T15:30:46.650Z"
   },
   {
    "duration": 52,
    "start_time": "2023-03-02T15:30:46.667Z"
   },
   {
    "duration": 123,
    "start_time": "2023-03-02T15:30:46.721Z"
   },
   {
    "duration": 320,
    "start_time": "2023-03-02T15:30:46.846Z"
   },
   {
    "duration": 865,
    "start_time": "2023-03-02T15:30:47.169Z"
   },
   {
    "duration": 267,
    "start_time": "2023-03-02T15:30:48.037Z"
   },
   {
    "duration": 34,
    "start_time": "2023-03-02T15:30:48.306Z"
   },
   {
    "duration": 32,
    "start_time": "2023-03-02T15:30:48.342Z"
   },
   {
    "duration": 3,
    "start_time": "2023-03-02T15:30:48.375Z"
   },
   {
    "duration": 15,
    "start_time": "2023-03-02T15:30:48.379Z"
   },
   {
    "duration": 6,
    "start_time": "2023-03-02T15:30:48.396Z"
   },
   {
    "duration": 143,
    "start_time": "2023-03-02T15:30:48.403Z"
   },
   {
    "duration": 53900,
    "start_time": "2023-03-02T15:30:48.628Z"
   },
   {
    "duration": 5908,
    "start_time": "2023-03-02T15:31:42.532Z"
   },
   {
    "duration": 26123,
    "start_time": "2023-03-02T15:31:48.441Z"
   },
   {
    "duration": 5,
    "start_time": "2023-03-02T15:32:14.566Z"
   },
   {
    "duration": 1497,
    "start_time": "2023-03-02T15:32:14.590Z"
   },
   {
    "duration": 0,
    "start_time": "2023-03-02T15:32:51.450Z"
   },
   {
    "duration": 0,
    "start_time": "2023-03-02T15:32:51.451Z"
   },
   {
    "duration": 0,
    "start_time": "2023-03-02T15:32:51.455Z"
   },
   {
    "duration": 1,
    "start_time": "2023-03-02T15:32:51.458Z"
   },
   {
    "duration": 7,
    "start_time": "2023-03-02T15:32:56.454Z"
   },
   {
    "duration": 1625,
    "start_time": "2023-03-02T15:32:58.673Z"
   },
   {
    "duration": 92272,
    "start_time": "2023-03-02T15:33:01.851Z"
   },
   {
    "duration": 937,
    "start_time": "2023-03-02T15:34:37.019Z"
   },
   {
    "duration": 1889,
    "start_time": "2023-03-02T15:34:46.904Z"
   },
   {
    "duration": 1784,
    "start_time": "2023-03-02T21:58:41.371Z"
   },
   {
    "duration": 132,
    "start_time": "2023-03-02T21:58:43.162Z"
   },
   {
    "duration": 39,
    "start_time": "2023-03-02T21:58:43.296Z"
   },
   {
    "duration": 11,
    "start_time": "2023-03-02T21:58:43.337Z"
   },
   {
    "duration": 58,
    "start_time": "2023-03-02T21:58:43.351Z"
   },
   {
    "duration": 14,
    "start_time": "2023-03-02T21:58:43.411Z"
   },
   {
    "duration": 135,
    "start_time": "2023-03-02T21:58:43.426Z"
   },
   {
    "duration": 429,
    "start_time": "2023-03-02T21:58:43.565Z"
   },
   {
    "duration": 825,
    "start_time": "2023-03-02T21:58:43.997Z"
   },
   {
    "duration": 368,
    "start_time": "2023-03-02T21:58:44.824Z"
   },
   {
    "duration": 38,
    "start_time": "2023-03-02T21:58:45.195Z"
   },
   {
    "duration": 47,
    "start_time": "2023-03-02T21:58:45.235Z"
   },
   {
    "duration": 3,
    "start_time": "2023-03-02T21:58:45.284Z"
   },
   {
    "duration": 24,
    "start_time": "2023-03-02T21:58:45.289Z"
   },
   {
    "duration": 8,
    "start_time": "2023-03-02T21:58:45.315Z"
   },
   {
    "duration": 63,
    "start_time": "2023-03-02T21:58:45.324Z"
   },
   {
    "duration": 59584,
    "start_time": "2023-03-02T21:58:45.456Z"
   },
   {
    "duration": 1756136,
    "start_time": "2023-03-02T21:59:45.042Z"
   },
   {
    "duration": 132148,
    "start_time": "2023-03-02T22:29:01.183Z"
   },
   {
    "duration": 6,
    "start_time": "2023-03-02T22:31:13.334Z"
   },
   {
    "duration": 13,
    "start_time": "2023-03-02T22:31:13.343Z"
   },
   {
    "duration": 2363,
    "start_time": "2023-03-02T22:31:13.358Z"
   },
   {
    "duration": 616685,
    "start_time": "2023-03-02T22:31:15.723Z"
   },
   {
    "duration": 1440,
    "start_time": "2023-03-02T22:41:32.421Z"
   },
   {
    "duration": 3369,
    "start_time": "2023-03-02T22:41:33.873Z"
   },
   {
    "duration": 1221,
    "start_time": "2023-03-02T22:55:25.715Z"
   },
   {
    "duration": 750,
    "start_time": "2023-03-02T22:55:34.686Z"
   },
   {
    "duration": 1221,
    "start_time": "2023-03-02T22:55:42.839Z"
   },
   {
    "duration": 770,
    "start_time": "2023-03-02T22:55:48.321Z"
   },
   {
    "duration": 2706,
    "start_time": "2023-03-02T22:56:26.323Z"
   },
   {
    "duration": 52705,
    "start_time": "2023-03-02T22:57:06.541Z"
   },
   {
    "duration": 4,
    "start_time": "2023-03-02T22:58:42.898Z"
   },
   {
    "duration": 56,
    "start_time": "2023-03-02T22:58:42.905Z"
   },
   {
    "duration": 29,
    "start_time": "2023-03-02T22:58:42.963Z"
   },
   {
    "duration": 20,
    "start_time": "2023-03-02T22:58:42.994Z"
   },
   {
    "duration": 13,
    "start_time": "2023-03-02T22:58:43.016Z"
   },
   {
    "duration": 3,
    "start_time": "2023-03-02T22:58:43.031Z"
   },
   {
    "duration": 174,
    "start_time": "2023-03-02T22:58:43.035Z"
   },
   {
    "duration": 368,
    "start_time": "2023-03-02T22:58:43.211Z"
   },
   {
    "duration": 1061,
    "start_time": "2023-03-02T22:58:43.584Z"
   },
   {
    "duration": 321,
    "start_time": "2023-03-02T22:58:44.647Z"
   },
   {
    "duration": 32,
    "start_time": "2023-03-02T22:58:44.977Z"
   },
   {
    "duration": 39,
    "start_time": "2023-03-02T22:58:45.013Z"
   },
   {
    "duration": 2,
    "start_time": "2023-03-02T22:58:45.059Z"
   },
   {
    "duration": 44,
    "start_time": "2023-03-02T22:58:45.067Z"
   },
   {
    "duration": 7,
    "start_time": "2023-03-02T22:58:45.112Z"
   },
   {
    "duration": 39,
    "start_time": "2023-03-02T22:58:45.120Z"
   },
   {
    "duration": 66948,
    "start_time": "2023-03-02T22:58:45.176Z"
   },
   {
    "duration": 4,
    "start_time": "2023-03-02T22:59:52.126Z"
   },
   {
    "duration": 52993,
    "start_time": "2023-03-02T22:59:52.132Z"
   },
   {
    "duration": 6,
    "start_time": "2023-03-02T23:00:45.127Z"
   },
   {
    "duration": 44,
    "start_time": "2023-03-02T23:00:45.135Z"
   },
   {
    "duration": 2616,
    "start_time": "2023-03-02T23:00:45.180Z"
   },
   {
    "duration": 586000,
    "start_time": "2023-03-02T23:00:47.798Z"
   },
   {
    "duration": 744,
    "start_time": "2023-03-02T23:10:33.853Z"
   },
   {
    "duration": 2986,
    "start_time": "2023-03-02T23:10:34.600Z"
   },
   {
    "duration": 45543,
    "start_time": "2023-03-02T23:12:03.938Z"
   },
   {
    "duration": 34000,
    "start_time": "2023-03-02T23:29:14.963Z"
   },
   {
    "duration": 34924,
    "start_time": "2023-03-02T23:34:48.283Z"
   },
   {
    "duration": 33239,
    "start_time": "2023-03-02T23:35:30.382Z"
   },
   {
    "duration": 5,
    "start_time": "2023-03-02T23:37:40.281Z"
   },
   {
    "duration": 70,
    "start_time": "2023-03-02T23:37:40.289Z"
   },
   {
    "duration": 21,
    "start_time": "2023-03-02T23:37:40.364Z"
   },
   {
    "duration": 12,
    "start_time": "2023-03-02T23:37:40.388Z"
   },
   {
    "duration": 23,
    "start_time": "2023-03-02T23:37:40.403Z"
   },
   {
    "duration": 25,
    "start_time": "2023-03-02T23:37:40.428Z"
   },
   {
    "duration": 161,
    "start_time": "2023-03-02T23:37:40.456Z"
   },
   {
    "duration": 340,
    "start_time": "2023-03-02T23:37:40.619Z"
   },
   {
    "duration": 995,
    "start_time": "2023-03-02T23:37:40.965Z"
   },
   {
    "duration": 257,
    "start_time": "2023-03-02T23:37:41.963Z"
   },
   {
    "duration": 42,
    "start_time": "2023-03-02T23:37:42.221Z"
   },
   {
    "duration": 52,
    "start_time": "2023-03-02T23:37:42.270Z"
   },
   {
    "duration": 3,
    "start_time": "2023-03-02T23:37:42.324Z"
   },
   {
    "duration": 87,
    "start_time": "2023-03-02T23:37:42.330Z"
   },
   {
    "duration": 0,
    "start_time": "2023-03-02T23:37:42.419Z"
   },
   {
    "duration": 0,
    "start_time": "2023-03-02T23:37:42.420Z"
   },
   {
    "duration": 0,
    "start_time": "2023-03-02T23:37:42.422Z"
   },
   {
    "duration": 0,
    "start_time": "2023-03-02T23:37:42.424Z"
   },
   {
    "duration": 0,
    "start_time": "2023-03-02T23:37:42.425Z"
   },
   {
    "duration": 0,
    "start_time": "2023-03-02T23:37:42.427Z"
   },
   {
    "duration": 0,
    "start_time": "2023-03-02T23:37:42.428Z"
   },
   {
    "duration": 0,
    "start_time": "2023-03-02T23:37:42.430Z"
   },
   {
    "duration": 0,
    "start_time": "2023-03-02T23:37:42.431Z"
   },
   {
    "duration": 0,
    "start_time": "2023-03-02T23:37:42.433Z"
   },
   {
    "duration": 0,
    "start_time": "2023-03-02T23:37:42.434Z"
   },
   {
    "duration": 5,
    "start_time": "2023-03-02T23:39:12.841Z"
   },
   {
    "duration": 63,
    "start_time": "2023-03-02T23:39:12.852Z"
   },
   {
    "duration": 20,
    "start_time": "2023-03-02T23:39:12.916Z"
   },
   {
    "duration": 9,
    "start_time": "2023-03-02T23:39:12.938Z"
   },
   {
    "duration": 37,
    "start_time": "2023-03-02T23:39:12.955Z"
   },
   {
    "duration": 4,
    "start_time": "2023-03-02T23:39:12.994Z"
   },
   {
    "duration": 125,
    "start_time": "2023-03-02T23:39:12.999Z"
   },
   {
    "duration": 359,
    "start_time": "2023-03-02T23:39:13.126Z"
   },
   {
    "duration": 1047,
    "start_time": "2023-03-02T23:39:13.487Z"
   },
   {
    "duration": 286,
    "start_time": "2023-03-02T23:39:14.536Z"
   },
   {
    "duration": 44,
    "start_time": "2023-03-02T23:39:14.825Z"
   },
   {
    "duration": 37,
    "start_time": "2023-03-02T23:39:14.871Z"
   },
   {
    "duration": 3,
    "start_time": "2023-03-02T23:39:14.910Z"
   },
   {
    "duration": 34,
    "start_time": "2023-03-02T23:39:14.917Z"
   },
   {
    "duration": 11,
    "start_time": "2023-03-02T23:39:14.952Z"
   },
   {
    "duration": 203,
    "start_time": "2023-03-02T23:39:14.965Z"
   },
   {
    "duration": 35941,
    "start_time": "2023-03-02T23:39:15.171Z"
   },
   {
    "duration": 4,
    "start_time": "2023-03-02T23:39:51.114Z"
   },
   {
    "duration": 5,
    "start_time": "2023-03-02T23:39:52.511Z"
   },
   {
    "duration": 21,
    "start_time": "2023-03-02T23:39:52.518Z"
   },
   {
    "duration": 0,
    "start_time": "2023-03-02T23:39:52.541Z"
   },
   {
    "duration": 0,
    "start_time": "2023-03-02T23:39:52.543Z"
   },
   {
    "duration": 0,
    "start_time": "2023-03-02T23:39:52.544Z"
   },
   {
    "duration": 0,
    "start_time": "2023-03-02T23:39:52.545Z"
   },
   {
    "duration": 6,
    "start_time": "2023-03-02T23:40:10.461Z"
   },
   {
    "duration": 59,
    "start_time": "2023-03-02T23:40:10.470Z"
   },
   {
    "duration": 20,
    "start_time": "2023-03-02T23:40:10.531Z"
   },
   {
    "duration": 23,
    "start_time": "2023-03-02T23:40:10.555Z"
   },
   {
    "duration": 17,
    "start_time": "2023-03-02T23:40:10.581Z"
   },
   {
    "duration": 3,
    "start_time": "2023-03-02T23:40:10.600Z"
   },
   {
    "duration": 125,
    "start_time": "2023-03-02T23:40:10.605Z"
   },
   {
    "duration": 329,
    "start_time": "2023-03-02T23:40:10.732Z"
   },
   {
    "duration": 860,
    "start_time": "2023-03-02T23:40:11.065Z"
   },
   {
    "duration": 264,
    "start_time": "2023-03-02T23:40:11.928Z"
   },
   {
    "duration": 36,
    "start_time": "2023-03-02T23:40:12.195Z"
   },
   {
    "duration": 67,
    "start_time": "2023-03-02T23:40:12.233Z"
   },
   {
    "duration": 3,
    "start_time": "2023-03-02T23:40:12.302Z"
   },
   {
    "duration": 19,
    "start_time": "2023-03-02T23:40:12.307Z"
   },
   {
    "duration": 6,
    "start_time": "2023-03-02T23:40:12.328Z"
   },
   {
    "duration": 210,
    "start_time": "2023-03-02T23:40:12.348Z"
   },
   {
    "duration": 59755,
    "start_time": "2023-03-02T23:40:12.561Z"
   },
   {
    "duration": 4,
    "start_time": "2023-03-02T23:41:12.318Z"
   },
   {
    "duration": 34927,
    "start_time": "2023-03-02T23:41:12.323Z"
   },
   {
    "duration": 6,
    "start_time": "2023-03-02T23:41:47.251Z"
   },
   {
    "duration": 9,
    "start_time": "2023-03-02T23:41:47.262Z"
   },
   {
    "duration": 1873,
    "start_time": "2023-03-02T23:41:47.272Z"
   },
   {
    "duration": 13,
    "start_time": "2023-03-02T23:41:49.147Z"
   },
   {
    "duration": 655,
    "start_time": "2023-03-02T23:41:49.162Z"
   },
   {
    "duration": 2275,
    "start_time": "2023-03-02T23:41:49.819Z"
   },
   {
    "duration": 5899,
    "start_time": "2023-03-02T23:42:47.849Z"
   },
   {
    "duration": 643,
    "start_time": "2023-03-02T23:43:02.755Z"
   },
   {
    "duration": 97892,
    "start_time": "2023-03-02T23:43:17.407Z"
   },
   {
    "duration": 533411,
    "start_time": "2023-03-02T23:45:59.885Z"
   },
   {
    "duration": 5,
    "start_time": "2023-03-02T23:54:54.292Z"
   },
   {
    "duration": 50,
    "start_time": "2023-03-02T23:54:54.299Z"
   },
   {
    "duration": 17,
    "start_time": "2023-03-02T23:54:54.353Z"
   },
   {
    "duration": 7,
    "start_time": "2023-03-02T23:54:54.372Z"
   },
   {
    "duration": 15,
    "start_time": "2023-03-02T23:54:54.382Z"
   },
   {
    "duration": 3,
    "start_time": "2023-03-02T23:54:54.398Z"
   },
   {
    "duration": 141,
    "start_time": "2023-03-02T23:54:54.403Z"
   },
   {
    "duration": 301,
    "start_time": "2023-03-02T23:54:54.547Z"
   },
   {
    "duration": 790,
    "start_time": "2023-03-02T23:54:54.855Z"
   },
   {
    "duration": 323,
    "start_time": "2023-03-02T23:54:55.652Z"
   },
   {
    "duration": 16,
    "start_time": "2023-03-02T23:54:55.977Z"
   },
   {
    "duration": 53,
    "start_time": "2023-03-02T23:54:55.995Z"
   },
   {
    "duration": 2,
    "start_time": "2023-03-02T23:54:56.051Z"
   },
   {
    "duration": 16,
    "start_time": "2023-03-02T23:54:56.061Z"
   },
   {
    "duration": 4,
    "start_time": "2023-03-02T23:54:56.079Z"
   },
   {
    "duration": 12,
    "start_time": "2023-03-02T23:54:56.085Z"
   },
   {
    "duration": 26854,
    "start_time": "2023-03-02T23:54:56.099Z"
   },
   {
    "duration": 7,
    "start_time": "2023-03-02T23:55:22.955Z"
   },
   {
    "duration": 50717,
    "start_time": "2023-03-02T23:55:22.967Z"
   },
   {
    "duration": 0,
    "start_time": "2023-03-02T23:56:13.686Z"
   },
   {
    "duration": 0,
    "start_time": "2023-03-02T23:56:13.688Z"
   },
   {
    "duration": 0,
    "start_time": "2023-03-02T23:56:13.689Z"
   },
   {
    "duration": 0,
    "start_time": "2023-03-02T23:56:13.690Z"
   },
   {
    "duration": 0,
    "start_time": "2023-03-02T23:56:13.690Z"
   },
   {
    "duration": 0,
    "start_time": "2023-03-02T23:56:13.691Z"
   },
   {
    "duration": 4,
    "start_time": "2023-03-02T23:56:16.464Z"
   },
   {
    "duration": 66,
    "start_time": "2023-03-02T23:56:16.471Z"
   },
   {
    "duration": 16,
    "start_time": "2023-03-02T23:56:16.539Z"
   },
   {
    "duration": 16,
    "start_time": "2023-03-02T23:56:16.557Z"
   },
   {
    "duration": 14,
    "start_time": "2023-03-02T23:56:16.576Z"
   },
   {
    "duration": 4,
    "start_time": "2023-03-02T23:56:16.592Z"
   },
   {
    "duration": 132,
    "start_time": "2023-03-02T23:56:16.598Z"
   },
   {
    "duration": 438,
    "start_time": "2023-03-02T23:56:16.732Z"
   },
   {
    "duration": 782,
    "start_time": "2023-03-02T23:56:17.172Z"
   },
   {
    "duration": 244,
    "start_time": "2023-03-02T23:56:17.956Z"
   },
   {
    "duration": 13,
    "start_time": "2023-03-02T23:56:18.202Z"
   },
   {
    "duration": 48,
    "start_time": "2023-03-02T23:56:18.217Z"
   },
   {
    "duration": 16,
    "start_time": "2023-03-02T23:56:18.267Z"
   },
   {
    "duration": 23,
    "start_time": "2023-03-02T23:56:18.286Z"
   },
   {
    "duration": 10,
    "start_time": "2023-03-02T23:56:18.310Z"
   },
   {
    "duration": 22,
    "start_time": "2023-03-02T23:56:18.322Z"
   },
   {
    "duration": 27196,
    "start_time": "2023-03-02T23:56:18.346Z"
   },
   {
    "duration": 16,
    "start_time": "2023-03-02T23:56:45.548Z"
   },
   {
    "duration": 6,
    "start_time": "2023-03-03T00:01:39.163Z"
   },
   {
    "duration": 48,
    "start_time": "2023-03-03T00:01:39.171Z"
   },
   {
    "duration": 19,
    "start_time": "2023-03-03T00:01:39.220Z"
   },
   {
    "duration": 18,
    "start_time": "2023-03-03T00:01:39.241Z"
   },
   {
    "duration": 25,
    "start_time": "2023-03-03T00:01:39.261Z"
   },
   {
    "duration": 4,
    "start_time": "2023-03-03T00:01:39.288Z"
   },
   {
    "duration": 116,
    "start_time": "2023-03-03T00:01:39.294Z"
   },
   {
    "duration": 293,
    "start_time": "2023-03-03T00:01:39.411Z"
   },
   {
    "duration": 832,
    "start_time": "2023-03-03T00:01:39.706Z"
   },
   {
    "duration": 425,
    "start_time": "2023-03-03T00:01:40.540Z"
   },
   {
    "duration": 13,
    "start_time": "2023-03-03T00:01:40.967Z"
   },
   {
    "duration": 23,
    "start_time": "2023-03-03T00:01:40.982Z"
   },
   {
    "duration": 2,
    "start_time": "2023-03-03T00:01:41.007Z"
   },
   {
    "duration": 14,
    "start_time": "2023-03-03T00:01:41.013Z"
   },
   {
    "duration": 9,
    "start_time": "2023-03-03T00:01:41.048Z"
   },
   {
    "duration": 31,
    "start_time": "2023-03-03T00:01:41.058Z"
   },
   {
    "duration": 27875,
    "start_time": "2023-03-03T00:01:41.091Z"
   },
   {
    "duration": 4,
    "start_time": "2023-03-03T00:02:08.968Z"
   },
   {
    "duration": 521533,
    "start_time": "2023-03-03T00:02:08.975Z"
   },
   {
    "duration": 5,
    "start_time": "2023-03-03T00:10:50.510Z"
   },
   {
    "duration": 12,
    "start_time": "2023-03-03T00:10:50.517Z"
   },
   {
    "duration": 32100,
    "start_time": "2023-03-03T00:10:50.531Z"
   },
   {
    "duration": 3,
    "start_time": "2023-03-03T00:11:22.633Z"
   },
   {
    "duration": 248,
    "start_time": "2023-03-03T00:11:22.637Z"
   },
   {
    "duration": 1200,
    "start_time": "2023-03-03T00:11:22.887Z"
   },
   {
    "duration": 82591,
    "start_time": "2023-03-03T00:13:29.054Z"
   },
   {
    "duration": 4,
    "start_time": "2023-03-03T00:15:41.240Z"
   },
   {
    "duration": 50,
    "start_time": "2023-03-03T00:15:41.246Z"
   },
   {
    "duration": 14,
    "start_time": "2023-03-03T00:15:41.298Z"
   },
   {
    "duration": 8,
    "start_time": "2023-03-03T00:15:41.314Z"
   },
   {
    "duration": 44,
    "start_time": "2023-03-03T00:15:41.324Z"
   },
   {
    "duration": 3,
    "start_time": "2023-03-03T00:15:41.370Z"
   },
   {
    "duration": 116,
    "start_time": "2023-03-03T00:15:41.375Z"
   },
   {
    "duration": 289,
    "start_time": "2023-03-03T00:15:41.493Z"
   },
   {
    "duration": 732,
    "start_time": "2023-03-03T00:15:41.784Z"
   },
   {
    "duration": 230,
    "start_time": "2023-03-03T00:15:42.518Z"
   },
   {
    "duration": 23,
    "start_time": "2023-03-03T00:15:42.750Z"
   },
   {
    "duration": 36,
    "start_time": "2023-03-03T00:15:42.775Z"
   },
   {
    "duration": 12,
    "start_time": "2023-03-03T00:15:42.812Z"
   },
   {
    "duration": 49,
    "start_time": "2023-03-03T00:15:42.827Z"
   },
   {
    "duration": 28,
    "start_time": "2023-03-03T00:15:42.878Z"
   },
   {
    "duration": 139,
    "start_time": "2023-03-03T00:15:42.908Z"
   },
   {
    "duration": 55570,
    "start_time": "2023-03-03T00:15:43.050Z"
   },
   {
    "duration": 62429,
    "start_time": "2023-03-03T00:16:38.622Z"
   },
   {
    "duration": 143097,
    "start_time": "2023-03-03T00:17:41.053Z"
   },
   {
    "duration": 5,
    "start_time": "2023-03-03T00:20:04.153Z"
   },
   {
    "duration": 9,
    "start_time": "2023-03-03T00:20:04.160Z"
   },
   {
    "duration": 93727,
    "start_time": "2023-03-03T00:20:04.171Z"
   },
   {
    "duration": 2,
    "start_time": "2023-03-03T00:21:37.899Z"
   },
   {
    "duration": 634,
    "start_time": "2023-03-03T00:21:37.903Z"
   },
   {
    "duration": 1935,
    "start_time": "2023-03-03T00:21:38.539Z"
   },
   {
    "duration": 29628,
    "start_time": "2023-03-03T01:45:52.233Z"
   },
   {
    "duration": 4,
    "start_time": "2023-03-03T03:55:12.326Z"
   },
   {
    "duration": 58,
    "start_time": "2023-03-03T03:55:12.333Z"
   },
   {
    "duration": 16,
    "start_time": "2023-03-03T03:55:12.393Z"
   },
   {
    "duration": 7,
    "start_time": "2023-03-03T03:55:12.412Z"
   },
   {
    "duration": 23,
    "start_time": "2023-03-03T03:55:12.421Z"
   },
   {
    "duration": 3,
    "start_time": "2023-03-03T03:55:12.446Z"
   },
   {
    "duration": 116,
    "start_time": "2023-03-03T03:55:12.451Z"
   },
   {
    "duration": 281,
    "start_time": "2023-03-03T03:55:12.569Z"
   },
   {
    "duration": 965,
    "start_time": "2023-03-03T03:55:12.852Z"
   },
   {
    "duration": 242,
    "start_time": "2023-03-03T03:55:13.820Z"
   },
   {
    "duration": 33,
    "start_time": "2023-03-03T03:55:14.064Z"
   },
   {
    "duration": 34,
    "start_time": "2023-03-03T03:55:14.099Z"
   },
   {
    "duration": 14,
    "start_time": "2023-03-03T03:55:14.134Z"
   },
   {
    "duration": 26,
    "start_time": "2023-03-03T03:55:14.150Z"
   },
   {
    "duration": 14,
    "start_time": "2023-03-03T03:55:14.178Z"
   },
   {
    "duration": 255,
    "start_time": "2023-03-03T03:55:14.194Z"
   },
   {
    "duration": 56548,
    "start_time": "2023-03-03T03:55:14.451Z"
   },
   {
    "duration": 71250,
    "start_time": "2023-03-03T03:56:11.001Z"
   },
   {
    "duration": 142048,
    "start_time": "2023-03-03T03:57:22.253Z"
   },
   {
    "duration": 4,
    "start_time": "2023-03-03T03:59:44.303Z"
   },
   {
    "duration": 10,
    "start_time": "2023-03-03T03:59:44.309Z"
   },
   {
    "duration": 87765,
    "start_time": "2023-03-03T03:59:44.321Z"
   },
   {
    "duration": 960,
    "start_time": "2023-03-03T04:01:12.088Z"
   },
   {
    "duration": 648,
    "start_time": "2023-03-03T04:01:13.050Z"
   },
   {
    "duration": 4232,
    "start_time": "2023-03-03T04:02:37.587Z"
   },
   {
    "duration": 623,
    "start_time": "2023-03-03T04:03:41.477Z"
   },
   {
    "duration": 5,
    "start_time": "2023-03-03T04:05:17.478Z"
   },
   {
    "duration": 48,
    "start_time": "2023-03-03T04:05:17.484Z"
   },
   {
    "duration": 16,
    "start_time": "2023-03-03T04:05:17.534Z"
   },
   {
    "duration": 11,
    "start_time": "2023-03-03T04:05:17.553Z"
   },
   {
    "duration": 16,
    "start_time": "2023-03-03T04:05:17.568Z"
   },
   {
    "duration": 3,
    "start_time": "2023-03-03T04:05:17.586Z"
   },
   {
    "duration": 136,
    "start_time": "2023-03-03T04:05:17.590Z"
   },
   {
    "duration": 313,
    "start_time": "2023-03-03T04:05:17.727Z"
   },
   {
    "duration": 820,
    "start_time": "2023-03-03T04:05:18.048Z"
   },
   {
    "duration": 245,
    "start_time": "2023-03-03T04:05:18.871Z"
   },
   {
    "duration": 30,
    "start_time": "2023-03-03T04:05:19.118Z"
   },
   {
    "duration": 40,
    "start_time": "2023-03-03T04:05:19.150Z"
   },
   {
    "duration": 3,
    "start_time": "2023-03-03T04:05:19.191Z"
   },
   {
    "duration": 17,
    "start_time": "2023-03-03T04:05:19.197Z"
   },
   {
    "duration": 7,
    "start_time": "2023-03-03T04:05:19.215Z"
   },
   {
    "duration": 211,
    "start_time": "2023-03-03T04:05:19.250Z"
   },
   {
    "duration": 57848,
    "start_time": "2023-03-03T04:05:19.463Z"
   },
   {
    "duration": 334237,
    "start_time": "2023-03-03T04:06:17.312Z"
   },
   {
    "duration": 155589,
    "start_time": "2023-03-03T04:11:51.551Z"
   },
   {
    "duration": 5,
    "start_time": "2023-03-03T04:14:27.142Z"
   },
   {
    "duration": 22,
    "start_time": "2023-03-03T04:14:27.149Z"
   },
   {
    "duration": 4922,
    "start_time": "2023-03-03T04:14:27.173Z"
   },
   {
    "duration": 45066,
    "start_time": "2023-03-03T04:14:32.097Z"
   },
   {
    "duration": 721,
    "start_time": "2023-03-03T04:15:17.165Z"
   },
   {
    "duration": 2318,
    "start_time": "2023-03-03T17:07:22.077Z"
   },
   {
    "duration": 127,
    "start_time": "2023-03-03T17:07:24.396Z"
   },
   {
    "duration": 23,
    "start_time": "2023-03-03T17:07:24.525Z"
   },
   {
    "duration": 11,
    "start_time": "2023-03-03T17:07:24.550Z"
   },
   {
    "duration": 16,
    "start_time": "2023-03-03T17:07:24.564Z"
   },
   {
    "duration": 4,
    "start_time": "2023-03-03T17:07:24.582Z"
   },
   {
    "duration": 151,
    "start_time": "2023-03-03T17:07:24.590Z"
   },
   {
    "duration": 325,
    "start_time": "2023-03-03T17:07:24.747Z"
   },
   {
    "duration": 983,
    "start_time": "2023-03-03T17:07:25.074Z"
   },
   {
    "duration": 256,
    "start_time": "2023-03-03T17:07:26.059Z"
   },
   {
    "duration": 201,
    "start_time": "2023-03-03T17:07:26.316Z"
   },
   {
    "duration": 196,
    "start_time": "2023-03-03T17:07:55.376Z"
   },
   {
    "duration": 1636,
    "start_time": "2023-03-04T00:39:55.746Z"
   },
   {
    "duration": 115,
    "start_time": "2023-03-04T00:39:57.384Z"
   },
   {
    "duration": 20,
    "start_time": "2023-03-04T00:39:57.501Z"
   },
   {
    "duration": 9,
    "start_time": "2023-03-04T00:39:57.523Z"
   },
   {
    "duration": 31,
    "start_time": "2023-03-04T00:39:57.534Z"
   },
   {
    "duration": 4,
    "start_time": "2023-03-04T00:39:57.567Z"
   },
   {
    "duration": 144,
    "start_time": "2023-03-04T00:39:57.573Z"
   },
   {
    "duration": 434,
    "start_time": "2023-03-04T00:39:57.718Z"
   },
   {
    "duration": 835,
    "start_time": "2023-03-04T00:39:58.154Z"
   },
   {
    "duration": 267,
    "start_time": "2023-03-04T00:39:58.993Z"
   },
   {
    "duration": 218,
    "start_time": "2023-03-04T00:39:59.262Z"
   },
   {
    "duration": 26,
    "start_time": "2023-03-04T00:39:59.482Z"
   },
   {
    "duration": 51,
    "start_time": "2023-03-04T00:39:59.510Z"
   },
   {
    "duration": 3,
    "start_time": "2023-03-04T00:39:59.562Z"
   },
   {
    "duration": 16,
    "start_time": "2023-03-04T00:39:59.567Z"
   },
   {
    "duration": 6,
    "start_time": "2023-03-04T00:39:59.584Z"
   },
   {
    "duration": 63,
    "start_time": "2023-03-04T00:39:59.591Z"
   },
   {
    "duration": 66840,
    "start_time": "2023-03-04T00:39:59.748Z"
   },
   {
    "duration": 39,
    "start_time": "2023-03-04T00:41:06.590Z"
   },
   {
    "duration": 0,
    "start_time": "2023-03-04T00:41:06.632Z"
   },
   {
    "duration": 0,
    "start_time": "2023-03-04T00:41:06.633Z"
   },
   {
    "duration": 0,
    "start_time": "2023-03-04T00:41:06.635Z"
   },
   {
    "duration": 0,
    "start_time": "2023-03-04T00:41:06.636Z"
   },
   {
    "duration": 0,
    "start_time": "2023-03-04T00:41:06.638Z"
   },
   {
    "duration": 0,
    "start_time": "2023-03-04T00:41:06.638Z"
   },
   {
    "duration": 35,
    "start_time": "2023-03-04T00:42:07.426Z"
   },
   {
    "duration": 12681,
    "start_time": "2023-03-04T00:42:33.669Z"
   },
   {
    "duration": 5,
    "start_time": "2023-03-04T00:42:57.367Z"
   },
   {
    "duration": 61,
    "start_time": "2023-03-04T00:42:57.374Z"
   },
   {
    "duration": 22,
    "start_time": "2023-03-04T00:42:57.438Z"
   },
   {
    "duration": 7,
    "start_time": "2023-03-04T00:42:57.463Z"
   },
   {
    "duration": 40,
    "start_time": "2023-03-04T00:42:57.473Z"
   },
   {
    "duration": 4,
    "start_time": "2023-03-04T00:42:57.514Z"
   },
   {
    "duration": 118,
    "start_time": "2023-03-04T00:42:57.519Z"
   },
   {
    "duration": 351,
    "start_time": "2023-03-04T00:42:57.639Z"
   },
   {
    "duration": 867,
    "start_time": "2023-03-04T00:42:57.992Z"
   },
   {
    "duration": 271,
    "start_time": "2023-03-04T00:42:58.862Z"
   },
   {
    "duration": 413,
    "start_time": "2023-03-04T00:42:59.135Z"
   },
   {
    "duration": 25,
    "start_time": "2023-03-04T00:42:59.550Z"
   },
   {
    "duration": 89,
    "start_time": "2023-03-04T00:42:59.577Z"
   },
   {
    "duration": 2,
    "start_time": "2023-03-04T00:42:59.668Z"
   },
   {
    "duration": 18,
    "start_time": "2023-03-04T00:42:59.672Z"
   },
   {
    "duration": 54,
    "start_time": "2023-03-04T00:42:59.691Z"
   },
   {
    "duration": 202,
    "start_time": "2023-03-04T00:42:59.747Z"
   },
   {
    "duration": 65875,
    "start_time": "2023-03-04T00:42:59.951Z"
   },
   {
    "duration": 10635,
    "start_time": "2023-03-04T00:44:05.828Z"
   },
   {
    "duration": 77636,
    "start_time": "2023-03-04T00:44:16.545Z"
   },
   {
    "duration": 6,
    "start_time": "2023-03-04T00:45:34.183Z"
   },
   {
    "duration": 9,
    "start_time": "2023-03-04T00:45:34.190Z"
   },
   {
    "duration": 4353,
    "start_time": "2023-03-04T00:45:34.200Z"
   },
   {
    "duration": 392,
    "start_time": "2023-03-04T00:45:38.555Z"
   },
   {
    "duration": 731,
    "start_time": "2023-03-04T00:45:38.949Z"
   }
  ],
  "kernelspec": {
   "display_name": "Python 3 (ipykernel)",
   "language": "python",
   "name": "python3"
  },
  "language_info": {
   "codemirror_mode": {
    "name": "ipython",
    "version": 3
   },
   "file_extension": ".py",
   "mimetype": "text/x-python",
   "name": "python",
   "nbconvert_exporter": "python",
   "pygments_lexer": "ipython3",
   "version": "3.9.13"
  },
  "toc": {
   "base_numbering": 1,
   "nav_menu": {},
   "number_sections": true,
   "sideBar": true,
   "skip_h1_title": true,
   "title_cell": "Содержание",
   "title_sidebar": "Contents",
   "toc_cell": true,
   "toc_position": {
    "height": "calc(100% - 180px)",
    "left": "10px",
    "top": "150px",
    "width": "240.66px"
   },
   "toc_section_display": true,
   "toc_window_display": true
  }
 },
 "nbformat": 4,
 "nbformat_minor": 2
}
